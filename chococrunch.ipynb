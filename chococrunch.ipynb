{
 "cells": [
  {
   "cell_type": "code",
   "execution_count": 1,
   "id": "d73b6d4d",
   "metadata": {},
   "outputs": [
    {
     "name": "stdout",
     "output_type": "stream",
     "text": [
      "Requirement already satisfied: seaborn in c:\\users\\rajwi\\appdata\\local\\programs\\python\\python313\\lib\\site-packages (0.13.2)\n",
      "Requirement already satisfied: numpy!=1.24.0,>=1.20 in c:\\users\\rajwi\\appdata\\local\\programs\\python\\python313\\lib\\site-packages (from seaborn) (2.3.1)\n",
      "Requirement already satisfied: pandas>=1.2 in c:\\users\\rajwi\\appdata\\local\\programs\\python\\python313\\lib\\site-packages (from seaborn) (2.3.1)\n",
      "Requirement already satisfied: matplotlib!=3.6.1,>=3.4 in c:\\users\\rajwi\\appdata\\local\\programs\\python\\python313\\lib\\site-packages (from seaborn) (3.10.6)\n",
      "Requirement already satisfied: contourpy>=1.0.1 in c:\\users\\rajwi\\appdata\\local\\programs\\python\\python313\\lib\\site-packages (from matplotlib!=3.6.1,>=3.4->seaborn) (1.3.3)\n",
      "Requirement already satisfied: cycler>=0.10 in c:\\users\\rajwi\\appdata\\local\\programs\\python\\python313\\lib\\site-packages (from matplotlib!=3.6.1,>=3.4->seaborn) (0.12.1)\n",
      "Requirement already satisfied: fonttools>=4.22.0 in c:\\users\\rajwi\\appdata\\local\\programs\\python\\python313\\lib\\site-packages (from matplotlib!=3.6.1,>=3.4->seaborn) (4.59.2)\n",
      "Requirement already satisfied: kiwisolver>=1.3.1 in c:\\users\\rajwi\\appdata\\local\\programs\\python\\python313\\lib\\site-packages (from matplotlib!=3.6.1,>=3.4->seaborn) (1.4.9)\n",
      "Requirement already satisfied: packaging>=20.0 in c:\\users\\rajwi\\appdata\\roaming\\python\\python313\\site-packages (from matplotlib!=3.6.1,>=3.4->seaborn) (25.0)\n",
      "Requirement already satisfied: pillow>=8 in c:\\users\\rajwi\\appdata\\local\\programs\\python\\python313\\lib\\site-packages (from matplotlib!=3.6.1,>=3.4->seaborn) (11.3.0)\n",
      "Requirement already satisfied: pyparsing>=2.3.1 in c:\\users\\rajwi\\appdata\\local\\programs\\python\\python313\\lib\\site-packages (from matplotlib!=3.6.1,>=3.4->seaborn) (3.2.3)\n",
      "Requirement already satisfied: python-dateutil>=2.7 in c:\\users\\rajwi\\appdata\\local\\programs\\python\\python313\\lib\\site-packages (from matplotlib!=3.6.1,>=3.4->seaborn) (2.9.0.post0)\n",
      "Requirement already satisfied: pytz>=2020.1 in c:\\users\\rajwi\\appdata\\local\\programs\\python\\python313\\lib\\site-packages (from pandas>=1.2->seaborn) (2025.2)\n",
      "Requirement already satisfied: tzdata>=2022.7 in c:\\users\\rajwi\\appdata\\local\\programs\\python\\python313\\lib\\site-packages (from pandas>=1.2->seaborn) (2025.2)\n",
      "Requirement already satisfied: six>=1.5 in c:\\users\\rajwi\\appdata\\local\\programs\\python\\python313\\lib\\site-packages (from python-dateutil>=2.7->matplotlib!=3.6.1,>=3.4->seaborn) (1.17.0)\n",
      "Note: you may need to restart the kernel to use updated packages.\n",
      "Requirement already satisfied: matplotlib in c:\\users\\rajwi\\appdata\\local\\programs\\python\\python313\\lib\\site-packages (3.10.6)\n",
      "Requirement already satisfied: contourpy>=1.0.1 in c:\\users\\rajwi\\appdata\\local\\programs\\python\\python313\\lib\\site-packages (from matplotlib) (1.3.3)\n",
      "Requirement already satisfied: cycler>=0.10 in c:\\users\\rajwi\\appdata\\local\\programs\\python\\python313\\lib\\site-packages (from matplotlib) (0.12.1)\n",
      "Requirement already satisfied: fonttools>=4.22.0 in c:\\users\\rajwi\\appdata\\local\\programs\\python\\python313\\lib\\site-packages (from matplotlib) (4.59.2)\n",
      "Requirement already satisfied: kiwisolver>=1.3.1 in c:\\users\\rajwi\\appdata\\local\\programs\\python\\python313\\lib\\site-packages (from matplotlib) (1.4.9)\n",
      "Requirement already satisfied: numpy>=1.23 in c:\\users\\rajwi\\appdata\\local\\programs\\python\\python313\\lib\\site-packages (from matplotlib) (2.3.1)\n",
      "Requirement already satisfied: packaging>=20.0 in c:\\users\\rajwi\\appdata\\roaming\\python\\python313\\site-packages (from matplotlib) (25.0)\n",
      "Requirement already satisfied: pillow>=8 in c:\\users\\rajwi\\appdata\\local\\programs\\python\\python313\\lib\\site-packages (from matplotlib) (11.3.0)\n",
      "Requirement already satisfied: pyparsing>=2.3.1 in c:\\users\\rajwi\\appdata\\local\\programs\\python\\python313\\lib\\site-packages (from matplotlib) (3.2.3)\n",
      "Requirement already satisfied: python-dateutil>=2.7 in c:\\users\\rajwi\\appdata\\local\\programs\\python\\python313\\lib\\site-packages (from matplotlib) (2.9.0.post0)\n",
      "Requirement already satisfied: six>=1.5 in c:\\users\\rajwi\\appdata\\local\\programs\\python\\python313\\lib\\site-packages (from python-dateutil>=2.7->matplotlib) (1.17.0)\n",
      "Note: you may need to restart the kernel to use updated packages.\n"
     ]
    }
   ],
   "source": [
    "%pip install seaborn\n",
    "%pip install matplotlib"
   ]
  },
  {
   "cell_type": "code",
   "execution_count": 2,
   "id": "08cedb15",
   "metadata": {},
   "outputs": [
    {
     "name": "stdout",
     "output_type": "stream",
     "text": [
      "Requirement already satisfied: plotly in c:\\users\\rajwi\\appdata\\local\\programs\\python\\python313\\lib\\site-packages (6.3.0)\n",
      "Requirement already satisfied: narwhals>=1.15.1 in c:\\users\\rajwi\\appdata\\local\\programs\\python\\python313\\lib\\site-packages (from plotly) (2.0.1)\n",
      "Requirement already satisfied: packaging in c:\\users\\rajwi\\appdata\\roaming\\python\\python313\\site-packages (from plotly) (25.0)\n",
      "Note: you may need to restart the kernel to use updated packages.\n"
     ]
    }
   ],
   "source": [
    "%pip install plotly"
   ]
  },
  {
   "cell_type": "code",
   "execution_count": 3,
   "id": "cefe2f83",
   "metadata": {},
   "outputs": [],
   "source": [
    "import matplotlib.pyplot as plt\n",
    "import seaborn as sns"
   ]
  },
  {
   "cell_type": "code",
   "execution_count": 4,
   "id": "7c3b57fd",
   "metadata": {},
   "outputs": [],
   "source": [
    "import pandas as pd\n",
    "df = pd.read_csv(r'C:\\Users\\rajwi\\OneDrive\\Desktop\\harvard’s artifacts project\\chocolate_products_cleaned.csv') "
   ]
  },
  {
   "cell_type": "code",
   "execution_count": 5,
   "id": "3a25336d",
   "metadata": {},
   "outputs": [
    {
     "data": {
      "text/plain": [
       "brand                                                     89\n",
       "product_code                                               0\n",
       "product_name                                             274\n",
       "energy-kcal_value                                          0\n",
       "energy-kj_value                                            0\n",
       "carbohydrates_value                                        0\n",
       "sugars_value                                               0\n",
       "fat_value                                                  0\n",
       "saturated-fat_value                                        0\n",
       "proteins_value                                             0\n",
       "fiber_value                                                0\n",
       "salt_value                                                 0\n",
       "sodium_value                                               0\n",
       "nova-group                                                 0\n",
       "nutrition-score-fr                                         0\n",
       "fruits-vegetables-nuts-estimate-from-ingredients_100g      0\n",
       "sugar_to_carb_ratio                                        0\n",
       "calorie_category                                           0\n",
       "sugar_category                                             0\n",
       "is_ultra_processed                                         0\n",
       "dtype: int64"
      ]
     },
     "execution_count": 5,
     "metadata": {},
     "output_type": "execute_result"
    }
   ],
   "source": [
    "df.isnull().sum()"
   ]
  },
  {
   "cell_type": "code",
   "execution_count": 6,
   "id": "90646fd3",
   "metadata": {},
   "outputs": [
    {
     "data": {
      "text/html": [
       "<div>\n",
       "<style scoped>\n",
       "    .dataframe tbody tr th:only-of-type {\n",
       "        vertical-align: middle;\n",
       "    }\n",
       "\n",
       "    .dataframe tbody tr th {\n",
       "        vertical-align: top;\n",
       "    }\n",
       "\n",
       "    .dataframe thead th {\n",
       "        text-align: right;\n",
       "    }\n",
       "</style>\n",
       "<table border=\"1\" class=\"dataframe\">\n",
       "  <thead>\n",
       "    <tr style=\"text-align: right;\">\n",
       "      <th></th>\n",
       "      <th>brand</th>\n",
       "      <th>product_code</th>\n",
       "      <th>product_name</th>\n",
       "      <th>energy-kcal_value</th>\n",
       "      <th>energy-kj_value</th>\n",
       "      <th>carbohydrates_value</th>\n",
       "      <th>sugars_value</th>\n",
       "      <th>fat_value</th>\n",
       "      <th>saturated-fat_value</th>\n",
       "      <th>proteins_value</th>\n",
       "      <th>fiber_value</th>\n",
       "      <th>salt_value</th>\n",
       "      <th>sodium_value</th>\n",
       "      <th>nova-group</th>\n",
       "      <th>nutrition-score-fr</th>\n",
       "      <th>fruits-vegetables-nuts-estimate-from-ingredients_100g</th>\n",
       "      <th>sugar_to_carb_ratio</th>\n",
       "      <th>calorie_category</th>\n",
       "      <th>sugar_category</th>\n",
       "      <th>is_ultra_processed</th>\n",
       "    </tr>\n",
       "  </thead>\n",
       "  <tbody>\n",
       "    <tr>\n",
       "      <th>14</th>\n",
       "      <td>Jaouda</td>\n",
       "      <td>6111242100985</td>\n",
       "      <td>NaN</td>\n",
       "      <td>101.0</td>\n",
       "      <td>1190.0</td>\n",
       "      <td>4.2</td>\n",
       "      <td>0.0</td>\n",
       "      <td>6.0</td>\n",
       "      <td>0.0</td>\n",
       "      <td>7.6</td>\n",
       "      <td>0.0</td>\n",
       "      <td>0.000</td>\n",
       "      <td>0.000</td>\n",
       "      <td>1.0</td>\n",
       "      <td>-2.0</td>\n",
       "      <td>0.000000</td>\n",
       "      <td>0.000000</td>\n",
       "      <td>Low</td>\n",
       "      <td>Low Sugar</td>\n",
       "      <td>No</td>\n",
       "    </tr>\n",
       "    <tr>\n",
       "      <th>16</th>\n",
       "      <td>lilia</td>\n",
       "      <td>6111099003897</td>\n",
       "      <td>NaN</td>\n",
       "      <td>675.0</td>\n",
       "      <td>1190.0</td>\n",
       "      <td>0.2</td>\n",
       "      <td>0.0</td>\n",
       "      <td>75.0</td>\n",
       "      <td>34.0</td>\n",
       "      <td>0.1</td>\n",
       "      <td>0.0</td>\n",
       "      <td>0.500</td>\n",
       "      <td>0.200</td>\n",
       "      <td>4.0</td>\n",
       "      <td>18.0</td>\n",
       "      <td>0.000000</td>\n",
       "      <td>0.000000</td>\n",
       "      <td>High</td>\n",
       "      <td>Low Sugar</td>\n",
       "      <td>Yes</td>\n",
       "    </tr>\n",
       "    <tr>\n",
       "      <th>38</th>\n",
       "      <td>aïn Saiss</td>\n",
       "      <td>6111128000460</td>\n",
       "      <td>NaN</td>\n",
       "      <td>241.0</td>\n",
       "      <td>1190.0</td>\n",
       "      <td>15.0</td>\n",
       "      <td>4.1</td>\n",
       "      <td>6.1</td>\n",
       "      <td>1.4</td>\n",
       "      <td>5.7</td>\n",
       "      <td>2.5</td>\n",
       "      <td>0.020</td>\n",
       "      <td>0.008</td>\n",
       "      <td>1.0</td>\n",
       "      <td>0.0</td>\n",
       "      <td>0.000000</td>\n",
       "      <td>0.273333</td>\n",
       "      <td>Moderate</td>\n",
       "      <td>Low Sugar</td>\n",
       "      <td>No</td>\n",
       "    </tr>\n",
       "    <tr>\n",
       "      <th>43</th>\n",
       "      <td>Alesto,Lidl</td>\n",
       "      <td>20005733</td>\n",
       "      <td>NaN</td>\n",
       "      <td>712.0</td>\n",
       "      <td>1190.0</td>\n",
       "      <td>3.7</td>\n",
       "      <td>3.0</td>\n",
       "      <td>69.1</td>\n",
       "      <td>6.8</td>\n",
       "      <td>15.5</td>\n",
       "      <td>6.8</td>\n",
       "      <td>0.020</td>\n",
       "      <td>0.008</td>\n",
       "      <td>1.0</td>\n",
       "      <td>-8.0</td>\n",
       "      <td>100.000000</td>\n",
       "      <td>0.810811</td>\n",
       "      <td>High</td>\n",
       "      <td>Low Sugar</td>\n",
       "      <td>No</td>\n",
       "    </tr>\n",
       "    <tr>\n",
       "      <th>58</th>\n",
       "      <td>Maruja</td>\n",
       "      <td>8425197712024</td>\n",
       "      <td>NaN</td>\n",
       "      <td>539.0</td>\n",
       "      <td>1190.0</td>\n",
       "      <td>53.0</td>\n",
       "      <td>50.0</td>\n",
       "      <td>33.0</td>\n",
       "      <td>25.0</td>\n",
       "      <td>7.2</td>\n",
       "      <td>2.5</td>\n",
       "      <td>0.275</td>\n",
       "      <td>0.110</td>\n",
       "      <td>4.0</td>\n",
       "      <td>31.0</td>\n",
       "      <td>2.678571</td>\n",
       "      <td>0.943396</td>\n",
       "      <td>High</td>\n",
       "      <td>High Sugar</td>\n",
       "      <td>Yes</td>\n",
       "    </tr>\n",
       "    <tr>\n",
       "      <th>...</th>\n",
       "      <td>...</td>\n",
       "      <td>...</td>\n",
       "      <td>...</td>\n",
       "      <td>...</td>\n",
       "      <td>...</td>\n",
       "      <td>...</td>\n",
       "      <td>...</td>\n",
       "      <td>...</td>\n",
       "      <td>...</td>\n",
       "      <td>...</td>\n",
       "      <td>...</td>\n",
       "      <td>...</td>\n",
       "      <td>...</td>\n",
       "      <td>...</td>\n",
       "      <td>...</td>\n",
       "      <td>...</td>\n",
       "      <td>...</td>\n",
       "      <td>...</td>\n",
       "      <td>...</td>\n",
       "      <td>...</td>\n",
       "    </tr>\n",
       "    <tr>\n",
       "      <th>11945</th>\n",
       "      <td>VEMONDO</td>\n",
       "      <td>20658144</td>\n",
       "      <td>NaN</td>\n",
       "      <td>35.0</td>\n",
       "      <td>151.0</td>\n",
       "      <td>2.0</td>\n",
       "      <td>2.0</td>\n",
       "      <td>1.6</td>\n",
       "      <td>0.3</td>\n",
       "      <td>3.0</td>\n",
       "      <td>0.8</td>\n",
       "      <td>0.100</td>\n",
       "      <td>0.040</td>\n",
       "      <td>4.0</td>\n",
       "      <td>-2.0</td>\n",
       "      <td>13.000000</td>\n",
       "      <td>1.000000</td>\n",
       "      <td>Low</td>\n",
       "      <td>Low Sugar</td>\n",
       "      <td>Yes</td>\n",
       "    </tr>\n",
       "    <tr>\n",
       "      <th>11963</th>\n",
       "      <td>Hacendado</td>\n",
       "      <td>8480000198129</td>\n",
       "      <td>NaN</td>\n",
       "      <td>12.0</td>\n",
       "      <td>51.0</td>\n",
       "      <td>0.0</td>\n",
       "      <td>0.0</td>\n",
       "      <td>0.0</td>\n",
       "      <td>0.0</td>\n",
       "      <td>3.0</td>\n",
       "      <td>0.0</td>\n",
       "      <td>18.300</td>\n",
       "      <td>7.320</td>\n",
       "      <td>4.0</td>\n",
       "      <td>7.0</td>\n",
       "      <td>0.000000</td>\n",
       "      <td>0.461538</td>\n",
       "      <td>Low</td>\n",
       "      <td>Low Sugar</td>\n",
       "      <td>Yes</td>\n",
       "    </tr>\n",
       "    <tr>\n",
       "      <th>12086</th>\n",
       "      <td>2KEEP</td>\n",
       "      <td>8719979201104</td>\n",
       "      <td>NaN</td>\n",
       "      <td>119.0</td>\n",
       "      <td>1190.0</td>\n",
       "      <td>11.0</td>\n",
       "      <td>1.8</td>\n",
       "      <td>3.2</td>\n",
       "      <td>2.1</td>\n",
       "      <td>11.0</td>\n",
       "      <td>1.2</td>\n",
       "      <td>0.135</td>\n",
       "      <td>0.054</td>\n",
       "      <td>4.0</td>\n",
       "      <td>7.0</td>\n",
       "      <td>0.000000</td>\n",
       "      <td>0.163636</td>\n",
       "      <td>Low</td>\n",
       "      <td>Low Sugar</td>\n",
       "      <td>Yes</td>\n",
       "    </tr>\n",
       "    <tr>\n",
       "      <th>12130</th>\n",
       "      <td>Nakd</td>\n",
       "      <td>5060088709894</td>\n",
       "      <td>NaN</td>\n",
       "      <td>395.0</td>\n",
       "      <td>1656.0</td>\n",
       "      <td>55.3</td>\n",
       "      <td>48.3</td>\n",
       "      <td>15.2</td>\n",
       "      <td>4.2</td>\n",
       "      <td>6.3</td>\n",
       "      <td>5.8</td>\n",
       "      <td>0.040</td>\n",
       "      <td>0.016</td>\n",
       "      <td>4.0</td>\n",
       "      <td>17.0</td>\n",
       "      <td>95.000000</td>\n",
       "      <td>0.873418</td>\n",
       "      <td>Moderate</td>\n",
       "      <td>High Sugar</td>\n",
       "      <td>Yes</td>\n",
       "    </tr>\n",
       "    <tr>\n",
       "      <th>12141</th>\n",
       "      <td>Tesco</td>\n",
       "      <td>5031021097392</td>\n",
       "      <td>NaN</td>\n",
       "      <td>582.0</td>\n",
       "      <td>2408.0</td>\n",
       "      <td>10.2</td>\n",
       "      <td>7.3</td>\n",
       "      <td>46.4</td>\n",
       "      <td>5.9</td>\n",
       "      <td>24.9</td>\n",
       "      <td>11.6</td>\n",
       "      <td>1.100</td>\n",
       "      <td>0.440</td>\n",
       "      <td>3.0</td>\n",
       "      <td>4.0</td>\n",
       "      <td>99.450000</td>\n",
       "      <td>0.715686</td>\n",
       "      <td>High</td>\n",
       "      <td>Low Sugar</td>\n",
       "      <td>No</td>\n",
       "    </tr>\n",
       "  </tbody>\n",
       "</table>\n",
       "<p>274 rows × 20 columns</p>\n",
       "</div>"
      ],
      "text/plain": [
       "             brand   product_code product_name  energy-kcal_value  \\\n",
       "14          Jaouda  6111242100985          NaN              101.0   \n",
       "16           lilia  6111099003897          NaN              675.0   \n",
       "38       aïn Saiss  6111128000460          NaN              241.0   \n",
       "43     Alesto,Lidl       20005733          NaN              712.0   \n",
       "58          Maruja  8425197712024          NaN              539.0   \n",
       "...            ...            ...          ...                ...   \n",
       "11945      VEMONDO       20658144          NaN               35.0   \n",
       "11963    Hacendado  8480000198129          NaN               12.0   \n",
       "12086        2KEEP  8719979201104          NaN              119.0   \n",
       "12130         Nakd  5060088709894          NaN              395.0   \n",
       "12141        Tesco  5031021097392          NaN              582.0   \n",
       "\n",
       "       energy-kj_value  carbohydrates_value  sugars_value  fat_value  \\\n",
       "14              1190.0                  4.2           0.0        6.0   \n",
       "16              1190.0                  0.2           0.0       75.0   \n",
       "38              1190.0                 15.0           4.1        6.1   \n",
       "43              1190.0                  3.7           3.0       69.1   \n",
       "58              1190.0                 53.0          50.0       33.0   \n",
       "...                ...                  ...           ...        ...   \n",
       "11945            151.0                  2.0           2.0        1.6   \n",
       "11963             51.0                  0.0           0.0        0.0   \n",
       "12086           1190.0                 11.0           1.8        3.2   \n",
       "12130           1656.0                 55.3          48.3       15.2   \n",
       "12141           2408.0                 10.2           7.3       46.4   \n",
       "\n",
       "       saturated-fat_value  proteins_value  fiber_value  salt_value  \\\n",
       "14                     0.0             7.6          0.0       0.000   \n",
       "16                    34.0             0.1          0.0       0.500   \n",
       "38                     1.4             5.7          2.5       0.020   \n",
       "43                     6.8            15.5          6.8       0.020   \n",
       "58                    25.0             7.2          2.5       0.275   \n",
       "...                    ...             ...          ...         ...   \n",
       "11945                  0.3             3.0          0.8       0.100   \n",
       "11963                  0.0             3.0          0.0      18.300   \n",
       "12086                  2.1            11.0          1.2       0.135   \n",
       "12130                  4.2             6.3          5.8       0.040   \n",
       "12141                  5.9            24.9         11.6       1.100   \n",
       "\n",
       "       sodium_value  nova-group  nutrition-score-fr  \\\n",
       "14            0.000         1.0                -2.0   \n",
       "16            0.200         4.0                18.0   \n",
       "38            0.008         1.0                 0.0   \n",
       "43            0.008         1.0                -8.0   \n",
       "58            0.110         4.0                31.0   \n",
       "...             ...         ...                 ...   \n",
       "11945         0.040         4.0                -2.0   \n",
       "11963         7.320         4.0                 7.0   \n",
       "12086         0.054         4.0                 7.0   \n",
       "12130         0.016         4.0                17.0   \n",
       "12141         0.440         3.0                 4.0   \n",
       "\n",
       "       fruits-vegetables-nuts-estimate-from-ingredients_100g  \\\n",
       "14                                              0.000000       \n",
       "16                                              0.000000       \n",
       "38                                              0.000000       \n",
       "43                                            100.000000       \n",
       "58                                              2.678571       \n",
       "...                                                  ...       \n",
       "11945                                          13.000000       \n",
       "11963                                           0.000000       \n",
       "12086                                           0.000000       \n",
       "12130                                          95.000000       \n",
       "12141                                          99.450000       \n",
       "\n",
       "       sugar_to_carb_ratio calorie_category sugar_category is_ultra_processed  \n",
       "14                0.000000              Low      Low Sugar                 No  \n",
       "16                0.000000             High      Low Sugar                Yes  \n",
       "38                0.273333         Moderate      Low Sugar                 No  \n",
       "43                0.810811             High      Low Sugar                 No  \n",
       "58                0.943396             High     High Sugar                Yes  \n",
       "...                    ...              ...            ...                ...  \n",
       "11945             1.000000              Low      Low Sugar                Yes  \n",
       "11963             0.461538              Low      Low Sugar                Yes  \n",
       "12086             0.163636              Low      Low Sugar                Yes  \n",
       "12130             0.873418         Moderate     High Sugar                Yes  \n",
       "12141             0.715686             High      Low Sugar                 No  \n",
       "\n",
       "[274 rows x 20 columns]"
      ]
     },
     "metadata": {},
     "output_type": "display_data"
    }
   ],
   "source": [
    "product_name =df[df['product_name'].isnull()]\n",
    "display(product_name)\n",
    "df.drop(product_name.index, inplace=True)"
   ]
  },
  {
   "cell_type": "code",
   "execution_count": 7,
   "id": "3ece2fbe",
   "metadata": {},
   "outputs": [
    {
     "data": {
      "text/html": [
       "<div>\n",
       "<style scoped>\n",
       "    .dataframe tbody tr th:only-of-type {\n",
       "        vertical-align: middle;\n",
       "    }\n",
       "\n",
       "    .dataframe tbody tr th {\n",
       "        vertical-align: top;\n",
       "    }\n",
       "\n",
       "    .dataframe thead th {\n",
       "        text-align: right;\n",
       "    }\n",
       "</style>\n",
       "<table border=\"1\" class=\"dataframe\">\n",
       "  <thead>\n",
       "    <tr style=\"text-align: right;\">\n",
       "      <th></th>\n",
       "      <th>brand</th>\n",
       "      <th>product_code</th>\n",
       "      <th>product_name</th>\n",
       "      <th>energy-kcal_value</th>\n",
       "      <th>energy-kj_value</th>\n",
       "      <th>carbohydrates_value</th>\n",
       "      <th>sugars_value</th>\n",
       "      <th>fat_value</th>\n",
       "      <th>saturated-fat_value</th>\n",
       "      <th>proteins_value</th>\n",
       "      <th>fiber_value</th>\n",
       "      <th>salt_value</th>\n",
       "      <th>sodium_value</th>\n",
       "      <th>nova-group</th>\n",
       "      <th>nutrition-score-fr</th>\n",
       "      <th>fruits-vegetables-nuts-estimate-from-ingredients_100g</th>\n",
       "      <th>sugar_to_carb_ratio</th>\n",
       "      <th>calorie_category</th>\n",
       "      <th>sugar_category</th>\n",
       "      <th>is_ultra_processed</th>\n",
       "    </tr>\n",
       "  </thead>\n",
       "  <tbody>\n",
       "    <tr>\n",
       "      <th>26</th>\n",
       "      <td>NaN</td>\n",
       "      <td>6111180000231</td>\n",
       "      <td>levure pâtisserie</td>\n",
       "      <td>183.0</td>\n",
       "      <td>766.0</td>\n",
       "      <td>43.4</td>\n",
       "      <td>0.0</td>\n",
       "      <td>0.0</td>\n",
       "      <td>0.0</td>\n",
       "      <td>0.0</td>\n",
       "      <td>0.0</td>\n",
       "      <td>0.00</td>\n",
       "      <td>0.000</td>\n",
       "      <td>4.0</td>\n",
       "      <td>2.0</td>\n",
       "      <td>0.000000</td>\n",
       "      <td>0.000000</td>\n",
       "      <td>Low</td>\n",
       "      <td>Low Sugar</td>\n",
       "      <td>Yes</td>\n",
       "    </tr>\n",
       "    <tr>\n",
       "      <th>83</th>\n",
       "      <td>NaN</td>\n",
       "      <td>6111037000599</td>\n",
       "      <td>Familia 200g</td>\n",
       "      <td>532.0</td>\n",
       "      <td>2224.0</td>\n",
       "      <td>0.2</td>\n",
       "      <td>0.0</td>\n",
       "      <td>60.0</td>\n",
       "      <td>21.0</td>\n",
       "      <td>0.2</td>\n",
       "      <td>5.0</td>\n",
       "      <td>0.00</td>\n",
       "      <td>0.000</td>\n",
       "      <td>4.0</td>\n",
       "      <td>9.0</td>\n",
       "      <td>0.000000</td>\n",
       "      <td>0.000000</td>\n",
       "      <td>High</td>\n",
       "      <td>Low Sugar</td>\n",
       "      <td>Yes</td>\n",
       "    </tr>\n",
       "    <tr>\n",
       "      <th>127</th>\n",
       "      <td>NaN</td>\n",
       "      <td>6111251420135</td>\n",
       "      <td>Aïn Ifrane</td>\n",
       "      <td>0.0</td>\n",
       "      <td>1190.0</td>\n",
       "      <td>15.0</td>\n",
       "      <td>4.1</td>\n",
       "      <td>6.1</td>\n",
       "      <td>1.4</td>\n",
       "      <td>5.7</td>\n",
       "      <td>2.5</td>\n",
       "      <td>0.75</td>\n",
       "      <td>0.300</td>\n",
       "      <td>1.0</td>\n",
       "      <td>0.0</td>\n",
       "      <td>0.000000</td>\n",
       "      <td>0.273333</td>\n",
       "      <td>Low</td>\n",
       "      <td>Low Sugar</td>\n",
       "      <td>No</td>\n",
       "    </tr>\n",
       "    <tr>\n",
       "      <th>220</th>\n",
       "      <td>NaN</td>\n",
       "      <td>6111242102767</td>\n",
       "      <td>Yaourt tendre</td>\n",
       "      <td>121.0</td>\n",
       "      <td>1190.0</td>\n",
       "      <td>14.9</td>\n",
       "      <td>14.9</td>\n",
       "      <td>5.0</td>\n",
       "      <td>0.0</td>\n",
       "      <td>4.2</td>\n",
       "      <td>2.5</td>\n",
       "      <td>0.00</td>\n",
       "      <td>0.000</td>\n",
       "      <td>4.0</td>\n",
       "      <td>4.0</td>\n",
       "      <td>0.000000</td>\n",
       "      <td>1.000000</td>\n",
       "      <td>Low</td>\n",
       "      <td>Low Sugar</td>\n",
       "      <td>Yes</td>\n",
       "    </tr>\n",
       "    <tr>\n",
       "      <th>240</th>\n",
       "      <td>NaN</td>\n",
       "      <td>6111246250013</td>\n",
       "      <td>Levure rafiaa</td>\n",
       "      <td>0.0</td>\n",
       "      <td>1190.0</td>\n",
       "      <td>0.0</td>\n",
       "      <td>0.0</td>\n",
       "      <td>0.0</td>\n",
       "      <td>0.0</td>\n",
       "      <td>0.0</td>\n",
       "      <td>2.5</td>\n",
       "      <td>0.38</td>\n",
       "      <td>0.152</td>\n",
       "      <td>4.0</td>\n",
       "      <td>7.0</td>\n",
       "      <td>0.000000</td>\n",
       "      <td>0.461538</td>\n",
       "      <td>Low</td>\n",
       "      <td>Low Sugar</td>\n",
       "      <td>Yes</td>\n",
       "    </tr>\n",
       "    <tr>\n",
       "      <th>...</th>\n",
       "      <td>...</td>\n",
       "      <td>...</td>\n",
       "      <td>...</td>\n",
       "      <td>...</td>\n",
       "      <td>...</td>\n",
       "      <td>...</td>\n",
       "      <td>...</td>\n",
       "      <td>...</td>\n",
       "      <td>...</td>\n",
       "      <td>...</td>\n",
       "      <td>...</td>\n",
       "      <td>...</td>\n",
       "      <td>...</td>\n",
       "      <td>...</td>\n",
       "      <td>...</td>\n",
       "      <td>...</td>\n",
       "      <td>...</td>\n",
       "      <td>...</td>\n",
       "      <td>...</td>\n",
       "      <td>...</td>\n",
       "    </tr>\n",
       "    <tr>\n",
       "      <th>10809</th>\n",
       "      <td>NaN</td>\n",
       "      <td>6111162001249</td>\n",
       "      <td>Sardine a l'huile végétale</td>\n",
       "      <td>239.0</td>\n",
       "      <td>1190.0</td>\n",
       "      <td>1.1</td>\n",
       "      <td>0.0</td>\n",
       "      <td>16.8</td>\n",
       "      <td>3.5</td>\n",
       "      <td>26.5</td>\n",
       "      <td>2.5</td>\n",
       "      <td>0.31</td>\n",
       "      <td>0.124</td>\n",
       "      <td>3.0</td>\n",
       "      <td>-1.0</td>\n",
       "      <td>0.000000</td>\n",
       "      <td>0.000000</td>\n",
       "      <td>Moderate</td>\n",
       "      <td>Low Sugar</td>\n",
       "      <td>No</td>\n",
       "    </tr>\n",
       "    <tr>\n",
       "      <th>11273</th>\n",
       "      <td>NaN</td>\n",
       "      <td>8434164562883</td>\n",
       "      <td>Miel de flores</td>\n",
       "      <td>241.0</td>\n",
       "      <td>1190.0</td>\n",
       "      <td>15.0</td>\n",
       "      <td>4.1</td>\n",
       "      <td>6.1</td>\n",
       "      <td>1.4</td>\n",
       "      <td>5.7</td>\n",
       "      <td>2.5</td>\n",
       "      <td>0.38</td>\n",
       "      <td>0.152</td>\n",
       "      <td>4.0</td>\n",
       "      <td>7.0</td>\n",
       "      <td>0.000000</td>\n",
       "      <td>0.273333</td>\n",
       "      <td>Moderate</td>\n",
       "      <td>Low Sugar</td>\n",
       "      <td>Yes</td>\n",
       "    </tr>\n",
       "    <tr>\n",
       "      <th>11277</th>\n",
       "      <td>NaN</td>\n",
       "      <td>6111184001258</td>\n",
       "      <td>Confiture extra de figues</td>\n",
       "      <td>257.0</td>\n",
       "      <td>1190.0</td>\n",
       "      <td>63.0</td>\n",
       "      <td>62.0</td>\n",
       "      <td>0.5</td>\n",
       "      <td>0.1</td>\n",
       "      <td>0.7</td>\n",
       "      <td>0.5</td>\n",
       "      <td>0.03</td>\n",
       "      <td>0.012</td>\n",
       "      <td>4.0</td>\n",
       "      <td>18.0</td>\n",
       "      <td>20.000000</td>\n",
       "      <td>0.984127</td>\n",
       "      <td>Moderate</td>\n",
       "      <td>High Sugar</td>\n",
       "      <td>Yes</td>\n",
       "    </tr>\n",
       "    <tr>\n",
       "      <th>11299</th>\n",
       "      <td>NaN</td>\n",
       "      <td>6934615980324</td>\n",
       "      <td>Thé vert de Chine LAHCEN KANTAOUI</td>\n",
       "      <td>1.0</td>\n",
       "      <td>1190.0</td>\n",
       "      <td>0.2</td>\n",
       "      <td>0.0</td>\n",
       "      <td>0.0</td>\n",
       "      <td>0.0</td>\n",
       "      <td>0.1</td>\n",
       "      <td>2.5</td>\n",
       "      <td>0.00</td>\n",
       "      <td>0.000</td>\n",
       "      <td>4.0</td>\n",
       "      <td>0.0</td>\n",
       "      <td>0.266062</td>\n",
       "      <td>0.000000</td>\n",
       "      <td>Low</td>\n",
       "      <td>Low Sugar</td>\n",
       "      <td>Yes</td>\n",
       "    </tr>\n",
       "    <tr>\n",
       "      <th>11304</th>\n",
       "      <td>NaN</td>\n",
       "      <td>7622201768836</td>\n",
       "      <td>Milka Chips Ahoy Chocolate</td>\n",
       "      <td>558.0</td>\n",
       "      <td>1190.0</td>\n",
       "      <td>56.0</td>\n",
       "      <td>51.0</td>\n",
       "      <td>34.0</td>\n",
       "      <td>19.0</td>\n",
       "      <td>5.0</td>\n",
       "      <td>1.4</td>\n",
       "      <td>0.32</td>\n",
       "      <td>0.128</td>\n",
       "      <td>4.0</td>\n",
       "      <td>31.0</td>\n",
       "      <td>0.000000</td>\n",
       "      <td>0.910714</td>\n",
       "      <td>High</td>\n",
       "      <td>High Sugar</td>\n",
       "      <td>Yes</td>\n",
       "    </tr>\n",
       "  </tbody>\n",
       "</table>\n",
       "<p>73 rows × 20 columns</p>\n",
       "</div>"
      ],
      "text/plain": [
       "      brand   product_code                       product_name  \\\n",
       "26      NaN  6111180000231                  levure pâtisserie   \n",
       "83      NaN  6111037000599                       Familia 200g   \n",
       "127     NaN  6111251420135                         Aïn Ifrane   \n",
       "220     NaN  6111242102767                      Yaourt tendre   \n",
       "240     NaN  6111246250013                      Levure rafiaa   \n",
       "...     ...            ...                                ...   \n",
       "10809   NaN  6111162001249         Sardine a l'huile végétale   \n",
       "11273   NaN  8434164562883                     Miel de flores   \n",
       "11277   NaN  6111184001258          Confiture extra de figues   \n",
       "11299   NaN  6934615980324  Thé vert de Chine LAHCEN KANTAOUI   \n",
       "11304   NaN  7622201768836         Milka Chips Ahoy Chocolate   \n",
       "\n",
       "       energy-kcal_value  energy-kj_value  carbohydrates_value  sugars_value  \\\n",
       "26                 183.0            766.0                 43.4           0.0   \n",
       "83                 532.0           2224.0                  0.2           0.0   \n",
       "127                  0.0           1190.0                 15.0           4.1   \n",
       "220                121.0           1190.0                 14.9          14.9   \n",
       "240                  0.0           1190.0                  0.0           0.0   \n",
       "...                  ...              ...                  ...           ...   \n",
       "10809              239.0           1190.0                  1.1           0.0   \n",
       "11273              241.0           1190.0                 15.0           4.1   \n",
       "11277              257.0           1190.0                 63.0          62.0   \n",
       "11299                1.0           1190.0                  0.2           0.0   \n",
       "11304              558.0           1190.0                 56.0          51.0   \n",
       "\n",
       "       fat_value  saturated-fat_value  proteins_value  fiber_value  \\\n",
       "26           0.0                  0.0             0.0          0.0   \n",
       "83          60.0                 21.0             0.2          5.0   \n",
       "127          6.1                  1.4             5.7          2.5   \n",
       "220          5.0                  0.0             4.2          2.5   \n",
       "240          0.0                  0.0             0.0          2.5   \n",
       "...          ...                  ...             ...          ...   \n",
       "10809       16.8                  3.5            26.5          2.5   \n",
       "11273        6.1                  1.4             5.7          2.5   \n",
       "11277        0.5                  0.1             0.7          0.5   \n",
       "11299        0.0                  0.0             0.1          2.5   \n",
       "11304       34.0                 19.0             5.0          1.4   \n",
       "\n",
       "       salt_value  sodium_value  nova-group  nutrition-score-fr  \\\n",
       "26           0.00         0.000         4.0                 2.0   \n",
       "83           0.00         0.000         4.0                 9.0   \n",
       "127          0.75         0.300         1.0                 0.0   \n",
       "220          0.00         0.000         4.0                 4.0   \n",
       "240          0.38         0.152         4.0                 7.0   \n",
       "...           ...           ...         ...                 ...   \n",
       "10809        0.31         0.124         3.0                -1.0   \n",
       "11273        0.38         0.152         4.0                 7.0   \n",
       "11277        0.03         0.012         4.0                18.0   \n",
       "11299        0.00         0.000         4.0                 0.0   \n",
       "11304        0.32         0.128         4.0                31.0   \n",
       "\n",
       "       fruits-vegetables-nuts-estimate-from-ingredients_100g  \\\n",
       "26                                              0.000000       \n",
       "83                                              0.000000       \n",
       "127                                             0.000000       \n",
       "220                                             0.000000       \n",
       "240                                             0.000000       \n",
       "...                                                  ...       \n",
       "10809                                           0.000000       \n",
       "11273                                           0.000000       \n",
       "11277                                          20.000000       \n",
       "11299                                           0.266062       \n",
       "11304                                           0.000000       \n",
       "\n",
       "       sugar_to_carb_ratio calorie_category sugar_category is_ultra_processed  \n",
       "26                0.000000              Low      Low Sugar                Yes  \n",
       "83                0.000000             High      Low Sugar                Yes  \n",
       "127               0.273333              Low      Low Sugar                 No  \n",
       "220               1.000000              Low      Low Sugar                Yes  \n",
       "240               0.461538              Low      Low Sugar                Yes  \n",
       "...                    ...              ...            ...                ...  \n",
       "10809             0.000000         Moderate      Low Sugar                 No  \n",
       "11273             0.273333         Moderate      Low Sugar                Yes  \n",
       "11277             0.984127         Moderate     High Sugar                Yes  \n",
       "11299             0.000000              Low      Low Sugar                Yes  \n",
       "11304             0.910714             High     High Sugar                Yes  \n",
       "\n",
       "[73 rows x 20 columns]"
      ]
     },
     "metadata": {},
     "output_type": "display_data"
    }
   ],
   "source": [
    "brand_null_rows = df[df['brand'].isnull()]\n",
    "display(brand_null_rows)\n",
    "df.drop(brand_null_rows.index, inplace=True)"
   ]
  },
  {
   "cell_type": "code",
   "execution_count": 8,
   "id": "adadd43a",
   "metadata": {},
   "outputs": [
    {
     "data": {
      "text/plain": [
       "brand                                                    0\n",
       "product_code                                             0\n",
       "product_name                                             0\n",
       "energy-kcal_value                                        0\n",
       "energy-kj_value                                          0\n",
       "carbohydrates_value                                      0\n",
       "sugars_value                                             0\n",
       "fat_value                                                0\n",
       "saturated-fat_value                                      0\n",
       "proteins_value                                           0\n",
       "fiber_value                                              0\n",
       "salt_value                                               0\n",
       "sodium_value                                             0\n",
       "nova-group                                               0\n",
       "nutrition-score-fr                                       0\n",
       "fruits-vegetables-nuts-estimate-from-ingredients_100g    0\n",
       "sugar_to_carb_ratio                                      0\n",
       "calorie_category                                         0\n",
       "sugar_category                                           0\n",
       "is_ultra_processed                                       0\n",
       "dtype: int64"
      ]
     },
     "execution_count": 8,
     "metadata": {},
     "output_type": "execute_result"
    }
   ],
   "source": [
    "df.isnull().sum()"
   ]
  },
  {
   "cell_type": "code",
   "execution_count": 9,
   "id": "ec4e8dc1",
   "metadata": {},
   "outputs": [
    {
     "data": {
      "text/html": [
       "<div>\n",
       "<style scoped>\n",
       "    .dataframe tbody tr th:only-of-type {\n",
       "        vertical-align: middle;\n",
       "    }\n",
       "\n",
       "    .dataframe tbody tr th {\n",
       "        vertical-align: top;\n",
       "    }\n",
       "\n",
       "    .dataframe thead th {\n",
       "        text-align: right;\n",
       "    }\n",
       "</style>\n",
       "<table border=\"1\" class=\"dataframe\">\n",
       "  <thead>\n",
       "    <tr style=\"text-align: right;\">\n",
       "      <th></th>\n",
       "      <th>brand</th>\n",
       "      <th>product_code</th>\n",
       "      <th>product_name</th>\n",
       "      <th>energy-kcal_value</th>\n",
       "      <th>energy-kj_value</th>\n",
       "      <th>carbohydrates_value</th>\n",
       "      <th>sugars_value</th>\n",
       "      <th>fat_value</th>\n",
       "      <th>saturated-fat_value</th>\n",
       "      <th>proteins_value</th>\n",
       "      <th>fiber_value</th>\n",
       "      <th>salt_value</th>\n",
       "      <th>sodium_value</th>\n",
       "      <th>nova-group</th>\n",
       "      <th>nutrition-score-fr</th>\n",
       "      <th>fruits-vegetables-nuts-estimate-from-ingredients_100g</th>\n",
       "      <th>sugar_to_carb_ratio</th>\n",
       "      <th>calorie_category</th>\n",
       "      <th>sugar_category</th>\n",
       "      <th>is_ultra_processed</th>\n",
       "    </tr>\n",
       "  </thead>\n",
       "  <tbody>\n",
       "    <tr>\n",
       "      <th>0</th>\n",
       "      <td>Sidi Ali</td>\n",
       "      <td>6111035000430</td>\n",
       "      <td>Sidi Ali</td>\n",
       "      <td>0.0</td>\n",
       "      <td>20.0</td>\n",
       "      <td>42.0</td>\n",
       "      <td>14.00</td>\n",
       "      <td>0.0</td>\n",
       "      <td>0.00</td>\n",
       "      <td>0.0</td>\n",
       "      <td>0.0</td>\n",
       "      <td>0.00000</td>\n",
       "      <td>0.000000</td>\n",
       "      <td>4.0</td>\n",
       "      <td>1.0</td>\n",
       "      <td>0.00000</td>\n",
       "      <td>0.333333</td>\n",
       "      <td>Low</td>\n",
       "      <td>Low Sugar</td>\n",
       "      <td>Yes</td>\n",
       "    </tr>\n",
       "    <tr>\n",
       "      <th>1</th>\n",
       "      <td>Jaouda</td>\n",
       "      <td>6111242100992</td>\n",
       "      <td>Perly</td>\n",
       "      <td>97.0</td>\n",
       "      <td>406.0</td>\n",
       "      <td>9.4</td>\n",
       "      <td>4.10</td>\n",
       "      <td>3.0</td>\n",
       "      <td>1.40</td>\n",
       "      <td>8.0</td>\n",
       "      <td>2.5</td>\n",
       "      <td>0.38000</td>\n",
       "      <td>0.152000</td>\n",
       "      <td>3.0</td>\n",
       "      <td>7.0</td>\n",
       "      <td>0.00000</td>\n",
       "      <td>0.436170</td>\n",
       "      <td>Low</td>\n",
       "      <td>Low Sugar</td>\n",
       "      <td>No</td>\n",
       "    </tr>\n",
       "    <tr>\n",
       "      <th>2</th>\n",
       "      <td>sidi ali</td>\n",
       "      <td>6111035002175</td>\n",
       "      <td>Sidi Ali</td>\n",
       "      <td>241.0</td>\n",
       "      <td>1190.0</td>\n",
       "      <td>15.0</td>\n",
       "      <td>4.10</td>\n",
       "      <td>6.1</td>\n",
       "      <td>1.40</td>\n",
       "      <td>5.7</td>\n",
       "      <td>2.5</td>\n",
       "      <td>65.00000</td>\n",
       "      <td>26.000000</td>\n",
       "      <td>4.0</td>\n",
       "      <td>0.0</td>\n",
       "      <td>0.00000</td>\n",
       "      <td>0.273333</td>\n",
       "      <td>Moderate</td>\n",
       "      <td>Low Sugar</td>\n",
       "      <td>Yes</td>\n",
       "    </tr>\n",
       "    <tr>\n",
       "      <th>3</th>\n",
       "      <td>Les Eaux Minérales d'oulmès,Sidi Ali</td>\n",
       "      <td>6111035000058</td>\n",
       "      <td>Eau minérale naturelle</td>\n",
       "      <td>241.0</td>\n",
       "      <td>1190.0</td>\n",
       "      <td>15.0</td>\n",
       "      <td>4.10</td>\n",
       "      <td>6.1</td>\n",
       "      <td>1.40</td>\n",
       "      <td>5.7</td>\n",
       "      <td>2.5</td>\n",
       "      <td>65.00000</td>\n",
       "      <td>26.000000</td>\n",
       "      <td>1.0</td>\n",
       "      <td>0.0</td>\n",
       "      <td>0.00000</td>\n",
       "      <td>0.273333</td>\n",
       "      <td>Moderate</td>\n",
       "      <td>Low Sugar</td>\n",
       "      <td>No</td>\n",
       "    </tr>\n",
       "    <tr>\n",
       "      <th>4</th>\n",
       "      <td>AQUAFINA</td>\n",
       "      <td>6111252421568</td>\n",
       "      <td>اكوافينا</td>\n",
       "      <td>0.0</td>\n",
       "      <td>0.0</td>\n",
       "      <td>0.0</td>\n",
       "      <td>0.00</td>\n",
       "      <td>0.0</td>\n",
       "      <td>0.00</td>\n",
       "      <td>0.0</td>\n",
       "      <td>0.0</td>\n",
       "      <td>0.00508</td>\n",
       "      <td>0.002032</td>\n",
       "      <td>4.0</td>\n",
       "      <td>0.0</td>\n",
       "      <td>0.00000</td>\n",
       "      <td>0.461538</td>\n",
       "      <td>Low</td>\n",
       "      <td>Low Sugar</td>\n",
       "      <td>Yes</td>\n",
       "    </tr>\n",
       "    <tr>\n",
       "      <th>...</th>\n",
       "      <td>...</td>\n",
       "      <td>...</td>\n",
       "      <td>...</td>\n",
       "      <td>...</td>\n",
       "      <td>...</td>\n",
       "      <td>...</td>\n",
       "      <td>...</td>\n",
       "      <td>...</td>\n",
       "      <td>...</td>\n",
       "      <td>...</td>\n",
       "      <td>...</td>\n",
       "      <td>...</td>\n",
       "      <td>...</td>\n",
       "      <td>...</td>\n",
       "      <td>...</td>\n",
       "      <td>...</td>\n",
       "      <td>...</td>\n",
       "      <td>...</td>\n",
       "      <td>...</td>\n",
       "      <td>...</td>\n",
       "    </tr>\n",
       "    <tr>\n",
       "      <th>12139</th>\n",
       "      <td>Le Pain des Fleurs</td>\n",
       "      <td>3380380101830</td>\n",
       "      <td>Tartines craquantes noisette imp</td>\n",
       "      <td>391.0</td>\n",
       "      <td>1636.0</td>\n",
       "      <td>72.3</td>\n",
       "      <td>6.91</td>\n",
       "      <td>6.2</td>\n",
       "      <td>0.57</td>\n",
       "      <td>10.3</td>\n",
       "      <td>2.5</td>\n",
       "      <td>0.53000</td>\n",
       "      <td>0.212000</td>\n",
       "      <td>3.0</td>\n",
       "      <td>4.0</td>\n",
       "      <td>0.00000</td>\n",
       "      <td>0.095574</td>\n",
       "      <td>Moderate</td>\n",
       "      <td>Low Sugar</td>\n",
       "      <td>No</td>\n",
       "    </tr>\n",
       "    <tr>\n",
       "      <th>12140</th>\n",
       "      <td>Jordans</td>\n",
       "      <td>5010477342713</td>\n",
       "      <td>Jordans Country Crisp Honey And Nut</td>\n",
       "      <td>455.0</td>\n",
       "      <td>1190.0</td>\n",
       "      <td>61.0</td>\n",
       "      <td>22.00</td>\n",
       "      <td>18.0</td>\n",
       "      <td>2.00</td>\n",
       "      <td>9.4</td>\n",
       "      <td>5.5</td>\n",
       "      <td>0.03000</td>\n",
       "      <td>0.012000</td>\n",
       "      <td>4.0</td>\n",
       "      <td>9.0</td>\n",
       "      <td>0.00000</td>\n",
       "      <td>0.360656</td>\n",
       "      <td>High</td>\n",
       "      <td>Moderate Sugar</td>\n",
       "      <td>Yes</td>\n",
       "    </tr>\n",
       "    <tr>\n",
       "      <th>12142</th>\n",
       "      <td>Sainsbury's</td>\n",
       "      <td>316286</td>\n",
       "      <td>Fat free greek style yogurt</td>\n",
       "      <td>51.0</td>\n",
       "      <td>1190.0</td>\n",
       "      <td>5.2</td>\n",
       "      <td>5.20</td>\n",
       "      <td>0.5</td>\n",
       "      <td>0.10</td>\n",
       "      <td>6.4</td>\n",
       "      <td>0.5</td>\n",
       "      <td>0.13750</td>\n",
       "      <td>0.055000</td>\n",
       "      <td>1.0</td>\n",
       "      <td>-1.0</td>\n",
       "      <td>0.00000</td>\n",
       "      <td>1.000000</td>\n",
       "      <td>Low</td>\n",
       "      <td>Low Sugar</td>\n",
       "      <td>No</td>\n",
       "    </tr>\n",
       "    <tr>\n",
       "      <th>12143</th>\n",
       "      <td>Good life</td>\n",
       "      <td>5012869541803</td>\n",
       "      <td>Spicy veg bean burgers</td>\n",
       "      <td>210.0</td>\n",
       "      <td>876.0</td>\n",
       "      <td>20.0</td>\n",
       "      <td>2.00</td>\n",
       "      <td>9.7</td>\n",
       "      <td>0.60</td>\n",
       "      <td>5.8</td>\n",
       "      <td>8.9</td>\n",
       "      <td>0.75000</td>\n",
       "      <td>0.300000</td>\n",
       "      <td>3.0</td>\n",
       "      <td>-3.0</td>\n",
       "      <td>63.36575</td>\n",
       "      <td>0.100000</td>\n",
       "      <td>Moderate</td>\n",
       "      <td>Low Sugar</td>\n",
       "      <td>No</td>\n",
       "    </tr>\n",
       "    <tr>\n",
       "      <th>12144</th>\n",
       "      <td>Al Hamd</td>\n",
       "      <td>6111203004444</td>\n",
       "      <td>Tartine la Prairie classique 1kg</td>\n",
       "      <td>241.0</td>\n",
       "      <td>1190.0</td>\n",
       "      <td>15.0</td>\n",
       "      <td>4.10</td>\n",
       "      <td>6.1</td>\n",
       "      <td>1.40</td>\n",
       "      <td>5.7</td>\n",
       "      <td>2.5</td>\n",
       "      <td>0.38000</td>\n",
       "      <td>0.152000</td>\n",
       "      <td>4.0</td>\n",
       "      <td>7.0</td>\n",
       "      <td>0.00000</td>\n",
       "      <td>0.273333</td>\n",
       "      <td>Moderate</td>\n",
       "      <td>Low Sugar</td>\n",
       "      <td>Yes</td>\n",
       "    </tr>\n",
       "  </tbody>\n",
       "</table>\n",
       "<p>11798 rows × 20 columns</p>\n",
       "</div>"
      ],
      "text/plain": [
       "                                      brand   product_code  \\\n",
       "0                                  Sidi Ali  6111035000430   \n",
       "1                                    Jaouda  6111242100992   \n",
       "2                                  sidi ali  6111035002175   \n",
       "3      Les Eaux Minérales d'oulmès,Sidi Ali  6111035000058   \n",
       "4                                  AQUAFINA  6111252421568   \n",
       "...                                     ...            ...   \n",
       "12139                    Le Pain des Fleurs  3380380101830   \n",
       "12140                               Jordans  5010477342713   \n",
       "12142                           Sainsbury's         316286   \n",
       "12143                             Good life  5012869541803   \n",
       "12144                               Al Hamd  6111203004444   \n",
       "\n",
       "                              product_name  energy-kcal_value  \\\n",
       "0                                 Sidi Ali                0.0   \n",
       "1                                    Perly               97.0   \n",
       "2                                 Sidi Ali              241.0   \n",
       "3                   Eau minérale naturelle              241.0   \n",
       "4                                 اكوافينا                0.0   \n",
       "...                                    ...                ...   \n",
       "12139     Tartines craquantes noisette imp              391.0   \n",
       "12140  Jordans Country Crisp Honey And Nut              455.0   \n",
       "12142          Fat free greek style yogurt               51.0   \n",
       "12143               Spicy veg bean burgers              210.0   \n",
       "12144     Tartine la Prairie classique 1kg              241.0   \n",
       "\n",
       "       energy-kj_value  carbohydrates_value  sugars_value  fat_value  \\\n",
       "0                 20.0                 42.0         14.00        0.0   \n",
       "1                406.0                  9.4          4.10        3.0   \n",
       "2               1190.0                 15.0          4.10        6.1   \n",
       "3               1190.0                 15.0          4.10        6.1   \n",
       "4                  0.0                  0.0          0.00        0.0   \n",
       "...                ...                  ...           ...        ...   \n",
       "12139           1636.0                 72.3          6.91        6.2   \n",
       "12140           1190.0                 61.0         22.00       18.0   \n",
       "12142           1190.0                  5.2          5.20        0.5   \n",
       "12143            876.0                 20.0          2.00        9.7   \n",
       "12144           1190.0                 15.0          4.10        6.1   \n",
       "\n",
       "       saturated-fat_value  proteins_value  fiber_value  salt_value  \\\n",
       "0                     0.00             0.0          0.0     0.00000   \n",
       "1                     1.40             8.0          2.5     0.38000   \n",
       "2                     1.40             5.7          2.5    65.00000   \n",
       "3                     1.40             5.7          2.5    65.00000   \n",
       "4                     0.00             0.0          0.0     0.00508   \n",
       "...                    ...             ...          ...         ...   \n",
       "12139                 0.57            10.3          2.5     0.53000   \n",
       "12140                 2.00             9.4          5.5     0.03000   \n",
       "12142                 0.10             6.4          0.5     0.13750   \n",
       "12143                 0.60             5.8          8.9     0.75000   \n",
       "12144                 1.40             5.7          2.5     0.38000   \n",
       "\n",
       "       sodium_value  nova-group  nutrition-score-fr  \\\n",
       "0          0.000000         4.0                 1.0   \n",
       "1          0.152000         3.0                 7.0   \n",
       "2         26.000000         4.0                 0.0   \n",
       "3         26.000000         1.0                 0.0   \n",
       "4          0.002032         4.0                 0.0   \n",
       "...             ...         ...                 ...   \n",
       "12139      0.212000         3.0                 4.0   \n",
       "12140      0.012000         4.0                 9.0   \n",
       "12142      0.055000         1.0                -1.0   \n",
       "12143      0.300000         3.0                -3.0   \n",
       "12144      0.152000         4.0                 7.0   \n",
       "\n",
       "       fruits-vegetables-nuts-estimate-from-ingredients_100g  \\\n",
       "0                                                0.00000       \n",
       "1                                                0.00000       \n",
       "2                                                0.00000       \n",
       "3                                                0.00000       \n",
       "4                                                0.00000       \n",
       "...                                                  ...       \n",
       "12139                                            0.00000       \n",
       "12140                                            0.00000       \n",
       "12142                                            0.00000       \n",
       "12143                                           63.36575       \n",
       "12144                                            0.00000       \n",
       "\n",
       "       sugar_to_carb_ratio calorie_category  sugar_category is_ultra_processed  \n",
       "0                 0.333333              Low       Low Sugar                Yes  \n",
       "1                 0.436170              Low       Low Sugar                 No  \n",
       "2                 0.273333         Moderate       Low Sugar                Yes  \n",
       "3                 0.273333         Moderate       Low Sugar                 No  \n",
       "4                 0.461538              Low       Low Sugar                Yes  \n",
       "...                    ...              ...             ...                ...  \n",
       "12139             0.095574         Moderate       Low Sugar                 No  \n",
       "12140             0.360656             High  Moderate Sugar                Yes  \n",
       "12142             1.000000              Low       Low Sugar                 No  \n",
       "12143             0.100000         Moderate       Low Sugar                 No  \n",
       "12144             0.273333         Moderate       Low Sugar                Yes  \n",
       "\n",
       "[11798 rows x 20 columns]"
      ]
     },
     "metadata": {},
     "output_type": "display_data"
    }
   ],
   "source": [
    "display(df)"
   ]
  },
  {
   "cell_type": "code",
   "execution_count": 29,
   "id": "6551d5f4",
   "metadata": {},
   "outputs": [],
   "source": [
    "df.to_csv('chocolate_products_cleaned1.csv', index=False)"
   ]
  },
  {
   "cell_type": "code",
   "execution_count": 20,
   "id": "126b25ec",
   "metadata": {},
   "outputs": [
    {
     "data": {
      "application/vnd.plotly.v1+json": {
       "config": {
        "plotlyServerURL": "https://plot.ly"
       },
       "data": [
        {
         "bingroup": "x",
         "hovertemplate": "energy-kcal_value=%{x}<br>count=%{y}<extra></extra>",
         "legendgroup": "",
         "marker": {
          "color": "#636efa",
          "pattern": {
           "shape": ""
          }
         },
         "name": "",
         "orientation": "v",
         "showlegend": false,
         "type": "histogram",
         "x": {
          "bdata": "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",
          "dtype": "f8"
         },
         "xaxis": "x",
         "yaxis": "y"
        }
       ],
       "layout": {
        "bargap": 0.5,
        "barmode": "relative",
        "legend": {
         "tracegroupgap": 0
        },
        "template": {
         "data": {
          "bar": [
           {
            "error_x": {
             "color": "#2a3f5f"
            },
            "error_y": {
             "color": "#2a3f5f"
            },
            "marker": {
             "line": {
              "color": "#E5ECF6",
              "width": 0.5
             },
             "pattern": {
              "fillmode": "overlay",
              "size": 10,
              "solidity": 0.2
             }
            },
            "type": "bar"
           }
          ],
          "barpolar": [
           {
            "marker": {
             "line": {
              "color": "#E5ECF6",
              "width": 0.5
             },
             "pattern": {
              "fillmode": "overlay",
              "size": 10,
              "solidity": 0.2
             }
            },
            "type": "barpolar"
           }
          ],
          "carpet": [
           {
            "aaxis": {
             "endlinecolor": "#2a3f5f",
             "gridcolor": "white",
             "linecolor": "white",
             "minorgridcolor": "white",
             "startlinecolor": "#2a3f5f"
            },
            "baxis": {
             "endlinecolor": "#2a3f5f",
             "gridcolor": "white",
             "linecolor": "white",
             "minorgridcolor": "white",
             "startlinecolor": "#2a3f5f"
            },
            "type": "carpet"
           }
          ],
          "choropleth": [
           {
            "colorbar": {
             "outlinewidth": 0,
             "ticks": ""
            },
            "type": "choropleth"
           }
          ],
          "contour": [
           {
            "colorbar": {
             "outlinewidth": 0,
             "ticks": ""
            },
            "colorscale": [
             [
              0,
              "#0d0887"
             ],
             [
              0.1111111111111111,
              "#46039f"
             ],
             [
              0.2222222222222222,
              "#7201a8"
             ],
             [
              0.3333333333333333,
              "#9c179e"
             ],
             [
              0.4444444444444444,
              "#bd3786"
             ],
             [
              0.5555555555555556,
              "#d8576b"
             ],
             [
              0.6666666666666666,
              "#ed7953"
             ],
             [
              0.7777777777777778,
              "#fb9f3a"
             ],
             [
              0.8888888888888888,
              "#fdca26"
             ],
             [
              1,
              "#f0f921"
             ]
            ],
            "type": "contour"
           }
          ],
          "contourcarpet": [
           {
            "colorbar": {
             "outlinewidth": 0,
             "ticks": ""
            },
            "type": "contourcarpet"
           }
          ],
          "heatmap": [
           {
            "colorbar": {
             "outlinewidth": 0,
             "ticks": ""
            },
            "colorscale": [
             [
              0,
              "#0d0887"
             ],
             [
              0.1111111111111111,
              "#46039f"
             ],
             [
              0.2222222222222222,
              "#7201a8"
             ],
             [
              0.3333333333333333,
              "#9c179e"
             ],
             [
              0.4444444444444444,
              "#bd3786"
             ],
             [
              0.5555555555555556,
              "#d8576b"
             ],
             [
              0.6666666666666666,
              "#ed7953"
             ],
             [
              0.7777777777777778,
              "#fb9f3a"
             ],
             [
              0.8888888888888888,
              "#fdca26"
             ],
             [
              1,
              "#f0f921"
             ]
            ],
            "type": "heatmap"
           }
          ],
          "histogram": [
           {
            "marker": {
             "pattern": {
              "fillmode": "overlay",
              "size": 10,
              "solidity": 0.2
             }
            },
            "type": "histogram"
           }
          ],
          "histogram2d": [
           {
            "colorbar": {
             "outlinewidth": 0,
             "ticks": ""
            },
            "colorscale": [
             [
              0,
              "#0d0887"
             ],
             [
              0.1111111111111111,
              "#46039f"
             ],
             [
              0.2222222222222222,
              "#7201a8"
             ],
             [
              0.3333333333333333,
              "#9c179e"
             ],
             [
              0.4444444444444444,
              "#bd3786"
             ],
             [
              0.5555555555555556,
              "#d8576b"
             ],
             [
              0.6666666666666666,
              "#ed7953"
             ],
             [
              0.7777777777777778,
              "#fb9f3a"
             ],
             [
              0.8888888888888888,
              "#fdca26"
             ],
             [
              1,
              "#f0f921"
             ]
            ],
            "type": "histogram2d"
           }
          ],
          "histogram2dcontour": [
           {
            "colorbar": {
             "outlinewidth": 0,
             "ticks": ""
            },
            "colorscale": [
             [
              0,
              "#0d0887"
             ],
             [
              0.1111111111111111,
              "#46039f"
             ],
             [
              0.2222222222222222,
              "#7201a8"
             ],
             [
              0.3333333333333333,
              "#9c179e"
             ],
             [
              0.4444444444444444,
              "#bd3786"
             ],
             [
              0.5555555555555556,
              "#d8576b"
             ],
             [
              0.6666666666666666,
              "#ed7953"
             ],
             [
              0.7777777777777778,
              "#fb9f3a"
             ],
             [
              0.8888888888888888,
              "#fdca26"
             ],
             [
              1,
              "#f0f921"
             ]
            ],
            "type": "histogram2dcontour"
           }
          ],
          "mesh3d": [
           {
            "colorbar": {
             "outlinewidth": 0,
             "ticks": ""
            },
            "type": "mesh3d"
           }
          ],
          "parcoords": [
           {
            "line": {
             "colorbar": {
              "outlinewidth": 0,
              "ticks": ""
             }
            },
            "type": "parcoords"
           }
          ],
          "pie": [
           {
            "automargin": true,
            "type": "pie"
           }
          ],
          "scatter": [
           {
            "fillpattern": {
             "fillmode": "overlay",
             "size": 10,
             "solidity": 0.2
            },
            "type": "scatter"
           }
          ],
          "scatter3d": [
           {
            "line": {
             "colorbar": {
              "outlinewidth": 0,
              "ticks": ""
             }
            },
            "marker": {
             "colorbar": {
              "outlinewidth": 0,
              "ticks": ""
             }
            },
            "type": "scatter3d"
           }
          ],
          "scattercarpet": [
           {
            "marker": {
             "colorbar": {
              "outlinewidth": 0,
              "ticks": ""
             }
            },
            "type": "scattercarpet"
           }
          ],
          "scattergeo": [
           {
            "marker": {
             "colorbar": {
              "outlinewidth": 0,
              "ticks": ""
             }
            },
            "type": "scattergeo"
           }
          ],
          "scattergl": [
           {
            "marker": {
             "colorbar": {
              "outlinewidth": 0,
              "ticks": ""
             }
            },
            "type": "scattergl"
           }
          ],
          "scattermap": [
           {
            "marker": {
             "colorbar": {
              "outlinewidth": 0,
              "ticks": ""
             }
            },
            "type": "scattermap"
           }
          ],
          "scattermapbox": [
           {
            "marker": {
             "colorbar": {
              "outlinewidth": 0,
              "ticks": ""
             }
            },
            "type": "scattermapbox"
           }
          ],
          "scatterpolar": [
           {
            "marker": {
             "colorbar": {
              "outlinewidth": 0,
              "ticks": ""
             }
            },
            "type": "scatterpolar"
           }
          ],
          "scatterpolargl": [
           {
            "marker": {
             "colorbar": {
              "outlinewidth": 0,
              "ticks": ""
             }
            },
            "type": "scatterpolargl"
           }
          ],
          "scatterternary": [
           {
            "marker": {
             "colorbar": {
              "outlinewidth": 0,
              "ticks": ""
             }
            },
            "type": "scatterternary"
           }
          ],
          "surface": [
           {
            "colorbar": {
             "outlinewidth": 0,
             "ticks": ""
            },
            "colorscale": [
             [
              0,
              "#0d0887"
             ],
             [
              0.1111111111111111,
              "#46039f"
             ],
             [
              0.2222222222222222,
              "#7201a8"
             ],
             [
              0.3333333333333333,
              "#9c179e"
             ],
             [
              0.4444444444444444,
              "#bd3786"
             ],
             [
              0.5555555555555556,
              "#d8576b"
             ],
             [
              0.6666666666666666,
              "#ed7953"
             ],
             [
              0.7777777777777778,
              "#fb9f3a"
             ],
             [
              0.8888888888888888,
              "#fdca26"
             ],
             [
              1,
              "#f0f921"
             ]
            ],
            "type": "surface"
           }
          ],
          "table": [
           {
            "cells": {
             "fill": {
              "color": "#EBF0F8"
             },
             "line": {
              "color": "white"
             }
            },
            "header": {
             "fill": {
              "color": "#C8D4E3"
             },
             "line": {
              "color": "white"
             }
            },
            "type": "table"
           }
          ]
         },
         "layout": {
          "annotationdefaults": {
           "arrowcolor": "#2a3f5f",
           "arrowhead": 0,
           "arrowwidth": 1
          },
          "autotypenumbers": "strict",
          "coloraxis": {
           "colorbar": {
            "outlinewidth": 0,
            "ticks": ""
           }
          },
          "colorscale": {
           "diverging": [
            [
             0,
             "#8e0152"
            ],
            [
             0.1,
             "#c51b7d"
            ],
            [
             0.2,
             "#de77ae"
            ],
            [
             0.3,
             "#f1b6da"
            ],
            [
             0.4,
             "#fde0ef"
            ],
            [
             0.5,
             "#f7f7f7"
            ],
            [
             0.6,
             "#e6f5d0"
            ],
            [
             0.7,
             "#b8e186"
            ],
            [
             0.8,
             "#7fbc41"
            ],
            [
             0.9,
             "#4d9221"
            ],
            [
             1,
             "#276419"
            ]
           ],
           "sequential": [
            [
             0,
             "#0d0887"
            ],
            [
             0.1111111111111111,
             "#46039f"
            ],
            [
             0.2222222222222222,
             "#7201a8"
            ],
            [
             0.3333333333333333,
             "#9c179e"
            ],
            [
             0.4444444444444444,
             "#bd3786"
            ],
            [
             0.5555555555555556,
             "#d8576b"
            ],
            [
             0.6666666666666666,
             "#ed7953"
            ],
            [
             0.7777777777777778,
             "#fb9f3a"
            ],
            [
             0.8888888888888888,
             "#fdca26"
            ],
            [
             1,
             "#f0f921"
            ]
           ],
           "sequentialminus": [
            [
             0,
             "#0d0887"
            ],
            [
             0.1111111111111111,
             "#46039f"
            ],
            [
             0.2222222222222222,
             "#7201a8"
            ],
            [
             0.3333333333333333,
             "#9c179e"
            ],
            [
             0.4444444444444444,
             "#bd3786"
            ],
            [
             0.5555555555555556,
             "#d8576b"
            ],
            [
             0.6666666666666666,
             "#ed7953"
            ],
            [
             0.7777777777777778,
             "#fb9f3a"
            ],
            [
             0.8888888888888888,
             "#fdca26"
            ],
            [
             1,
             "#f0f921"
            ]
           ]
          },
          "colorway": [
           "#636efa",
           "#EF553B",
           "#00cc96",
           "#ab63fa",
           "#FFA15A",
           "#19d3f3",
           "#FF6692",
           "#B6E880",
           "#FF97FF",
           "#FECB52"
          ],
          "font": {
           "color": "#2a3f5f"
          },
          "geo": {
           "bgcolor": "white",
           "lakecolor": "white",
           "landcolor": "#E5ECF6",
           "showlakes": true,
           "showland": true,
           "subunitcolor": "white"
          },
          "hoverlabel": {
           "align": "left"
          },
          "hovermode": "closest",
          "mapbox": {
           "style": "light"
          },
          "paper_bgcolor": "white",
          "plot_bgcolor": "#E5ECF6",
          "polar": {
           "angularaxis": {
            "gridcolor": "white",
            "linecolor": "white",
            "ticks": ""
           },
           "bgcolor": "#E5ECF6",
           "radialaxis": {
            "gridcolor": "white",
            "linecolor": "white",
            "ticks": ""
           }
          },
          "scene": {
           "xaxis": {
            "backgroundcolor": "#E5ECF6",
            "gridcolor": "white",
            "gridwidth": 2,
            "linecolor": "white",
            "showbackground": true,
            "ticks": "",
            "zerolinecolor": "white"
           },
           "yaxis": {
            "backgroundcolor": "#E5ECF6",
            "gridcolor": "white",
            "gridwidth": 2,
            "linecolor": "white",
            "showbackground": true,
            "ticks": "",
            "zerolinecolor": "white"
           },
           "zaxis": {
            "backgroundcolor": "#E5ECF6",
            "gridcolor": "white",
            "gridwidth": 2,
            "linecolor": "white",
            "showbackground": true,
            "ticks": "",
            "zerolinecolor": "white"
           }
          },
          "shapedefaults": {
           "line": {
            "color": "#2a3f5f"
           }
          },
          "ternary": {
           "aaxis": {
            "gridcolor": "white",
            "linecolor": "white",
            "ticks": ""
           },
           "baxis": {
            "gridcolor": "white",
            "linecolor": "white",
            "ticks": ""
           },
           "bgcolor": "#E5ECF6",
           "caxis": {
            "gridcolor": "white",
            "linecolor": "white",
            "ticks": ""
           }
          },
          "title": {
           "x": 0.05
          },
          "xaxis": {
           "automargin": true,
           "gridcolor": "white",
           "linecolor": "white",
           "ticks": "",
           "title": {
            "standoff": 15
           },
           "zerolinecolor": "white",
           "zerolinewidth": 2
          },
          "yaxis": {
           "automargin": true,
           "gridcolor": "white",
           "linecolor": "white",
           "ticks": "",
           "title": {
            "standoff": 15
           },
           "zerolinecolor": "white",
           "zerolinewidth": 2
          }
         }
        },
        "title": {
         "text": "Distribution of Energy (kcal)"
        },
        "xaxis": {
         "anchor": "y",
         "domain": [
          0,
          1
         ],
         "title": {
          "text": "energy-kcal_value"
         }
        },
        "yaxis": {
         "anchor": "x",
         "domain": [
          0,
          1
         ],
         "title": {
          "text": "count"
         }
        }
       }
      }
     },
     "metadata": {},
     "output_type": "display_data"
    }
   ],
   "source": [
    "import plotly.express as px\n",
    "\n",
    "fig = px.histogram(df, x='energy-kcal_value', title='Distribution of Energy (kcal)')\n",
    "fig.update_layout(bargap=0.5)\n",
    "fig.show()\n"
   ]
  },
  {
   "cell_type": "markdown",
   "id": "3f46a624",
   "metadata": {},
   "source": [
    "**Distribution of Energy (kcal)**\n",
    "- Energy (kcal): The distribution of energy in kilocalories is skewed to the right, indicating that most products have lower energy values, with a few products having very high energy content."
   ]
  },
  {
   "cell_type": "code",
   "execution_count": 22,
   "id": "09d24383",
   "metadata": {},
   "outputs": [
    {
     "data": {
      "application/vnd.plotly.v1+json": {
       "config": {
        "plotlyServerURL": "https://plot.ly"
       },
       "data": [
        {
         "bingroup": "x",
         "hovertemplate": "sugars_value=%{x}<br>count=%{y}<extra></extra>",
         "legendgroup": "",
         "marker": {
          "color": "#636efa",
          "pattern": {
           "shape": ""
          }
         },
         "name": "",
         "orientation": "v",
         "showlegend": false,
         "type": "histogram",
         "x": {
          "bdata": "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",
          "dtype": "f8"
         },
         "xaxis": "x",
         "yaxis": "y"
        }
       ],
       "layout": {
        "bargap": 0.5,
        "barmode": "relative",
        "legend": {
         "tracegroupgap": 0
        },
        "template": {
         "data": {
          "bar": [
           {
            "error_x": {
             "color": "#2a3f5f"
            },
            "error_y": {
             "color": "#2a3f5f"
            },
            "marker": {
             "line": {
              "color": "#E5ECF6",
              "width": 0.5
             },
             "pattern": {
              "fillmode": "overlay",
              "size": 10,
              "solidity": 0.2
             }
            },
            "type": "bar"
           }
          ],
          "barpolar": [
           {
            "marker": {
             "line": {
              "color": "#E5ECF6",
              "width": 0.5
             },
             "pattern": {
              "fillmode": "overlay",
              "size": 10,
              "solidity": 0.2
             }
            },
            "type": "barpolar"
           }
          ],
          "carpet": [
           {
            "aaxis": {
             "endlinecolor": "#2a3f5f",
             "gridcolor": "white",
             "linecolor": "white",
             "minorgridcolor": "white",
             "startlinecolor": "#2a3f5f"
            },
            "baxis": {
             "endlinecolor": "#2a3f5f",
             "gridcolor": "white",
             "linecolor": "white",
             "minorgridcolor": "white",
             "startlinecolor": "#2a3f5f"
            },
            "type": "carpet"
           }
          ],
          "choropleth": [
           {
            "colorbar": {
             "outlinewidth": 0,
             "ticks": ""
            },
            "type": "choropleth"
           }
          ],
          "contour": [
           {
            "colorbar": {
             "outlinewidth": 0,
             "ticks": ""
            },
            "colorscale": [
             [
              0,
              "#0d0887"
             ],
             [
              0.1111111111111111,
              "#46039f"
             ],
             [
              0.2222222222222222,
              "#7201a8"
             ],
             [
              0.3333333333333333,
              "#9c179e"
             ],
             [
              0.4444444444444444,
              "#bd3786"
             ],
             [
              0.5555555555555556,
              "#d8576b"
             ],
             [
              0.6666666666666666,
              "#ed7953"
             ],
             [
              0.7777777777777778,
              "#fb9f3a"
             ],
             [
              0.8888888888888888,
              "#fdca26"
             ],
             [
              1,
              "#f0f921"
             ]
            ],
            "type": "contour"
           }
          ],
          "contourcarpet": [
           {
            "colorbar": {
             "outlinewidth": 0,
             "ticks": ""
            },
            "type": "contourcarpet"
           }
          ],
          "heatmap": [
           {
            "colorbar": {
             "outlinewidth": 0,
             "ticks": ""
            },
            "colorscale": [
             [
              0,
              "#0d0887"
             ],
             [
              0.1111111111111111,
              "#46039f"
             ],
             [
              0.2222222222222222,
              "#7201a8"
             ],
             [
              0.3333333333333333,
              "#9c179e"
             ],
             [
              0.4444444444444444,
              "#bd3786"
             ],
             [
              0.5555555555555556,
              "#d8576b"
             ],
             [
              0.6666666666666666,
              "#ed7953"
             ],
             [
              0.7777777777777778,
              "#fb9f3a"
             ],
             [
              0.8888888888888888,
              "#fdca26"
             ],
             [
              1,
              "#f0f921"
             ]
            ],
            "type": "heatmap"
           }
          ],
          "histogram": [
           {
            "marker": {
             "pattern": {
              "fillmode": "overlay",
              "size": 10,
              "solidity": 0.2
             }
            },
            "type": "histogram"
           }
          ],
          "histogram2d": [
           {
            "colorbar": {
             "outlinewidth": 0,
             "ticks": ""
            },
            "colorscale": [
             [
              0,
              "#0d0887"
             ],
             [
              0.1111111111111111,
              "#46039f"
             ],
             [
              0.2222222222222222,
              "#7201a8"
             ],
             [
              0.3333333333333333,
              "#9c179e"
             ],
             [
              0.4444444444444444,
              "#bd3786"
             ],
             [
              0.5555555555555556,
              "#d8576b"
             ],
             [
              0.6666666666666666,
              "#ed7953"
             ],
             [
              0.7777777777777778,
              "#fb9f3a"
             ],
             [
              0.8888888888888888,
              "#fdca26"
             ],
             [
              1,
              "#f0f921"
             ]
            ],
            "type": "histogram2d"
           }
          ],
          "histogram2dcontour": [
           {
            "colorbar": {
             "outlinewidth": 0,
             "ticks": ""
            },
            "colorscale": [
             [
              0,
              "#0d0887"
             ],
             [
              0.1111111111111111,
              "#46039f"
             ],
             [
              0.2222222222222222,
              "#7201a8"
             ],
             [
              0.3333333333333333,
              "#9c179e"
             ],
             [
              0.4444444444444444,
              "#bd3786"
             ],
             [
              0.5555555555555556,
              "#d8576b"
             ],
             [
              0.6666666666666666,
              "#ed7953"
             ],
             [
              0.7777777777777778,
              "#fb9f3a"
             ],
             [
              0.8888888888888888,
              "#fdca26"
             ],
             [
              1,
              "#f0f921"
             ]
            ],
            "type": "histogram2dcontour"
           }
          ],
          "mesh3d": [
           {
            "colorbar": {
             "outlinewidth": 0,
             "ticks": ""
            },
            "type": "mesh3d"
           }
          ],
          "parcoords": [
           {
            "line": {
             "colorbar": {
              "outlinewidth": 0,
              "ticks": ""
             }
            },
            "type": "parcoords"
           }
          ],
          "pie": [
           {
            "automargin": true,
            "type": "pie"
           }
          ],
          "scatter": [
           {
            "fillpattern": {
             "fillmode": "overlay",
             "size": 10,
             "solidity": 0.2
            },
            "type": "scatter"
           }
          ],
          "scatter3d": [
           {
            "line": {
             "colorbar": {
              "outlinewidth": 0,
              "ticks": ""
             }
            },
            "marker": {
             "colorbar": {
              "outlinewidth": 0,
              "ticks": ""
             }
            },
            "type": "scatter3d"
           }
          ],
          "scattercarpet": [
           {
            "marker": {
             "colorbar": {
              "outlinewidth": 0,
              "ticks": ""
             }
            },
            "type": "scattercarpet"
           }
          ],
          "scattergeo": [
           {
            "marker": {
             "colorbar": {
              "outlinewidth": 0,
              "ticks": ""
             }
            },
            "type": "scattergeo"
           }
          ],
          "scattergl": [
           {
            "marker": {
             "colorbar": {
              "outlinewidth": 0,
              "ticks": ""
             }
            },
            "type": "scattergl"
           }
          ],
          "scattermap": [
           {
            "marker": {
             "colorbar": {
              "outlinewidth": 0,
              "ticks": ""
             }
            },
            "type": "scattermap"
           }
          ],
          "scattermapbox": [
           {
            "marker": {
             "colorbar": {
              "outlinewidth": 0,
              "ticks": ""
             }
            },
            "type": "scattermapbox"
           }
          ],
          "scatterpolar": [
           {
            "marker": {
             "colorbar": {
              "outlinewidth": 0,
              "ticks": ""
             }
            },
            "type": "scatterpolar"
           }
          ],
          "scatterpolargl": [
           {
            "marker": {
             "colorbar": {
              "outlinewidth": 0,
              "ticks": ""
             }
            },
            "type": "scatterpolargl"
           }
          ],
          "scatterternary": [
           {
            "marker": {
             "colorbar": {
              "outlinewidth": 0,
              "ticks": ""
             }
            },
            "type": "scatterternary"
           }
          ],
          "surface": [
           {
            "colorbar": {
             "outlinewidth": 0,
             "ticks": ""
            },
            "colorscale": [
             [
              0,
              "#0d0887"
             ],
             [
              0.1111111111111111,
              "#46039f"
             ],
             [
              0.2222222222222222,
              "#7201a8"
             ],
             [
              0.3333333333333333,
              "#9c179e"
             ],
             [
              0.4444444444444444,
              "#bd3786"
             ],
             [
              0.5555555555555556,
              "#d8576b"
             ],
             [
              0.6666666666666666,
              "#ed7953"
             ],
             [
              0.7777777777777778,
              "#fb9f3a"
             ],
             [
              0.8888888888888888,
              "#fdca26"
             ],
             [
              1,
              "#f0f921"
             ]
            ],
            "type": "surface"
           }
          ],
          "table": [
           {
            "cells": {
             "fill": {
              "color": "#EBF0F8"
             },
             "line": {
              "color": "white"
             }
            },
            "header": {
             "fill": {
              "color": "#C8D4E3"
             },
             "line": {
              "color": "white"
             }
            },
            "type": "table"
           }
          ]
         },
         "layout": {
          "annotationdefaults": {
           "arrowcolor": "#2a3f5f",
           "arrowhead": 0,
           "arrowwidth": 1
          },
          "autotypenumbers": "strict",
          "coloraxis": {
           "colorbar": {
            "outlinewidth": 0,
            "ticks": ""
           }
          },
          "colorscale": {
           "diverging": [
            [
             0,
             "#8e0152"
            ],
            [
             0.1,
             "#c51b7d"
            ],
            [
             0.2,
             "#de77ae"
            ],
            [
             0.3,
             "#f1b6da"
            ],
            [
             0.4,
             "#fde0ef"
            ],
            [
             0.5,
             "#f7f7f7"
            ],
            [
             0.6,
             "#e6f5d0"
            ],
            [
             0.7,
             "#b8e186"
            ],
            [
             0.8,
             "#7fbc41"
            ],
            [
             0.9,
             "#4d9221"
            ],
            [
             1,
             "#276419"
            ]
           ],
           "sequential": [
            [
             0,
             "#0d0887"
            ],
            [
             0.1111111111111111,
             "#46039f"
            ],
            [
             0.2222222222222222,
             "#7201a8"
            ],
            [
             0.3333333333333333,
             "#9c179e"
            ],
            [
             0.4444444444444444,
             "#bd3786"
            ],
            [
             0.5555555555555556,
             "#d8576b"
            ],
            [
             0.6666666666666666,
             "#ed7953"
            ],
            [
             0.7777777777777778,
             "#fb9f3a"
            ],
            [
             0.8888888888888888,
             "#fdca26"
            ],
            [
             1,
             "#f0f921"
            ]
           ],
           "sequentialminus": [
            [
             0,
             "#0d0887"
            ],
            [
             0.1111111111111111,
             "#46039f"
            ],
            [
             0.2222222222222222,
             "#7201a8"
            ],
            [
             0.3333333333333333,
             "#9c179e"
            ],
            [
             0.4444444444444444,
             "#bd3786"
            ],
            [
             0.5555555555555556,
             "#d8576b"
            ],
            [
             0.6666666666666666,
             "#ed7953"
            ],
            [
             0.7777777777777778,
             "#fb9f3a"
            ],
            [
             0.8888888888888888,
             "#fdca26"
            ],
            [
             1,
             "#f0f921"
            ]
           ]
          },
          "colorway": [
           "#636efa",
           "#EF553B",
           "#00cc96",
           "#ab63fa",
           "#FFA15A",
           "#19d3f3",
           "#FF6692",
           "#B6E880",
           "#FF97FF",
           "#FECB52"
          ],
          "font": {
           "color": "#2a3f5f"
          },
          "geo": {
           "bgcolor": "white",
           "lakecolor": "white",
           "landcolor": "#E5ECF6",
           "showlakes": true,
           "showland": true,
           "subunitcolor": "white"
          },
          "hoverlabel": {
           "align": "left"
          },
          "hovermode": "closest",
          "mapbox": {
           "style": "light"
          },
          "paper_bgcolor": "white",
          "plot_bgcolor": "#E5ECF6",
          "polar": {
           "angularaxis": {
            "gridcolor": "white",
            "linecolor": "white",
            "ticks": ""
           },
           "bgcolor": "#E5ECF6",
           "radialaxis": {
            "gridcolor": "white",
            "linecolor": "white",
            "ticks": ""
           }
          },
          "scene": {
           "xaxis": {
            "backgroundcolor": "#E5ECF6",
            "gridcolor": "white",
            "gridwidth": 2,
            "linecolor": "white",
            "showbackground": true,
            "ticks": "",
            "zerolinecolor": "white"
           },
           "yaxis": {
            "backgroundcolor": "#E5ECF6",
            "gridcolor": "white",
            "gridwidth": 2,
            "linecolor": "white",
            "showbackground": true,
            "ticks": "",
            "zerolinecolor": "white"
           },
           "zaxis": {
            "backgroundcolor": "#E5ECF6",
            "gridcolor": "white",
            "gridwidth": 2,
            "linecolor": "white",
            "showbackground": true,
            "ticks": "",
            "zerolinecolor": "white"
           }
          },
          "shapedefaults": {
           "line": {
            "color": "#2a3f5f"
           }
          },
          "ternary": {
           "aaxis": {
            "gridcolor": "white",
            "linecolor": "white",
            "ticks": ""
           },
           "baxis": {
            "gridcolor": "white",
            "linecolor": "white",
            "ticks": ""
           },
           "bgcolor": "#E5ECF6",
           "caxis": {
            "gridcolor": "white",
            "linecolor": "white",
            "ticks": ""
           }
          },
          "title": {
           "x": 0.05
          },
          "xaxis": {
           "automargin": true,
           "gridcolor": "white",
           "linecolor": "white",
           "ticks": "",
           "title": {
            "standoff": 15
           },
           "zerolinecolor": "white",
           "zerolinewidth": 2
          },
          "yaxis": {
           "automargin": true,
           "gridcolor": "white",
           "linecolor": "white",
           "ticks": "",
           "title": {
            "standoff": 15
           },
           "zerolinecolor": "white",
           "zerolinewidth": 2
          }
         }
        },
        "title": {
         "text": "Distribution of Sugars"
        },
        "xaxis": {
         "anchor": "y",
         "domain": [
          0,
          1
         ],
         "title": {
          "text": "sugars_value"
         }
        },
        "yaxis": {
         "anchor": "x",
         "domain": [
          0,
          1
         ],
         "title": {
          "text": "count"
         }
        }
       }
      }
     },
     "metadata": {},
     "output_type": "display_data"
    }
   ],
   "source": [
    "import plotly.express as px\n",
    "\n",
    "fig = px.histogram(df, x='sugars_value', title='Distribution of Sugars')\n",
    "fig.update_layout(bargap=0.5)\n",
    "fig.show()"
   ]
  },
  {
   "cell_type": "markdown",
   "id": "47c50972",
   "metadata": {},
   "source": [
    "**Distribution of Sugars**\n",
    "- Sugars: The distribution of sugar content is also heavily skewed to the right, suggesting that a large number of products have low sugar values, while a smaller number have very high sugar content."
   ]
  },
  {
   "cell_type": "code",
   "execution_count": 23,
   "id": "5a0e2251",
   "metadata": {},
   "outputs": [
    {
     "data": {
      "application/vnd.plotly.v1+json": {
       "config": {
        "plotlyServerURL": "https://plot.ly"
       },
       "data": [
        {
         "bingroup": "x",
         "hovertemplate": "carbohydrates_value=%{x}<br>count=%{y}<extra></extra>",
         "legendgroup": "",
         "marker": {
          "color": "#636efa",
          "pattern": {
           "shape": ""
          }
         },
         "name": "",
         "orientation": "v",
         "showlegend": false,
         "type": "histogram",
         "x": {
          "bdata": "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",
          "dtype": "f8"
         },
         "xaxis": "x",
         "yaxis": "y"
        }
       ],
       "layout": {
        "bargap": 0.5,
        "barmode": "relative",
        "legend": {
         "tracegroupgap": 0
        },
        "template": {
         "data": {
          "bar": [
           {
            "error_x": {
             "color": "#2a3f5f"
            },
            "error_y": {
             "color": "#2a3f5f"
            },
            "marker": {
             "line": {
              "color": "#E5ECF6",
              "width": 0.5
             },
             "pattern": {
              "fillmode": "overlay",
              "size": 10,
              "solidity": 0.2
             }
            },
            "type": "bar"
           }
          ],
          "barpolar": [
           {
            "marker": {
             "line": {
              "color": "#E5ECF6",
              "width": 0.5
             },
             "pattern": {
              "fillmode": "overlay",
              "size": 10,
              "solidity": 0.2
             }
            },
            "type": "barpolar"
           }
          ],
          "carpet": [
           {
            "aaxis": {
             "endlinecolor": "#2a3f5f",
             "gridcolor": "white",
             "linecolor": "white",
             "minorgridcolor": "white",
             "startlinecolor": "#2a3f5f"
            },
            "baxis": {
             "endlinecolor": "#2a3f5f",
             "gridcolor": "white",
             "linecolor": "white",
             "minorgridcolor": "white",
             "startlinecolor": "#2a3f5f"
            },
            "type": "carpet"
           }
          ],
          "choropleth": [
           {
            "colorbar": {
             "outlinewidth": 0,
             "ticks": ""
            },
            "type": "choropleth"
           }
          ],
          "contour": [
           {
            "colorbar": {
             "outlinewidth": 0,
             "ticks": ""
            },
            "colorscale": [
             [
              0,
              "#0d0887"
             ],
             [
              0.1111111111111111,
              "#46039f"
             ],
             [
              0.2222222222222222,
              "#7201a8"
             ],
             [
              0.3333333333333333,
              "#9c179e"
             ],
             [
              0.4444444444444444,
              "#bd3786"
             ],
             [
              0.5555555555555556,
              "#d8576b"
             ],
             [
              0.6666666666666666,
              "#ed7953"
             ],
             [
              0.7777777777777778,
              "#fb9f3a"
             ],
             [
              0.8888888888888888,
              "#fdca26"
             ],
             [
              1,
              "#f0f921"
             ]
            ],
            "type": "contour"
           }
          ],
          "contourcarpet": [
           {
            "colorbar": {
             "outlinewidth": 0,
             "ticks": ""
            },
            "type": "contourcarpet"
           }
          ],
          "heatmap": [
           {
            "colorbar": {
             "outlinewidth": 0,
             "ticks": ""
            },
            "colorscale": [
             [
              0,
              "#0d0887"
             ],
             [
              0.1111111111111111,
              "#46039f"
             ],
             [
              0.2222222222222222,
              "#7201a8"
             ],
             [
              0.3333333333333333,
              "#9c179e"
             ],
             [
              0.4444444444444444,
              "#bd3786"
             ],
             [
              0.5555555555555556,
              "#d8576b"
             ],
             [
              0.6666666666666666,
              "#ed7953"
             ],
             [
              0.7777777777777778,
              "#fb9f3a"
             ],
             [
              0.8888888888888888,
              "#fdca26"
             ],
             [
              1,
              "#f0f921"
             ]
            ],
            "type": "heatmap"
           }
          ],
          "histogram": [
           {
            "marker": {
             "pattern": {
              "fillmode": "overlay",
              "size": 10,
              "solidity": 0.2
             }
            },
            "type": "histogram"
           }
          ],
          "histogram2d": [
           {
            "colorbar": {
             "outlinewidth": 0,
             "ticks": ""
            },
            "colorscale": [
             [
              0,
              "#0d0887"
             ],
             [
              0.1111111111111111,
              "#46039f"
             ],
             [
              0.2222222222222222,
              "#7201a8"
             ],
             [
              0.3333333333333333,
              "#9c179e"
             ],
             [
              0.4444444444444444,
              "#bd3786"
             ],
             [
              0.5555555555555556,
              "#d8576b"
             ],
             [
              0.6666666666666666,
              "#ed7953"
             ],
             [
              0.7777777777777778,
              "#fb9f3a"
             ],
             [
              0.8888888888888888,
              "#fdca26"
             ],
             [
              1,
              "#f0f921"
             ]
            ],
            "type": "histogram2d"
           }
          ],
          "histogram2dcontour": [
           {
            "colorbar": {
             "outlinewidth": 0,
             "ticks": ""
            },
            "colorscale": [
             [
              0,
              "#0d0887"
             ],
             [
              0.1111111111111111,
              "#46039f"
             ],
             [
              0.2222222222222222,
              "#7201a8"
             ],
             [
              0.3333333333333333,
              "#9c179e"
             ],
             [
              0.4444444444444444,
              "#bd3786"
             ],
             [
              0.5555555555555556,
              "#d8576b"
             ],
             [
              0.6666666666666666,
              "#ed7953"
             ],
             [
              0.7777777777777778,
              "#fb9f3a"
             ],
             [
              0.8888888888888888,
              "#fdca26"
             ],
             [
              1,
              "#f0f921"
             ]
            ],
            "type": "histogram2dcontour"
           }
          ],
          "mesh3d": [
           {
            "colorbar": {
             "outlinewidth": 0,
             "ticks": ""
            },
            "type": "mesh3d"
           }
          ],
          "parcoords": [
           {
            "line": {
             "colorbar": {
              "outlinewidth": 0,
              "ticks": ""
             }
            },
            "type": "parcoords"
           }
          ],
          "pie": [
           {
            "automargin": true,
            "type": "pie"
           }
          ],
          "scatter": [
           {
            "fillpattern": {
             "fillmode": "overlay",
             "size": 10,
             "solidity": 0.2
            },
            "type": "scatter"
           }
          ],
          "scatter3d": [
           {
            "line": {
             "colorbar": {
              "outlinewidth": 0,
              "ticks": ""
             }
            },
            "marker": {
             "colorbar": {
              "outlinewidth": 0,
              "ticks": ""
             }
            },
            "type": "scatter3d"
           }
          ],
          "scattercarpet": [
           {
            "marker": {
             "colorbar": {
              "outlinewidth": 0,
              "ticks": ""
             }
            },
            "type": "scattercarpet"
           }
          ],
          "scattergeo": [
           {
            "marker": {
             "colorbar": {
              "outlinewidth": 0,
              "ticks": ""
             }
            },
            "type": "scattergeo"
           }
          ],
          "scattergl": [
           {
            "marker": {
             "colorbar": {
              "outlinewidth": 0,
              "ticks": ""
             }
            },
            "type": "scattergl"
           }
          ],
          "scattermap": [
           {
            "marker": {
             "colorbar": {
              "outlinewidth": 0,
              "ticks": ""
             }
            },
            "type": "scattermap"
           }
          ],
          "scattermapbox": [
           {
            "marker": {
             "colorbar": {
              "outlinewidth": 0,
              "ticks": ""
             }
            },
            "type": "scattermapbox"
           }
          ],
          "scatterpolar": [
           {
            "marker": {
             "colorbar": {
              "outlinewidth": 0,
              "ticks": ""
             }
            },
            "type": "scatterpolar"
           }
          ],
          "scatterpolargl": [
           {
            "marker": {
             "colorbar": {
              "outlinewidth": 0,
              "ticks": ""
             }
            },
            "type": "scatterpolargl"
           }
          ],
          "scatterternary": [
           {
            "marker": {
             "colorbar": {
              "outlinewidth": 0,
              "ticks": ""
             }
            },
            "type": "scatterternary"
           }
          ],
          "surface": [
           {
            "colorbar": {
             "outlinewidth": 0,
             "ticks": ""
            },
            "colorscale": [
             [
              0,
              "#0d0887"
             ],
             [
              0.1111111111111111,
              "#46039f"
             ],
             [
              0.2222222222222222,
              "#7201a8"
             ],
             [
              0.3333333333333333,
              "#9c179e"
             ],
             [
              0.4444444444444444,
              "#bd3786"
             ],
             [
              0.5555555555555556,
              "#d8576b"
             ],
             [
              0.6666666666666666,
              "#ed7953"
             ],
             [
              0.7777777777777778,
              "#fb9f3a"
             ],
             [
              0.8888888888888888,
              "#fdca26"
             ],
             [
              1,
              "#f0f921"
             ]
            ],
            "type": "surface"
           }
          ],
          "table": [
           {
            "cells": {
             "fill": {
              "color": "#EBF0F8"
             },
             "line": {
              "color": "white"
             }
            },
            "header": {
             "fill": {
              "color": "#C8D4E3"
             },
             "line": {
              "color": "white"
             }
            },
            "type": "table"
           }
          ]
         },
         "layout": {
          "annotationdefaults": {
           "arrowcolor": "#2a3f5f",
           "arrowhead": 0,
           "arrowwidth": 1
          },
          "autotypenumbers": "strict",
          "coloraxis": {
           "colorbar": {
            "outlinewidth": 0,
            "ticks": ""
           }
          },
          "colorscale": {
           "diverging": [
            [
             0,
             "#8e0152"
            ],
            [
             0.1,
             "#c51b7d"
            ],
            [
             0.2,
             "#de77ae"
            ],
            [
             0.3,
             "#f1b6da"
            ],
            [
             0.4,
             "#fde0ef"
            ],
            [
             0.5,
             "#f7f7f7"
            ],
            [
             0.6,
             "#e6f5d0"
            ],
            [
             0.7,
             "#b8e186"
            ],
            [
             0.8,
             "#7fbc41"
            ],
            [
             0.9,
             "#4d9221"
            ],
            [
             1,
             "#276419"
            ]
           ],
           "sequential": [
            [
             0,
             "#0d0887"
            ],
            [
             0.1111111111111111,
             "#46039f"
            ],
            [
             0.2222222222222222,
             "#7201a8"
            ],
            [
             0.3333333333333333,
             "#9c179e"
            ],
            [
             0.4444444444444444,
             "#bd3786"
            ],
            [
             0.5555555555555556,
             "#d8576b"
            ],
            [
             0.6666666666666666,
             "#ed7953"
            ],
            [
             0.7777777777777778,
             "#fb9f3a"
            ],
            [
             0.8888888888888888,
             "#fdca26"
            ],
            [
             1,
             "#f0f921"
            ]
           ],
           "sequentialminus": [
            [
             0,
             "#0d0887"
            ],
            [
             0.1111111111111111,
             "#46039f"
            ],
            [
             0.2222222222222222,
             "#7201a8"
            ],
            [
             0.3333333333333333,
             "#9c179e"
            ],
            [
             0.4444444444444444,
             "#bd3786"
            ],
            [
             0.5555555555555556,
             "#d8576b"
            ],
            [
             0.6666666666666666,
             "#ed7953"
            ],
            [
             0.7777777777777778,
             "#fb9f3a"
            ],
            [
             0.8888888888888888,
             "#fdca26"
            ],
            [
             1,
             "#f0f921"
            ]
           ]
          },
          "colorway": [
           "#636efa",
           "#EF553B",
           "#00cc96",
           "#ab63fa",
           "#FFA15A",
           "#19d3f3",
           "#FF6692",
           "#B6E880",
           "#FF97FF",
           "#FECB52"
          ],
          "font": {
           "color": "#2a3f5f"
          },
          "geo": {
           "bgcolor": "white",
           "lakecolor": "white",
           "landcolor": "#E5ECF6",
           "showlakes": true,
           "showland": true,
           "subunitcolor": "white"
          },
          "hoverlabel": {
           "align": "left"
          },
          "hovermode": "closest",
          "mapbox": {
           "style": "light"
          },
          "paper_bgcolor": "white",
          "plot_bgcolor": "#E5ECF6",
          "polar": {
           "angularaxis": {
            "gridcolor": "white",
            "linecolor": "white",
            "ticks": ""
           },
           "bgcolor": "#E5ECF6",
           "radialaxis": {
            "gridcolor": "white",
            "linecolor": "white",
            "ticks": ""
           }
          },
          "scene": {
           "xaxis": {
            "backgroundcolor": "#E5ECF6",
            "gridcolor": "white",
            "gridwidth": 2,
            "linecolor": "white",
            "showbackground": true,
            "ticks": "",
            "zerolinecolor": "white"
           },
           "yaxis": {
            "backgroundcolor": "#E5ECF6",
            "gridcolor": "white",
            "gridwidth": 2,
            "linecolor": "white",
            "showbackground": true,
            "ticks": "",
            "zerolinecolor": "white"
           },
           "zaxis": {
            "backgroundcolor": "#E5ECF6",
            "gridcolor": "white",
            "gridwidth": 2,
            "linecolor": "white",
            "showbackground": true,
            "ticks": "",
            "zerolinecolor": "white"
           }
          },
          "shapedefaults": {
           "line": {
            "color": "#2a3f5f"
           }
          },
          "ternary": {
           "aaxis": {
            "gridcolor": "white",
            "linecolor": "white",
            "ticks": ""
           },
           "baxis": {
            "gridcolor": "white",
            "linecolor": "white",
            "ticks": ""
           },
           "bgcolor": "#E5ECF6",
           "caxis": {
            "gridcolor": "white",
            "linecolor": "white",
            "ticks": ""
           }
          },
          "title": {
           "x": 0.05
          },
          "xaxis": {
           "automargin": true,
           "gridcolor": "white",
           "linecolor": "white",
           "ticks": "",
           "title": {
            "standoff": 15
           },
           "zerolinecolor": "white",
           "zerolinewidth": 2
          },
          "yaxis": {
           "automargin": true,
           "gridcolor": "white",
           "linecolor": "white",
           "ticks": "",
           "title": {
            "standoff": 15
           },
           "zerolinecolor": "white",
           "zerolinewidth": 2
          }
         }
        },
        "title": {
         "text": "Distribution of Carbohydrates"
        },
        "xaxis": {
         "anchor": "y",
         "domain": [
          0,
          1
         ],
         "title": {
          "text": "carbohydrates_value"
         }
        },
        "yaxis": {
         "anchor": "x",
         "domain": [
          0,
          1
         ],
         "title": {
          "text": "count"
         }
        }
       }
      }
     },
     "metadata": {},
     "output_type": "display_data"
    }
   ],
   "source": [
    "import plotly.express as px\n",
    "\n",
    "fig = px.histogram(df, x='carbohydrates_value', title='Distribution of Carbohydrates')\n",
    "fig.update_layout(bargap=0.5)\n",
    "fig.show()"
   ]
  },
  {
   "cell_type": "markdown",
   "id": "96eeb026",
   "metadata": {},
   "source": [
    "**Distribution of Carbohydrates**\n",
    "- Carbohydrates: Similar to energy and sugars, the distribution of carbohydrates is right-skewed, indicating a concentration of products with lower carbohydrate values and fewer products with high carbohydrate content."
   ]
  },
  {
   "cell_type": "code",
   "execution_count": 24,
   "id": "e5035fea",
   "metadata": {},
   "outputs": [
    {
     "data": {
      "application/vnd.plotly.v1+json": {
       "config": {
        "plotlyServerURL": "https://plot.ly"
       },
       "data": [
        {
         "bingroup": "x",
         "hovertemplate": "nova-group=%{x}<br>count=%{y}<extra></extra>",
         "legendgroup": "",
         "marker": {
          "color": "#636efa",
          "pattern": {
           "shape": ""
          }
         },
         "name": "",
         "orientation": "v",
         "showlegend": false,
         "type": "histogram",
         "x": {
          "bdata": "AAAAAAAAEEAAAAAAAAAIQAAAAAAAABBAAAAAAAAA8D8AAAAAAAAQQAAAAAAAAAhAAAAAAAAA8D8AAAAAAAAIQAAAAAAAAPA/AAAAAAAAEEAAAAAAAADwPwAAAAAAABBAAAAAAAAAEEAAAAAAAAAQQAAAAAAAAPA/AAAAAAAAEEAAAAAAAADwPwAAAAAAABBAAAAAAAAACEAAAAAAAAAIQAAAAAAAABBAAAAAAAAAEEAAAAAAAAAQQAAAAAAAAABAAAAAAAAAEEAAAAAAAAAQQAAAAAAAAAhAAAAAAAAAEEAAAAAAAAAIQAAAAAAAABBAAAAAAAAACEAAAAAAAAAQQAAAAAAAABBAAAAAAAAACEAAAAAAAAAQQAAAAAAAABBAAAAAAAAA8D8AAAAAAAAQQAAAAAAAAAhAAAAAAAAACEAAAAAAAAAQQAAAAAAAAPA/AAAAAAAAAEAAAAAAAAAQQAAAAAAAABBAAAAAAAAAEEAAAAAAAAAQQAAAAAAAABBAAAAAAAAA8D8AAAAAAAAQQAAAAAAAABBAAAAAAAAA8D8AAAAAAAAQQAAAAAAAAPA/AAAAAAAACEAAAAAAAAAAQAAAAAAAABBAAAAAAAAACEAAAAAAAAAQQAAAAAAAABBAAAAAAAAAEEAAAAAAAAAQQAAAAAAAAPA/AAAAAAAA8D8AAAAAAAAQQAAAAAAAABBAAAAAAAAAEEAAAAAAAAAQQAAAAAAAAPA/AAAAAAAAEEAAAAAAAAAIQAAAAAAAAPA/AAAAAAAAEEAAAAAAAAAIQAAAAAAAAAhAAAAAAAAAAEAAAAAAAAAQQAAAAAAAABBAAAAAAAAACEAAAAAAAAAIQAAAAAAAAAhAAAAAAAAA8D8AAAAAAAAIQAAAAAAAAAhAAAAAAAAAEEAAAAAAAAAQQAAAAAAAABBAAAAAAAAAEEAAAAAAAAAQQAAAAAAAABBAAAAAAAAAEEAAAAAAAADwPwAAAAAAABBAAAAAAAAA8D8AAAAAAAAIQAAAAAAAAAhAAAAAAAAACEAAAAAAAAAQQAAAAAAAABBAAAAAAAAAEEAAAAAAAAAQQAAAAAAAAAhAAAAAAAAACEAAAAAAAAAQQAAAAAAAABBAAAAAAAAAEEAAAAAAAAAIQAAAAAAAABBAAAAAAAAAEEAAAAAAAAAQQAAAAAAAABBAAAAAAAAAEEAAAAAAAAAIQAAAAAAAABBAAAAAAAAAEEAAAAAAAAAQQAAAAAAAABBAAAAAAAAAEEAAAAAAAAAQQAAAAAAAABBAAAAAAAAAEEAAAAAAAAAQQAAAAAAAAPA/AAAAAAAAEEAAAAAAAAAQQAAAAAAAABBAAAAAAAAACEAAAAAAAAAQQAAAAAAAABBAAAAAAAAAEEAAAAAAAAAIQAAAAAAAAPA/AAAAAAAACEAAAAAAAAAIQAAAAAAAAAhAAAAAAAAAEEAAAAAAAAAQQAAAAAAAABBAAAAAAAAAEEAAAAAAAAAQQAAAAAAAAABAAAAAAAAACEAAAAAAAAAQQAAAAAAAAPA/AAAAAAAACEAAAAAAAADwPwAAAAAAABBAAAAAAAAAEEAAAAAAAAAQQAAAAAAAABBAAAAAAAAAEEAAAAAAAADwPwAAAAAAAAhAAAAAAAAA8D8AAAAAAADwPwAAAAAAAAhAAAAAAAAAEEAAAAAAAAAQQAAAAAAAABBAAAAAAAAAEEAAAAAAAAAQQAAAAAAAABBAAAAAAAAA8D8AAAAAAAAQQAAAAAAAABBAAAAAAAAAEEAAAAAAAAAQQAAAAAAAAAhAAAAAAAAAEEAAAAAAAAAIQAAAAAAAABBAAAAAAAAAEEAAAAAAAAAQQAAAAAAAABBAAAAAAAAA8D8AAAAAAAAQQAAAAAAAABBAAAAAAAAAEEAAAAAAAAAIQAAAAAAAABBAAAAAAAAACEAAAAAAAAAQQAAAAAAAAPA/AAAAAAAAEEAAAAAAAAAQQAAAAAAAABBAAAAAAAAAEEAAAAAAAAAQQAAAAAAAAPA/AAAAAAAA8D8AAAAAAAAIQAAAAAAAABBAAAAAAAAACEAAAAAAAAAQQAAAAAAAABBAAAAAAAAAEEAAAAAAAAAQQAAAAAAAABBAAAAAAAAA8D8AAAAAAAAIQAAAAAAAABBAAAAAAAAAEEAAAAAAAAAQQAAAAAAAAPA/AAAAAAAACEAAAAAAAAAQQAAAAAAAAPA/AAAAAAAACEAAAAAAAAAIQAAAAAAAABBAAAAAAAAAEEAAAAAAAAAQQAAAAAAAABBAAAAAAAAAEEAAAAAAAAAQQAAAAAAAABBAAAAAAAAAEEAAAAAAAAAIQAAAAAAAABBAAAAAAAAAEEAAAAAAAADwPwAAAAAAAABAAAAAAAAAEEAAAAAAAAAQQAAAAAAAABBAAAAAAAAAEEAAAAAAAAAQQAAAAAAAAAhAAAAAAAAAEEAAAAAAAAAQQAAAAAAAABBAAAAAAAAACEAAAAAAAAAQQAAAAAAAABBAAAAAAAAACEAAAAAAAADwPwAAAAAAAABAAAAAAAAA8D8AAAAAAAAQQAAAAAAAAPA/AAAAAAAACEAAAAAAAAAQQAAAAAAAABBAAAAAAAAAEEAAAAAAAAAIQAAAAAAAABBAAAAAAAAA8D8AAAAAAAAQQAAAAAAAABBAAAAAAAAAEEAAAAAAAAAIQAAAAAAAABBAAAAAAAAAEEAAAAAAAAAQQAAAAAAAABBAAAAAAAAACEAAAAAAAAAQQAAAAAAAABBAAAAAAAAAEEAAAAAAAAAQQAAAAAAAAPA/AAAAAAAACEAAAAAAAAAIQAAAAAAAABBAAAAAAAAACEAAAAAAAAAQQAAAAAAAAPA/AAAAAAAACEAAAAAAAAAQQAAAAAAAABBAAAAAAAAACEAAAAAAAADwPwAAAAAAAAhAAAAAAAAA8D8AAAAAAAAQQAAAAAAAABBAAAAAAAAAEEAAAAAAAADwPwAAAAAAABBAAAAAAAAAEEAAAAAAAAAQQAAAAAAAABBAAAAAAAAAEEAAAAAAAAAIQAAAAAAAABBAAAAAAAAAEEAAAAAAAAAQQAAAAAAAABBAAAAAAAAAEEAAAAAAAAAQQAAAAAAAABBAAAAAAAAACEAAAAAAAAAQQAAAAAAAAAhAAAAAAAAAEEAAAAAAAAAQQAAAAAAAAAhAAAAAAAAAEEAAAAAAAAAQQAAAAAAAABBAAAAAAAAAEEAAAAAAAAAQQAAAAAAAAPA/AAAAAAAAEEAAAAAAAAAIQAAAAAAAAPA/AAAAAAAA8D8AAAAAAAAQQAAAAAAAABBAAAAAAAAACEAAAAAAAAAIQAAAAAAAAAhAAAAAAAAAEEAAAAAAAAAQQAAAAAAAABBAAAAAAAAAEEAAAAAAAAAQQAAAAAAAABBAAAAAAAAA8D8AAAAAAAAIQAAAAAAAABBAAAAAAAAAEEAAAAAAAAAQQAAAAAAAAPA/AAAAAAAACEAAAAAAAADwPwAAAAAAABBAAAAAAAAAEEAAAAAAAAAQQAAAAAAAABBAAAAAAAAAEEAAAAAAAAAIQAAAAAAAABBAAAAAAAAACEAAAAAAAAAAQAAAAAAAABBAAAAAAAAAAEAAAAAAAAAQQAAAAAAAABBAAAAAAAAAEEAAAAAAAADwPwAAAAAAABBAAAAAAAAAEEAAAAAAAAAIQAAAAAAAAPA/AAAAAAAAEEAAAAAAAAAQQAAAAAAAAAhAAAAAAAAAEEAAAAAAAAAQQAAAAAAAABBAAAAAAAAAEEAAAAAAAAAQQAAAAAAAABBAAAAAAAAAEEAAAAAAAADwPwAAAAAAAAhAAAAAAAAAAEAAAAAAAAAQQAAAAAAAABBAAAAAAAAAEEAAAAAAAAAIQAAAAAAAAPA/AAAAAAAAEEAAAAAAAAAIQAAAAAAAAPA/AAAAAAAAAEAAAAAAAAAIQAAAAAAAAPA/AAAAAAAAEEAAAAAAAADwPwAAAAAAAAhAAAAAAAAAEEAAAAAAAAAQQAAAAAAAABBAAAAAAAAACEAAAAAAAAAIQAAAAAAAABBAAAAAAAAA8D8AAAAAAAAQQAAAAAAAABBAAAAAAAAAEEAAAAAAAAAQQAAAAAAAAAhAAAAAAAAAEEAAAAAAAAAQQAAAAAAAABBAAAAAAAAAEEAAAAAAAAAQQAAAAAAAABBAAAAAAAAACEAAAAAAAADwPwAAAAAAABBAAAAAAAAAEEAAAAAAAAAQQAAAAAAAABBAAAAAAAAAEEAAAAAAAAAQQAAAAAAAAAhAAAAAAAAAEEAAAAAAAAAQQAAAAAAAAAhAAAAAAAAAEEAAAAAAAAAQQAAAAAAAABBAAAAAAAAAEEAAAAAAAAAQQAAAAAAAABBAAAAAAAAAEEAAAAAAAAAQQAAAAAAAABBAAAAAAAAAEEAAAAAAAAAIQAAAAAAAABBAAAAAAAAAEEAAAAAAAAAIQAAAAAAAAPA/AAAAAAAAEEAAAAAAAADwPwAAAAAAAAhAAAAAAAAAEEAAAAAAAADwPwAAAAAAABBAAAAAAAAACEAAAAAAAAAQQAAAAAAAABBAAAAAAAAAEEAAAAAAAAAIQAAAAAAAABBAAAAAAAAA8D8AAAAAAAAQQAAAAAAAABBAAAAAAAAAEEAAAAAAAAAQQAAAAAAAAAhAAAAAAAAAEEAAAAAAAAAQQAAAAAAAABBAAAAAAAAA8D8AAAAAAAAQQAAAAAAAAAhAAAAAAAAACEAAAAAAAAAIQAAAAAAAAPA/AAAAAAAAEEAAAAAAAAAQQAAAAAAAAABAAAAAAAAAEEAAAAAAAAAQQAAAAAAAABBAAAAAAAAAEEAAAAAAAAAQQAAAAAAAABBAAAAAAAAAEEAAAAAAAAAQQAAAAAAAABBAAAAAAAAACEAAAAAAAAAIQAAAAAAAABBAAAAAAAAA8D8AAAAAAAAAQAAAAAAAABBAAAAAAAAAEEAAAAAAAADwPwAAAAAAABBAAAAAAAAAEEAAAAAAAAAQQAAAAAAAABBAAAAAAAAAEEAAAAAAAAAQQAAAAAAAABBAAAAAAAAAEEAAAAAAAAAQQAAAAAAAABBAAAAAAAAAEEAAAAAAAAAIQAAAAAAAAAhAAAAAAAAACEAAAAAAAAAQQAAAAAAAABBAAAAAAAAAEEAAAAAAAAAQQAAAAAAAABBAAAAAAAAAEEAAAAAAAADwPwAAAAAAABBAAAAAAAAAEEAAAAAAAAAQQAAAAAAAABBAAAAAAAAAEEAAAAAAAAAQQAAAAAAAAAhAAAAAAAAAEEAAAAAAAAAQQAAAAAAAABBAAAAAAAAAEEAAAAAAAAAIQAAAAAAAAAhAAAAAAAAAAEAAAAAAAAAQQAAAAAAAABBAAAAAAAAAEEAAAAAAAAAQQAAAAAAAABBAAAAAAAAAEEAAAAAAAAAAQAAAAAAAABBAAAAAAAAA8D8AAAAAAAAAQAAAAAAAAPA/AAAAAAAAEEAAAAAAAAAQQAAAAAAAABBAAAAAAAAAEEAAAAAAAADwPwAAAAAAABBAAAAAAAAAAEAAAAAAAAAIQAAAAAAAABBAAAAAAAAA8D8AAAAAAAAQQAAAAAAAAAhAAAAAAAAACEAAAAAAAADwPwAAAAAAABBAAAAAAAAAEEAAAAAAAAAQQAAAAAAAABBAAAAAAAAACEAAAAAAAAAQQAAAAAAAAAhAAAAAAAAACEAAAAAAAAAQQAAAAAAAABBAAAAAAAAAEEAAAAAAAAAAQAAAAAAAABBAAAAAAAAACEAAAAAAAAAQQAAAAAAAAABAAAAAAAAAEEAAAAAAAAAQQAAAAAAAABBAAAAAAAAAEEAAAAAAAAAQQAAAAAAAAAhAAAAAAAAAEEAAAAAAAAAAQAAAAAAAAAhAAAAAAAAAEEAAAAAAAAAIQAAAAAAAABBAAAAAAAAACEAAAAAAAAAIQAAAAAAAAAhAAAAAAAAAEEAAAAAAAAAQQAAAAAAAABBAAAAAAAAAEEAAAAAAAAAIQAAAAAAAABBAAAAAAAAAEEAAAAAAAAAIQAAAAAAAABBAAAAAAAAA8D8AAAAAAAAQQAAAAAAAAABAAAAAAAAAEEAAAAAAAAAIQAAAAAAAAAhAAAAAAAAACEAAAAAAAAAQQAAAAAAAAPA/AAAAAAAAEEAAAAAAAAAQQAAAAAAAAAhAAAAAAAAAEEAAAAAAAADwPwAAAAAAAAhAAAAAAAAAEEAAAAAAAAAQQAAAAAAAABBAAAAAAAAACEAAAAAAAAAQQAAAAAAAABBAAAAAAAAAEEAAAAAAAAAIQAAAAAAAAAhAAAAAAAAA8D8AAAAAAADwPwAAAAAAAAhAAAAAAAAAEEAAAAAAAADwPwAAAAAAAAhAAAAAAAAA8D8AAAAAAAAQQAAAAAAAABBAAAAAAAAAEEAAAAAAAAAQQAAAAAAAABBAAAAAAAAA8D8AAAAAAAAIQAAAAAAAAAhAAAAAAAAA8D8AAAAAAAAQQAAAAAAAABBAAAAAAAAACEAAAAAAAADwPwAAAAAAABBAAAAAAAAAEEAAAAAAAAAQQAAAAAAAAPA/AAAAAAAAEEAAAAAAAAAQQAAAAAAAAABAAAAAAAAAEEAAAAAAAAAQQAAAAAAAABBAAAAAAAAAEEAAAAAAAAAQQAAAAAAAABBAAAAAAAAAEEAAAAAAAADwPwAAAAAAAAhAAAAAAAAAEEAAAAAAAAAIQAAAAAAAABBAAAAAAAAACEAAAAAAAADwPwAAAAAAABBAAAAAAAAAEEAAAAAAAAAQQAAAAAAAAAhAAAAAAAAAEEAAAAAAAAAQQAAAAAAAAABAAAAAAAAAEEAAAAAAAAAIQAAAAAAAAPA/AAAAAAAACEAAAAAAAAAQQAAAAAAAABBAAAAAAAAAEEAAAAAAAAAAQAAAAAAAABBAAAAAAAAA8D8AAAAAAAAQQAAAAAAAABBAAAAAAAAA8D8AAAAAAAAQQAAAAAAAAAhAAAAAAAAAEEAAAAAAAAAQQAAAAAAAABBAAAAAAAAAEEAAAAAAAAAIQAAAAAAAABBAAAAAAAAACEAAAAAAAAAQQAAAAAAAAABAAAAAAAAACEAAAAAAAAAAQAAAAAAAAAhAAAAAAAAAEEAAAAAAAAAQQAAAAAAAABBAAAAAAAAAEEAAAAAAAAAQQAAAAAAAABBAAAAAAAAACEAAAAAAAAAAQAAAAAAAABBAAAAAAAAAEEAAAAAAAAAQQAAAAAAAAAhAAAAAAAAAEEAAAAAAAAAQQAAAAAAAAAhAAAAAAAAAEEAAAAAAAAAQQAAAAAAAAPA/AAAAAAAAEEAAAAAAAADwPwAAAAAAABBAAAAAAAAAEEAAAAAAAAAQQAAAAAAAABBAAAAAAAAAEEAAAAAAAAAIQAAAAAAAAPA/AAAAAAAAAEAAAAAAAAAQQAAAAAAAABBAAAAAAAAAEEAAAAAAAAAQQAAAAAAAABBAAAAAAAAAEEAAAAAAAAAIQAAAAAAAABBAAAAAAAAAEEAAAAAAAAAQQAAAAAAAABBAAAAAAAAA8D8AAAAAAAAQQAAAAAAAAAhAAAAAAAAACEAAAAAAAAAQQAAAAAAAAAhAAAAAAAAAEEAAAAAAAAAQQAAAAAAAABBAAAAAAAAACEAAAAAAAAAQQAAAAAAAABBAAAAAAAAAEEAAAAAAAAAQQAAAAAAAABBAAAAAAAAAEEAAAAAAAAAQQAAAAAAAABBAAAAAAAAACEAAAAAAAAAQQAAAAAAAABBAAAAAAAAAEEAAAAAAAAAQQAAAAAAAABBAAAAAAAAA8D8AAAAAAAAQQAAAAAAAAAhAAAAAAAAAEEAAAAAAAAAQQAAAAAAAABBAAAAAAAAAEEAAAAAAAAAQQAAAAAAAABBAAAAAAAAAEEAAAAAAAAAQQAAAAAAAABBAAAAAAAAACEAAAAAAAADwPwAAAAAAABBAAAAAAAAACEAAAAAAAAAQQAAAAAAAAAhAAAAAAAAAEEAAAAAAAAAQQAAAAAAAABBAAAAAAAAA8D8AAAAAAAAIQAAAAAAAAABAAAAAAAAAEEAAAAAAAAAQQAAAAAAAABBAAAAAAAAAEEAAAAAAAAAQQAAAAAAAAAhAAAAAAAAACEAAAAAAAADwPwAAAAAAABBAAAAAAAAA8D8AAAAAAAAQQAAAAAAAAPA/AAAAAAAAEEAAAAAAAAAQQAAAAAAAAPA/AAAAAAAAEEAAAAAAAAAIQAAAAAAAAPA/AAAAAAAACEAAAAAAAAAQQAAAAAAAAAhAAAAAAAAAEEAAAAAAAAAIQAAAAAAAAPA/AAAAAAAA8D8AAAAAAAAQQAAAAAAAABBAAAAAAAAAEEAAAAAAAAAQQAAAAAAAABBAAAAAAAAAEEAAAAAAAADwPwAAAAAAABBAAAAAAAAAEEAAAAAAAAAIQAAAAAAAABBAAAAAAAAAEEAAAAAAAAAQQAAAAAAAAAhAAAAAAAAAEEAAAAAAAAAQQAAAAAAAABBAAAAAAAAAEEAAAAAAAAAIQAAAAAAAAAhAAAAAAAAAEEAAAAAAAAAQQAAAAAAAABBAAAAAAAAA8D8AAAAAAAAQQAAAAAAAAAhAAAAAAAAAEEAAAAAAAAAIQAAAAAAAAAhAAAAAAAAA8D8AAAAAAAAQQAAAAAAAAPA/AAAAAAAACEAAAAAAAAAQQAAAAAAAABBAAAAAAAAAEEAAAAAAAAAQQAAAAAAAABBAAAAAAAAAEEAAAAAAAAAQQAAAAAAAABBAAAAAAAAAEEAAAAAAAAAQQAAAAAAAABBAAAAAAAAAEEAAAAAAAAAIQAAAAAAAABBAAAAAAAAAAEAAAAAAAAAIQAAAAAAAABBAAAAAAAAAEEAAAAAAAAAIQAAAAAAAAAhAAAAAAAAAEEAAAAAAAAAQQAAAAAAAAAhAAAAAAAAACEAAAAAAAAAIQAAAAAAAABBAAAAAAAAAEEAAAAAAAADwPwAAAAAAAAhAAAAAAAAACEAAAAAAAAAQQAAAAAAAABBAAAAAAAAAEEAAAAAAAAAQQAAAAAAAABBAAAAAAAAAEEAAAAAAAAAIQAAAAAAAAPA/AAAAAAAACEAAAAAAAAAQQAAAAAAAAABAAAAAAAAA8D8AAAAAAAAIQAAAAAAAABBAAAAAAAAAEEAAAAAAAADwPwAAAAAAABBAAAAAAAAAEEAAAAAAAAAAQAAAAAAAABBAAAAAAAAAEEAAAAAAAAAQQAAAAAAAAABAAAAAAAAAEEAAAAAAAAAIQAAAAAAAAAhAAAAAAAAAEEAAAAAAAAAQQAAAAAAAAPA/AAAAAAAA8D8AAAAAAAAQQAAAAAAAABBAAAAAAAAAEEAAAAAAAAAQQAAAAAAAAPA/AAAAAAAAEEAAAAAAAAAQQAAAAAAAABBAAAAAAAAACEAAAAAAAAAIQAAAAAAAABBAAAAAAAAACEAAAAAAAAAQQAAAAAAAAAhAAAAAAAAAEEAAAAAAAAAQQAAAAAAAABBAAAAAAAAAEEAAAAAAAAAQQAAAAAAAABBAAAAAAAAAEEAAAAAAAAAAQAAAAAAAABBAAAAAAAAAEEAAAAAAAAAIQAAAAAAAAAhAAAAAAAAAEEAAAAAAAAAQQAAAAAAAAAhAAAAAAAAAEEAAAAAAAAAAQAAAAAAAABBAAAAAAAAAEEAAAAAAAAAQQAAAAAAAAAhAAAAAAAAAEEAAAAAAAAAIQAAAAAAAABBAAAAAAAAAEEAAAAAAAAAQQAAAAAAAABBAAAAAAAAAEEAAAAAAAAAAQAAAAAAAAAhAAAAAAAAAEEAAAAAAAAAIQAAAAAAAABBAAAAAAAAAEEAAAAAAAAAQQAAAAAAAABBAAAAAAAAAEEAAAAAAAAAIQAAAAAAAABBAAAAAAAAAEEAAAAAAAAAQQAAAAAAAAPA/AAAAAAAAEEAAAAAAAAAIQAAAAAAAABBAAAAAAAAAEEAAAAAAAAAQQAAAAAAAAAhAAAAAAAAAEEAAAAAAAAAQQAAAAAAAAAhAAAAAAAAAEEAAAAAAAADwPwAAAAAAABBAAAAAAAAAEEAAAAAAAAAQQAAAAAAAAPA/AAAAAAAAAEAAAAAAAADwPwAAAAAAAAhAAAAAAAAAAEAAAAAAAAAIQAAAAAAAABBAAAAAAAAAEEAAAAAAAAAIQAAAAAAAAPA/AAAAAAAAEEAAAAAAAAAQQAAAAAAAAAhAAAAAAAAAAEAAAAAAAAAQQAAAAAAAAAhAAAAAAAAAEEAAAAAAAAAIQAAAAAAAABBAAAAAAAAA8D8AAAAAAAAQQAAAAAAAABBAAAAAAAAAEEAAAAAAAAAQQAAAAAAAABBAAAAAAAAACEAAAAAAAAAIQAAAAAAAAABAAAAAAAAACEAAAAAAAAAQQAAAAAAAABBAAAAAAAAAEEAAAAAAAADwPwAAAAAAAPA/AAAAAAAACEAAAAAAAAAIQAAAAAAAAAhAAAAAAAAAEEAAAAAAAAAQQAAAAAAAABBAAAAAAAAAEEAAAAAAAAAQQAAAAAAAABBAAAAAAAAAAEAAAAAAAAAAQAAAAAAAABBAAAAAAAAAEEAAAAAAAAAQQAAAAAAAABBAAAAAAAAAEEAAAAAAAAAIQAAAAAAAABBAAAAAAAAAEEAAAAAAAAAQQAAAAAAAABBAAAAAAAAAEEAAAAAAAAAQQAAAAAAAABBAAAAAAAAAEEAAAAAAAAAQQAAAAAAAABBAAAAAAAAACEAAAAAAAADwPwAAAAAAABBAAAAAAAAAAEAAAAAAAAAIQAAAAAAAABBAAAAAAAAA8D8AAAAAAAAIQAAAAAAAABBAAAAAAAAAEEAAAAAAAAAQQAAAAAAAABBAAAAAAAAAEEAAAAAAAAAQQAAAAAAAAAhAAAAAAAAAEEAAAAAAAAAQQAAAAAAAABBAAAAAAAAA8D8AAAAAAAAQQAAAAAAAABBAAAAAAAAAEEAAAAAAAAAQQAAAAAAAAAhAAAAAAAAAEEAAAAAAAAAQQAAAAAAAABBAAAAAAAAAEEAAAAAAAAAQQAAAAAAAABBAAAAAAAAAEEAAAAAAAAAAQAAAAAAAAAhAAAAAAAAA8D8AAAAAAAAIQAAAAAAAABBAAAAAAAAAEEAAAAAAAAAQQAAAAAAAABBAAAAAAAAAEEAAAAAAAAAQQAAAAAAAABBAAAAAAAAACEAAAAAAAAAQQAAAAAAAABBAAAAAAAAACEAAAAAAAAAQQAAAAAAAAAhAAAAAAAAAEEAAAAAAAAAQQAAAAAAAABBAAAAAAAAACEAAAAAAAADwPwAAAAAAABBAAAAAAAAAEEAAAAAAAADwPwAAAAAAAAhAAAAAAAAACEAAAAAAAAAIQAAAAAAAABBAAAAAAAAAEEAAAAAAAAAQQAAAAAAAABBAAAAAAAAAEEAAAAAAAAAQQAAAAAAAABBAAAAAAAAAEEAAAAAAAADwPwAAAAAAABBAAAAAAAAAEEAAAAAAAAAQQAAAAAAAABBAAAAAAAAACEAAAAAAAAAIQAAAAAAAAPA/AAAAAAAACEAAAAAAAADwPwAAAAAAABBAAAAAAAAAEEAAAAAAAAAIQAAAAAAAABBAAAAAAAAAEEAAAAAAAAAQQAAAAAAAAAhAAAAAAAAAEEAAAAAAAADwPwAAAAAAAPA/AAAAAAAAEEAAAAAAAAAQQAAAAAAAAPA/AAAAAAAACEAAAAAAAAAQQAAAAAAAAPA/AAAAAAAAEEAAAAAAAAAQQAAAAAAAAAhAAAAAAAAAAEAAAAAAAAAIQAAAAAAAAAhAAAAAAAAAEEAAAAAAAAAIQAAAAAAAABBAAAAAAAAACEAAAAAAAAAQQAAAAAAAABBAAAAAAAAACEAAAAAAAADwPwAAAAAAAPA/AAAAAAAAEEAAAAAAAAAQQAAAAAAAABBAAAAAAAAAAEAAAAAAAAAQQAAAAAAAABBAAAAAAAAAEEAAAAAAAAAQQAAAAAAAAAhAAAAAAAAAEEAAAAAAAAAIQAAAAAAAABBAAAAAAAAAEEAAAAAAAAAIQAAAAAAAAAhAAAAAAAAACEAAAAAAAAAQQAAAAAAAAABAAAAAAAAA8D8AAAAAAAAQQAAAAAAAABBAAAAAAAAAEEAAAAAAAAAQQAAAAAAAABBAAAAAAAAACEAAAAAAAAAIQAAAAAAAABBAAAAAAAAAAEAAAAAAAAAQQAAAAAAAAPA/AAAAAAAAEEAAAAAAAAAQQAAAAAAAAAhAAAAAAAAAAEAAAAAAAAAIQAAAAAAAAABAAAAAAAAAEEAAAAAAAAAQQAAAAAAAABBAAAAAAAAAEEAAAAAAAAAQQAAAAAAAABBAAAAAAAAAEEAAAAAAAAAQQAAAAAAAABBAAAAAAAAAEEAAAAAAAAAQQAAAAAAAABBAAAAAAAAAEEAAAAAAAAAQQAAAAAAAABBAAAAAAAAAEEAAAAAAAAAIQAAAAAAAAAhAAAAAAAAAEEAAAAAAAAAAQAAAAAAAAAhAAAAAAAAACEAAAAAAAAAQQAAAAAAAAAhAAAAAAAAAEEAAAAAAAAAIQAAAAAAAAAhAAAAAAAAAEEAAAAAAAAAIQAAAAAAAABBAAAAAAAAA8D8AAAAAAAAQQAAAAAAAAAhAAAAAAAAAEEAAAAAAAAAIQAAAAAAAAPA/AAAAAAAA8D8AAAAAAAAQQAAAAAAAABBAAAAAAAAAEEAAAAAAAAAQQAAAAAAAABBAAAAAAAAAAEAAAAAAAAAQQAAAAAAAABBAAAAAAAAAEEAAAAAAAAAIQAAAAAAAABBAAAAAAAAAEEAAAAAAAAAQQAAAAAAAABBAAAAAAAAAEEAAAAAAAADwPwAAAAAAABBAAAAAAAAAEEAAAAAAAAAIQAAAAAAAAAhAAAAAAAAAEEAAAAAAAAAIQAAAAAAAAAhAAAAAAAAA8D8AAAAAAAAIQAAAAAAAABBAAAAAAAAAEEAAAAAAAAAIQAAAAAAAABBAAAAAAAAAEEAAAAAAAAAIQAAAAAAAABBAAAAAAAAACEAAAAAAAAAQQAAAAAAAABBAAAAAAAAA8D8AAAAAAAAIQAAAAAAAABBAAAAAAAAAAEAAAAAAAAAIQAAAAAAAAPA/AAAAAAAACEAAAAAAAAAQQAAAAAAAABBAAAAAAAAAEEAAAAAAAAAQQAAAAAAAABBAAAAAAAAACEAAAAAAAADwPwAAAAAAABBAAAAAAAAAAEAAAAAAAAAQQAAAAAAAABBAAAAAAAAA8D8AAAAAAAAQQAAAAAAAABBAAAAAAAAAEEAAAAAAAAAQQAAAAAAAAPA/AAAAAAAA8D8AAAAAAAAQQAAAAAAAAAhAAAAAAAAACEAAAAAAAADwPwAAAAAAABBAAAAAAAAAEEAAAAAAAAAIQAAAAAAAABBAAAAAAAAACEAAAAAAAAAIQAAAAAAAABBAAAAAAAAACEAAAAAAAAAAQAAAAAAAABBAAAAAAAAACEAAAAAAAAAQQAAAAAAAAAhAAAAAAAAAEEAAAAAAAAAQQAAAAAAAABBAAAAAAAAAEEAAAAAAAAAQQAAAAAAAABBAAAAAAAAAEEAAAAAAAAAQQAAAAAAAABBAAAAAAAAAEEAAAAAAAAAAQAAAAAAAAAhAAAAAAAAACEAAAAAAAAAQQAAAAAAAABBAAAAAAAAAEEAAAAAAAAAIQAAAAAAAABBAAAAAAAAA8D8AAAAAAAAIQAAAAAAAAABAAAAAAAAAEEAAAAAAAAAIQAAAAAAAABBAAAAAAAAAEEAAAAAAAAAQQAAAAAAAABBAAAAAAAAAEEAAAAAAAAAQQAAAAAAAABBAAAAAAAAACEAAAAAAAAAIQAAAAAAAABBAAAAAAAAACEAAAAAAAAAIQAAAAAAAABBAAAAAAAAAEEAAAAAAAAAAQAAAAAAAABBAAAAAAAAAEEAAAAAAAAAIQAAAAAAAAPA/AAAAAAAAEEAAAAAAAAAIQAAAAAAAABBAAAAAAAAACEAAAAAAAAAQQAAAAAAAABBAAAAAAAAA8D8AAAAAAAAIQAAAAAAAAABAAAAAAAAAEEAAAAAAAAAQQAAAAAAAABBAAAAAAAAAAEAAAAAAAAAIQAAAAAAAABBAAAAAAAAAAEAAAAAAAAAQQAAAAAAAABBAAAAAAAAAEEAAAAAAAAAQQAAAAAAAAPA/AAAAAAAACEAAAAAAAAAIQAAAAAAAABBAAAAAAAAAEEAAAAAAAAAQQAAAAAAAABBAAAAAAAAAEEAAAAAAAAAQQAAAAAAAAABAAAAAAAAACEAAAAAAAAAIQAAAAAAAABBAAAAAAAAAEEAAAAAAAAAAQAAAAAAAAAhAAAAAAAAACEAAAAAAAAAIQAAAAAAAABBAAAAAAAAACEAAAAAAAAAQQAAAAAAAABBAAAAAAAAAEEAAAAAAAAAIQAAAAAAAAABAAAAAAAAAAEAAAAAAAAAAQAAAAAAAAAhAAAAAAAAAEEAAAAAAAAAQQAAAAAAAAABAAAAAAAAAEEAAAAAAAAAQQAAAAAAAABBAAAAAAAAAEEAAAAAAAAAQQAAAAAAAAAhAAAAAAAAAEEAAAAAAAAAIQAAAAAAAABBAAAAAAAAAEEAAAAAAAAAQQAAAAAAAAAhAAAAAAAAA8D8AAAAAAAAIQAAAAAAAAAhAAAAAAAAAEEAAAAAAAAAQQAAAAAAAABBAAAAAAAAACEAAAAAAAAAQQAAAAAAAAAhAAAAAAAAAEEAAAAAAAAAQQAAAAAAAAAhAAAAAAAAAEEAAAAAAAAAQQAAAAAAAABBAAAAAAAAAEEAAAAAAAAAQQAAAAAAAABBAAAAAAAAACEAAAAAAAAAIQAAAAAAAAAhAAAAAAAAA8D8AAAAAAAAQQAAAAAAAABBAAAAAAAAAEEAAAAAAAAAIQAAAAAAAABBAAAAAAAAA8D8AAAAAAAAQQAAAAAAAAAhAAAAAAAAAEEAAAAAAAADwPwAAAAAAABBAAAAAAAAAEEAAAAAAAAAQQAAAAAAAAAhAAAAAAAAAEEAAAAAAAAAIQAAAAAAAAPA/AAAAAAAAEEAAAAAAAAAIQAAAAAAAABBAAAAAAAAAEEAAAAAAAAAQQAAAAAAAABBAAAAAAAAACEAAAAAAAAAQQAAAAAAAABBAAAAAAAAAEEAAAAAAAAAQQAAAAAAAABBAAAAAAAAAEEAAAAAAAAAQQAAAAAAAABBAAAAAAAAACEAAAAAAAAAQQAAAAAAAABBAAAAAAAAACEAAAAAAAADwPwAAAAAAAAhAAAAAAAAAEEAAAAAAAAAQQAAAAAAAABBAAAAAAAAA8D8AAAAAAAAIQAAAAAAAAAhAAAAAAAAACEAAAAAAAAAQQAAAAAAAAPA/AAAAAAAACEAAAAAAAAAQQAAAAAAAABBAAAAAAAAACEAAAAAAAAAQQAAAAAAAABBAAAAAAAAA8D8AAAAAAAAQQAAAAAAAABBAAAAAAAAAEEAAAAAAAAAIQAAAAAAAABBAAAAAAAAAEEAAAAAAAAAQQAAAAAAAAAhAAAAAAAAAEEAAAAAAAAAQQAAAAAAAABBAAAAAAAAAEEAAAAAAAAAIQAAAAAAAABBAAAAAAAAAEEAAAAAAAAAAQAAAAAAAABBAAAAAAAAAEEAAAAAAAAAQQAAAAAAAABBAAAAAAAAACEAAAAAAAAAQQAAAAAAAAPA/AAAAAAAACEAAAAAAAAAIQAAAAAAAAAhAAAAAAAAAEEAAAAAAAADwPwAAAAAAABBAAAAAAAAAEEAAAAAAAAAQQAAAAAAAAAhAAAAAAAAACEAAAAAAAAAQQAAAAAAAAAhAAAAAAAAAEEAAAAAAAAAIQAAAAAAAABBAAAAAAAAA8D8AAAAAAADwPwAAAAAAABBAAAAAAAAAEEAAAAAAAAAQQAAAAAAAAAhAAAAAAAAAEEAAAAAAAAAIQAAAAAAAAAhAAAAAAAAAEEAAAAAAAAAQQAAAAAAAAPA/AAAAAAAAEEAAAAAAAAAIQAAAAAAAABBAAAAAAAAAEEAAAAAAAAAIQAAAAAAAABBAAAAAAAAAEEAAAAAAAAAQQAAAAAAAABBAAAAAAAAAEEAAAAAAAAAIQAAAAAAAABBAAAAAAAAAEEAAAAAAAAAQQAAAAAAAABBAAAAAAAAAEEAAAAAAAAAQQAAAAAAAAPA/AAAAAAAAEEAAAAAAAAAQQAAAAAAAABBAAAAAAAAACEAAAAAAAAAQQAAAAAAAABBAAAAAAAAAEEAAAAAAAAAQQAAAAAAAAAhAAAAAAAAAEEAAAAAAAAAIQAAAAAAAAAhAAAAAAAAA8D8AAAAAAAAQQAAAAAAAAAhAAAAAAAAAEEAAAAAAAAAIQAAAAAAAAAhAAAAAAAAAEEAAAAAAAAAIQAAAAAAAABBAAAAAAAAAEEAAAAAAAAAQQAAAAAAAABBAAAAAAAAACEAAAAAAAAAQQAAAAAAAABBAAAAAAAAACEAAAAAAAAAQQAAAAAAAABBAAAAAAAAAEEAAAAAAAADwPwAAAAAAABBAAAAAAAAAEEAAAAAAAAAQQAAAAAAAABBAAAAAAAAAEEAAAAAAAAAQQAAAAAAAABBAAAAAAAAAEEAAAAAAAAAQQAAAAAAAABBAAAAAAAAAEEAAAAAAAAAIQAAAAAAAAAhAAAAAAAAAEEAAAAAAAAAQQAAAAAAAAPA/AAAAAAAACEAAAAAAAAAQQAAAAAAAAAhAAAAAAAAAAEAAAAAAAAAQQAAAAAAAAPA/AAAAAAAACEAAAAAAAADwPwAAAAAAAAhAAAAAAAAAEEAAAAAAAAAQQAAAAAAAABBAAAAAAAAA8D8AAAAAAAAQQAAAAAAAABBAAAAAAAAACEAAAAAAAAAQQAAAAAAAAABAAAAAAAAAEEAAAAAAAAAQQAAAAAAAABBAAAAAAAAACEAAAAAAAAAIQAAAAAAAAAhAAAAAAAAACEAAAAAAAAAQQAAAAAAAAPA/AAAAAAAAEEAAAAAAAAAQQAAAAAAAABBAAAAAAAAAEEAAAAAAAAAQQAAAAAAAABBAAAAAAAAAEEAAAAAAAAAQQAAAAAAAABBAAAAAAAAAEEAAAAAAAAAQQAAAAAAAAAhAAAAAAAAACEAAAAAAAAAQQAAAAAAAABBAAAAAAAAA8D8AAAAAAAAIQAAAAAAAABBAAAAAAAAAEEAAAAAAAAAIQAAAAAAAABBAAAAAAAAAEEAAAAAAAAAIQAAAAAAAAABAAAAAAAAACEAAAAAAAAAQQAAAAAAAAAhAAAAAAAAAEEAAAAAAAAAQQAAAAAAAABBAAAAAAAAAEEAAAAAAAAAQQAAAAAAAABBAAAAAAAAACEAAAAAAAAAIQAAAAAAAABBAAAAAAAAAAEAAAAAAAAAIQAAAAAAAABBAAAAAAAAAEEAAAAAAAADwPwAAAAAAAPA/AAAAAAAAEEAAAAAAAAAQQAAAAAAAAPA/AAAAAAAAEEAAAAAAAAAQQAAAAAAAAAhAAAAAAAAAEEAAAAAAAAAAQAAAAAAAABBAAAAAAAAA8D8AAAAAAAAQQAAAAAAAAAhAAAAAAAAA8D8AAAAAAAAQQAAAAAAAABBAAAAAAAAAEEAAAAAAAAAQQAAAAAAAAAhAAAAAAAAAEEAAAAAAAAAQQAAAAAAAAAhAAAAAAAAAEEAAAAAAAAAQQAAAAAAAABBAAAAAAAAACEAAAAAAAAAQQAAAAAAAAABAAAAAAAAAAEAAAAAAAAAIQAAAAAAAABBAAAAAAAAAEEAAAAAAAAAQQAAAAAAAAAhAAAAAAAAAEEAAAAAAAADwPwAAAAAAABBAAAAAAAAAEEAAAAAAAAAQQAAAAAAAABBAAAAAAAAAEEAAAAAAAAAQQAAAAAAAABBAAAAAAAAACEAAAAAAAAAAQAAAAAAAABBAAAAAAAAAEEAAAAAAAAAQQAAAAAAAABBAAAAAAAAACEAAAAAAAAAIQAAAAAAAABBAAAAAAAAACEAAAAAAAAAQQAAAAAAAAPA/AAAAAAAAEEAAAAAAAAAQQAAAAAAAAAhAAAAAAAAA8D8AAAAAAAAQQAAAAAAAABBAAAAAAAAAEEAAAAAAAAAQQAAAAAAAABBAAAAAAAAACEAAAAAAAAAIQAAAAAAAAABAAAAAAAAAEEAAAAAAAAAIQAAAAAAAAAhAAAAAAAAAEEAAAAAAAAAIQAAAAAAAABBAAAAAAAAA8D8AAAAAAADwPwAAAAAAAPA/AAAAAAAACEAAAAAAAAAIQAAAAAAAAPA/AAAAAAAAEEAAAAAAAADwPwAAAAAAABBAAAAAAAAACEAAAAAAAAAIQAAAAAAAABBAAAAAAAAACEAAAAAAAAAIQAAAAAAAAAhAAAAAAAAACEAAAAAAAAAAQAAAAAAAAAhAAAAAAAAAEEAAAAAAAAAQQAAAAAAAAAhAAAAAAAAA8D8AAAAAAAAQQAAAAAAAABBAAAAAAAAAEEAAAAAAAAAQQAAAAAAAABBAAAAAAAAAEEAAAAAAAAAQQAAAAAAAABBAAAAAAAAAEEAAAAAAAAAQQAAAAAAAAAhAAAAAAAAAEEAAAAAAAAAIQAAAAAAAABBAAAAAAAAA8D8AAAAAAADwPwAAAAAAAAhAAAAAAAAACEAAAAAAAAAQQAAAAAAAABBAAAAAAAAACEAAAAAAAAAQQAAAAAAAABBAAAAAAAAACEAAAAAAAAAQQAAAAAAAABBAAAAAAAAAEEAAAAAAAAAIQAAAAAAAABBAAAAAAAAAEEAAAAAAAAAIQAAAAAAAAAhAAAAAAAAAEEAAAAAAAAAQQAAAAAAAABBAAAAAAAAAEEAAAAAAAAAQQAAAAAAAAAhAAAAAAAAAEEAAAAAAAADwPwAAAAAAABBAAAAAAAAAEEAAAAAAAAAIQAAAAAAAABBAAAAAAAAACEAAAAAAAAAQQAAAAAAAABBAAAAAAAAAEEAAAAAAAAAQQAAAAAAAABBAAAAAAAAAEEAAAAAAAAAQQAAAAAAAAPA/AAAAAAAAEEAAAAAAAAAIQAAAAAAAAAhAAAAAAAAAEEAAAAAAAAAQQAAAAAAAABBAAAAAAAAACEAAAAAAAAAIQAAAAAAAABBAAAAAAAAAEEAAAAAAAAAQQAAAAAAAAAhAAAAAAAAAEEAAAAAAAAAQQAAAAAAAAAhAAAAAAAAACEAAAAAAAAAQQAAAAAAAABBAAAAAAAAAEEAAAAAAAAAQQAAAAAAAABBAAAAAAAAACEAAAAAAAAAQQAAAAAAAABBAAAAAAAAACEAAAAAAAAAIQAAAAAAAABBAAAAAAAAAEEAAAAAAAAAQQAAAAAAAABBAAAAAAAAACEAAAAAAAAAIQAAAAAAAABBAAAAAAAAAEEAAAAAAAADwPwAAAAAAAPA/AAAAAAAAEEAAAAAAAAAIQAAAAAAAABBAAAAAAAAAEEAAAAAAAAAIQAAAAAAAABBAAAAAAAAACEAAAAAAAAAQQAAAAAAAABBAAAAAAAAACEAAAAAAAAAQQAAAAAAAABBAAAAAAAAAEEAAAAAAAAAQQAAAAAAAABBAAAAAAAAAEEAAAAAAAAAIQAAAAAAAABBAAAAAAAAAEEAAAAAAAAAQQAAAAAAAABBAAAAAAAAACEAAAAAAAAAIQAAAAAAAAPA/AAAAAAAACEAAAAAAAAAAQAAAAAAAABBAAAAAAAAAEEAAAAAAAAAQQAAAAAAAAAhAAAAAAAAAEEAAAAAAAADwPwAAAAAAAAhAAAAAAAAAEEAAAAAAAAAIQAAAAAAAABBAAAAAAAAAEEAAAAAAAAAQQAAAAAAAAPA/AAAAAAAAEEAAAAAAAAAQQAAAAAAAAAhAAAAAAAAAEEAAAAAAAAAQQAAAAAAAABBAAAAAAAAA8D8AAAAAAAAQQAAAAAAAABBAAAAAAAAAAEAAAAAAAAAQQAAAAAAAABBAAAAAAAAACEAAAAAAAAAQQAAAAAAAABBAAAAAAAAAEEAAAAAAAAAQQAAAAAAAAPA/AAAAAAAAEEAAAAAAAAAIQAAAAAAAAPA/AAAAAAAAEEAAAAAAAAAQQAAAAAAAAAhAAAAAAAAAEEAAAAAAAAAIQAAAAAAAABBAAAAAAAAAEEAAAAAAAAAIQAAAAAAAAAhAAAAAAAAAEEAAAAAAAAAQQAAAAAAAABBAAAAAAAAAEEAAAAAAAAAQQAAAAAAAAPA/AAAAAAAAEEAAAAAAAAAQQAAAAAAAABBAAAAAAAAAEEAAAAAAAAAQQAAAAAAAABBAAAAAAAAACEAAAAAAAAAQQAAAAAAAABBAAAAAAAAACEAAAAAAAAAQQAAAAAAAAPA/AAAAAAAAEEAAAAAAAAAQQAAAAAAAAPA/AAAAAAAAEEAAAAAAAAAQQAAAAAAAAPA/AAAAAAAACEAAAAAAAAAQQAAAAAAAAPA/AAAAAAAACEAAAAAAAAAQQAAAAAAAAAhAAAAAAAAAEEAAAAAAAAAIQAAAAAAAAAhAAAAAAAAACEAAAAAAAAAQQAAAAAAAABBAAAAAAAAAEEAAAAAAAAAQQAAAAAAAABBAAAAAAAAAEEAAAAAAAADwPwAAAAAAABBAAAAAAAAACEAAAAAAAAAQQAAAAAAAABBAAAAAAAAAEEAAAAAAAAAQQAAAAAAAABBAAAAAAAAA8D8AAAAAAAAAQAAAAAAAABBAAAAAAAAACEAAAAAAAAAQQAAAAAAAABBAAAAAAAAAEEAAAAAAAAAQQAAAAAAAAAhAAAAAAAAA8D8AAAAAAAAIQAAAAAAAABBAAAAAAAAAEEAAAAAAAAAAQAAAAAAAAABAAAAAAAAAEEAAAAAAAAAQQAAAAAAAABBAAAAAAAAA8D8AAAAAAAAQQAAAAAAAAAhAAAAAAAAAEEAAAAAAAAAQQAAAAAAAAAhAAAAAAAAAEEAAAAAAAAAIQAAAAAAAAPA/AAAAAAAAEEAAAAAAAAAQQAAAAAAAABBAAAAAAAAAEEAAAAAAAAAQQAAAAAAAABBAAAAAAAAAEEAAAAAAAAAQQAAAAAAAAPA/AAAAAAAAEEAAAAAAAAAIQAAAAAAAABBAAAAAAAAAEEAAAAAAAAAIQAAAAAAAAAhAAAAAAAAAEEAAAAAAAAAQQAAAAAAAABBAAAAAAAAAEEAAAAAAAAAIQAAAAAAAABBAAAAAAAAAEEAAAAAAAAAIQAAAAAAAABBAAAAAAAAAEEAAAAAAAAAQQAAAAAAAABBAAAAAAAAAEEAAAAAAAAAQQAAAAAAAAPA/AAAAAAAAEEAAAAAAAAAQQAAAAAAAABBAAAAAAAAACEAAAAAAAAAQQAAAAAAAAABAAAAAAAAAEEAAAAAAAAAQQAAAAAAAAAhAAAAAAAAAEEAAAAAAAAAQQAAAAAAAABBAAAAAAAAACEAAAAAAAAAIQAAAAAAAABBAAAAAAAAAEEAAAAAAAAAQQAAAAAAAABBAAAAAAAAAEEAAAAAAAAAQQAAAAAAAAAhAAAAAAAAAAEAAAAAAAAAQQAAAAAAAAAhAAAAAAAAAEEAAAAAAAAAQQAAAAAAAAAhAAAAAAAAAEEAAAAAAAAAIQAAAAAAAABBAAAAAAAAACEAAAAAAAAAQQAAAAAAAAPA/AAAAAAAAEEAAAAAAAAAIQAAAAAAAAAhAAAAAAAAAEEAAAAAAAAAQQAAAAAAAAAhAAAAAAAAAEEAAAAAAAAAIQAAAAAAAAABAAAAAAAAAEEAAAAAAAADwPwAAAAAAAPA/AAAAAAAA8D8AAAAAAAAQQAAAAAAAABBAAAAAAAAAEEAAAAAAAAAQQAAAAAAAAPA/AAAAAAAAEEAAAAAAAAAQQAAAAAAAABBAAAAAAAAACEAAAAAAAAAQQAAAAAAAABBAAAAAAAAAEEAAAAAAAAAIQAAAAAAAABBAAAAAAAAAEEAAAAAAAAAIQAAAAAAAABBAAAAAAAAACEAAAAAAAAAIQAAAAAAAAAhAAAAAAAAACEAAAAAAAAAQQAAAAAAAABBAAAAAAAAA8D8AAAAAAAAQQAAAAAAAABBAAAAAAAAACEAAAAAAAAAIQAAAAAAAABBAAAAAAAAAEEAAAAAAAAAQQAAAAAAAABBAAAAAAAAA8D8AAAAAAADwPwAAAAAAABBAAAAAAAAAEEAAAAAAAAAIQAAAAAAAABBAAAAAAAAA8D8AAAAAAADwPwAAAAAAABBAAAAAAAAAEEAAAAAAAAAQQAAAAAAAAAhAAAAAAAAACEAAAAAAAAAIQAAAAAAAABBAAAAAAAAAEEAAAAAAAAAQQAAAAAAAAAhAAAAAAAAAEEAAAAAAAAAQQAAAAAAAABBAAAAAAAAA8D8AAAAAAAAQQAAAAAAAABBAAAAAAAAAEEAAAAAAAAAQQAAAAAAAAPA/AAAAAAAAEEAAAAAAAAAQQAAAAAAAABBAAAAAAAAAEEAAAAAAAAAIQAAAAAAAABBAAAAAAAAAEEAAAAAAAAAQQAAAAAAAAAhAAAAAAAAACEAAAAAAAAAQQAAAAAAAABBAAAAAAAAAEEAAAAAAAAAAQAAAAAAAAAhAAAAAAAAACEAAAAAAAAAQQAAAAAAAAABAAAAAAAAAAEAAAAAAAAAIQAAAAAAAABBAAAAAAAAAAEAAAAAAAAAQQAAAAAAAABBAAAAAAAAACEAAAAAAAAAQQAAAAAAAABBAAAAAAAAAEEAAAAAAAAAQQAAAAAAAABBAAAAAAAAAEEAAAAAAAAAQQAAAAAAAABBAAAAAAAAAEEAAAAAAAAAQQAAAAAAAAAhAAAAAAAAA8D8AAAAAAAAAQAAAAAAAABBAAAAAAAAAEEAAAAAAAAAQQAAAAAAAAPA/AAAAAAAAEEAAAAAAAAAQQAAAAAAAAAhAAAAAAAAAEEAAAAAAAAAQQAAAAAAAABBAAAAAAAAAEEAAAAAAAAAQQAAAAAAAABBAAAAAAAAAEEAAAAAAAAAIQAAAAAAAABBAAAAAAAAAEEAAAAAAAAAQQAAAAAAAABBAAAAAAAAAEEAAAAAAAAAQQAAAAAAAABBAAAAAAAAAEEAAAAAAAAAQQAAAAAAAAPA/AAAAAAAAEEAAAAAAAAAQQAAAAAAAABBAAAAAAAAACEAAAAAAAAAQQAAAAAAAAAhAAAAAAAAACEAAAAAAAAAIQAAAAAAAAABAAAAAAAAACEAAAAAAAAAQQAAAAAAAAAhAAAAAAAAACEAAAAAAAAAAQAAAAAAAABBAAAAAAAAAEEAAAAAAAAAQQAAAAAAAABBAAAAAAAAAEEAAAAAAAAAIQAAAAAAAABBAAAAAAAAAEEAAAAAAAAAQQAAAAAAAAAhAAAAAAAAAEEAAAAAAAAAQQAAAAAAAABBAAAAAAAAAEEAAAAAAAAAQQAAAAAAAABBAAAAAAAAACEAAAAAAAAAIQAAAAAAAABBAAAAAAAAAEEAAAAAAAAAQQAAAAAAAABBAAAAAAAAAEEAAAAAAAAAQQAAAAAAAAPA/AAAAAAAACEAAAAAAAAAQQAAAAAAAABBAAAAAAAAA8D8AAAAAAADwPwAAAAAAABBAAAAAAAAAEEAAAAAAAAAQQAAAAAAAAPA/AAAAAAAACEAAAAAAAAAQQAAAAAAAAAhAAAAAAAAAEEAAAAAAAADwPwAAAAAAAPA/AAAAAAAACEAAAAAAAAAQQAAAAAAAAAhAAAAAAAAAEEAAAAAAAADwPwAAAAAAAAhAAAAAAAAACEAAAAAAAAAQQAAAAAAAABBAAAAAAAAA8D8AAAAAAAAQQAAAAAAAABBAAAAAAAAA8D8AAAAAAADwPwAAAAAAAPA/AAAAAAAA8D8AAAAAAAAIQAAAAAAAAAhAAAAAAAAAEEAAAAAAAAAQQAAAAAAAABBAAAAAAAAACEAAAAAAAAAAQAAAAAAAAABAAAAAAAAAEEAAAAAAAAAAQAAAAAAAABBAAAAAAAAACEAAAAAAAAAQQAAAAAAAABBAAAAAAAAA8D8AAAAAAAAQQAAAAAAAAAhAAAAAAAAAEEAAAAAAAAAIQAAAAAAAABBAAAAAAAAAEEAAAAAAAAAQQAAAAAAAABBAAAAAAAAAEEAAAAAAAAAQQAAAAAAAABBAAAAAAAAAEEAAAAAAAAAQQAAAAAAAABBAAAAAAAAAEEAAAAAAAAAQQAAAAAAAABBAAAAAAAAAAEAAAAAAAAAIQAAAAAAAABBAAAAAAAAAEEAAAAAAAAAQQAAAAAAAAAhAAAAAAAAACEAAAAAAAAAQQAAAAAAAAAhAAAAAAAAAEEAAAAAAAAAQQAAAAAAAAAhAAAAAAAAACEAAAAAAAAAQQAAAAAAAABBAAAAAAAAAAEAAAAAAAAAQQAAAAAAAAAhAAAAAAAAAEEAAAAAAAAAQQAAAAAAAAAhAAAAAAAAAAEAAAAAAAAAQQAAAAAAAAAhAAAAAAAAACEAAAAAAAAAQQAAAAAAAAPA/AAAAAAAACEAAAAAAAAAQQAAAAAAAABBAAAAAAAAA8D8AAAAAAAAQQAAAAAAAABBAAAAAAAAAEEAAAAAAAAAIQAAAAAAAAPA/AAAAAAAA8D8AAAAAAAAIQAAAAAAAABBAAAAAAAAAEEAAAAAAAAAQQAAAAAAAABBAAAAAAAAACEAAAAAAAAAQQAAAAAAAABBAAAAAAAAAEEAAAAAAAAAQQAAAAAAAABBAAAAAAAAACEAAAAAAAAAQQAAAAAAAABBAAAAAAAAAEEAAAAAAAAAQQAAAAAAAABBAAAAAAAAAEEAAAAAAAAAQQAAAAAAAAAhAAAAAAAAACEAAAAAAAAAIQAAAAAAAABBAAAAAAAAAEEAAAAAAAAAQQAAAAAAAABBAAAAAAAAAAEAAAAAAAAAQQAAAAAAAAAhAAAAAAAAAEEAAAAAAAAAAQAAAAAAAABBAAAAAAAAA8D8AAAAAAAAQQAAAAAAAAPA/AAAAAAAAEEAAAAAAAAAQQAAAAAAAABBAAAAAAAAAEEAAAAAAAADwPwAAAAAAABBAAAAAAAAAEEAAAAAAAAAIQAAAAAAAAABAAAAAAAAAEEAAAAAAAAAIQAAAAAAAAPA/AAAAAAAACEAAAAAAAAAIQAAAAAAAABBAAAAAAAAAEEAAAAAAAAAQQAAAAAAAABBAAAAAAAAAEEAAAAAAAAAQQAAAAAAAABBAAAAAAAAA8D8AAAAAAAAIQAAAAAAAABBAAAAAAAAACEAAAAAAAAAIQAAAAAAAABBAAAAAAAAACEAAAAAAAAAQQAAAAAAAAABAAAAAAAAAEEAAAAAAAAAQQAAAAAAAABBAAAAAAAAACEAAAAAAAAAQQAAAAAAAABBAAAAAAAAAAEAAAAAAAAAQQAAAAAAAABBAAAAAAAAAEEAAAAAAAAAIQAAAAAAAABBAAAAAAAAAEEAAAAAAAAAIQAAAAAAAABBAAAAAAAAAEEAAAAAAAAAQQAAAAAAAAABAAAAAAAAA8D8AAAAAAAAIQAAAAAAAABBAAAAAAAAA8D8AAAAAAAAQQAAAAAAAAAhAAAAAAAAACEAAAAAAAAAQQAAAAAAAAPA/AAAAAAAAEEAAAAAAAAAQQAAAAAAAABBAAAAAAAAAEEAAAAAAAAAQQAAAAAAAAPA/AAAAAAAAAEAAAAAAAAAQQAAAAAAAAAhAAAAAAAAAAEAAAAAAAAAQQAAAAAAAAABAAAAAAAAAEEAAAAAAAAAIQAAAAAAAAAhAAAAAAAAA8D8AAAAAAADwPwAAAAAAABBAAAAAAAAAEEAAAAAAAAAIQAAAAAAAABBAAAAAAAAAEEAAAAAAAAAQQAAAAAAAABBAAAAAAAAA8D8AAAAAAAAIQAAAAAAAABBAAAAAAAAAAEAAAAAAAAAQQAAAAAAAABBAAAAAAAAAEEAAAAAAAAAQQAAAAAAAAPA/AAAAAAAAEEAAAAAAAAAQQAAAAAAAABBAAAAAAAAACEAAAAAAAAAQQAAAAAAAABBAAAAAAAAACEAAAAAAAAAIQAAAAAAAABBAAAAAAAAAEEAAAAAAAAAQQAAAAAAAAPA/AAAAAAAAEEAAAAAAAAAQQAAAAAAAABBAAAAAAAAAAEAAAAAAAAAIQAAAAAAAABBAAAAAAAAA8D8AAAAAAAAQQAAAAAAAABBAAAAAAAAAEEAAAAAAAAAIQAAAAAAAABBAAAAAAAAACEAAAAAAAAAQQAAAAAAAAPA/AAAAAAAAEEAAAAAAAAAQQAAAAAAAAPA/AAAAAAAAEEAAAAAAAAAQQAAAAAAAAAhAAAAAAAAACEAAAAAAAAAAQAAAAAAAABBAAAAAAAAAEEAAAAAAAAAIQAAAAAAAAPA/AAAAAAAACEAAAAAAAADwPwAAAAAAABBAAAAAAAAACEAAAAAAAAAIQAAAAAAAABBAAAAAAAAAEEAAAAAAAAAQQAAAAAAAABBAAAAAAAAAEEAAAAAAAAAIQAAAAAAAABBAAAAAAAAAEEAAAAAAAAAQQAAAAAAAAAhAAAAAAAAAEEAAAAAAAAAQQAAAAAAAABBAAAAAAAAACEAAAAAAAAAQQAAAAAAAAAhAAAAAAAAAEEAAAAAAAAAIQAAAAAAAABBAAAAAAAAAEEAAAAAAAAAQQAAAAAAAAAhAAAAAAAAAEEAAAAAAAAAQQAAAAAAAAPA/AAAAAAAACEAAAAAAAAAQQAAAAAAAABBAAAAAAAAAEEAAAAAAAAAQQAAAAAAAABBAAAAAAAAAEEAAAAAAAADwPwAAAAAAAAhAAAAAAAAAEEAAAAAAAAAIQAAAAAAAAABAAAAAAAAACEAAAAAAAAAQQAAAAAAAABBAAAAAAAAAEEAAAAAAAAAQQAAAAAAAABBAAAAAAAAACEAAAAAAAAAQQAAAAAAAAPA/AAAAAAAA8D8AAAAAAAAQQAAAAAAAABBAAAAAAAAAEEAAAAAAAAAQQAAAAAAAABBAAAAAAAAAEEAAAAAAAAAQQAAAAAAAAABAAAAAAAAAEEAAAAAAAAAQQAAAAAAAABBAAAAAAAAAEEAAAAAAAAAQQAAAAAAAABBAAAAAAAAACEAAAAAAAAAQQAAAAAAAAABAAAAAAAAA8D8AAAAAAAAQQAAAAAAAAABAAAAAAAAAEEAAAAAAAAAQQAAAAAAAAAhAAAAAAAAACEAAAAAAAAAQQAAAAAAAABBAAAAAAAAAEEAAAAAAAAAIQAAAAAAAAABAAAAAAAAAEEAAAAAAAAAIQAAAAAAAAAhAAAAAAAAACEAAAAAAAAAIQAAAAAAAAABAAAAAAAAACEAAAAAAAAAAQAAAAAAAABBAAAAAAAAAEEAAAAAAAADwPwAAAAAAAABAAAAAAAAAEEAAAAAAAAAQQAAAAAAAAAhAAAAAAAAAEEAAAAAAAAAQQAAAAAAAABBAAAAAAAAAEEAAAAAAAAAQQAAAAAAAAAhAAAAAAAAAEEAAAAAAAAAQQAAAAAAAABBAAAAAAAAAEEAAAAAAAAAQQAAAAAAAABBAAAAAAAAAEEAAAAAAAADwPwAAAAAAAAhAAAAAAAAACEAAAAAAAADwPwAAAAAAAPA/AAAAAAAAAEAAAAAAAAAQQAAAAAAAABBAAAAAAAAACEAAAAAAAAAQQAAAAAAAABBAAAAAAAAACEAAAAAAAAAIQAAAAAAAABBAAAAAAAAAEEAAAAAAAAAIQAAAAAAAAAhAAAAAAAAAEEAAAAAAAAAQQAAAAAAAAAhAAAAAAAAAEEAAAAAAAAAQQAAAAAAAABBAAAAAAAAAEEAAAAAAAADwPwAAAAAAABBAAAAAAAAACEAAAAAAAAAQQAAAAAAAAAhAAAAAAAAA8D8AAAAAAAAQQAAAAAAAABBAAAAAAAAA8D8AAAAAAAAAQAAAAAAAAAhAAAAAAAAACEAAAAAAAAAQQAAAAAAAAAhAAAAAAAAAEEAAAAAAAAAQQAAAAAAAAAhAAAAAAAAACEAAAAAAAAAQQAAAAAAAABBAAAAAAAAAEEAAAAAAAADwPwAAAAAAABBAAAAAAAAACEAAAAAAAAAQQAAAAAAAABBAAAAAAAAAEEAAAAAAAAAIQAAAAAAAABBAAAAAAAAAEEAAAAAAAAAQQAAAAAAAAPA/AAAAAAAACEAAAAAAAAAQQAAAAAAAABBAAAAAAAAAEEAAAAAAAAAQQAAAAAAAAAhAAAAAAAAAEEAAAAAAAAAQQAAAAAAAAAhAAAAAAAAACEAAAAAAAADwPwAAAAAAABBAAAAAAAAAEEAAAAAAAAAQQAAAAAAAABBAAAAAAAAACEAAAAAAAAAQQAAAAAAAAAhAAAAAAAAACEAAAAAAAAAQQAAAAAAAABBAAAAAAAAAEEAAAAAAAADwPwAAAAAAAAhAAAAAAAAAEEAAAAAAAAAQQAAAAAAAAAhAAAAAAAAACEAAAAAAAAAQQAAAAAAAABBAAAAAAAAAAEAAAAAAAAAIQAAAAAAAABBAAAAAAAAAEEAAAAAAAAAQQAAAAAAAABBAAAAAAAAAEEAAAAAAAAAQQAAAAAAAAAhAAAAAAAAAEEAAAAAAAAAQQAAAAAAAAAhAAAAAAAAACEAAAAAAAAAQQAAAAAAAABBAAAAAAAAAEEAAAAAAAAAQQAAAAAAAABBAAAAAAAAACEAAAAAAAAAQQAAAAAAAAPA/AAAAAAAAEEAAAAAAAAAQQAAAAAAAABBAAAAAAAAAAEAAAAAAAADwPwAAAAAAAAhAAAAAAAAAEEAAAAAAAAAQQAAAAAAAABBAAAAAAAAA8D8AAAAAAAAQQAAAAAAAAPA/AAAAAAAA8D8AAAAAAAAQQAAAAAAAABBAAAAAAAAAEEAAAAAAAAAQQAAAAAAAAAhAAAAAAAAAAEAAAAAAAAAQQAAAAAAAAAhAAAAAAAAAEEAAAAAAAAAQQAAAAAAAABBAAAAAAAAAEEAAAAAAAAAQQAAAAAAAABBAAAAAAAAAAEAAAAAAAAAQQAAAAAAAABBAAAAAAAAAEEAAAAAAAAAQQAAAAAAAABBAAAAAAAAA8D8AAAAAAADwPwAAAAAAABBAAAAAAAAAEEAAAAAAAAAQQAAAAAAAAABAAAAAAAAACEAAAAAAAAAQQAAAAAAAABBAAAAAAAAAEEAAAAAAAADwPwAAAAAAABBAAAAAAAAAEEAAAAAAAAAQQAAAAAAAAPA/AAAAAAAAEEAAAAAAAADwPwAAAAAAABBAAAAAAAAAEEAAAAAAAAAQQAAAAAAAAABAAAAAAAAAEEAAAAAAAAAQQAAAAAAAAAhAAAAAAAAACEAAAAAAAAAIQAAAAAAAABBAAAAAAAAAEEAAAAAAAADwPwAAAAAAAPA/AAAAAAAAEEAAAAAAAAAQQAAAAAAAAAhAAAAAAAAAEEAAAAAAAAAQQAAAAAAAAPA/AAAAAAAACEAAAAAAAAAAQAAAAAAAAAhAAAAAAAAACEAAAAAAAAAIQAAAAAAAAAhAAAAAAAAAEEAAAAAAAAAQQAAAAAAAAAhAAAAAAAAAEEAAAAAAAAAAQAAAAAAAABBAAAAAAAAAEEAAAAAAAAAIQAAAAAAAAPA/AAAAAAAAEEAAAAAAAADwPwAAAAAAABBAAAAAAAAACEAAAAAAAAAAQAAAAAAAABBAAAAAAAAAEEAAAAAAAADwPwAAAAAAAPA/AAAAAAAAEEAAAAAAAAAAQAAAAAAAABBAAAAAAAAACEAAAAAAAAAIQAAAAAAAABBAAAAAAAAACEAAAAAAAAAAQAAAAAAAABBAAAAAAAAAEEAAAAAAAAAQQAAAAAAAABBAAAAAAAAAEEAAAAAAAAAIQAAAAAAAAAhAAAAAAAAAEEAAAAAAAAAIQAAAAAAAABBAAAAAAAAACEAAAAAAAAAQQAAAAAAAABBAAAAAAAAACEAAAAAAAAAQQAAAAAAAAAhAAAAAAAAA8D8AAAAAAAAQQAAAAAAAAAhAAAAAAAAAEEAAAAAAAAAQQAAAAAAAABBAAAAAAAAAEEAAAAAAAAAQQAAAAAAAABBAAAAAAAAA8D8AAAAAAAAQQAAAAAAAABBAAAAAAAAAEEAAAAAAAAAQQAAAAAAAABBAAAAAAAAAEEAAAAAAAAAQQAAAAAAAABBAAAAAAAAA8D8AAAAAAAAIQAAAAAAAAAhAAAAAAAAAEEAAAAAAAAAIQAAAAAAAABBAAAAAAAAAEEAAAAAAAAAQQAAAAAAAAAhAAAAAAAAACEAAAAAAAAAIQAAAAAAAABBAAAAAAAAA8D8AAAAAAAAQQAAAAAAAABBAAAAAAAAAEEAAAAAAAAAQQAAAAAAAAAhAAAAAAAAAEEAAAAAAAAAIQAAAAAAAAPA/AAAAAAAAEEAAAAAAAAAIQAAAAAAAAPA/AAAAAAAAEEAAAAAAAAAIQAAAAAAAABBAAAAAAAAACEAAAAAAAAAQQAAAAAAAABBAAAAAAAAAEEAAAAAAAAAQQAAAAAAAABBAAAAAAAAAEEAAAAAAAAAIQAAAAAAAABBAAAAAAAAAAEAAAAAAAAAAQAAAAAAAABBAAAAAAAAAEEAAAAAAAAAIQAAAAAAAABBAAAAAAAAACEAAAAAAAAAQQAAAAAAAAAhAAAAAAAAAEEAAAAAAAAAQQAAAAAAAAABAAAAAAAAACEAAAAAAAAAQQAAAAAAAABBAAAAAAAAAEEAAAAAAAAAQQAAAAAAAABBAAAAAAAAACEAAAAAAAADwPwAAAAAAABBAAAAAAAAACEAAAAAAAAAQQAAAAAAAAPA/AAAAAAAACEAAAAAAAAAQQAAAAAAAAPA/AAAAAAAAEEAAAAAAAAAQQAAAAAAAAPA/AAAAAAAACEAAAAAAAAAIQAAAAAAAAAhAAAAAAAAACEAAAAAAAAAQQAAAAAAAABBAAAAAAAAAEEAAAAAAAAAQQAAAAAAAABBAAAAAAAAAAEAAAAAAAADwPwAAAAAAAPA/AAAAAAAA8D8AAAAAAAAQQAAAAAAAABBAAAAAAAAAEEAAAAAAAAAIQAAAAAAAAAhAAAAAAAAAEEAAAAAAAAAQQAAAAAAAABBAAAAAAAAAEEAAAAAAAAAQQAAAAAAAAPA/AAAAAAAACEAAAAAAAAAQQAAAAAAAABBAAAAAAAAAEEAAAAAAAAAQQAAAAAAAAPA/AAAAAAAAEEAAAAAAAADwPwAAAAAAAAhAAAAAAAAAEEAAAAAAAAAIQAAAAAAAABBAAAAAAAAACEAAAAAAAAAQQAAAAAAAABBAAAAAAAAACEAAAAAAAAAIQAAAAAAAABBAAAAAAAAAEEAAAAAAAAAQQAAAAAAAAAhAAAAAAAAAEEAAAAAAAAAIQAAAAAAAAABAAAAAAAAAEEAAAAAAAAAQQAAAAAAAAPA/AAAAAAAACEAAAAAAAADwPwAAAAAAABBAAAAAAAAACEAAAAAAAAAQQAAAAAAAABBAAAAAAAAAEEAAAAAAAAAIQAAAAAAAABBAAAAAAAAACEAAAAAAAAAIQAAAAAAAABBAAAAAAAAACEAAAAAAAAAIQAAAAAAAAAhAAAAAAAAACEAAAAAAAADwPwAAAAAAABBAAAAAAAAAEEAAAAAAAAAIQAAAAAAAABBAAAAAAAAAAEAAAAAAAADwPwAAAAAAAAhAAAAAAAAACEAAAAAAAAAQQAAAAAAAABBAAAAAAAAAEEAAAAAAAAAQQAAAAAAAABBAAAAAAAAAEEAAAAAAAAAQQAAAAAAAAAhAAAAAAAAACEAAAAAAAAAQQAAAAAAAAAhAAAAAAAAACEAAAAAAAAAQQAAAAAAAABBAAAAAAAAA8D8AAAAAAAAQQAAAAAAAABBAAAAAAAAAAEAAAAAAAAAQQAAAAAAAABBAAAAAAAAAEEAAAAAAAAAQQAAAAAAAAAhAAAAAAAAA8D8AAAAAAAAQQAAAAAAAABBAAAAAAAAAEEAAAAAAAADwPwAAAAAAAPA/AAAAAAAAEEAAAAAAAAAQQAAAAAAAABBAAAAAAAAAEEAAAAAAAAAQQAAAAAAAAPA/AAAAAAAACEAAAAAAAAAQQAAAAAAAAPA/AAAAAAAACEAAAAAAAAAQQAAAAAAAAAhAAAAAAAAAEEAAAAAAAAAQQAAAAAAAABBAAAAAAAAACEAAAAAAAAAIQAAAAAAAAAhAAAAAAAAA8D8AAAAAAAAQQAAAAAAAABBAAAAAAAAAEEAAAAAAAADwPwAAAAAAABBAAAAAAAAAEEAAAAAAAAAQQAAAAAAAAABAAAAAAAAACEAAAAAAAAAAQAAAAAAAABBAAAAAAAAACEAAAAAAAAAIQAAAAAAAABBAAAAAAAAA8D8AAAAAAAAIQAAAAAAAAPA/AAAAAAAAAEAAAAAAAAAQQAAAAAAAAAhAAAAAAAAAAEAAAAAAAAAQQAAAAAAAABBAAAAAAAAA8D8AAAAAAAAQQAAAAAAAAAhAAAAAAAAA8D8AAAAAAAAIQAAAAAAAABBAAAAAAAAAEEAAAAAAAAAQQAAAAAAAAPA/AAAAAAAAEEAAAAAAAAAQQAAAAAAAABBAAAAAAAAAEEAAAAAAAAAIQAAAAAAAABBAAAAAAAAA8D8AAAAAAAAQQAAAAAAAABBAAAAAAAAAEEAAAAAAAAAQQAAAAAAAAPA/AAAAAAAAEEAAAAAAAAAQQAAAAAAAAAhAAAAAAAAA8D8AAAAAAADwPwAAAAAAABBAAAAAAAAACEAAAAAAAAAQQAAAAAAAABBAAAAAAAAAEEAAAAAAAAAQQAAAAAAAAABAAAAAAAAAEEAAAAAAAAAQQAAAAAAAAAhAAAAAAAAACEAAAAAAAAAQQAAAAAAAABBAAAAAAAAAEEAAAAAAAAAAQAAAAAAAAAhAAAAAAAAAEEAAAAAAAAAQQAAAAAAAABBAAAAAAAAACEAAAAAAAAAIQAAAAAAAAABAAAAAAAAAEEAAAAAAAAAIQAAAAAAAABBAAAAAAAAACEAAAAAAAAAQQAAAAAAAAPA/AAAAAAAAEEAAAAAAAADwPwAAAAAAAAhAAAAAAAAA8D8AAAAAAAAQQAAAAAAAABBAAAAAAAAAEEAAAAAAAAAQQAAAAAAAABBAAAAAAAAACEAAAAAAAADwPwAAAAAAAPA/AAAAAAAAEEAAAAAAAAAQQAAAAAAAAPA/AAAAAAAAEEAAAAAAAAAQQAAAAAAAAAhAAAAAAAAAEEAAAAAAAAAAQAAAAAAAABBAAAAAAAAACEAAAAAAAAAIQAAAAAAAABBAAAAAAAAAEEAAAAAAAAAQQAAAAAAAABBAAAAAAAAA8D8AAAAAAAAQQAAAAAAAABBAAAAAAAAAEEAAAAAAAAAQQAAAAAAAABBAAAAAAAAAEEAAAAAAAAAQQAAAAAAAAAhAAAAAAAAAEEAAAAAAAAAAQAAAAAAAAABAAAAAAAAAEEAAAAAAAAAIQAAAAAAAAAhAAAAAAAAAEEAAAAAAAAAQQAAAAAAAABBAAAAAAAAAEEAAAAAAAAAQQAAAAAAAABBAAAAAAAAAEEAAAAAAAAAIQAAAAAAAABBAAAAAAAAA8D8AAAAAAAAQQAAAAAAAABBAAAAAAAAAEEAAAAAAAAAQQAAAAAAAABBAAAAAAAAAEEAAAAAAAAAQQAAAAAAAABBAAAAAAAAA8D8AAAAAAAAQQAAAAAAAABBAAAAAAAAAEEAAAAAAAAAQQAAAAAAAABBAAAAAAAAACEAAAAAAAAAQQAAAAAAAAABAAAAAAAAAEEAAAAAAAAAIQAAAAAAAAAhAAAAAAAAAEEAAAAAAAAAIQAAAAAAAAAhAAAAAAAAACEAAAAAAAAAIQAAAAAAAABBAAAAAAAAAEEAAAAAAAAAQQAAAAAAAABBAAAAAAAAAEEAAAAAAAAAAQAAAAAAAAPA/AAAAAAAAEEAAAAAAAAAQQAAAAAAAABBAAAAAAAAAEEAAAAAAAAAIQAAAAAAAAAhAAAAAAAAA8D8AAAAAAAAQQAAAAAAAAAhAAAAAAAAAEEAAAAAAAAAAQAAAAAAAAABAAAAAAAAACEAAAAAAAAAQQAAAAAAAABBAAAAAAAAAEEAAAAAAAAAQQAAAAAAAAPA/AAAAAAAAEEAAAAAAAAAQQAAAAAAAABBAAAAAAAAA8D8AAAAAAAAQQAAAAAAAAAhAAAAAAAAACEAAAAAAAAAQQAAAAAAAAPA/AAAAAAAA8D8AAAAAAAAAQAAAAAAAABBAAAAAAAAAEEAAAAAAAAAQQAAAAAAAAAhAAAAAAAAAEEAAAAAAAAAQQAAAAAAAABBAAAAAAAAAEEAAAAAAAAAIQAAAAAAAABBAAAAAAAAAEEAAAAAAAAAIQAAAAAAAABBAAAAAAAAAEEAAAAAAAAAQQAAAAAAAABBAAAAAAAAACEAAAAAAAAAQQAAAAAAAABBAAAAAAAAAEEAAAAAAAAAQQAAAAAAAABBAAAAAAAAAEEAAAAAAAAAIQAAAAAAAAPA/AAAAAAAACEAAAAAAAAAQQAAAAAAAABBAAAAAAAAAEEAAAAAAAAAQQAAAAAAAABBAAAAAAAAACEAAAAAAAAAIQAAAAAAAAAhAAAAAAAAA8D8AAAAAAAAIQAAAAAAAAPA/AAAAAAAACEAAAAAAAAAIQAAAAAAAABBAAAAAAAAACEAAAAAAAAAQQAAAAAAAABBAAAAAAAAAEEAAAAAAAAAIQAAAAAAAAAhAAAAAAAAACEAAAAAAAAAIQAAAAAAAAAhAAAAAAAAAEEAAAAAAAAAQQAAAAAAAAPA/AAAAAAAAEEAAAAAAAADwPwAAAAAAABBAAAAAAAAAEEAAAAAAAAAQQAAAAAAAABBAAAAAAAAAEEAAAAAAAAAQQAAAAAAAABBAAAAAAAAAEEAAAAAAAAAQQAAAAAAAAAhAAAAAAAAAEEAAAAAAAAAQQAAAAAAAAAhAAAAAAAAACEAAAAAAAAAQQAAAAAAAABBAAAAAAAAAEEAAAAAAAAAQQAAAAAAAABBAAAAAAAAAEEAAAAAAAAAQQAAAAAAAABBAAAAAAAAAEEAAAAAAAAAAQAAAAAAAABBAAAAAAAAA8D8AAAAAAAAQQAAAAAAAABBAAAAAAAAA8D8AAAAAAAAQQAAAAAAAAPA/AAAAAAAAEEAAAAAAAAAIQAAAAAAAAAhAAAAAAAAAEEAAAAAAAAAAQAAAAAAAABBAAAAAAAAA8D8AAAAAAAAQQAAAAAAAABBAAAAAAAAAEEAAAAAAAAAQQAAAAAAAAAhAAAAAAAAAEEAAAAAAAAAQQAAAAAAAABBAAAAAAAAAEEAAAAAAAAAQQAAAAAAAABBAAAAAAAAAEEAAAAAAAADwPwAAAAAAAAhAAAAAAAAAEEAAAAAAAAAIQAAAAAAAAAhAAAAAAAAAEEAAAAAAAAAIQAAAAAAAAPA/AAAAAAAACEAAAAAAAAAQQAAAAAAAABBAAAAAAAAACEAAAAAAAAAQQAAAAAAAABBAAAAAAAAAEEAAAAAAAAAQQAAAAAAAAAhAAAAAAAAAEEAAAAAAAAAQQAAAAAAAAABAAAAAAAAAEEAAAAAAAAAQQAAAAAAAABBAAAAAAAAAEEAAAAAAAAAQQAAAAAAAABBAAAAAAAAAEEAAAAAAAAAIQAAAAAAAAPA/AAAAAAAAEEAAAAAAAAAQQAAAAAAAABBAAAAAAAAACEAAAAAAAAAQQAAAAAAAAAhAAAAAAAAACEAAAAAAAAAIQAAAAAAAABBAAAAAAAAAEEAAAAAAAAAIQAAAAAAAAAhAAAAAAAAAEEAAAAAAAAAIQAAAAAAAAAhAAAAAAAAAEEAAAAAAAAAIQAAAAAAAABBAAAAAAAAAEEAAAAAAAAAIQAAAAAAAABBAAAAAAAAACEAAAAAAAAAIQAAAAAAAAABAAAAAAAAAEEAAAAAAAAAIQAAAAAAAABBAAAAAAAAA8D8AAAAAAAAQQAAAAAAAABBAAAAAAAAAEEAAAAAAAAAQQAAAAAAAAPA/AAAAAAAACEAAAAAAAAAIQAAAAAAAAAhAAAAAAAAAEEAAAAAAAAAAQAAAAAAAAPA/AAAAAAAA8D8AAAAAAAAQQAAAAAAAABBAAAAAAAAACEAAAAAAAADwPwAAAAAAAAhAAAAAAAAACEAAAAAAAAAIQAAAAAAAAPA/AAAAAAAACEAAAAAAAAAQQAAAAAAAAAhAAAAAAAAAEEAAAAAAAAAQQAAAAAAAABBAAAAAAAAAEEAAAAAAAAAIQAAAAAAAAAhAAAAAAAAAEEAAAAAAAAAQQAAAAAAAABBAAAAAAAAACEAAAAAAAAAQQAAAAAAAABBAAAAAAAAACEAAAAAAAAAQQAAAAAAAABBAAAAAAAAACEAAAAAAAAAQQAAAAAAAAPA/AAAAAAAAEEAAAAAAAADwPwAAAAAAABBAAAAAAAAAEEAAAAAAAAAAQAAAAAAAABBAAAAAAAAAEEAAAAAAAAAIQAAAAAAAAPA/AAAAAAAACEAAAAAAAADwPwAAAAAAAPA/AAAAAAAAEEAAAAAAAAAAQAAAAAAAABBAAAAAAAAACEAAAAAAAAAIQAAAAAAAABBAAAAAAAAAEEAAAAAAAAAQQAAAAAAAABBAAAAAAAAAEEAAAAAAAAAQQAAAAAAAABBAAAAAAAAAEEAAAAAAAAAQQAAAAAAAABBAAAAAAAAAEEAAAAAAAAAIQAAAAAAAABBAAAAAAAAAEEAAAAAAAAAQQAAAAAAAAABAAAAAAAAAAEAAAAAAAAAQQAAAAAAAABBAAAAAAAAACEAAAAAAAAAQQAAAAAAAAAhAAAAAAAAAEEAAAAAAAADwPwAAAAAAABBAAAAAAAAAAEAAAAAAAAAIQAAAAAAAABBAAAAAAAAACEAAAAAAAAAQQAAAAAAAABBAAAAAAAAA8D8AAAAAAAAQQAAAAAAAABBAAAAAAAAAEEAAAAAAAAAQQAAAAAAAABBAAAAAAAAAEEAAAAAAAAAQQAAAAAAAABBAAAAAAAAAEEAAAAAAAAAIQAAAAAAAABBAAAAAAAAACEAAAAAAAAAIQAAAAAAAABBAAAAAAAAAEEAAAAAAAAAQQAAAAAAAABBAAAAAAAAAEEAAAAAAAAAQQAAAAAAAAAhAAAAAAAAAEEAAAAAAAAAIQAAAAAAAAAhAAAAAAAAAEEAAAAAAAAAIQAAAAAAAABBAAAAAAAAACEAAAAAAAAAIQAAAAAAAABBAAAAAAAAAEEAAAAAAAAAIQAAAAAAAABBAAAAAAAAAEEAAAAAAAAAQQAAAAAAAABBAAAAAAAAACEAAAAAAAAAQQAAAAAAAABBAAAAAAAAAEEAAAAAAAAAIQAAAAAAAABBAAAAAAAAACEAAAAAAAAAQQAAAAAAAAPA/AAAAAAAAEEAAAAAAAAAQQAAAAAAAABBAAAAAAAAAEEAAAAAAAAAQQAAAAAAAABBAAAAAAAAAEEAAAAAAAAAQQAAAAAAAAAhAAAAAAAAA8D8AAAAAAAAIQAAAAAAAABBAAAAAAAAACEAAAAAAAADwPwAAAAAAABBAAAAAAAAACEAAAAAAAAAAQAAAAAAAAAhAAAAAAAAA8D8AAAAAAAAQQAAAAAAAAAhAAAAAAAAAEEAAAAAAAAAQQAAAAAAAABBAAAAAAAAAEEAAAAAAAAAQQAAAAAAAABBAAAAAAAAAAEAAAAAAAADwPwAAAAAAABBAAAAAAAAAEEAAAAAAAADwPwAAAAAAABBAAAAAAAAA8D8AAAAAAAAQQAAAAAAAAPA/AAAAAAAAEEAAAAAAAAAQQAAAAAAAABBAAAAAAAAA8D8AAAAAAAAQQAAAAAAAABBAAAAAAAAAEEAAAAAAAAAIQAAAAAAAABBAAAAAAAAACEAAAAAAAAAQQAAAAAAAAAhAAAAAAAAAEEAAAAAAAAAQQAAAAAAAAPA/AAAAAAAACEAAAAAAAAAQQAAAAAAAABBAAAAAAAAA8D8AAAAAAAAQQAAAAAAAABBAAAAAAAAA8D8AAAAAAAAQQAAAAAAAABBAAAAAAAAAEEAAAAAAAAAQQAAAAAAAAPA/AAAAAAAAEEAAAAAAAAAQQAAAAAAAABBAAAAAAAAAAEAAAAAAAADwPwAAAAAAABBAAAAAAAAACEAAAAAAAAAIQAAAAAAAAPA/AAAAAAAACEAAAAAAAAAQQAAAAAAAABBAAAAAAAAAEEAAAAAAAAAQQAAAAAAAABBAAAAAAAAAEEAAAAAAAAAQQAAAAAAAAAhAAAAAAAAAEEAAAAAAAAAQQAAAAAAAABBAAAAAAAAAEEAAAAAAAAAQQAAAAAAAAPA/AAAAAAAAEEAAAAAAAAAIQAAAAAAAABBAAAAAAAAAEEAAAAAAAAAQQAAAAAAAAAhAAAAAAAAAEEAAAAAAAAAQQAAAAAAAABBAAAAAAAAAEEAAAAAAAAAQQAAAAAAAAAhAAAAAAAAAEEAAAAAAAAAQQAAAAAAAABBAAAAAAAAACEAAAAAAAAAQQAAAAAAAABBAAAAAAAAA8D8AAAAAAADwPwAAAAAAABBAAAAAAAAACEAAAAAAAADwPwAAAAAAABBAAAAAAAAAEEAAAAAAAAAQQAAAAAAAABBAAAAAAAAAEEAAAAAAAAAQQAAAAAAAAPA/AAAAAAAAEEAAAAAAAAAQQAAAAAAAABBAAAAAAAAACEAAAAAAAAAQQAAAAAAAABBAAAAAAAAAEEAAAAAAAAAQQAAAAAAAAAhAAAAAAAAA8D8AAAAAAAAQQAAAAAAAABBAAAAAAAAAEEAAAAAAAAAQQAAAAAAAABBAAAAAAAAAEEAAAAAAAADwPwAAAAAAAAhAAAAAAAAAEEAAAAAAAAAIQAAAAAAAABBAAAAAAAAACEAAAAAAAAAQQAAAAAAAAAhAAAAAAAAAEEAAAAAAAAAQQAAAAAAAABBAAAAAAAAAEEAAAAAAAADwPwAAAAAAAPA/AAAAAAAAEEAAAAAAAAAQQAAAAAAAABBAAAAAAAAACEAAAAAAAAAIQAAAAAAAAAhAAAAAAAAACEAAAAAAAAAIQAAAAAAAAPA/AAAAAAAAAEAAAAAAAAAIQAAAAAAAABBAAAAAAAAACEAAAAAAAAAQQAAAAAAAABBAAAAAAAAACEAAAAAAAAAQQAAAAAAAABBAAAAAAAAAEEAAAAAAAAAQQAAAAAAAAAhAAAAAAAAAEEAAAAAAAAAQQAAAAAAAABBAAAAAAAAAEEAAAAAAAAAQQAAAAAAAABBAAAAAAAAAEEAAAAAAAAAIQAAAAAAAABBAAAAAAAAAEEAAAAAAAAAQQAAAAAAAABBAAAAAAAAAEEAAAAAAAAAQQAAAAAAAAAhAAAAAAAAAEEAAAAAAAAAQQAAAAAAAABBAAAAAAAAAEEAAAAAAAADwPwAAAAAAABBAAAAAAAAACEAAAAAAAAAQQAAAAAAAABBAAAAAAAAA8D8AAAAAAAAQQAAAAAAAABBAAAAAAAAAEEAAAAAAAAAIQAAAAAAAAPA/AAAAAAAAEEAAAAAAAAAQQAAAAAAAABBAAAAAAAAA8D8AAAAAAADwPwAAAAAAAAhAAAAAAAAAAEAAAAAAAAAQQAAAAAAAABBAAAAAAAAAEEAAAAAAAAAQQAAAAAAAAAhAAAAAAAAAEEAAAAAAAAAIQAAAAAAAAAhAAAAAAAAAEEAAAAAAAAAQQAAAAAAAAAhAAAAAAAAACEAAAAAAAAAQQAAAAAAAABBAAAAAAAAAEEAAAAAAAAAQQAAAAAAAABBAAAAAAAAAEEAAAAAAAAAAQAAAAAAAABBAAAAAAAAAEEAAAAAAAAAQQAAAAAAAABBAAAAAAAAACEAAAAAAAAAQQAAAAAAAABBAAAAAAAAAEEAAAAAAAAAAQAAAAAAAAAhAAAAAAAAAEEAAAAAAAAAQQAAAAAAAABBAAAAAAAAAAEAAAAAAAADwPwAAAAAAABBAAAAAAAAAEEAAAAAAAAAIQAAAAAAAABBAAAAAAAAA8D8AAAAAAAAQQAAAAAAAABBAAAAAAAAACEAAAAAAAAAIQAAAAAAAABBAAAAAAAAACEAAAAAAAAAIQAAAAAAAABBAAAAAAAAAEEAAAAAAAAAQQAAAAAAAABBAAAAAAAAAEEAAAAAAAAAQQAAAAAAAAAhAAAAAAAAAEEAAAAAAAAAIQAAAAAAAABBAAAAAAAAACEAAAAAAAAAQQAAAAAAAAAhAAAAAAAAAEEAAAAAAAAAQQAAAAAAAABBAAAAAAAAAEEAAAAAAAADwPwAAAAAAABBAAAAAAAAACEAAAAAAAAAQQAAAAAAAABBAAAAAAAAACEAAAAAAAAAQQAAAAAAAABBAAAAAAAAAEEAAAAAAAAAIQAAAAAAAABBAAAAAAAAAEEAAAAAAAAAQQAAAAAAAABBAAAAAAAAAEEAAAAAAAAAQQAAAAAAAABBAAAAAAAAAEEAAAAAAAAAQQAAAAAAAABBAAAAAAAAAEEAAAAAAAAAQQAAAAAAAABBAAAAAAAAAEEAAAAAAAADwPwAAAAAAABBAAAAAAAAACEAAAAAAAAAQQAAAAAAAABBAAAAAAAAAEEAAAAAAAAAQQAAAAAAAAPA/AAAAAAAAEEAAAAAAAADwPwAAAAAAAAhAAAAAAAAA8D8AAAAAAAAQQAAAAAAAAAhAAAAAAAAAEEAAAAAAAAAQQAAAAAAAABBAAAAAAAAACEAAAAAAAAAQQAAAAAAAABBAAAAAAAAAEEAAAAAAAAAQQAAAAAAAABBAAAAAAAAAEEAAAAAAAAAIQAAAAAAAAAhAAAAAAAAAEEAAAAAAAAAQQAAAAAAAAPA/AAAAAAAA8D8AAAAAAAAQQAAAAAAAABBAAAAAAAAACEAAAAAAAAAQQAAAAAAAABBAAAAAAAAAEEAAAAAAAAAIQAAAAAAAAPA/AAAAAAAAEEAAAAAAAAAQQAAAAAAAAAhAAAAAAAAAEEAAAAAAAAAQQAAAAAAAAAhAAAAAAAAAEEAAAAAAAAAIQAAAAAAAAPA/AAAAAAAACEAAAAAAAAAQQAAAAAAAAAhAAAAAAAAAEEAAAAAAAAAQQAAAAAAAABBAAAAAAAAAEEAAAAAAAAAAQAAAAAAAABBAAAAAAAAACEAAAAAAAAAIQAAAAAAAABBAAAAAAAAACEAAAAAAAAAQQAAAAAAAABBAAAAAAAAACEAAAAAAAAAQQAAAAAAAABBAAAAAAAAAEEAAAAAAAAAQQAAAAAAAABBAAAAAAAAAEEAAAAAAAAAQQAAAAAAAAAhAAAAAAAAACEAAAAAAAAAQQAAAAAAAABBAAAAAAAAAEEAAAAAAAAAIQAAAAAAAAPA/AAAAAAAAEEAAAAAAAAAQQAAAAAAAABBAAAAAAAAAEEAAAAAAAAAQQAAAAAAAABBAAAAAAAAA8D8AAAAAAAAIQAAAAAAAAABAAAAAAAAAEEAAAAAAAAAQQAAAAAAAAPA/AAAAAAAAEEAAAAAAAAAQQAAAAAAAAAhAAAAAAAAAEEAAAAAAAAAQQAAAAAAAABBAAAAAAAAAEEAAAAAAAAAQQAAAAAAAAPA/AAAAAAAA8D8AAAAAAAAQQAAAAAAAABBAAAAAAAAAEEAAAAAAAAAQQAAAAAAAAAhAAAAAAAAAEEAAAAAAAAAAQAAAAAAAABBAAAAAAAAAEEAAAAAAAAAQQAAAAAAAABBAAAAAAAAAEEAAAAAAAAAQQAAAAAAAABBAAAAAAAAAEEAAAAAAAAAQQAAAAAAAABBAAAAAAAAACEAAAAAAAADwPwAAAAAAABBAAAAAAAAA8D8AAAAAAAAIQAAAAAAAABBAAAAAAAAACEAAAAAAAAAQQAAAAAAAABBAAAAAAAAACEAAAAAAAAAQQAAAAAAAABBAAAAAAAAAEEAAAAAAAAAQQAAAAAAAABBAAAAAAAAACEAAAAAAAAAQQAAAAAAAABBAAAAAAAAACEAAAAAAAAAQQAAAAAAAABBAAAAAAAAAEEAAAAAAAADwPwAAAAAAAPA/AAAAAAAAEEAAAAAAAAAQQAAAAAAAAAhAAAAAAAAA8D8AAAAAAAAQQAAAAAAAABBAAAAAAAAACEAAAAAAAAAQQAAAAAAAABBAAAAAAAAAEEAAAAAAAAAQQAAAAAAAABBAAAAAAAAAEEAAAAAAAADwPwAAAAAAABBAAAAAAAAAEEAAAAAAAAAIQAAAAAAAAAhAAAAAAAAACEAAAAAAAAAQQAAAAAAAAPA/AAAAAAAACEAAAAAAAADwPwAAAAAAABBAAAAAAAAAEEAAAAAAAAAQQAAAAAAAABBAAAAAAAAAEEAAAAAAAAAQQAAAAAAAAAhAAAAAAAAAEEAAAAAAAAAIQAAAAAAAAPA/AAAAAAAA8D8AAAAAAAAQQAAAAAAAABBAAAAAAAAAEEAAAAAAAAAQQAAAAAAAABBAAAAAAAAAEEAAAAAAAAAIQAAAAAAAABBAAAAAAAAAEEAAAAAAAAAQQAAAAAAAABBAAAAAAAAAEEAAAAAAAAAQQAAAAAAAABBAAAAAAAAAEEAAAAAAAAAIQAAAAAAAABBAAAAAAAAAEEAAAAAAAAAIQAAAAAAAABBAAAAAAAAAEEAAAAAAAAAIQAAAAAAAABBAAAAAAAAACEAAAAAAAAAQQAAAAAAAABBAAAAAAAAACEAAAAAAAAAIQAAAAAAAAAhAAAAAAAAA8D8AAAAAAAAIQAAAAAAAAAhAAAAAAAAA8D8AAAAAAAAQQAAAAAAAAABAAAAAAAAA8D8AAAAAAAAQQAAAAAAAAPA/AAAAAAAAEEAAAAAAAADwPwAAAAAAABBAAAAAAAAAEEAAAAAAAAAQQAAAAAAAAAhAAAAAAAAAEEAAAAAAAAAQQAAAAAAAABBAAAAAAAAAEEAAAAAAAAAIQAAAAAAAAABAAAAAAAAACEAAAAAAAAAQQAAAAAAAAAhAAAAAAAAAEEAAAAAAAAAIQAAAAAAAABBAAAAAAAAAEEAAAAAAAAAQQAAAAAAAABBAAAAAAAAAEEAAAAAAAAAAQAAAAAAAAPA/AAAAAAAAEEAAAAAAAAAQQAAAAAAAAAhAAAAAAAAAEEAAAAAAAAAQQAAAAAAAABBAAAAAAAAAEEAAAAAAAAAIQAAAAAAAABBAAAAAAAAAEEAAAAAAAAAQQAAAAAAAABBAAAAAAAAAEEAAAAAAAAAQQAAAAAAAABBAAAAAAAAAAEAAAAAAAAAIQAAAAAAAABBAAAAAAAAAEEAAAAAAAAAIQAAAAAAAABBAAAAAAAAA8D8AAAAAAAAQQAAAAAAAABBAAAAAAAAAEEAAAAAAAAAIQAAAAAAAABBAAAAAAAAAEEAAAAAAAAAQQAAAAAAAABBAAAAAAAAAEEAAAAAAAAAQQAAAAAAAABBAAAAAAAAA8D8AAAAAAAAAQAAAAAAAABBAAAAAAAAAEEAAAAAAAAAQQAAAAAAAABBAAAAAAAAACEAAAAAAAAAQQAAAAAAAABBAAAAAAAAAAEAAAAAAAAAIQAAAAAAAAAhAAAAAAAAAEEAAAAAAAAAQQAAAAAAAAAhAAAAAAAAACEAAAAAAAADwPwAAAAAAAAhAAAAAAAAAAEAAAAAAAAAQQAAAAAAAAPA/AAAAAAAAEEAAAAAAAADwPwAAAAAAAAhAAAAAAAAAEEAAAAAAAAAQQAAAAAAAAAhAAAAAAAAAEEAAAAAAAAAQQAAAAAAAAAhAAAAAAAAACEAAAAAAAAAIQAAAAAAAABBAAAAAAAAACEAAAAAAAAAQQAAAAAAAABBAAAAAAAAAEEAAAAAAAAAQQAAAAAAAAPA/AAAAAAAA8D8AAAAAAAAQQAAAAAAAABBAAAAAAAAAEEAAAAAAAADwPwAAAAAAAAhAAAAAAAAACEAAAAAAAADwPwAAAAAAABBAAAAAAAAAEEAAAAAAAADwPwAAAAAAABBAAAAAAAAA8D8AAAAAAAAQQAAAAAAAAABAAAAAAAAA8D8AAAAAAAAIQAAAAAAAABBAAAAAAAAAEEAAAAAAAADwPwAAAAAAABBAAAAAAAAAEEAAAAAAAAAQQAAAAAAAABBAAAAAAAAACEAAAAAAAAAQQAAAAAAAABBAAAAAAAAAEEAAAAAAAAAQQAAAAAAAABBAAAAAAAAACEAAAAAAAAAQQAAAAAAAABBAAAAAAAAAEEAAAAAAAAAQQAAAAAAAABBAAAAAAAAAEEAAAAAAAAAQQAAAAAAAAAhAAAAAAAAAEEAAAAAAAAAQQAAAAAAAABBAAAAAAAAACEAAAAAAAAAQQAAAAAAAAABAAAAAAAAA8D8AAAAAAAAQQAAAAAAAAAhAAAAAAAAACEAAAAAAAAAIQAAAAAAAABBAAAAAAAAACEAAAAAAAAAAQAAAAAAAAAhAAAAAAAAAEEAAAAAAAAAQQAAAAAAAABBAAAAAAAAAAEAAAAAAAAAQQAAAAAAAABBAAAAAAAAACEAAAAAAAAAIQAAAAAAAABBAAAAAAAAAAEAAAAAAAADwPwAAAAAAABBAAAAAAAAAEEAAAAAAAAAQQAAAAAAAAAhAAAAAAAAAEEAAAAAAAAAQQAAAAAAAAAhAAAAAAAAACEAAAAAAAAAIQAAAAAAAABBAAAAAAAAAEEAAAAAAAAAQQAAAAAAAABBAAAAAAAAAEEAAAAAAAAAQQAAAAAAAABBAAAAAAAAA8D8AAAAAAAAQQAAAAAAAAPA/AAAAAAAAEEAAAAAAAADwPwAAAAAAAAhAAAAAAAAAEEAAAAAAAAAQQAAAAAAAAAhAAAAAAAAACEAAAAAAAAAQQAAAAAAAAAhAAAAAAAAAEEAAAAAAAAAQQAAAAAAAABBAAAAAAAAAEEAAAAAAAAAQQAAAAAAAABBAAAAAAAAA8D8AAAAAAAAIQAAAAAAAAAhAAAAAAAAAEEAAAAAAAAAQQAAAAAAAAAhAAAAAAAAAEEAAAAAAAAAQQAAAAAAAAAhAAAAAAAAAEEAAAAAAAAAQQAAAAAAAAAhAAAAAAAAACEAAAAAAAAAQQAAAAAAAAABAAAAAAAAAEEAAAAAAAAAQQAAAAAAAABBAAAAAAAAACEAAAAAAAADwPwAAAAAAAAhAAAAAAAAAEEAAAAAAAAAAQAAAAAAAABBAAAAAAAAAEEAAAAAAAAAQQAAAAAAAABBAAAAAAAAAEEAAAAAAAAAQQAAAAAAAAAhAAAAAAAAA8D8AAAAAAAAQQAAAAAAAAAhAAAAAAAAAAEAAAAAAAAAQQAAAAAAAAABAAAAAAAAAEEAAAAAAAAAQQAAAAAAAABBAAAAAAAAACEAAAAAAAAAQQAAAAAAAAPA/AAAAAAAAEEAAAAAAAADwPwAAAAAAABBAAAAAAAAACEAAAAAAAAAIQAAAAAAAAAhAAAAAAAAACEAAAAAAAAAQQAAAAAAAABBAAAAAAAAAEEAAAAAAAADwPwAAAAAAAAhAAAAAAAAACEAAAAAAAAAIQAAAAAAAAAhAAAAAAAAAEEAAAAAAAAAQQAAAAAAAABBAAAAAAAAAEEAAAAAAAAAIQAAAAAAAAPA/AAAAAAAACEAAAAAAAAAIQAAAAAAAABBAAAAAAAAAEEAAAAAAAAAQQAAAAAAAABBAAAAAAAAAEEAAAAAAAAAQQAAAAAAAABBAAAAAAAAAEEAAAAAAAAAQQAAAAAAAABBAAAAAAAAACEAAAAAAAADwPwAAAAAAABBAAAAAAAAAEEAAAAAAAAAQQAAAAAAAAAhAAAAAAAAAEEAAAAAAAAAQQAAAAAAAABBAAAAAAAAAEEAAAAAAAAAQQAAAAAAAABBAAAAAAAAAEEAAAAAAAAAQQAAAAAAAABBAAAAAAAAACEAAAAAAAAAQQAAAAAAAAABAAAAAAAAAEEAAAAAAAAAQQAAAAAAAAPA/AAAAAAAAEEAAAAAAAAAIQAAAAAAAAAhAAAAAAAAA8D8AAAAAAAAIQAAAAAAAAAhAAAAAAAAACEAAAAAAAAAIQAAAAAAAAAhAAAAAAAAAEEAAAAAAAAAIQAAAAAAAAPA/AAAAAAAA8D8AAAAAAAAQQAAAAAAAAAhAAAAAAAAAEEAAAAAAAAAQQAAAAAAAABBAAAAAAAAA8D8AAAAAAAAQQAAAAAAAAAhAAAAAAAAAEEAAAAAAAAAQQAAAAAAAAAhAAAAAAAAAEEAAAAAAAAAQQAAAAAAAABBAAAAAAAAA8D8AAAAAAAAQQAAAAAAAAPA/AAAAAAAA8D8AAAAAAAAQQAAAAAAAAPA/AAAAAAAAEEAAAAAAAADwPwAAAAAAABBAAAAAAAAAEEAAAAAAAADwPwAAAAAAAAhAAAAAAAAA8D8AAAAAAAAQQAAAAAAAABBAAAAAAAAACEAAAAAAAAAQQAAAAAAAAAhAAAAAAAAA8D8AAAAAAADwPwAAAAAAAAhAAAAAAAAAEEAAAAAAAADwPwAAAAAAAPA/AAAAAAAACEAAAAAAAAAIQAAAAAAAAAhAAAAAAAAAEEAAAAAAAAAQQAAAAAAAAAhAAAAAAAAAEEAAAAAAAADwPwAAAAAAAAhAAAAAAAAAAEAAAAAAAAAQQAAAAAAAABBAAAAAAAAACEAAAAAAAAAQQAAAAAAAABBAAAAAAAAACEAAAAAAAAAQQAAAAAAAABBAAAAAAAAAEEAAAAAAAADwPwAAAAAAABBAAAAAAAAAEEAAAAAAAAAQQAAAAAAAABBAAAAAAAAA8D8AAAAAAAAQQAAAAAAAABBAAAAAAAAA8D8AAAAAAAAQQAAAAAAAABBAAAAAAAAAEEAAAAAAAAAQQAAAAAAAABBAAAAAAAAAAEAAAAAAAAAQQAAAAAAAAPA/AAAAAAAAEEAAAAAAAAAIQAAAAAAAABBAAAAAAAAAEEAAAAAAAAAIQAAAAAAAABBAAAAAAAAAEEAAAAAAAAAAQAAAAAAAAPA/AAAAAAAAEEAAAAAAAAAQQAAAAAAAABBAAAAAAAAAEEAAAAAAAAAIQAAAAAAAABBAAAAAAAAAEEAAAAAAAADwPwAAAAAAAAhAAAAAAAAACEAAAAAAAAAIQAAAAAAAABBAAAAAAAAAEEAAAAAAAAAIQAAAAAAAAAhAAAAAAAAA8D8AAAAAAAAQQAAAAAAAAPA/AAAAAAAAEEAAAAAAAADwPwAAAAAAAAhAAAAAAAAAEEAAAAAAAAAQQAAAAAAAABBAAAAAAAAAEEAAAAAAAAAIQAAAAAAAABBAAAAAAAAAEEAAAAAAAAAQQAAAAAAAABBAAAAAAAAAEEAAAAAAAAAQQAAAAAAAAPA/AAAAAAAAEEAAAAAAAAAQQAAAAAAAABBAAAAAAAAAEEAAAAAAAAAQQAAAAAAAABBAAAAAAAAACEAAAAAAAAAQQAAAAAAAAAhAAAAAAAAAEEAAAAAAAAAQQAAAAAAAAPA/AAAAAAAAEEAAAAAAAAAQQAAAAAAAABBAAAAAAAAAEEAAAAAAAAAIQAAAAAAAABBAAAAAAAAAEEAAAAAAAAAQQAAAAAAAAPA/AAAAAAAA8D8AAAAAAAAIQAAAAAAAABBAAAAAAAAAEEAAAAAAAAAQQAAAAAAAABBAAAAAAAAA8D8AAAAAAAAIQAAAAAAAABBAAAAAAAAA8D8AAAAAAAAQQAAAAAAAAPA/AAAAAAAAEEAAAAAAAAAQQAAAAAAAABBAAAAAAAAACEAAAAAAAAAQQAAAAAAAAAhAAAAAAAAACEAAAAAAAAAQQAAAAAAAABBAAAAAAAAAEEAAAAAAAAAQQAAAAAAAAPA/AAAAAAAAEEAAAAAAAAAQQAAAAAAAAAhAAAAAAAAAEEAAAAAAAAAQQAAAAAAAABBAAAAAAAAA8D8AAAAAAAAQQAAAAAAAABBAAAAAAAAACEAAAAAAAAAIQAAAAAAAAPA/AAAAAAAAEEAAAAAAAAAQQAAAAAAAABBAAAAAAAAAAEAAAAAAAAAQQAAAAAAAABBAAAAAAAAAEEAAAAAAAADwPwAAAAAAAAhAAAAAAAAAEEAAAAAAAAAQQAAAAAAAABBAAAAAAAAAEEAAAAAAAAAQQAAAAAAAABBAAAAAAAAACEAAAAAAAADwPwAAAAAAABBAAAAAAAAAEEAAAAAAAAAQQAAAAAAAAPA/AAAAAAAAEEAAAAAAAAAQQAAAAAAAAABAAAAAAAAACEAAAAAAAAAIQAAAAAAAABBAAAAAAAAAEEAAAAAAAAAQQAAAAAAAABBAAAAAAAAAEEAAAAAAAAAAQAAAAAAAABBAAAAAAAAAEEAAAAAAAAAQQAAAAAAAABBAAAAAAAAAEEAAAAAAAAAQQAAAAAAAABBAAAAAAAAAEEAAAAAAAADwPwAAAAAAABBAAAAAAAAAEEAAAAAAAAAQQAAAAAAAAPA/AAAAAAAACEAAAAAAAADwPwAAAAAAABBAAAAAAAAACEAAAAAAAAAQQAAAAAAAABBAAAAAAAAACEAAAAAAAADwPwAAAAAAABBAAAAAAAAACEAAAAAAAAAQQAAAAAAAAAhAAAAAAAAAEEAAAAAAAAAIQAAAAAAAAABAAAAAAAAACEAAAAAAAAAQQAAAAAAAABBAAAAAAAAAEEAAAAAAAAAQQAAAAAAAABBAAAAAAAAA8D8AAAAAAAAQQAAAAAAAAAhAAAAAAAAAEEAAAAAAAAAQQAAAAAAAABBAAAAAAAAAEEAAAAAAAAAIQAAAAAAAABBAAAAAAAAAEEAAAAAAAAAIQAAAAAAAABBAAAAAAAAACEAAAAAAAAAQQAAAAAAAAAhAAAAAAAAAEEAAAAAAAAAQQAAAAAAAABBAAAAAAAAAEEAAAAAAAAAQQAAAAAAAABBAAAAAAAAA8D8AAAAAAADwPwAAAAAAABBAAAAAAAAAEEAAAAAAAADwPwAAAAAAABBAAAAAAAAAEEAAAAAAAAAIQAAAAAAAAAhAAAAAAAAAEEAAAAAAAAAQQAAAAAAAABBAAAAAAAAAEEAAAAAAAAAIQAAAAAAAAABAAAAAAAAACEAAAAAAAADwPwAAAAAAAPA/AAAAAAAAEEAAAAAAAAAQQAAAAAAAAAhAAAAAAAAAEEAAAAAAAAAIQAAAAAAAAAhAAAAAAAAAEEAAAAAAAAAQQAAAAAAAABBAAAAAAAAA8D8AAAAAAAAQQAAAAAAAAABAAAAAAAAACEAAAAAAAAAQQAAAAAAAABBAAAAAAAAAEEAAAAAAAAAQQAAAAAAAAPA/AAAAAAAAEEAAAAAAAADwPwAAAAAAAAhAAAAAAAAAEEAAAAAAAAAQQAAAAAAAABBAAAAAAAAACEAAAAAAAAAQQAAAAAAAABBAAAAAAAAA8D8AAAAAAAAQQAAAAAAAAAhAAAAAAAAAEEAAAAAAAAAQQAAAAAAAAAhAAAAAAAAAEEAAAAAAAAAQQAAAAAAAAPA/AAAAAAAA8D8AAAAAAADwPwAAAAAAABBAAAAAAAAA8D8AAAAAAADwPwAAAAAAABBAAAAAAAAACEAAAAAAAAAQQAAAAAAAABBAAAAAAAAAEEAAAAAAAAAIQAAAAAAAABBAAAAAAAAAEEAAAAAAAAAQQAAAAAAAABBAAAAAAAAACEAAAAAAAAAIQAAAAAAAABBAAAAAAAAACEAAAAAAAAAIQAAAAAAAAPA/AAAAAAAACEAAAAAAAAAIQAAAAAAAABBAAAAAAAAACEAAAAAAAADwPwAAAAAAABBAAAAAAAAACEAAAAAAAAAQQAAAAAAAABBAAAAAAAAAEEAAAAAAAAAIQAAAAAAAABBAAAAAAAAACEAAAAAAAAAIQAAAAAAAABBAAAAAAAAA8D8AAAAAAAAQQAAAAAAAAAhAAAAAAAAAEEAAAAAAAADwPwAAAAAAAAhAAAAAAAAAEEAAAAAAAAAQQAAAAAAAABBAAAAAAAAACEAAAAAAAAAQQAAAAAAAAAhAAAAAAAAACEAAAAAAAAAIQAAAAAAAABBAAAAAAAAACEAAAAAAAAAQQAAAAAAAABBAAAAAAAAACEAAAAAAAAAQQAAAAAAAABBAAAAAAAAACEAAAAAAAAAQQAAAAAAAABBAAAAAAAAAEEAAAAAAAAAIQAAAAAAAABBAAAAAAAAACEAAAAAAAAAQQAAAAAAAAAhAAAAAAAAAEEAAAAAAAAAIQAAAAAAAABBAAAAAAAAA8D8AAAAAAAAQQAAAAAAAAPA/AAAAAAAAEEAAAAAAAAAQQAAAAAAAAABAAAAAAAAAEEAAAAAAAAAQQAAAAAAAABBAAAAAAAAACEAAAAAAAAAQQAAAAAAAAAhAAAAAAAAACEAAAAAAAAAQQAAAAAAAABBAAAAAAAAA8D8AAAAAAAAQQAAAAAAAABBAAAAAAAAAEEAAAAAAAAAAQAAAAAAAAAhAAAAAAAAAAEAAAAAAAAAAQAAAAAAAAABAAAAAAAAAEEAAAAAAAAAQQAAAAAAAAPA/AAAAAAAAEEAAAAAAAAAQQAAAAAAAABBAAAAAAAAAEEAAAAAAAAAIQAAAAAAAAAhAAAAAAAAAEEAAAAAAAAAQQAAAAAAAABBAAAAAAAAA8D8AAAAAAAAQQAAAAAAAABBAAAAAAAAAEEAAAAAAAAAIQAAAAAAAABBAAAAAAAAAEEAAAAAAAAAIQAAAAAAAABBAAAAAAAAAEEAAAAAAAAAQQAAAAAAAAAhAAAAAAAAACEAAAAAAAAAIQAAAAAAAABBAAAAAAAAAEEAAAAAAAADwPwAAAAAAAAhAAAAAAAAAAEAAAAAAAAAQQAAAAAAAAABAAAAAAAAA8D8AAAAAAAAIQAAAAAAAAAhAAAAAAAAAEEAAAAAAAAAQQAAAAAAAABBAAAAAAAAAEEAAAAAAAADwPwAAAAAAABBAAAAAAAAAEEAAAAAAAAAIQAAAAAAAABBAAAAAAAAAEEAAAAAAAAAQQAAAAAAAAPA/AAAAAAAAEEAAAAAAAAAIQAAAAAAAABBAAAAAAAAAEEAAAAAAAAAQQAAAAAAAAAhAAAAAAAAACEAAAAAAAAAQQAAAAAAAAAhAAAAAAAAA8D8AAAAAAAAQQAAAAAAAABBAAAAAAAAA8D8AAAAAAAAQQAAAAAAAAAhAAAAAAAAAEEAAAAAAAAAIQAAAAAAAABBAAAAAAAAAEEAAAAAAAAAAQAAAAAAAAPA/AAAAAAAACEAAAAAAAAAQQAAAAAAAABBAAAAAAAAAEEAAAAAAAAAIQAAAAAAAAAhAAAAAAAAAEEAAAAAAAAAQQAAAAAAAAAhAAAAAAAAAEEAAAAAAAAAQQAAAAAAAAABAAAAAAAAAEEAAAAAAAAAQQAAAAAAAABBAAAAAAAAAEEAAAAAAAAAQQAAAAAAAAAhAAAAAAAAA8D8AAAAAAAAIQAAAAAAAAPA/AAAAAAAAEEAAAAAAAAAAQAAAAAAAABBAAAAAAAAA8D8AAAAAAAAIQAAAAAAAABBAAAAAAAAAEEAAAAAAAAAIQAAAAAAAAABAAAAAAAAACEAAAAAAAAAIQAAAAAAAAAhAAAAAAAAACEAAAAAAAAAIQAAAAAAAABBAAAAAAAAAEEAAAAAAAAAQQAAAAAAAAPA/AAAAAAAAEEAAAAAAAAAQQAAAAAAAAAhAAAAAAAAAAEAAAAAAAAAQQAAAAAAAABBAAAAAAAAAEEAAAAAAAADwPwAAAAAAABBAAAAAAAAA8D8AAAAAAAAQQAAAAAAAAABAAAAAAAAACEAAAAAAAAAQQAAAAAAAAAhAAAAAAAAA8D8AAAAAAAAQQAAAAAAAABBAAAAAAAAAEEAAAAAAAAAQQAAAAAAAABBAAAAAAAAAEEAAAAAAAADwPwAAAAAAABBAAAAAAAAAAEAAAAAAAAAQQAAAAAAAABBAAAAAAAAACEAAAAAAAAAQQAAAAAAAABBAAAAAAAAAAEAAAAAAAAAQQAAAAAAAABBAAAAAAAAAEEAAAAAAAAAQQAAAAAAAABBAAAAAAAAACEAAAAAAAAAIQAAAAAAAAPA/AAAAAAAAEEAAAAAAAAAQQAAAAAAAABBAAAAAAAAAEEAAAAAAAAAQQAAAAAAAABBAAAAAAAAAEEAAAAAAAAAQQAAAAAAAABBAAAAAAAAAEEAAAAAAAAAIQAAAAAAAABBAAAAAAAAACEAAAAAAAAAQQAAAAAAAABBAAAAAAAAACEAAAAAAAAAQQAAAAAAAAAhAAAAAAAAAEEAAAAAAAAAQQAAAAAAAAAhAAAAAAAAAEEAAAAAAAAAQQAAAAAAAAAhAAAAAAAAAEEAAAAAAAAAQQAAAAAAAABBAAAAAAAAAEEAAAAAAAAAQQAAAAAAAABBAAAAAAAAACEAAAAAAAAAQQAAAAAAAABBAAAAAAAAAEEAAAAAAAAAQQAAAAAAAABBAAAAAAAAAEEAAAAAAAAAQQAAAAAAAABBAAAAAAAAAEEAAAAAAAAAIQAAAAAAAABBAAAAAAAAAEEAAAAAAAADwPwAAAAAAABBAAAAAAAAAEEAAAAAAAAAQQAAAAAAAABBAAAAAAAAAEEAAAAAAAAAQQAAAAAAAABBAAAAAAAAAEEAAAAAAAAAQQAAAAAAAABBAAAAAAAAACEAAAAAAAAAQQAAAAAAAABBAAAAAAAAAEEAAAAAAAAAQQAAAAAAAABBAAAAAAAAAEEAAAAAAAAAQQAAAAAAAAAhAAAAAAAAAEEAAAAAAAAAQQAAAAAAAAAhAAAAAAAAACEAAAAAAAAAQQAAAAAAAABBAAAAAAAAAEEAAAAAAAADwPwAAAAAAABBAAAAAAAAAEEAAAAAAAAAIQAAAAAAAABBAAAAAAAAAEEAAAAAAAAAQQAAAAAAAABBAAAAAAAAACEAAAAAAAADwPwAAAAAAABBAAAAAAAAACEAAAAAAAAAQQAAAAAAAABBAAAAAAAAAAEAAAAAAAAAIQAAAAAAAAAhAAAAAAAAA8D8AAAAAAAAQQAAAAAAAAAhAAAAAAAAAEEAAAAAAAAAIQAAAAAAAAAhAAAAAAAAAEEAAAAAAAAAQQAAAAAAAABBAAAAAAAAAAEAAAAAAAAAQQAAAAAAAAAhAAAAAAAAAEEAAAAAAAAAQQAAAAAAAABBAAAAAAAAAEEAAAAAAAAAQQAAAAAAAABBAAAAAAAAAEEAAAAAAAAAQQAAAAAAAAPA/AAAAAAAACEAAAAAAAAAQQAAAAAAAABBAAAAAAAAAEEAAAAAAAADwPwAAAAAAAAhAAAAAAAAACEAAAAAAAAAQQAAAAAAAABBAAAAAAAAAEEAAAAAAAAAIQAAAAAAAABBAAAAAAAAAEEAAAAAAAAAQQAAAAAAAABBAAAAAAAAAAEAAAAAAAADwPwAAAAAAABBAAAAAAAAAEEAAAAAAAAAQQAAAAAAAAAhAAAAAAAAAEEAAAAAAAAAQQAAAAAAAABBAAAAAAAAACEAAAAAAAAAQQAAAAAAAAPA/AAAAAAAAEEAAAAAAAAAIQAAAAAAAAPA/AAAAAAAAEEAAAAAAAAAQQAAAAAAAAAhAAAAAAAAAEEAAAAAAAAAQQAAAAAAAABBAAAAAAAAACEAAAAAAAAAIQAAAAAAAAABAAAAAAAAAEEAAAAAAAAAIQAAAAAAAABBAAAAAAAAACEAAAAAAAAAIQAAAAAAAAAhAAAAAAAAACEAAAAAAAAAQQAAAAAAAABBAAAAAAAAA8D8AAAAAAAAQQAAAAAAAABBAAAAAAAAAEEAAAAAAAAAQQAAAAAAAABBAAAAAAAAAEEAAAAAAAAAQQAAAAAAAABBAAAAAAAAAEEAAAAAAAAAQQAAAAAAAABBAAAAAAAAAEEAAAAAAAAAQQAAAAAAAABBAAAAAAAAACEAAAAAAAADwPwAAAAAAABBAAAAAAAAACEAAAAAAAAAQQAAAAAAAABBAAAAAAAAAEEAAAAAAAAAQQAAAAAAAABBAAAAAAAAAEEAAAAAAAADwPwAAAAAAAAhAAAAAAAAAEEAAAAAAAAAQQAAAAAAAABBAAAAAAAAACEAAAAAAAAAQQAAAAAAAABBAAAAAAAAAEEAAAAAAAAAQQAAAAAAAAAhAAAAAAAAAEEAAAAAAAAAIQAAAAAAAABBAAAAAAAAACEAAAAAAAAAQQAAAAAAAABBAAAAAAAAAEEAAAAAAAAAAQAAAAAAAAAhAAAAAAAAACEAAAAAAAAAIQAAAAAAAABBAAAAAAAAAEEAAAAAAAAAQQAAAAAAAABBAAAAAAAAACEAAAAAAAAAQQAAAAAAAABBAAAAAAAAAEEAAAAAAAAAIQAAAAAAAAPA/AAAAAAAAEEAAAAAAAAAIQAAAAAAAABBAAAAAAAAAEEAAAAAAAAAIQAAAAAAAABBAAAAAAAAAEEAAAAAAAAAQQAAAAAAAABBAAAAAAAAA8D8AAAAAAAAAQAAAAAAAAPA/AAAAAAAAEEAAAAAAAAAQQAAAAAAAABBAAAAAAAAA8D8AAAAAAADwPwAAAAAAAAhAAAAAAAAACEAAAAAAAADwPwAAAAAAABBAAAAAAAAAEEAAAAAAAAAQQAAAAAAAABBAAAAAAAAAEEAAAAAAAAAIQAAAAAAAAPA/AAAAAAAA8D8AAAAAAAAIQAAAAAAAABBAAAAAAAAAEEAAAAAAAAAQQAAAAAAAAABAAAAAAAAAEEAAAAAAAAAQQAAAAAAAABBAAAAAAAAACEAAAAAAAAAQQAAAAAAAABBAAAAAAAAAEEAAAAAAAAAQQAAAAAAAAAhAAAAAAAAACEAAAAAAAAAQQAAAAAAAABBAAAAAAAAAEEAAAAAAAADwPwAAAAAAAAhAAAAAAAAA8D8AAAAAAAAQQAAAAAAAAABAAAAAAAAAEEAAAAAAAAAQQAAAAAAAAAhAAAAAAAAACEAAAAAAAAAQQAAAAAAAAAhAAAAAAAAACEAAAAAAAAAQQAAAAAAAABBAAAAAAAAAEEAAAAAAAAAIQAAAAAAAABBAAAAAAAAA8D8AAAAAAAAIQAAAAAAAABBAAAAAAAAACEAAAAAAAAAQQAAAAAAAAAhAAAAAAAAACEAAAAAAAAAQQAAAAAAAAAhAAAAAAAAAEEAAAAAAAAAIQAAAAAAAAPA/AAAAAAAACEAAAAAAAAAIQAAAAAAAAAhAAAAAAAAAEEAAAAAAAAAQQAAAAAAAABBAAAAAAAAAEEAAAAAAAADwPwAAAAAAAAhAAAAAAAAAEEAAAAAAAAAIQAAAAAAAABBAAAAAAAAAEEAAAAAAAADwPwAAAAAAABBAAAAAAAAAEEAAAAAAAAAQQAAAAAAAABBAAAAAAAAAEEAAAAAAAAAQQAAAAAAAABBAAAAAAAAAEEAAAAAAAAAQQAAAAAAAABBAAAAAAAAAEEAAAAAAAAAQQAAAAAAAAAhAAAAAAAAAEEAAAAAAAADwPwAAAAAAAPA/AAAAAAAAEEAAAAAAAAAAQAAAAAAAABBAAAAAAAAAEEAAAAAAAAAQQAAAAAAAABBAAAAAAAAAEEAAAAAAAAAQQAAAAAAAABBAAAAAAAAACEAAAAAAAAAIQAAAAAAAABBAAAAAAAAACEAAAAAAAAAQQAAAAAAAAAhAAAAAAAAAEEAAAAAAAAAAQAAAAAAAABBAAAAAAAAAEEAAAAAAAADwPwAAAAAAABBAAAAAAAAACEAAAAAAAAAIQAAAAAAAABBAAAAAAAAACEAAAAAAAAAQQAAAAAAAABBAAAAAAAAACEAAAAAAAAAQQAAAAAAAAPA/AAAAAAAAEEAAAAAAAAAQQAAAAAAAABBAAAAAAAAACEAAAAAAAAAIQAAAAAAAABBAAAAAAAAA8D8AAAAAAADwPwAAAAAAABBAAAAAAAAACEAAAAAAAAAQQAAAAAAAABBAAAAAAAAACEAAAAAAAAAQQAAAAAAAAPA/AAAAAAAAEEAAAAAAAAAAQAAAAAAAABBAAAAAAAAAEEAAAAAAAAAQQAAAAAAAAABAAAAAAAAAEEAAAAAAAAAIQAAAAAAAAAhAAAAAAAAAEEAAAAAAAADwPwAAAAAAAAhAAAAAAAAAEEAAAAAAAAAQQAAAAAAAABBAAAAAAAAAEEAAAAAAAAAQQAAAAAAAABBAAAAAAAAAEEAAAAAAAAAIQAAAAAAAABBAAAAAAAAAEEAAAAAAAAAQQAAAAAAAABBAAAAAAAAACEAAAAAAAAAQQAAAAAAAABBAAAAAAAAAEEAAAAAAAAAQQAAAAAAAAAhAAAAAAAAAAEAAAAAAAAAIQAAAAAAAABBAAAAAAAAAEEAAAAAAAAAQQAAAAAAAABBAAAAAAAAAEEAAAAAAAAAQQAAAAAAAABBAAAAAAAAA8D8AAAAAAAAIQAAAAAAAAPA/AAAAAAAAEEAAAAAAAAAIQAAAAAAAABBAAAAAAAAA8D8AAAAAAAAIQAAAAAAAAAhAAAAAAAAAEEAAAAAAAAAAQAAAAAAAABBAAAAAAAAA8D8AAAAAAAAQQAAAAAAAABBAAAAAAAAACEAAAAAAAAAQQAAAAAAAABBAAAAAAAAAEEAAAAAAAAAQQAAAAAAAAAhAAAAAAAAACEAAAAAAAAAQQAAAAAAAAAhAAAAAAAAAEEAAAAAAAADwPwAAAAAAABBAAAAAAAAACEAAAAAAAAAIQAAAAAAAABBAAAAAAAAACEAAAAAAAAAQQAAAAAAAAAhAAAAAAAAACEAAAAAAAAAIQAAAAAAAAAhAAAAAAAAAEEAAAAAAAAAAQAAAAAAAAAhAAAAAAAAAEEAAAAAAAAAIQAAAAAAAABBAAAAAAAAA8D8AAAAAAAAQQAAAAAAAABBAAAAAAAAAEEAAAAAAAAAQQAAAAAAAABBAAAAAAAAAEEAAAAAAAAAQQAAAAAAAABBAAAAAAAAACEAAAAAAAAAQQAAAAAAAAPA/AAAAAAAACEAAAAAAAAAAQAAAAAAAAPA/AAAAAAAAEEAAAAAAAAAQQAAAAAAAABBAAAAAAAAAEEAAAAAAAAAIQAAAAAAAABBAAAAAAAAA8D8AAAAAAAAQQAAAAAAAABBAAAAAAAAACEAAAAAAAAAQQAAAAAAAABBAAAAAAAAAEEAAAAAAAAAQQAAAAAAAABBAAAAAAAAAEEAAAAAAAAAQQAAAAAAAABBAAAAAAAAACEAAAAAAAAAQQAAAAAAAABBAAAAAAAAAEEAAAAAAAAAQQAAAAAAAAAhAAAAAAAAAEEAAAAAAAAAQQAAAAAAAABBAAAAAAAAAEEAAAAAAAAAQQAAAAAAAAABAAAAAAAAAEEAAAAAAAAAQQAAAAAAAABBAAAAAAAAAEEAAAAAAAAAAQAAAAAAAAAhAAAAAAAAAEEAAAAAAAAAQQAAAAAAAAAhAAAAAAAAAEEAAAAAAAAAQQAAAAAAAAPA/AAAAAAAAEEAAAAAAAAAAQAAAAAAAABBAAAAAAAAACEAAAAAAAADwPwAAAAAAAAhAAAAAAAAAEEAAAAAAAAAQQAAAAAAAAAhAAAAAAAAAEEAAAAAAAAAQQAAAAAAAAABAAAAAAAAAEEAAAAAAAAAQQAAAAAAAAPA/AAAAAAAAEEAAAAAAAAAQQAAAAAAAABBAAAAAAAAA8D8AAAAAAAAQQAAAAAAAAABAAAAAAAAACEAAAAAAAAAIQAAAAAAAABBAAAAAAAAAEEAAAAAAAAAAQAAAAAAAABBAAAAAAAAAEEAAAAAAAAAQQAAAAAAAABBAAAAAAAAACEAAAAAAAAAQQAAAAAAAAAhAAAAAAAAAEEAAAAAAAAAQQAAAAAAAABBAAAAAAAAAEEAAAAAAAAAQQAAAAAAAABBAAAAAAAAAEEAAAAAAAAAIQAAAAAAAABBAAAAAAAAAEEAAAAAAAAAQQAAAAAAAABBAAAAAAAAAEEAAAAAAAAAQQAAAAAAAAAhAAAAAAAAACEAAAAAAAAAAQAAAAAAAAABAAAAAAAAAEEAAAAAAAAAIQAAAAAAAABBAAAAAAAAACEAAAAAAAAAQQAAAAAAAAPA/AAAAAAAAEEAAAAAAAAAAQAAAAAAAABBAAAAAAAAAEEAAAAAAAAAQQAAAAAAAABBAAAAAAAAAEEAAAAAAAAAIQAAAAAAAAAhAAAAAAAAACEAAAAAAAAAIQAAAAAAAAPA/AAAAAAAAAEAAAAAAAAAQQAAAAAAAAPA/AAAAAAAAEEAAAAAAAAAQQAAAAAAAABBAAAAAAAAACEAAAAAAAAAAQAAAAAAAAABAAAAAAAAA8D8AAAAAAAAAQAAAAAAAAAhAAAAAAAAAEEAAAAAAAADwPwAAAAAAAAhAAAAAAAAA8D8AAAAAAAAIQAAAAAAAAABAAAAAAAAACEAAAAAAAAAQQAAAAAAAABBAAAAAAAAAEEAAAAAAAAAIQAAAAAAAABBAAAAAAAAAEEAAAAAAAAAQQAAAAAAAABBAAAAAAAAAEEAAAAAAAAAQQAAAAAAAAAhAAAAAAAAAEEAAAAAAAAAIQAAAAAAAABBAAAAAAAAAEEAAAAAAAAAAQAAAAAAAABBAAAAAAAAAEEAAAAAAAAAQQAAAAAAAABBAAAAAAAAACEAAAAAAAAAQQAAAAAAAABBAAAAAAAAA8D8AAAAAAAAQQAAAAAAAABBAAAAAAAAAEEAAAAAAAAAQQAAAAAAAABBAAAAAAAAAEEAAAAAAAAAQQAAAAAAAAAhAAAAAAAAAEEAAAAAAAAAQQAAAAAAAAAhAAAAAAAAAEEAAAAAAAAAIQAAAAAAAAAhAAAAAAAAAEEAAAAAAAAAQQAAAAAAAAAhAAAAAAAAACEAAAAAAAAAQQAAAAAAAAAhAAAAAAAAAEEAAAAAAAAAQQAAAAAAAAAhAAAAAAAAA8D8AAAAAAADwPwAAAAAAAAhAAAAAAAAAAEAAAAAAAADwPwAAAAAAAAhAAAAAAAAAEEAAAAAAAAAIQAAAAAAAAAhAAAAAAAAACEAAAAAAAAAQQAAAAAAAAPA/AAAAAAAA8D8AAAAAAAAQQAAAAAAAAAhAAAAAAAAACEAAAAAAAAAIQAAAAAAAABBAAAAAAAAAEEAAAAAAAAAQQAAAAAAAAAhAAAAAAAAAEEAAAAAAAAAAQAAAAAAAABBAAAAAAAAAEEAAAAAAAAAIQAAAAAAAABBAAAAAAAAAEEAAAAAAAADwPwAAAAAAABBAAAAAAAAAEEAAAAAAAAAQQAAAAAAAABBAAAAAAAAAEEAAAAAAAAAQQAAAAAAAABBAAAAAAAAACEAAAAAAAAAQQAAAAAAAAAhAAAAAAAAAEEAAAAAAAADwPwAAAAAAABBAAAAAAAAAEEAAAAAAAAAQQAAAAAAAABBAAAAAAAAAEEAAAAAAAADwPwAAAAAAAPA/AAAAAAAAEEAAAAAAAAAIQAAAAAAAABBAAAAAAAAAEEAAAAAAAAAQQAAAAAAAABBAAAAAAAAAEEAAAAAAAAAQQAAAAAAAABBAAAAAAAAAEEAAAAAAAAAQQAAAAAAAAABAAAAAAAAA8D8AAAAAAAAQQAAAAAAAAPA/AAAAAAAACEAAAAAAAAAQQAAAAAAAABBAAAAAAAAACEAAAAAAAAAQQAAAAAAAAPA/AAAAAAAAEEAAAAAAAAAIQAAAAAAAAPA/AAAAAAAAAEAAAAAAAAAIQAAAAAAAABBAAAAAAAAAEEAAAAAAAAAQQAAAAAAAAAhAAAAAAAAAEEAAAAAAAAAQQAAAAAAAABBAAAAAAAAAEEAAAAAAAAAQQAAAAAAAABBAAAAAAAAAEEAAAAAAAAAQQAAAAAAAABBAAAAAAAAAEEAAAAAAAAAQQAAAAAAAABBAAAAAAAAAEEAAAAAAAADwPwAAAAAAAAhAAAAAAAAACEAAAAAAAAAQQAAAAAAAABBAAAAAAAAACEAAAAAAAAAIQAAAAAAAABBAAAAAAAAAEEAAAAAAAAAQQAAAAAAAABBAAAAAAAAAEEAAAAAAAAAQQAAAAAAAAAhAAAAAAAAAEEAAAAAAAADwPwAAAAAAABBAAAAAAAAACEAAAAAAAAAIQAAAAAAAABBAAAAAAAAAEEAAAAAAAAAQQAAAAAAAABBAAAAAAAAAEEAAAAAAAAAQQAAAAAAAAAhAAAAAAAAAEEAAAAAAAAAQQAAAAAAAAAhAAAAAAAAACEAAAAAAAAAQQAAAAAAAABBAAAAAAAAAEEAAAAAAAAAQQAAAAAAAABBAAAAAAAAAEEAAAAAAAAAIQAAAAAAAABBAAAAAAAAACEAAAAAAAAAAQAAAAAAAABBAAAAAAAAAEEAAAAAAAADwPwAAAAAAAAhAAAAAAAAAEEAAAAAAAAAQQAAAAAAAABBAAAAAAAAAEEAAAAAAAAAIQAAAAAAAAPA/AAAAAAAA8D8AAAAAAAAQQAAAAAAAAPA/AAAAAAAACEAAAAAAAAAQQAAAAAAAAABAAAAAAAAACEAAAAAAAADwPwAAAAAAABBAAAAAAAAAEEAAAAAAAAAQQAAAAAAAAABAAAAAAAAA8D8AAAAAAAAQQAAAAAAAABBAAAAAAAAACEAAAAAAAAAQQAAAAAAAABBAAAAAAAAACEAAAAAAAAAIQAAAAAAAAAhAAAAAAAAACEAAAAAAAAAIQAAAAAAAAAhAAAAAAAAAEEAAAAAAAAAQQAAAAAAAAPA/AAAAAAAACEAAAAAAAAAQQAAAAAAAAAhAAAAAAAAAEEAAAAAAAAAIQAAAAAAAAAhAAAAAAAAAEEAAAAAAAAAIQAAAAAAAABBAAAAAAAAAEEAAAAAAAAAIQAAAAAAAAPA/AAAAAAAAEEAAAAAAAAAQQAAAAAAAABBAAAAAAAAAEEAAAAAAAAAIQAAAAAAAABBAAAAAAAAAEEAAAAAAAAAQQAAAAAAAABBAAAAAAAAAEEAAAAAAAAAQQAAAAAAAABBAAAAAAAAAEEAAAAAAAAAQQAAAAAAAABBAAAAAAAAA8D8AAAAAAAAQQAAAAAAAAAhAAAAAAAAA8D8AAAAAAAAIQAAAAAAAAPA/AAAAAAAAEEAAAAAAAAAIQAAAAAAAABBAAAAAAAAACEAAAAAAAADwPwAAAAAAABBAAAAAAAAAEEAAAAAAAAAQQAAAAAAAAAhAAAAAAAAAEEAAAAAAAAAQQAAAAAAAAPA/AAAAAAAACEAAAAAAAAAQQAAAAAAAABBAAAAAAAAA8D8AAAAAAAAQQAAAAAAAAAhAAAAAAAAA8D8AAAAAAADwPwAAAAAAAABAAAAAAAAAEEAAAAAAAAAIQAAAAAAAAAhAAAAAAAAA8D8AAAAAAAAQQAAAAAAAAAhAAAAAAAAAEEAAAAAAAAAIQAAAAAAAAAhAAAAAAAAACEAAAAAAAAAQQAAAAAAAABBAAAAAAAAACEAAAAAAAAAIQAAAAAAAABBAAAAAAAAACEAAAAAAAAAQQAAAAAAAABBAAAAAAAAAEEAAAAAAAAAAQAAAAAAAAAhAAAAAAAAAEEAAAAAAAAAQQAAAAAAAABBAAAAAAAAACEAAAAAAAAAQQAAAAAAAABBAAAAAAAAAEEAAAAAAAAAQQAAAAAAAAPA/AAAAAAAA8D8AAAAAAAAQQAAAAAAAABBAAAAAAAAA8D8AAAAAAAAIQAAAAAAAABBAAAAAAAAAEEAAAAAAAAAAQAAAAAAAAAhAAAAAAAAACEAAAAAAAADwPwAAAAAAABBAAAAAAAAAEEAAAAAAAAAIQAAAAAAAABBAAAAAAAAACEAAAAAAAAAQQAAAAAAAABBAAAAAAAAACEAAAAAAAADwPwAAAAAAAPA/AAAAAAAAEEAAAAAAAADwPwAAAAAAAABAAAAAAAAAEEAAAAAAAAAQQAAAAAAAABBAAAAAAAAA8D8AAAAAAAAQQAAAAAAAAPA/AAAAAAAA8D8AAAAAAAAIQAAAAAAAABBAAAAAAAAAEEAAAAAAAAAQQAAAAAAAABBAAAAAAAAAEEAAAAAAAAAQQAAAAAAAAPA/AAAAAAAAEEAAAAAAAAAQQAAAAAAAABBAAAAAAAAA8D8AAAAAAADwPwAAAAAAABBAAAAAAAAA8D8AAAAAAAAIQAAAAAAAAAhAAAAAAAAACEAAAAAAAAAQQAAAAAAAAAhAAAAAAAAAAEAAAAAAAAAQQAAAAAAAAAhAAAAAAAAAEEAAAAAAAADwPwAAAAAAABBAAAAAAAAAEEAAAAAAAAAQQAAAAAAAAAhAAAAAAAAAEEAAAAAAAAAQQAAAAAAAAAhAAAAAAAAAEEAAAAAAAAAQQAAAAAAAAABAAAAAAAAAEEAAAAAAAAAQQAAAAAAAAAhAAAAAAAAA8D8AAAAAAAAIQAAAAAAAAPA/AAAAAAAACEAAAAAAAADwPwAAAAAAAAhAAAAAAAAAEEAAAAAAAAAQQAAAAAAAAAhAAAAAAAAACEAAAAAAAAAQQAAAAAAAAAhAAAAAAAAAEEAAAAAAAAAQQAAAAAAAAAhAAAAAAAAACEAAAAAAAAAQQAAAAAAAAAhAAAAAAAAAEEAAAAAAAAAQQAAAAAAAABBAAAAAAAAAEEAAAAAAAAAIQAAAAAAAAAhAAAAAAAAAEEAAAAAAAAAQQAAAAAAAAAhAAAAAAAAACEAAAAAAAAAQQAAAAAAAABBAAAAAAAAAEEAAAAAAAAAAQAAAAAAAAPA/AAAAAAAAEEAAAAAAAAAQQAAAAAAAABBAAAAAAAAAEEAAAAAAAAAQQAAAAAAAAAhAAAAAAAAAEEAAAAAAAAAQQAAAAAAAAAhAAAAAAAAAEEAAAAAAAADwPwAAAAAAAAhAAAAAAAAACEAAAAAAAAAQQAAAAAAAAAhAAAAAAAAACEAAAAAAAAAQQAAAAAAAABBAAAAAAAAAEEAAAAAAAAAQQAAAAAAAABBAAAAAAAAACEAAAAAAAAAIQAAAAAAAAABAAAAAAAAAEEAAAAAAAAAQQAAAAAAAABBAAAAAAAAA8D8AAAAAAAAAQAAAAAAAAAhAAAAAAAAAEEAAAAAAAAAQQAAAAAAAABBAAAAAAAAAEEAAAAAAAAAQQAAAAAAAAAhAAAAAAAAAEEAAAAAAAAAAQAAAAAAAAAhAAAAAAAAAAEAAAAAAAAAIQAAAAAAAABBAAAAAAAAACEAAAAAAAAAQQAAAAAAAABBAAAAAAAAAEEAAAAAAAAAQQAAAAAAAABBAAAAAAAAAEEAAAAAAAAAIQAAAAAAAAAhAAAAAAAAAEEAAAAAAAAAQQAAAAAAAABBAAAAAAAAACEAAAAAAAAAQQAAAAAAAABBAAAAAAAAAEEAAAAAAAAAQQAAAAAAAAAhAAAAAAAAAAEAAAAAAAAAQQAAAAAAAAAhAAAAAAAAAEEAAAAAAAAAQQAAAAAAAAPA/AAAAAAAAEEAAAAAAAAAQQAAAAAAAAPA/AAAAAAAAEEAAAAAAAAAIQAAAAAAAAABAAAAAAAAAEEAAAAAAAAAQQAAAAAAAAAhAAAAAAAAAEEAAAAAAAAAQQAAAAAAAABBAAAAAAAAACEAAAAAAAAAQQAAAAAAAAPA/AAAAAAAAEEAAAAAAAAAIQAAAAAAAABBAAAAAAAAAEEAAAAAAAAAIQAAAAAAAABBAAAAAAAAAEEAAAAAAAAAQQAAAAAAAABBAAAAAAAAAEEAAAAAAAAAQQAAAAAAAAPA/AAAAAAAAEEAAAAAAAAAIQAAAAAAAAAhAAAAAAAAAEEAAAAAAAAAIQAAAAAAAABBAAAAAAAAAEEAAAAAAAAAQQAAAAAAAABBAAAAAAAAAEEAAAAAAAADwPwAAAAAAAAhAAAAAAAAAEEAAAAAAAAAIQAAAAAAAABBAAAAAAAAACEAAAAAAAAAQQAAAAAAAAPA/AAAAAAAAEEAAAAAAAAAIQAAAAAAAAAhAAAAAAAAAEEAAAAAAAAAIQAAAAAAAABBAAAAAAAAAEEAAAAAAAAAQQAAAAAAAABBAAAAAAAAAEEAAAAAAAAAIQAAAAAAAABBAAAAAAAAAEEAAAAAAAAAQQAAAAAAAABBAAAAAAAAAAEAAAAAAAAAQQAAAAAAAABBAAAAAAAAACEAAAAAAAAAQQAAAAAAAAAhAAAAAAAAAEEAAAAAAAAAIQAAAAAAAABBAAAAAAAAAEEAAAAAAAAAAQAAAAAAAABBAAAAAAAAAEEAAAAAAAAAQQAAAAAAAABBAAAAAAAAAEEAAAAAAAAAQQAAAAAAAABBAAAAAAAAAEEAAAAAAAAAIQAAAAAAAABBAAAAAAAAACEAAAAAAAAAIQAAAAAAAABBAAAAAAAAACEAAAAAAAAAQQAAAAAAAABBAAAAAAAAACEAAAAAAAAAIQAAAAAAAABBAAAAAAAAAEEAAAAAAAAAIQAAAAAAAAPA/AAAAAAAAEEAAAAAAAAAQQAAAAAAAAPA/AAAAAAAAEEAAAAAAAADwPwAAAAAAABBAAAAAAAAAAEAAAAAAAAAQQAAAAAAAABBAAAAAAAAAEEAAAAAAAAAQQAAAAAAAAPA/AAAAAAAA8D8AAAAAAAAQQAAAAAAAABBAAAAAAAAAEEAAAAAAAADwPwAAAAAAABBAAAAAAAAAEEAAAAAAAAAQQAAAAAAAABBAAAAAAAAACEAAAAAAAAAQQAAAAAAAAPA/AAAAAAAA8D8AAAAAAAAIQAAAAAAAAAhAAAAAAAAACEAAAAAAAAAQQAAAAAAAABBAAAAAAAAAEEAAAAAAAAAIQAAAAAAAABBAAAAAAAAAEEAAAAAAAAAIQAAAAAAAABBAAAAAAAAAEEAAAAAAAAAQQAAAAAAAABBAAAAAAAAACEAAAAAAAAAIQAAAAAAAAAhAAAAAAAAAEEAAAAAAAADwPwAAAAAAABBAAAAAAAAAEEAAAAAAAAAQQAAAAAAAAPA/AAAAAAAAEEAAAAAAAAAIQAAAAAAAABBAAAAAAAAACEAAAAAAAADwPwAAAAAAAAhAAAAAAAAAEEAAAAAAAAAQQAAAAAAAABBAAAAAAAAAEEAAAAAAAAAQQAAAAAAAABBAAAAAAAAACEAAAAAAAAAQQAAAAAAAABBAAAAAAAAA8D8AAAAAAAAQQAAAAAAAAPA/AAAAAAAA8D8AAAAAAAAIQAAAAAAAABBAAAAAAAAA8D8AAAAAAAAIQAAAAAAAAPA/AAAAAAAAEEAAAAAAAADwPwAAAAAAABBAAAAAAAAAEEAAAAAAAADwPwAAAAAAABBAAAAAAAAA8D8AAAAAAAAIQAAAAAAAAAhAAAAAAAAAEEAAAAAAAAAIQAAAAAAAABBAAAAAAAAACEAAAAAAAAAIQAAAAAAAAAhAAAAAAAAAEEAAAAAAAAAQQAAAAAAAABBAAAAAAAAAEEAAAAAAAAAQQAAAAAAAAAhAAAAAAAAAEEAAAAAAAAAQQAAAAAAAAPA/AAAAAAAAEEAAAAAAAAAQQAAAAAAAAABAAAAAAAAAEEAAAAAAAAAAQAAAAAAAABBAAAAAAAAAEEAAAAAAAAAIQAAAAAAAABBAAAAAAAAAEEAAAAAAAADwPwAAAAAAAABAAAAAAAAAEEAAAAAAAAAQQAAAAAAAABBAAAAAAAAAEEAAAAAAAAAQQAAAAAAAABBAAAAAAAAAEEAAAAAAAAAQQAAAAAAAABBAAAAAAAAA8D8AAAAAAAAIQAAAAAAAAAhAAAAAAAAA8D8AAAAAAAAQQAAAAAAAAAhAAAAAAAAA8D8AAAAAAAAQQAAAAAAAABBAAAAAAAAAEEAAAAAAAAAQQAAAAAAAABBAAAAAAAAACEAAAAAAAAAQQAAAAAAAABBAAAAAAAAACEAAAAAAAAAIQAAAAAAAABBAAAAAAAAACEAAAAAAAAAQQAAAAAAAAPA/AAAAAAAAEEAAAAAAAAAQQAAAAAAAABBAAAAAAAAAEEAAAAAAAAAAQAAAAAAAABBAAAAAAAAAEEAAAAAAAAAQQAAAAAAAABBAAAAAAAAAAEAAAAAAAAAQQAAAAAAAAABAAAAAAAAAEEAAAAAAAAAQQAAAAAAAAAhAAAAAAAAA8D8AAAAAAAAQQAAAAAAAABBAAAAAAAAAEEAAAAAAAAAQQAAAAAAAABBAAAAAAAAACEAAAAAAAAAQQAAAAAAAABBAAAAAAAAACEAAAAAAAAAIQAAAAAAAABBAAAAAAAAAEEAAAAAAAAAQQAAAAAAAAPA/AAAAAAAAEEAAAAAAAAAQQAAAAAAAABBAAAAAAAAAEEAAAAAAAADwPwAAAAAAABBAAAAAAAAAEEAAAAAAAADwPwAAAAAAABBAAAAAAAAACEAAAAAAAAAIQAAAAAAAAAhAAAAAAAAACEAAAAAAAAAQQAAAAAAAABBAAAAAAAAAEEAAAAAAAAAIQAAAAAAAABBAAAAAAAAACEAAAAAAAAAIQAAAAAAAABBAAAAAAAAACEAAAAAAAADwPwAAAAAAABBAAAAAAAAACEAAAAAAAAAIQAAAAAAAABBAAAAAAAAAEEAAAAAAAADwPwAAAAAAAAhAAAAAAAAAEEAAAAAAAAAAQAAAAAAAABBAAAAAAAAAEEAAAAAAAAAQQAAAAAAAABBAAAAAAAAAEEAAAAAAAAAIQAAAAAAAABBAAAAAAAAAEEAAAAAAAAAIQAAAAAAAAAhAAAAAAAAAEEAAAAAAAAAQQAAAAAAAAAhAAAAAAAAAEEAAAAAAAAAQQAAAAAAAAAhAAAAAAAAAEEAAAAAAAAAQQAAAAAAAAAhAAAAAAAAAAEAAAAAAAAAAQAAAAAAAAPA/AAAAAAAAEEAAAAAAAAAQQAAAAAAAAAhAAAAAAAAACEAAAAAAAAAQQAAAAAAAABBAAAAAAAAACEAAAAAAAAAQQAAAAAAAABBAAAAAAAAAEEAAAAAAAAAQQAAAAAAAABBAAAAAAAAACEAAAAAAAAAIQAAAAAAAABBAAAAAAAAAEEAAAAAAAAAQQAAAAAAAABBAAAAAAAAAEEAAAAAAAAAQQAAAAAAAAAhAAAAAAAAAEEAAAAAAAAAQQAAAAAAAABBAAAAAAAAA8D8AAAAAAADwPwAAAAAAABBAAAAAAAAAEEAAAAAAAAAAQAAAAAAAABBAAAAAAAAAEEAAAAAAAAAIQAAAAAAAAAhAAAAAAAAA8D8AAAAAAAAQQAAAAAAAABBAAAAAAAAA8D8AAAAAAAAQQAAAAAAAABBAAAAAAAAACEAAAAAAAAAQQAAAAAAAAPA/AAAAAAAAEEAAAAAAAAAIQAAAAAAAABBAAAAAAAAACEAAAAAAAAAQQAAAAAAAABBAAAAAAAAAEEAAAAAAAAAQQAAAAAAAABBAAAAAAAAAEEAAAAAAAAAQQAAAAAAAABBAAAAAAAAAEEAAAAAAAAAQQAAAAAAAAAhAAAAAAAAAEEAAAAAAAAAQQAAAAAAAABBAAAAAAAAAEEAAAAAAAAAQQAAAAAAAABBAAAAAAAAAEEAAAAAAAADwPwAAAAAAAAhAAAAAAAAAEEAAAAAAAAAQQAAAAAAAABBAAAAAAAAAAEAAAAAAAADwPwAAAAAAABBAAAAAAAAACEAAAAAAAAAQQAAAAAAAABBAAAAAAAAAEEAAAAAAAAAIQAAAAAAAABBAAAAAAAAAAEAAAAAAAAAQQAAAAAAAAPA/AAAAAAAAEEAAAAAAAAAIQAAAAAAAAABAAAAAAAAACEAAAAAAAAAQQAAAAAAAAAhAAAAAAAAA8D8AAAAAAADwPwAAAAAAAAhAAAAAAAAAEEAAAAAAAAAQQAAAAAAAAAhAAAAAAAAAEEAAAAAAAAAQQAAAAAAAABBAAAAAAAAAEEAAAAAAAADwPwAAAAAAABBAAAAAAAAAEEAAAAAAAADwPwAAAAAAABBAAAAAAAAAEEAAAAAAAAAQQAAAAAAAABBAAAAAAAAAEEAAAAAAAAAQQAAAAAAAABBAAAAAAAAAEEAAAAAAAAAIQAAAAAAAABBAAAAAAAAAEEAAAAAAAAAQQAAAAAAAABBAAAAAAAAAEEAAAAAAAAAQQAAAAAAAABBAAAAAAAAACEAAAAAAAAAQQAAAAAAAABBAAAAAAAAAAEAAAAAAAAAQQAAAAAAAAPA/AAAAAAAAEEAAAAAAAAAQQAAAAAAAAAhAAAAAAAAAEEAAAAAAAAAIQAAAAAAAABBAAAAAAAAAEEAAAAAAAADwPwAAAAAAABBAAAAAAAAAEEAAAAAAAAAIQAAAAAAAABBAAAAAAAAACEAAAAAAAAAQQAAAAAAAABBAAAAAAAAACEAAAAAAAAAQQAAAAAAAABBAAAAAAAAAEEAAAAAAAADwPwAAAAAAABBAAAAAAAAAEEAAAAAAAAAQQAAAAAAAAAhAAAAAAAAAEEAAAAAAAAAQQAAAAAAAABBAAAAAAAAACEAAAAAAAADwPwAAAAAAABBAAAAAAAAACEAAAAAAAAAIQAAAAAAAABBAAAAAAAAAEEAAAAAAAAAIQAAAAAAAABBAAAAAAAAAEEAAAAAAAAAQQAAAAAAAABBAAAAAAAAACEAAAAAAAADwPwAAAAAAAABAAAAAAAAA8D8AAAAAAAAIQAAAAAAAABBAAAAAAAAAEEAAAAAAAADwPwAAAAAAABBAAAAAAAAA8D8AAAAAAAAQQAAAAAAAABBAAAAAAAAAEEAAAAAAAAAQQAAAAAAAABBAAAAAAAAAEEAAAAAAAADwPwAAAAAAAAhAAAAAAAAAEEAAAAAAAAAAQAAAAAAAABBAAAAAAAAAEEAAAAAAAAAQQAAAAAAAABBAAAAAAAAAEEAAAAAAAAAQQAAAAAAAABBAAAAAAAAAEEAAAAAAAAAQQAAAAAAAABBAAAAAAAAAEEAAAAAAAAAQQAAAAAAAABBAAAAAAAAAEEAAAAAAAAAQQAAAAAAAABBAAAAAAAAA8D8AAAAAAAAIQAAAAAAAABBAAAAAAAAAEEAAAAAAAAAQQAAAAAAAAPA/AAAAAAAACEAAAAAAAAAQQAAAAAAAABBAAAAAAAAACEAAAAAAAAAQQAAAAAAAABBAAAAAAAAA8D8AAAAAAAAQQAAAAAAAABBAAAAAAAAAEEAAAAAAAAAQQAAAAAAAABBAAAAAAAAAEEAAAAAAAAAQQAAAAAAAAPA/AAAAAAAAEEAAAAAAAAAQQAAAAAAAABBAAAAAAAAAEEAAAAAAAAAIQAAAAAAAAAhAAAAAAAAAEEAAAAAAAAAAQAAAAAAAABBAAAAAAAAAEEAAAAAAAAAIQAAAAAAAABBAAAAAAAAA8D8AAAAAAAAIQAAAAAAAABBAAAAAAAAAEEAAAAAAAAAQQAAAAAAAABBAAAAAAAAA8D8AAAAAAAAQQAAAAAAAABBAAAAAAAAAEEAAAAAAAAAQQAAAAAAAAPA/AAAAAAAAEEAAAAAAAAAIQAAAAAAAABBAAAAAAAAAEEAAAAAAAAAQQAAAAAAAABBAAAAAAAAAEEAAAAAAAAAQQAAAAAAAAPA/AAAAAAAAEEAAAAAAAAAQQAAAAAAAAAhAAAAAAAAA8D8AAAAAAAAIQAAAAAAAABBAAAAAAAAAEEAAAAAAAAAIQAAAAAAAAAhAAAAAAAAACEAAAAAAAAAIQAAAAAAAAAhAAAAAAAAAEEAAAAAAAAAQQAAAAAAAAAhAAAAAAAAAEEAAAAAAAAAIQAAAAAAAAAhAAAAAAAAAEEAAAAAAAAAQQAAAAAAAABBAAAAAAAAAEEAAAAAAAAAQQAAAAAAAAAhAAAAAAAAAEEAAAAAAAAAAQAAAAAAAABBAAAAAAAAAEEAAAAAAAAAQQAAAAAAAABBAAAAAAAAA8D8AAAAAAAAQQAAAAAAAABBAAAAAAAAACEAAAAAAAAAQQAAAAAAAABBAAAAAAAAAEEAAAAAAAAAIQAAAAAAAAAhAAAAAAAAAEEAAAAAAAADwPwAAAAAAAPA/AAAAAAAAEEAAAAAAAADwPwAAAAAAABBAAAAAAAAACEAAAAAAAAAQQAAAAAAAAAhAAAAAAAAACEAAAAAAAAAQQAAAAAAAABBAAAAAAAAAEEAAAAAAAAAQQAAAAAAAABBAAAAAAAAAEEAAAAAAAADwPwAAAAAAAAhAAAAAAAAAEEAAAAAAAAAQQAAAAAAAAAhAAAAAAAAAEEAAAAAAAADwPwAAAAAAABBAAAAAAAAA8D8AAAAAAAAIQAAAAAAAABBAAAAAAAAAAEAAAAAAAAAQQAAAAAAAABBAAAAAAAAAEEAAAAAAAAAIQAAAAAAAABBAAAAAAAAA8D8AAAAAAAAQQAAAAAAAAPA/AAAAAAAACEAAAAAAAADwPwAAAAAAABBAAAAAAAAAEEAAAAAAAAAQQAAAAAAAABBAAAAAAAAAAEAAAAAAAADwPwAAAAAAAAhAAAAAAAAAEEAAAAAAAAAQQAAAAAAAAAhAAAAAAAAAEEAAAAAAAAAQQAAAAAAAAPA/AAAAAAAAAEAAAAAAAAAQQAAAAAAAAAhAAAAAAAAA8D8AAAAAAAAQQAAAAAAAABBAAAAAAAAAEEAAAAAAAAAQQAAAAAAAABBAAAAAAAAAEEAAAAAAAAAQQAAAAAAAABBAAAAAAAAAEEAAAAAAAAAQQAAAAAAAABBAAAAAAAAAEEAAAAAAAAAQQAAAAAAAABBAAAAAAAAAEEAAAAAAAADwPwAAAAAAABBAAAAAAAAACEAAAAAAAAAQQAAAAAAAABBAAAAAAAAAEEAAAAAAAADwPwAAAAAAABBAAAAAAAAAEEAAAAAAAAAQQAAAAAAAABBAAAAAAAAA8D8AAAAAAAAQQAAAAAAAABBAAAAAAAAAEEAAAAAAAAAQQAAAAAAAAPA/AAAAAAAAEEAAAAAAAAAIQAAAAAAAAPA/AAAAAAAACEAAAAAAAAAQQAAAAAAAABBAAAAAAAAA8D8AAAAAAAAQQAAAAAAAAPA/AAAAAAAAEEAAAAAAAAAQQAAAAAAAABBAAAAAAAAAEEAAAAAAAAAQQAAAAAAAABBAAAAAAAAAEEAAAAAAAAAIQAAAAAAAAPA/AAAAAAAAEEAAAAAAAAAQQAAAAAAAABBAAAAAAAAAEEAAAAAAAAAIQAAAAAAAABBAAAAAAAAAEEAAAAAAAAAIQAAAAAAAAAhAAAAAAAAAEEAAAAAAAAAIQAAAAAAAABBAAAAAAAAAEEAAAAAAAAAQQAAAAAAAAAhAAAAAAAAAEEAAAAAAAAAQQAAAAAAAAABAAAAAAAAAEEAAAAAAAAAIQAAAAAAAABBAAAAAAAAACEAAAAAAAAAQQAAAAAAAABBAAAAAAAAA8D8AAAAAAAAIQAAAAAAAAAhAAAAAAAAAEEAAAAAAAAAQQAAAAAAAABBAAAAAAAAACEAAAAAAAAAAQAAAAAAAABBAAAAAAAAAEEAAAAAAAAAAQAAAAAAAAPA/AAAAAAAACEAAAAAAAAAQQAAAAAAAABBAAAAAAAAAEEAAAAAAAADwPwAAAAAAABBAAAAAAAAAEEAAAAAAAAAIQAAAAAAAABBAAAAAAAAA8D8AAAAAAAAQQAAAAAAAAAhAAAAAAAAAEEAAAAAAAAAQQAAAAAAAAPA/AAAAAAAA8D8AAAAAAAAIQAAAAAAAABBAAAAAAAAAEEAAAAAAAAAQQAAAAAAAAPA/AAAAAAAAEEAAAAAAAAAQQAAAAAAAABBAAAAAAAAAAEAAAAAAAADwPwAAAAAAAAhAAAAAAAAAEEAAAAAAAAAQQAAAAAAAABBAAAAAAAAAEEAAAAAAAAAQQAAAAAAAABBAAAAAAAAAEEAAAAAAAAAIQAAAAAAAABBAAAAAAAAAEEAAAAAAAAAQQAAAAAAAAAhAAAAAAAAACEAAAAAAAAAIQAAAAAAAABBAAAAAAAAAEEAAAAAAAAAQQAAAAAAAABBAAAAAAAAAEEAAAAAAAAAQQAAAAAAAABBAAAAAAAAAEEAAAAAAAAAQQAAAAAAAABBAAAAAAAAAEEAAAAAAAAAQQAAAAAAAAAhAAAAAAAAAEEAAAAAAAAAQQAAAAAAAAAhAAAAAAAAAEEAAAAAAAAAQQAAAAAAAABBAAAAAAAAAEEAAAAAAAAAAQAAAAAAAABBAAAAAAAAAEEAAAAAAAAAQQAAAAAAAABBAAAAAAAAAEEAAAAAAAAAQQAAAAAAAAAhAAAAAAAAAEEAAAAAAAAAQQAAAAAAAAPA/AAAAAAAAEEAAAAAAAAAQQAAAAAAAABBAAAAAAAAA8D8AAAAAAAAQQAAAAAAAABBAAAAAAAAA8D8AAAAAAADwPwAAAAAAABBAAAAAAAAACEAAAAAAAAAQQAAAAAAAAPA/AAAAAAAACEAAAAAAAADwPwAAAAAAAPA/AAAAAAAACEAAAAAAAAAIQAAAAAAAABBAAAAAAAAAEEAAAAAAAAAIQAAAAAAAAAhAAAAAAAAAAEAAAAAAAAAIQAAAAAAAABBAAAAAAAAA8D8AAAAAAAAQQAAAAAAAABBAAAAAAAAA8D8AAAAAAAAQQAAAAAAAAAhAAAAAAAAAEEAAAAAAAAAQQAAAAAAAAABAAAAAAAAAEEAAAAAAAAAQQAAAAAAAAAhAAAAAAAAAEEAAAAAAAAAQQAAAAAAAAABAAAAAAAAAEEAAAAAAAAAQQAAAAAAAABBAAAAAAAAAEEAAAAAAAAAAQAAAAAAAABBAAAAAAAAACEAAAAAAAAAQQAAAAAAAAABAAAAAAAAAEEAAAAAAAAAIQAAAAAAAABBAAAAAAAAACEAAAAAAAAAAQAAAAAAAAPA/AAAAAAAA8D8AAAAAAADwPwAAAAAAAABAAAAAAAAA8D8AAAAAAADwPwAAAAAAAABAAAAAAAAAEEAAAAAAAAAQQAAAAAAAAABAAAAAAAAAEEAAAAAAAAAQQAAAAAAAAAhAAAAAAAAAEEAAAAAAAAAIQAAAAAAAABBAAAAAAAAACEAAAAAAAAAQQAAAAAAAAPA/AAAAAAAAEEAAAAAAAAAQQAAAAAAAAAhAAAAAAAAAEEAAAAAAAAAQQAAAAAAAAAhAAAAAAAAAEEAAAAAAAAAIQAAAAAAAAABAAAAAAAAAEEAAAAAAAADwPwAAAAAAABBAAAAAAAAAEEAAAAAAAAAQQAAAAAAAABBAAAAAAAAAEEAAAAAAAAAAQAAAAAAAAABAAAAAAAAACEAAAAAAAAAQQAAAAAAAAAhAAAAAAAAAEEAAAAAAAAAQQAAAAAAAAAhAAAAAAAAAEEAAAAAAAAAQQAAAAAAAABBAAAAAAAAA8D8AAAAAAAAQQAAAAAAAAABAAAAAAAAAEEAAAAAAAAAQQAAAAAAAABBAAAAAAAAA8D8AAAAAAAAQQAAAAAAAABBAAAAAAAAAEEAAAAAAAADwPwAAAAAAABBAAAAAAAAACEAAAAAAAAAQQAAAAAAAABBAAAAAAAAACEAAAAAAAAAIQAAAAAAAAAhAAAAAAAAAEEAAAAAAAAAIQAAAAAAAAPA/AAAAAAAAEEAAAAAAAAAIQAAAAAAAABBAAAAAAAAAEEAAAAAAAADwPwAAAAAAAAhAAAAAAAAA8D8AAAAAAAAIQAAAAAAAABBAAAAAAAAAEEAAAAAAAAAIQAAAAAAAABBAAAAAAAAA8D8AAAAAAADwPwAAAAAAAAhAAAAAAAAACEAAAAAAAAAQQAAAAAAAABBAAAAAAAAAEEAAAAAAAAAQQAAAAAAAAPA/AAAAAAAAEEAAAAAAAAAQQAAAAAAAABBAAAAAAAAACEAAAAAAAAAQQAAAAAAAABBAAAAAAAAAEEAAAAAAAADwPwAAAAAAAPA/AAAAAAAA8D8AAAAAAAAAQAAAAAAAABBAAAAAAAAAEEAAAAAAAAAQQAAAAAAAAAhAAAAAAAAAEEAAAAAAAAAQQAAAAAAAABBAAAAAAAAAEEAAAAAAAAAQQAAAAAAAABBAAAAAAAAAEEAAAAAAAAAQQAAAAAAAABBAAAAAAAAAEEAAAAAAAAAQQAAAAAAAABBAAAAAAAAACEAAAAAAAAAQQAAAAAAAAAhAAAAAAAAAEEAAAAAAAAAQQAAAAAAAABBAAAAAAAAACEAAAAAAAAAIQAAAAAAAABBAAAAAAAAAEEAAAAAAAAAIQAAAAAAAABBAAAAAAAAACEAAAAAAAAAIQAAAAAAAABBAAAAAAAAAEEAAAAAAAAAQQAAAAAAAABBAAAAAAAAAEEAAAAAAAAAQQAAAAAAAABBAAAAAAAAACEAAAAAAAAAQQAAAAAAAAAhAAAAAAAAAEEAAAAAAAAAQQAAAAAAAABBAAAAAAAAAEEAAAAAAAAAQQAAAAAAAABBAAAAAAAAACEAAAAAAAAAQQAAAAAAAABBAAAAAAAAA8D8AAAAAAAAQQAAAAAAAABBAAAAAAAAACEAAAAAAAAAQQAAAAAAAABBAAAAAAAAA8D8AAAAAAAAQQAAAAAAAABBAAAAAAAAAEEAAAAAAAAAQQAAAAAAAAAhAAAAAAAAACEAAAAAAAAAQQAAAAAAAABBAAAAAAAAAEEAAAAAAAAAQQAAAAAAAAPA/AAAAAAAAEEAAAAAAAAAQQAAAAAAAAABAAAAAAAAA8D8AAAAAAAAQQAAAAAAAABBAAAAAAAAACEAAAAAAAAAQQAAAAAAAABBAAAAAAAAAEEAAAAAAAAAIQAAAAAAAABBAAAAAAAAAEEAAAAAAAAAQQAAAAAAAABBAAAAAAAAAEEAAAAAAAAAQQAAAAAAAAAhAAAAAAAAAEEAAAAAAAAAQQAAAAAAAABBAAAAAAAAAEEAAAAAAAAAQQAAAAAAAAPA/AAAAAAAAEEAAAAAAAAAIQAAAAAAAAAhAAAAAAAAAEEAAAAAAAAAQQAAAAAAAAABAAAAAAAAAEEAAAAAAAAAIQAAAAAAAABBAAAAAAAAAEEAAAAAAAAAIQAAAAAAAAPA/AAAAAAAAEEAAAAAAAAAQQAAAAAAAABBAAAAAAAAACEAAAAAAAAAQQAAAAAAAABBAAAAAAAAACEAAAAAAAAAIQAAAAAAAABBAAAAAAAAAEEAAAAAAAADwPwAAAAAAAAhAAAAAAAAAEEAAAAAAAAAAQAAAAAAAAAhAAAAAAAAAEEAAAAAAAADwPwAAAAAAAAhAAAAAAAAA8D8AAAAAAAAIQAAAAAAAAAhAAAAAAAAACEAAAAAAAADwPwAAAAAAABBAAAAAAAAA8D8AAAAAAAAIQAAAAAAAAAhAAAAAAAAAEEAAAAAAAADwPwAAAAAAAABAAAAAAAAAEEAAAAAAAAAQQAAAAAAAABBAAAAAAAAACEAAAAAAAAAQQAAAAAAAAAhAAAAAAAAAEEAAAAAAAAAQQAAAAAAAABBAAAAAAAAAEEAAAAAAAAAQQAAAAAAAAPA/AAAAAAAAEEAAAAAAAADwPwAAAAAAABBAAAAAAAAAEEAAAAAAAAAIQAAAAAAAABBAAAAAAAAAEEAAAAAAAAAQQAAAAAAAABBAAAAAAAAAEEAAAAAAAAAQQAAAAAAAAABAAAAAAAAAEEAAAAAAAADwPwAAAAAAABBAAAAAAAAACEAAAAAAAADwPwAAAAAAAPA/AAAAAAAAEEAAAAAAAADwPwAAAAAAABBAAAAAAAAACEAAAAAAAADwPwAAAAAAABBAAAAAAAAA8D8AAAAAAAAIQAAAAAAAABBAAAAAAAAAEEAAAAAAAADwPwAAAAAAAAhAAAAAAAAAEEAAAAAAAAAAQAAAAAAAAPA/AAAAAAAACEAAAAAAAAAQQAAAAAAAABBAAAAAAAAAEEAAAAAAAAAQQAAAAAAAABBAAAAAAAAAEEAAAAAAAADwPwAAAAAAABBAAAAAAAAACEAAAAAAAAAQQAAAAAAAABBAAAAAAAAAEEAAAAAAAAAQQAAAAAAAAAhAAAAAAAAAEEAAAAAAAAAQQAAAAAAAABBAAAAAAAAAEEAAAAAAAAAIQAAAAAAAABBAAAAAAAAAEEAAAAAAAAAIQAAAAAAAABBAAAAAAAAAEEAAAAAAAAAQQAAAAAAAAAhAAAAAAAAAEEAAAAAAAAAQQAAAAAAAABBAAAAAAAAAEEAAAAAAAAAIQAAAAAAAAAhAAAAAAAAA8D8AAAAAAAAIQAAAAAAAABBAAAAAAAAAEEAAAAAAAAAQQAAAAAAAABBAAAAAAAAACEAAAAAAAAAQQAAAAAAAAPA/AAAAAAAACEAAAAAAAAAIQAAAAAAAABBAAAAAAAAACEAAAAAAAAAQQAAAAAAAABBAAAAAAAAACEAAAAAAAAAQQAAAAAAAAPA/AAAAAAAAEEAAAAAAAAAQQAAAAAAAABBAAAAAAAAAEEAAAAAAAAAIQAAAAAAAABBAAAAAAAAAEEAAAAAAAAAIQAAAAAAAABBAAAAAAAAAEEAAAAAAAAAIQAAAAAAAABBAAAAAAAAAEEAAAAAAAAAQQAAAAAAAABBAAAAAAAAAEEAAAAAAAAAIQAAAAAAAABBAAAAAAAAAEEAAAAAAAAAQQAAAAAAAABBAAAAAAAAAEEAAAAAAAAAQQAAAAAAAAAhAAAAAAAAAEEAAAAAAAAAIQAAAAAAAABBAAAAAAAAAEEAAAAAAAAAQQAAAAAAAABBAAAAAAAAACEAAAAAAAAAQQAAAAAAAABBAAAAAAAAACEAAAAAAAAAQQAAAAAAAABBAAAAAAAAACEAAAAAAAAAQQAAAAAAAABBAAAAAAAAAEEAAAAAAAAAQQAAAAAAAAPA/AAAAAAAACEAAAAAAAAAAQAAAAAAAAAhAAAAAAAAAEEAAAAAAAAAIQAAAAAAAABBAAAAAAAAAEEAAAAAAAAAIQAAAAAAAABBAAAAAAAAAEEAAAAAAAAAIQAAAAAAAAAhAAAAAAAAACEAAAAAAAAAQQAAAAAAAABBAAAAAAAAA8D8AAAAAAAAQQAAAAAAAABBAAAAAAAAACEAAAAAAAAAQQAAAAAAAAAhAAAAAAAAACEAAAAAAAAAIQAAAAAAAAABAAAAAAAAACEAAAAAAAAAQQAAAAAAAAABAAAAAAAAA8D8AAAAAAAAQQAAAAAAAAAhAAAAAAAAAEEAAAAAAAAAQQAAAAAAAABBAAAAAAAAACEAAAAAAAAAIQAAAAAAAAAhAAAAAAAAAEEAAAAAAAADwPwAAAAAAABBAAAAAAAAAEEAAAAAAAAAQQAAAAAAAAAhAAAAAAAAAEEAAAAAAAADwPwAAAAAAAAhAAAAAAAAACEAAAAAAAAAQQAAAAAAAAAhAAAAAAAAACEAAAAAAAAAQQAAAAAAAABBAAAAAAAAACEAAAAAAAAAQQAAAAAAAAAhAAAAAAAAACEAAAAAAAAAQQAAAAAAAABBAAAAAAAAAEEAAAAAAAAAQQAAAAAAAABBAAAAAAAAAEEAAAAAAAAAQQAAAAAAAABBAAAAAAAAAEEAAAAAAAAAQQAAAAAAAABBAAAAAAAAAEEAAAAAAAAAQQAAAAAAAAAhAAAAAAAAAEEAAAAAAAAAQQAAAAAAAAAhAAAAAAAAACEAAAAAAAAAQQAAAAAAAABBAAAAAAAAAEEAAAAAAAAAQQAAAAAAAABBAAAAAAAAAEEAAAAAAAAAQQAAAAAAAAABAAAAAAAAAEEAAAAAAAAAQQAAAAAAAAAhAAAAAAAAA8D8AAAAAAAAQQAAAAAAAAAhAAAAAAAAAEEAAAAAAAAAIQAAAAAAAABBAAAAAAAAACEAAAAAAAAAIQAAAAAAAABBAAAAAAAAAEEAAAAAAAAAIQAAAAAAAABBAAAAAAAAAEEAAAAAAAAAIQAAAAAAAAAhAAAAAAAAAEEAAAAAAAAAQQAAAAAAAABBAAAAAAAAAEEAAAAAAAAAIQAAAAAAAABBAAAAAAAAAEEAAAAAAAAAQQAAAAAAAAPA/AAAAAAAAEEAAAAAAAAAQQAAAAAAAAAhAAAAAAAAACEAAAAAAAAAIQAAAAAAAABBAAAAAAAAAEEAAAAAAAAAQQAAAAAAAAAhAAAAAAAAA8D8AAAAAAAAQQAAAAAAAAPA/AAAAAAAAAEAAAAAAAAAQQAAAAAAAABBAAAAAAAAACEAAAAAAAAAQQAAAAAAAAAhAAAAAAAAAEEAAAAAAAADwPwAAAAAAABBAAAAAAAAAEEAAAAAAAAAQQAAAAAAAABBAAAAAAAAAEEAAAAAAAAAIQAAAAAAAAAhAAAAAAAAAEEAAAAAAAAAQQAAAAAAAABBAAAAAAAAACEAAAAAAAADwPwAAAAAAAAhAAAAAAAAAEEAAAAAAAAAQQAAAAAAAAAhAAAAAAAAACEAAAAAAAAAIQAAAAAAAABBAAAAAAAAACEAAAAAAAAAQQAAAAAAAAAhAAAAAAAAACEAAAAAAAAAQQAAAAAAAABBAAAAAAAAAEEAAAAAAAADwPwAAAAAAABBAAAAAAAAAEEAAAAAAAAAQQAAAAAAAABBAAAAAAAAAEEAAAAAAAAAIQAAAAAAAABBAAAAAAAAA8D8AAAAAAAAIQAAAAAAAAAhAAAAAAAAACEAAAAAAAAAQQAAAAAAAABBAAAAAAAAACEAAAAAAAAAQQAAAAAAAABBAAAAAAAAAEEAAAAAAAAAQQAAAAAAAABBAAAAAAAAAEEAAAAAAAAAQQAAAAAAAABBAAAAAAAAACEAAAAAAAAAIQAAAAAAAABBAAAAAAAAAEEAAAAAAAAAQQAAAAAAAAAhAAAAAAAAAEEAAAAAAAAAIQAAAAAAAABBAAAAAAAAAEEAAAAAAAAAIQAAAAAAAABBAAAAAAAAACEAAAAAAAAAQQAAAAAAAABBAAAAAAAAAEEAAAAAAAAAQQAAAAAAAAPA/AAAAAAAAEEAAAAAAAADwPwAAAAAAABBAAAAAAAAAEEAAAAAAAAAIQAAAAAAAABBAAAAAAAAAEEAAAAAAAAAQQAAAAAAAABBAAAAAAAAAEEAAAAAAAAAQQAAAAAAAABBAAAAAAAAACEAAAAAAAAAIQAAAAAAAABBAAAAAAAAAEEAAAAAAAADwPwAAAAAAABBAAAAAAAAAEEAAAAAAAAAIQAAAAAAAABBAAAAAAAAAEEAAAAAAAAAIQAAAAAAAABBAAAAAAAAACEAAAAAAAAAIQAAAAAAAAAhAAAAAAAAAEEAAAAAAAAAQQAAAAAAAAAhAAAAAAAAAEEAAAAAAAAAQQAAAAAAAAAhAAAAAAAAA8D8AAAAAAAAQQAAAAAAAAAhAAAAAAAAACEAAAAAAAAAIQAAAAAAAAAhAAAAAAAAACEAAAAAAAAAQQAAAAAAAAAhAAAAAAAAACEAAAAAAAADwPwAAAAAAABBAAAAAAAAAEEAAAAAAAADwPwAAAAAAABBAAAAAAAAAAEAAAAAAAAAIQAAAAAAAABBAAAAAAAAACEAAAAAAAAAIQAAAAAAAABBAAAAAAAAAEEAAAAAAAAAQQAAAAAAAAAhAAAAAAAAAEEAAAAAAAAAQQAAAAAAAABBAAAAAAAAAEEAAAAAAAAAQQAAAAAAAAAhAAAAAAAAAEEAAAAAAAAAQQAAAAAAAAAhAAAAAAAAACEAAAAAAAAAQQAAAAAAAAAhAAAAAAAAA8D8AAAAAAAAQQAAAAAAAAAhAAAAAAAAAEEAAAAAAAAAQQAAAAAAAAPA/AAAAAAAAEEAAAAAAAAAIQAAAAAAAAPA/AAAAAAAA8D8AAAAAAAAQQAAAAAAAABBAAAAAAAAAEEAAAAAAAAAQQAAAAAAAABBAAAAAAAAACEAAAAAAAAAIQAAAAAAAABBAAAAAAAAACEAAAAAAAAAQQAAAAAAAABBAAAAAAAAACEAAAAAAAADwPwAAAAAAABBAAAAAAAAACEAAAAAAAAAQQAAAAAAAABBAAAAAAAAAEEAAAAAAAAAQQAAAAAAAABBAAAAAAAAA8D8AAAAAAAAIQAAAAAAAAPA/AAAAAAAAEEAAAAAAAAAQQAAAAAAAABBAAAAAAAAA8D8AAAAAAAAIQAAAAAAAAAhAAAAAAAAAEEAAAAAAAAAIQAAAAAAAAPA/AAAAAAAAEEAAAAAAAAAQQAAAAAAAABBAAAAAAAAAEEAAAAAAAAAQQAAAAAAAABBAAAAAAAAAEEAAAAAAAAAQQAAAAAAAABBAAAAAAAAACEAAAAAAAAAQQAAAAAAAABBAAAAAAAAAEEAAAAAAAAAQQAAAAAAAABBAAAAAAAAA8D8AAAAAAAAQQAAAAAAAABBAAAAAAAAAEEAAAAAAAAAQQAAAAAAAABBAAAAAAAAAEEAAAAAAAADwPwAAAAAAAAhAAAAAAAAACEAAAAAAAAAIQAAAAAAAAAhAAAAAAAAAEEAAAAAAAAAIQAAAAAAAAAhAAAAAAAAA8D8AAAAAAAAQQAAAAAAAABBAAAAAAAAAEEAAAAAAAAAQQAAAAAAAAPA/AAAAAAAA8D8AAAAAAAAQQAAAAAAAABBAAAAAAAAAEEAAAAAAAAAIQAAAAAAAAPA/AAAAAAAACEAAAAAAAAAAQAAAAAAAAAhAAAAAAAAACEAAAAAAAAAQQAAAAAAAABBAAAAAAAAACEAAAAAAAAAIQAAAAAAAABBAAAAAAAAAEEAAAAAAAAAQQAAAAAAAAAhAAAAAAAAAEEAAAAAAAAAQQAAAAAAAAAhAAAAAAAAAEEAAAAAAAADwPwAAAAAAABBAAAAAAAAACEAAAAAAAAAQQAAAAAAAAAhAAAAAAAAAEEAAAAAAAAAQQAAAAAAAAAhAAAAAAAAACEAAAAAAAAAQQAAAAAAAABBAAAAAAAAAEEAAAAAAAAAIQAAAAAAAAAhAAAAAAAAACEAAAAAAAAAQQAAAAAAAABBAAAAAAAAAEEAAAAAAAADwPwAAAAAAAAhAAAAAAAAAEEAAAAAAAAAIQAAAAAAAABBAAAAAAAAAEEAAAAAAAAAQQAAAAAAAABBAAAAAAAAACEAAAAAAAAAIQAAAAAAAAAhAAAAAAAAAEEAAAAAAAAAQQAAAAAAAABBAAAAAAAAAEEAAAAAAAAAQQAAAAAAAAAhAAAAAAAAACEAAAAAAAAAQQAAAAAAAABBAAAAAAAAAEEAAAAAAAAAQQAAAAAAAABBAAAAAAAAAEEAAAAAAAAAIQAAAAAAAAABAAAAAAAAACEAAAAAAAAAIQAAAAAAAABBAAAAAAAAACEAAAAAAAAAQQAAAAAAAABBAAAAAAAAAEEAAAAAAAAAIQAAAAAAAABBAAAAAAAAAEEAAAAAAAAAQQAAAAAAAAAhAAAAAAAAAAEAAAAAAAAAQQAAAAAAAAPA/AAAAAAAACEAAAAAAAAAQQAAAAAAAAAhAAAAAAAAACEAAAAAAAADwPwAAAAAAABBAAAAAAAAAEEAAAAAAAAAQQAAAAAAAABBAAAAAAAAACEAAAAAAAAAQQAAAAAAAABBAAAAAAAAAEEAAAAAAAAAAQAAAAAAAABBAAAAAAAAACEAAAAAAAADwPwAAAAAAAAhAAAAAAAAA8D8AAAAAAAAQQAAAAAAAABBAAAAAAAAACEAAAAAAAAAQQAAAAAAAABBAAAAAAAAACEAAAAAAAAAAQAAAAAAAABBAAAAAAAAAEEAAAAAAAAAQQAAAAAAAAPA/AAAAAAAACEAAAAAAAAAQQAAAAAAAAAhAAAAAAAAAEEAAAAAAAAAIQAAAAAAAAAhAAAAAAAAAEEAAAAAAAAAQQAAAAAAAABBAAAAAAAAACEAAAAAAAAAQQAAAAAAAAAhAAAAAAAAAEEAAAAAAAAAQQAAAAAAAAABAAAAAAAAAEEAAAAAAAAAIQAAAAAAAABBAAAAAAAAAEEAAAAAAAAAQQAAAAAAAABBAAAAAAAAA8D8AAAAAAAAQQAAAAAAAABBAAAAAAAAAEEAAAAAAAAAQQAAAAAAAAAhAAAAAAAAACEAAAAAAAAAIQAAAAAAAABBAAAAAAAAACEAAAAAAAAAQQAAAAAAAAAhAAAAAAAAAEEAAAAAAAAAIQAAAAAAAABBAAAAAAAAA8D8AAAAAAAAQQAAAAAAAAAhAAAAAAAAACEAAAAAAAAAQQAAAAAAAABBAAAAAAAAAEEAAAAAAAADwPwAAAAAAABBAAAAAAAAAEEAAAAAAAAAQQAAAAAAAABBAAAAAAAAAEEAAAAAAAAAQQAAAAAAAABBAAAAAAAAA8D8AAAAAAAAQQAAAAAAAABBAAAAAAAAAEEAAAAAAAADwPwAAAAAAABBAAAAAAAAAEEAAAAAAAAAIQAAAAAAAAAhAAAAAAAAAEEAAAAAAAADwPwAAAAAAABBAAAAAAAAA8D8AAAAAAAAIQAAAAAAAABBAAAAAAAAACEAAAAAAAAAQQAAAAAAAABBAAAAAAAAAEEAAAAAAAADwPwAAAAAAABBAAAAAAAAAEEAAAAAAAAAQQAAAAAAAABBAAAAAAAAAEEAAAAAAAADwPwAAAAAAABBAAAAAAAAA8D8AAAAAAAAQQAAAAAAAAPA/AAAAAAAAEEAAAAAAAAAQQAAAAAAAABBAAAAAAAAAEEAAAAAAAAAQQAAAAAAAABBAAAAAAAAAEEAAAAAAAAAQQAAAAAAAABBAAAAAAAAACEAAAAAAAAAQQAAAAAAAABBAAAAAAAAACEAAAAAAAAAIQAAAAAAAAABAAAAAAAAAEEAAAAAAAAAQQAAAAAAAABBAAAAAAAAAEEAAAAAAAAAIQAAAAAAAAAhAAAAAAAAACEAAAAAAAAAAQAAAAAAAAPA/AAAAAAAACEAAAAAAAAAQQAAAAAAAABBAAAAAAAAAEEAAAAAAAADwPwAAAAAAAABAAAAAAAAAEEAAAAAAAAAQQAAAAAAAAAhAAAAAAAAACEAAAAAAAAAIQAAAAAAAABBAAAAAAAAAEEAAAAAAAAAIQAAAAAAAAAhAAAAAAAAAEEAAAAAAAAAIQAAAAAAAABBAAAAAAAAAEEAAAAAAAAAQQAAAAAAAABBAAAAAAAAAEEAAAAAAAAAQQAAAAAAAABBAAAAAAAAA8D8AAAAAAAAIQAAAAAAAAPA/AAAAAAAAAEAAAAAAAAAQQAAAAAAAABBAAAAAAAAAEEAAAAAAAAAQQAAAAAAAABBAAAAAAAAACEAAAAAAAAAQQAAAAAAAAABAAAAAAAAACEAAAAAAAAAQQAAAAAAAAAhAAAAAAAAA8D8AAAAAAADwPwAAAAAAABBAAAAAAAAAEEAAAAAAAAAIQAAAAAAAAPA/AAAAAAAACEAAAAAAAAAIQAAAAAAAAAhAAAAAAAAAEEAAAAAAAAAQQAAAAAAAABBAAAAAAAAACEAAAAAAAAAQQAAAAAAAAAhAAAAAAAAAEEAAAAAAAAAQQAAAAAAAABBAAAAAAAAACEAAAAAAAAAIQAAAAAAAABBAAAAAAAAAEEAAAAAAAAAQQAAAAAAAABBAAAAAAAAACEAAAAAAAAAQQAAAAAAAAAhAAAAAAAAAEEAAAAAAAAAIQAAAAAAAABBAAAAAAAAAEEAAAAAAAAAQQAAAAAAAABBAAAAAAAAAEEAAAAAAAAAQQAAAAAAAABBAAAAAAAAAEEAAAAAAAAAQQAAAAAAAAPA/AAAAAAAACEAAAAAAAAAQQAAAAAAAAAhAAAAAAAAAEEAAAAAAAAAIQAAAAAAAABBAAAAAAAAAEEAAAAAAAAAQQAAAAAAAABBAAAAAAAAAEEAAAAAAAAAQQAAAAAAAAAhAAAAAAAAAEEAAAAAAAAAQQAAAAAAAAAhAAAAAAAAAEEAAAAAAAAAIQAAAAAAAAPA/AAAAAAAAEEAAAAAAAAAIQAAAAAAAABBAAAAAAAAAEEAAAAAAAAAQQAAAAAAAAAhAAAAAAAAAEEAAAAAAAAAQQAAAAAAAABBAAAAAAAAACEAAAAAAAAAQQAAAAAAAABBAAAAAAAAACEAAAAAAAAAQQAAAAAAAABBAAAAAAAAAEEAAAAAAAAAIQAAAAAAAABBAAAAAAAAAEEAAAAAAAAAQQAAAAAAAABBAAAAAAAAAEEAAAAAAAAAIQAAAAAAAABBAAAAAAAAAEEAAAAAAAAAIQAAAAAAAABBAAAAAAAAAEEAAAAAAAAAQQAAAAAAAABBAAAAAAAAAEEAAAAAAAADwPwAAAAAAABBAAAAAAAAAEEAAAAAAAAAIQAAAAAAAABBAAAAAAAAAAEAAAAAAAAAQQAAAAAAAABBAAAAAAAAAEEAAAAAAAAAQQAAAAAAAABBAAAAAAAAAEEAAAAAAAAAAQAAAAAAAABBAAAAAAAAAEEAAAAAAAAAQQAAAAAAAAAhAAAAAAAAACEAAAAAAAAAAQAAAAAAAAAhAAAAAAAAA8D8AAAAAAAAIQAAAAAAAAAhAAAAAAAAA8D8AAAAAAADwPwAAAAAAAAhAAAAAAAAACEAAAAAAAAAQQAAAAAAAAAhAAAAAAAAAAEAAAAAAAAAQQAAAAAAAAPA/AAAAAAAAEEAAAAAAAAAIQAAAAAAAAAhAAAAAAAAAEEAAAAAAAAAIQAAAAAAAABBAAAAAAAAACEAAAAAAAAAIQAAAAAAAAAhAAAAAAAAAEEAAAAAAAAAQQAAAAAAAABBAAAAAAAAA8D8AAAAAAAAQQAAAAAAAABBAAAAAAAAAEEAAAAAAAAAQQAAAAAAAABBAAAAAAAAAEEAAAAAAAAAQQAAAAAAAABBAAAAAAAAACEAAAAAAAAAIQAAAAAAAABBAAAAAAAAAEEAAAAAAAAAQQAAAAAAAABBAAAAAAAAAEEAAAAAAAAAQQAAAAAAAABBAAAAAAAAAEEAAAAAAAAAQQAAAAAAAAAhAAAAAAAAACEAAAAAAAADwPwAAAAAAABBAAAAAAAAAEEAAAAAAAAAQQAAAAAAAAAhAAAAAAAAACEAAAAAAAAAQQAAAAAAAAPA/AAAAAAAAEEAAAAAAAADwPwAAAAAAABBAAAAAAAAAEEAAAAAAAAAQQAAAAAAAABBAAAAAAAAA8D8AAAAAAAAQQAAAAAAAAABAAAAAAAAAEEAAAAAAAAAIQAAAAAAAABBAAAAAAAAAEEAAAAAAAAAQQAAAAAAAAAhAAAAAAAAAEEAAAAAAAAAQQAAAAAAAABBAAAAAAAAACEAAAAAAAAAIQAAAAAAAABBAAAAAAAAAEEAAAAAAAAAQQAAAAAAAAPA/AAAAAAAACEAAAAAAAAAQQAAAAAAAAAhAAAAAAAAAEEAAAAAAAAAQQAAAAAAAABBAAAAAAAAAEEAAAAAAAAAQQAAAAAAAAPA/AAAAAAAAEEAAAAAAAAAQQAAAAAAAAAhAAAAAAAAACEAAAAAAAAAQQAAAAAAAABBAAAAAAAAAEEAAAAAAAADwPwAAAAAAAAhAAAAAAAAAEEAAAAAAAAAAQAAAAAAAAAhAAAAAAAAACEAAAAAAAADwPwAAAAAAAAhAAAAAAAAAEEAAAAAAAAAIQAAAAAAAABBAAAAAAAAAEEAAAAAAAADwPwAAAAAAABBAAAAAAAAAEEAAAAAAAAAQQAAAAAAAAAhAAAAAAAAACEAAAAAAAAAQQAAAAAAAAAhAAAAAAAAAEEAAAAAAAAAIQAAAAAAAABBAAAAAAAAAEEAAAAAAAAAQQAAAAAAAAPA/AAAAAAAA8D8AAAAAAAAQQAAAAAAAABBAAAAAAAAA8D8AAAAAAAAQQAAAAAAAABBAAAAAAAAAEEAAAAAAAAAQQAAAAAAAAAhAAAAAAAAAEEAAAAAAAAAQQAAAAAAAABBAAAAAAAAAAEAAAAAAAAAQQAAAAAAAABBAAAAAAAAAEEAAAAAAAADwPwAAAAAAAAhAAAAAAAAACEAAAAAAAADwPwAAAAAAAAhAAAAAAAAAAEAAAAAAAAAQQAAAAAAAAAhAAAAAAAAAEEAAAAAAAAAQQAAAAAAAAABAAAAAAAAAEEAAAAAAAAAQQAAAAAAAABBAAAAAAAAACEAAAAAAAAAIQAAAAAAAABBAAAAAAAAACEAAAAAAAAAIQAAAAAAAABBAAAAAAAAACEAAAAAAAADwPwAAAAAAABBAAAAAAAAAEEAAAAAAAAAQQAAAAAAAAAhAAAAAAAAAEEAAAAAAAAAQQAAAAAAAABBAAAAAAAAAEEAAAAAAAAAQQAAAAAAAABBAAAAAAAAAEEAAAAAAAAAIQAAAAAAAAAhAAAAAAAAACEAAAAAAAAAQQAAAAAAAABBAAAAAAAAACEAAAAAAAAAQQAAAAAAAABBAAAAAAAAAEEAAAAAAAAAQQAAAAAAAABBAAAAAAAAACEAAAAAAAAAQQAAAAAAAAPA/AAAAAAAAEEAAAAAAAAAAQAAAAAAAAABAAAAAAAAAEEAAAAAAAAAIQAAAAAAAAPA/AAAAAAAAEEAAAAAAAAAQQAAAAAAAAPA/AAAAAAAACEAAAAAAAAAIQAAAAAAAABBAAAAAAAAAEEAAAAAAAAAQQAAAAAAAAAhAAAAAAAAACEAAAAAAAAAQQAAAAAAAABBAAAAAAAAAEEAAAAAAAAAQQAAAAAAAAPA/AAAAAAAAEEAAAAAAAAAQQAAAAAAAAPA/AAAAAAAAEEAAAAAAAAAQQAAAAAAAABBAAAAAAAAAEEAAAAAAAAAQQAAAAAAAAAhAAAAAAAAACEAAAAAAAAAQQAAAAAAAABBAAAAAAAAAEEAAAAAAAAAQQAAAAAAAAAhAAAAAAAAAEEAAAAAAAAAQQAAAAAAAAABAAAAAAAAAEEAAAAAAAAAQQAAAAAAAABBAAAAAAAAAEEAAAAAAAAAQQAAAAAAAAABAAAAAAAAACEAAAAAAAAAQQAAAAAAAABBAAAAAAAAACEAAAAAAAAAQQAAAAAAAABBAAAAAAAAAEEAAAAAAAAAQQAAAAAAAABBAAAAAAAAAAEAAAAAAAAAQQAAAAAAAABBAAAAAAAAAEEAAAAAAAAAIQAAAAAAAABBAAAAAAAAAEEAAAAAAAAAQQAAAAAAAAABAAAAAAAAACEAAAAAAAAAQQAAAAAAAABBAAAAAAAAAEEAAAAAAAAAQQAAAAAAAABBAAAAAAAAA8D8AAAAAAAAAQAAAAAAAAPA/AAAAAAAAEEAAAAAAAAAIQAAAAAAAAAhAAAAAAAAAEEAAAAAAAAAQQAAAAAAAABBAAAAAAAAAEEAAAAAAAAAIQAAAAAAAAPA/AAAAAAAAEEAAAAAAAAAQQAAAAAAAABBAAAAAAAAAEEAAAAAAAAAQQAAAAAAAABBAAAAAAAAA8D8AAAAAAADwPwAAAAAAABBAAAAAAAAAEEAAAAAAAAAAQAAAAAAAAAhAAAAAAAAA8D8AAAAAAAAQQAAAAAAAABBAAAAAAAAAEEAAAAAAAAAQQAAAAAAAAABAAAAAAAAAEEAAAAAAAAAQQAAAAAAAAAhAAAAAAAAACEAAAAAAAAAIQAAAAAAAABBAAAAAAAAACEAAAAAAAAAQQAAAAAAAAAhAAAAAAAAAEEAAAAAAAAAQQAAAAAAAABBAAAAAAAAAEEAAAAAAAAAQQAAAAAAAABBAAAAAAAAAEEAAAAAAAAAQQAAAAAAAAAhAAAAAAAAAEEAAAAAAAAAAQAAAAAAAABBAAAAAAAAA8D8AAAAAAAAQQAAAAAAAABBAAAAAAAAAEEAAAAAAAAAQQAAAAAAAAAhAAAAAAAAAEEAAAAAAAAAQQAAAAAAAABBAAAAAAAAAEEAAAAAAAAAQQAAAAAAAABBAAAAAAAAACEAAAAAAAAAIQAAAAAAAAABAAAAAAAAAEEAAAAAAAAAQQAAAAAAAABBAAAAAAAAAEEAAAAAAAAAQQAAAAAAAABBAAAAAAAAAEEAAAAAAAAAQQAAAAAAAABBAAAAAAAAAEEAAAAAAAAAQQAAAAAAAABBAAAAAAAAAEEAAAAAAAAAAQAAAAAAAABBAAAAAAAAAEEAAAAAAAAAAQAAAAAAAAAhAAAAAAAAAEEAAAAAAAAAQQAAAAAAAAABAAAAAAAAAEEAAAAAAAAAQQAAAAAAAABBAAAAAAAAAEEAAAAAAAAAIQAAAAAAAABBAAAAAAAAAEEAAAAAAAAAQQAAAAAAAABBAAAAAAAAAEEAAAAAAAAAQQAAAAAAAABBAAAAAAAAACEAAAAAAAAAIQAAAAAAAABBAAAAAAAAACEAAAAAAAAAQQAAAAAAAABBAAAAAAAAA8D8AAAAAAAAQQAAAAAAAABBAAAAAAAAAEEAAAAAAAAAQQAAAAAAAABBAAAAAAAAAEEAAAAAAAAAQQAAAAAAAABBAAAAAAAAACEAAAAAAAAAQQAAAAAAAAABAAAAAAAAAEEAAAAAAAAAIQAAAAAAAABBAAAAAAAAAEEAAAAAAAAAQQAAAAAAAABBAAAAAAAAAEEAAAAAAAAAIQAAAAAAAAAhAAAAAAAAACEAAAAAAAAAIQAAAAAAAAABAAAAAAAAAEEAAAAAAAADwPwAAAAAAAPA/AAAAAAAAEEAAAAAAAADwPwAAAAAAABBAAAAAAAAA8D8AAAAAAAAQQAAAAAAAABBAAAAAAAAAEEAAAAAAAAAQQAAAAAAAABBAAAAAAAAAEEAAAAAAAAAQQAAAAAAAABBAAAAAAAAACEAAAAAAAAAIQAAAAAAAABBAAAAAAAAAEEAAAAAAAAAQQAAAAAAAABBAAAAAAAAACEAAAAAAAAAQQAAAAAAAABBAAAAAAAAAEEAAAAAAAAAQQAAAAAAAABBAAAAAAAAA8D8AAAAAAAAQQAAAAAAAABBAAAAAAAAACEAAAAAAAAAQQAAAAAAAAAhAAAAAAAAAEEAAAAAAAAAQQAAAAAAAAPA/AAAAAAAAEEAAAAAAAAAIQAAAAAAAAAhAAAAAAAAACEAAAAAAAAAQQAAAAAAAAAhAAAAAAAAAAEAAAAAAAAAQQAAAAAAAABBAAAAAAAAAEEAAAAAAAAAQQAAAAAAAABBAAAAAAAAACEAAAAAAAAAQQAAAAAAAABBAAAAAAAAA8D8AAAAAAAAQQAAAAAAAABBAAAAAAAAACEAAAAAAAAAQQAAAAAAAABBAAAAAAAAAEEAAAAAAAAAQQAAAAAAAAAhAAAAAAAAAEEAAAAAAAAAQQAAAAAAAABBAAAAAAAAACEAAAAAAAAAIQAAAAAAAABBAAAAAAAAAEEAAAAAAAAAIQAAAAAAAABBAAAAAAAAAEEAAAAAAAADwPwAAAAAAABBAAAAAAAAAEEAAAAAAAAAQQAAAAAAAABBAAAAAAAAAEEAAAAAAAAAQQAAAAAAAABBAAAAAAAAAEEAAAAAAAAAQQAAAAAAAABBAAAAAAAAAEEAAAAAAAAAQQAAAAAAAABBAAAAAAAAA8D8AAAAAAAAQQAAAAAAAABBAAAAAAAAA8D8AAAAAAADwPwAAAAAAABBAAAAAAAAA8D8AAAAAAAAIQAAAAAAAAPA/AAAAAAAAEEAAAAAAAAAQQAAAAAAAABBAAAAAAAAAEEAAAAAAAAAQQAAAAAAAAAhAAAAAAAAACEAAAAAAAAAQQAAAAAAAAAhAAAAAAAAAEEAAAAAAAAAIQAAAAAAAABBAAAAAAAAA8D8AAAAAAAAQQAAAAAAAABBAAAAAAAAACEAAAAAAAAAIQAAAAAAAABBAAAAAAAAACEAAAAAAAAAQQAAAAAAAABBAAAAAAAAAEEAAAAAAAAAQQAAAAAAAABBAAAAAAAAAAEAAAAAAAAAAQAAAAAAAAPA/AAAAAAAA8D8AAAAAAAAIQAAAAAAAAAhAAAAAAAAAEEAAAAAAAAAIQAAAAAAAAAhAAAAAAAAAAEAAAAAAAAAIQAAAAAAAAABAAAAAAAAAEEAAAAAAAAAIQAAAAAAAAAhAAAAAAAAAAEAAAAAAAAAQQAAAAAAAAPA/AAAAAAAAEEAAAAAAAAAQQAAAAAAAAPA/AAAAAAAAEEAAAAAAAAAIQAAAAAAAAABAAAAAAAAAEEAAAAAAAAAQQAAAAAAAABBAAAAAAAAAEEAAAAAAAAAIQAAAAAAAABBAAAAAAAAAEEAAAAAAAAAIQAAAAAAAAABAAAAAAAAAEEAAAAAAAAAQQAAAAAAAAAhAAAAAAAAAEEAAAAAAAAAIQAAAAAAAABBAAAAAAAAACEAAAAAAAAAAQAAAAAAAAAhAAAAAAAAAEEAAAAAAAAAIQAAAAAAAABBAAAAAAAAAEEAAAAAAAAAQQAAAAAAAABBAAAAAAAAAEEAAAAAAAAAQQAAAAAAAAAhAAAAAAAAAEEAAAAAAAAAQQAAAAAAAAAhAAAAAAAAAEEAAAAAAAAAQQAAAAAAAABBAAAAAAAAAEEAAAAAAAAAQQAAAAAAAABBAAAAAAAAAEEAAAAAAAAAAQAAAAAAAABBAAAAAAAAAEEAAAAAAAAAIQAAAAAAAABBAAAAAAAAAEEAAAAAAAAAQQAAAAAAAAABAAAAAAAAA8D8AAAAAAAAIQAAAAAAAABBAAAAAAAAAEEAAAAAAAAAIQAAAAAAAABBAAAAAAAAAEEAAAAAAAAAQQAAAAAAAAPA/AAAAAAAAEEAAAAAAAAAAQAAAAAAAAAhAAAAAAAAACEAAAAAAAAAQQAAAAAAAABBAAAAAAAAAEEAAAAAAAAAQQAAAAAAAABBAAAAAAAAAEEAAAAAAAAAQQAAAAAAAABBAAAAAAAAAEEAAAAAAAAAQQAAAAAAAAABAAAAAAAAAEEAAAAAAAAAQQAAAAAAAAPA/AAAAAAAAEEAAAAAAAADwPwAAAAAAABBAAAAAAAAAEEAAAAAAAAAQQAAAAAAAABBAAAAAAAAA8D8AAAAAAAAIQAAAAAAAABBAAAAAAAAAEEAAAAAAAAAIQAAAAAAAAAhAAAAAAAAAEEAAAAAAAAAQQAAAAAAAABBAAAAAAAAAEEAAAAAAAAAQQAAAAAAAABBAAAAAAAAAEEAAAAAAAADwPwAAAAAAABBAAAAAAAAAEEAAAAAAAADwPwAAAAAAAAhAAAAAAAAAEEAAAAAAAAAIQAAAAAAAABBAAAAAAAAAEEAAAAAAAAAQQAAAAAAAABBAAAAAAAAACEAAAAAAAAAQQAAAAAAAABBAAAAAAAAAEEAAAAAAAAAQQAAAAAAAABBAAAAAAAAAEEAAAAAAAAAQQAAAAAAAABBAAAAAAAAAEEAAAAAAAAAQQAAAAAAAABBAAAAAAAAAEEAAAAAAAAAIQAAAAAAAAAhAAAAAAAAAEEAAAAAAAAAQQAAAAAAAABBAAAAAAAAAEEAAAAAAAAAQQAAAAAAAAPA/AAAAAAAAAEAAAAAAAADwPwAAAAAAABBAAAAAAAAA8D8AAAAAAAAQQAAAAAAAABBAAAAAAAAAEEAAAAAAAAAQQAAAAAAAABBAAAAAAAAAEEAAAAAAAADwPwAAAAAAABBAAAAAAAAA8D8AAAAAAAAQQAAAAAAAABBAAAAAAAAA8D8AAAAAAAAQQAAAAAAAAABAAAAAAAAAEEAAAAAAAAAIQAAAAAAAABBAAAAAAAAAEEAAAAAAAAAQQAAAAAAAABBAAAAAAAAAEEAAAAAAAAAQQAAAAAAAABBAAAAAAAAAEEAAAAAAAAAQQAAAAAAAAAhAAAAAAAAACEAAAAAAAAAQQAAAAAAAAAhAAAAAAAAAEEAAAAAAAAAQQAAAAAAAABBAAAAAAAAA8D8AAAAAAAAIQAAAAAAAABBAAAAAAAAACEAAAAAAAAAAQAAAAAAAABBAAAAAAAAAEEAAAAAAAADwPwAAAAAAABBAAAAAAAAAEEAAAAAAAAAQQAAAAAAAABBAAAAAAAAAEEAAAAAAAAAIQAAAAAAAAPA/AAAAAAAA8D8AAAAAAAAIQAAAAAAAABBAAAAAAAAAEEAAAAAAAAAIQAAAAAAAABBAAAAAAAAACEAAAAAAAAAIQAAAAAAAABBAAAAAAAAAEEAAAAAAAAAAQAAAAAAAABBAAAAAAAAACEAAAAAAAAAQQAAAAAAAAPA/AAAAAAAAEEAAAAAAAAAIQAAAAAAAABBAAAAAAAAAEEAAAAAAAAAIQAAAAAAAABBAAAAAAAAAEEAAAAAAAAAQQAAAAAAAAAhAAAAAAAAAEEAAAAAAAAAQQAAAAAAAAAhAAAAAAAAAEEAAAAAAAAAQQAAAAAAAABBAAAAAAAAACEAAAAAAAAAQQAAAAAAAABBAAAAAAAAAEEAAAAAAAAAIQAAAAAAAABBAAAAAAAAAEEAAAAAAAAAQQAAAAAAAABBAAAAAAAAAEEAAAAAAAAAQQAAAAAAAAAhAAAAAAAAAAEAAAAAAAAAQQAAAAAAAAPA/AAAAAAAA8D8AAAAAAAAQQAAAAAAAABBAAAAAAAAAEEAAAAAAAAAIQAAAAAAAAAhAAAAAAAAACEAAAAAAAAAQQAAAAAAAABBAAAAAAAAAEEAAAAAAAAAQQAAAAAAAABBAAAAAAAAACEAAAAAAAAAQQAAAAAAAABBAAAAAAAAAEEAAAAAAAAAQQAAAAAAAABBAAAAAAAAA8D8AAAAAAAAIQAAAAAAAABBAAAAAAAAA8D8AAAAAAAAIQAAAAAAAAABAAAAAAAAACEAAAAAAAAAQQAAAAAAAABBAAAAAAAAACEAAAAAAAAAQQAAAAAAAAAhAAAAAAAAAEEAAAAAAAAAIQAAAAAAAABBAAAAAAAAAEEAAAAAAAAAQQAAAAAAAABBAAAAAAAAACEAAAAAAAAAIQAAAAAAAAAhAAAAAAAAACEAAAAAAAADwPwAAAAAAAABAAAAAAAAAEEAAAAAAAAAIQAAAAAAAABBAAAAAAAAAEEAAAAAAAAAIQAAAAAAAAAhAAAAAAAAAEEAAAAAAAAAQQAAAAAAAABBAAAAAAAAAEEAAAAAAAAAQQAAAAAAAAAhAAAAAAAAAEEAAAAAAAAAQQAAAAAAAABBAAAAAAAAAEEAAAAAAAAAIQAAAAAAAABBAAAAAAAAACEAAAAAAAAAQQAAAAAAAABBAAAAAAAAACEAAAAAAAAAIQAAAAAAAABBAAAAAAAAAEEAAAAAAAADwPwAAAAAAABBAAAAAAAAAEEAAAAAAAAAQQAAAAAAAABBAAAAAAAAAEEAAAAAAAAAIQAAAAAAAAAhAAAAAAAAACEAAAAAAAAAQQAAAAAAAABBAAAAAAAAACEAAAAAAAAAQQAAAAAAAABBAAAAAAAAAEEAAAAAAAAAQQAAAAAAAABBAAAAAAAAAEEAAAAAAAAAQQAAAAAAAAAhAAAAAAAAAEEAAAAAAAAAQQAAAAAAAABBAAAAAAAAAEEAAAAAAAADwPwAAAAAAABBAAAAAAAAAEEAAAAAAAAAQQAAAAAAAABBAAAAAAAAAEEAAAAAAAAAIQAAAAAAAABBAAAAAAAAACEAAAAAAAAAQQAAAAAAAABBAAAAAAAAAEEAAAAAAAAAQQAAAAAAAAAhAAAAAAAAAEEAAAAAAAAAAQAAAAAAAABBAAAAAAAAAAEAAAAAAAAAQQAAAAAAAAAhAAAAAAAAAEEAAAAAAAAAIQAAAAAAAABBAAAAAAAAAAEAAAAAAAAAQQAAAAAAAABBAAAAAAAAAEEAAAAAAAAAQQAAAAAAAABBAAAAAAAAAEEAAAAAAAAAIQAAAAAAAABBAAAAAAAAAEEAAAAAAAAAQQAAAAAAAABBAAAAAAAAAEEAAAAAAAAAQQAAAAAAAAAhAAAAAAAAACEAAAAAAAAAQQAAAAAAAABBAAAAAAAAACEAAAAAAAAAQQAAAAAAAABBAAAAAAAAA8D8AAAAAAAAQQAAAAAAAABBAAAAAAAAAEEAAAAAAAAAAQAAAAAAAAAhAAAAAAAAAAEAAAAAAAAAQQAAAAAAAABBAAAAAAAAAEEAAAAAAAAAQQAAAAAAAABBAAAAAAAAAEEAAAAAAAADwPwAAAAAAABBAAAAAAAAAEEAAAAAAAAAQQAAAAAAAAABAAAAAAAAA8D8AAAAAAAAQQAAAAAAAAAhAAAAAAAAAEEAAAAAAAAAQQAAAAAAAABBAAAAAAAAAEEAAAAAAAAAQQAAAAAAAABBAAAAAAAAAEEAAAAAAAAAQQAAAAAAAABBAAAAAAAAAEEAAAAAAAAAIQAAAAAAAABBAAAAAAAAACEAAAAAAAADwPwAAAAAAABBAAAAAAAAAEEAAAAAAAAAQQAAAAAAAABBAAAAAAAAA8D8AAAAAAAAQQAAAAAAAABBAAAAAAAAA8D8AAAAAAAAQQAAAAAAAABBAAAAAAAAAEEAAAAAAAAAQQAAAAAAAABBAAAAAAAAAEEAAAAAAAADwPwAAAAAAABBAAAAAAAAAEEAAAAAAAAAQQAAAAAAAAAhAAAAAAAAAEEAAAAAAAAAIQAAAAAAAAAhAAAAAAAAA8D8AAAAAAADwPwAAAAAAABBAAAAAAAAAEEAAAAAAAAAQQAAAAAAAABBAAAAAAAAAEEAAAAAAAAAQQAAAAAAAAAhAAAAAAAAA8D8AAAAAAAAQQAAAAAAAAPA/AAAAAAAA8D8AAAAAAAAIQAAAAAAAAAhAAAAAAAAAEEAAAAAAAADwPwAAAAAAAAhAAAAAAAAAEEAAAAAAAAAQQAAAAAAAAAhAAAAAAAAA8D8AAAAAAAAIQAAAAAAAABBAAAAAAAAACEAAAAAAAAAQQAAAAAAAABBAAAAAAAAAEEAAAAAAAAAIQAAAAAAAABBAAAAAAAAACEAAAAAAAADwPwAAAAAAAAhAAAAAAAAA8D8AAAAAAAAIQAAAAAAAAAhAAAAAAAAAEEAAAAAAAAAQQAAAAAAAAPA/AAAAAAAACEAAAAAAAAAQQAAAAAAAABBAAAAAAAAAEEAAAAAAAAAQQAAAAAAAAAhAAAAAAAAACEAAAAAAAAAIQAAAAAAAABBAAAAAAAAACEAAAAAAAAAIQAAAAAAAAAhAAAAAAAAAEEAAAAAAAAAQQAAAAAAAAAhAAAAAAAAAEEAAAAAAAAAIQAAAAAAAABBAAAAAAAAACEAAAAAAAAAIQAAAAAAAAAhAAAAAAAAACEAAAAAAAAAQQAAAAAAAABBAAAAAAAAAEEAAAAAAAAAQQAAAAAAAAABAAAAAAAAAEEAAAAAAAAAIQAAAAAAAABBAAAAAAAAACEAAAAAAAAAQQAAAAAAAABBAAAAAAAAACEAAAAAAAAAQQAAAAAAAABBAAAAAAAAAEEAAAAAAAADwPwAAAAAAAPA/AAAAAAAAEEAAAAAAAAAIQAAAAAAAABBAAAAAAAAAEEAAAAAAAAAQQAAAAAAAABBAAAAAAAAAEEAAAAAAAAAQQAAAAAAAABBAAAAAAAAAEEAAAAAAAAAQQAAAAAAAAPA/AAAAAAAAEEAAAAAAAAAQQAAAAAAAABBAAAAAAAAAEEAAAAAAAAAQQAAAAAAAABBAAAAAAAAAEEAAAAAAAAAQQAAAAAAAABBAAAAAAAAAEEAAAAAAAAAQQAAAAAAAAPA/AAAAAAAAEEAAAAAAAAAQQAAAAAAAABBAAAAAAAAAEEAAAAAAAAAQQAAAAAAAABBAAAAAAAAAAEAAAAAAAAAIQAAAAAAAAPA/AAAAAAAAEEAAAAAAAAAQQAAAAAAAABBAAAAAAAAAEEAAAAAAAAAQQAAAAAAAAPA/AAAAAAAA8D8AAAAAAAAQQAAAAAAAABBAAAAAAAAAEEAAAAAAAAAIQAAAAAAAABBAAAAAAAAAEEAAAAAAAAAQQAAAAAAAAPA/AAAAAAAAEEAAAAAAAAAIQAAAAAAAAAhAAAAAAAAAEEAAAAAAAADwPwAAAAAAABBAAAAAAAAACEAAAAAAAAAQQAAAAAAAAAhAAAAAAAAAEEAAAAAAAAAQQAAAAAAAABBAAAAAAAAACEAAAAAAAAAIQAAAAAAAABBAAAAAAAAAEEAAAAAAAAAQQAAAAAAAABBAAAAAAAAAEEAAAAAAAAAIQAAAAAAAABBAAAAAAAAAEEAAAAAAAAAQQAAAAAAAABBAAAAAAAAAEEAAAAAAAAAQQAAAAAAAABBAAAAAAAAAAEAAAAAAAAAQQAAAAAAAAAhAAAAAAAAACEAAAAAAAAAQQAAAAAAAAAhAAAAAAAAAEEAAAAAAAAAIQAAAAAAAABBAAAAAAAAAEEAAAAAAAAAQQAAAAAAAAAhAAAAAAAAAEEAAAAAAAAAIQAAAAAAAABBAAAAAAAAAEEAAAAAAAAAIQAAAAAAAAABAAAAAAAAAEEAAAAAAAAAQQAAAAAAAAAhAAAAAAAAACEAAAAAAAAAIQAAAAAAAABBAAAAAAAAACEAAAAAAAAAQQAAAAAAAABBAAAAAAAAAEEAAAAAAAAAIQAAAAAAAABBAAAAAAAAAEEAAAAAAAADwPwAAAAAAABBAAAAAAAAAEEAAAAAAAAAIQAAAAAAAAAhAAAAAAAAACEAAAAAAAAAQQAAAAAAAABBAAAAAAAAACEAAAAAAAAAIQAAAAAAAAAhAAAAAAAAACEAAAAAAAAAQQAAAAAAAABBAAAAAAAAAEEAAAAAAAAAIQAAAAAAAAPA/AAAAAAAAEEAAAAAAAAAIQAAAAAAAABBAAAAAAAAAEEAAAAAAAAAQQAAAAAAAAAhAAAAAAAAACEAAAAAAAADwPwAAAAAAAAhAAAAAAAAAEEAAAAAAAAAQQAAAAAAAAAhAAAAAAAAAEEAAAAAAAAAQQAAAAAAAAABAAAAAAAAAEEAAAAAAAAAQQAAAAAAAAAhAAAAAAAAAEEAAAAAAAAAQQAAAAAAAABBAAAAAAAAAEEAAAAAAAAAIQAAAAAAAAAhAAAAAAAAAEEAAAAAAAAAQQAAAAAAAABBAAAAAAAAACEAAAAAAAAAQQAAAAAAAABBAAAAAAAAA8D8AAAAAAAAQQAAAAAAAAABAAAAAAAAACEAAAAAAAAAQQAAAAAAAABBAAAAAAAAA8D8AAAAAAAAQQAAAAAAAABBAAAAAAAAAAEAAAAAAAAAIQAAAAAAAABBAAAAAAAAAEEAAAAAAAAAIQAAAAAAAABBAAAAAAAAAEEAAAAAAAAAQQAAAAAAAABBAAAAAAAAAEEAAAAAAAAAAQAAAAAAAABBAAAAAAAAAEEAAAAAAAAAQQAAAAAAAABBAAAAAAAAAEEAAAAAAAAAQQAAAAAAAABBAAAAAAAAA8D8AAAAAAAAQQAAAAAAAAAhAAAAAAAAACEAAAAAAAAAQQAAAAAAAABBAAAAAAAAAEEAAAAAAAAAIQAAAAAAAABBAAAAAAAAAEEAAAAAAAADwPwAAAAAAAPA/AAAAAAAAEEAAAAAAAAAIQAAAAAAAABBAAAAAAAAAEEAAAAAAAAAQQAAAAAAAABBAAAAAAAAAEEAAAAAAAAAQQAAAAAAAAPA/AAAAAAAAEEAAAAAAAAAQQAAAAAAAABBAAAAAAAAAEEAAAAAAAAAIQAAAAAAAABBAAAAAAAAAEEAAAAAAAADwPwAAAAAAABBAAAAAAAAAEEAAAAAAAAAQQAAAAAAAABBAAAAAAAAACEAAAAAAAAAQQAAAAAAAABBAAAAAAAAAEEAAAAAAAAAQQAAAAAAAAAhAAAAAAAAAEEAAAAAAAAAQQAAAAAAAABBAAAAAAAAAEEAAAAAAAAAQQAAAAAAAABBAAAAAAAAACEAAAAAAAAAQQAAAAAAAAABAAAAAAAAAEEAAAAAAAAAQQAAAAAAAABBAAAAAAAAAEEAAAAAAAAAQQAAAAAAAAAhAAAAAAAAAEEAAAAAAAAAQQAAAAAAAAAhAAAAAAAAACEAAAAAAAAAIQAAAAAAAABBAAAAAAAAACEAAAAAAAAAQQAAAAAAAAPA/AAAAAAAAEEAAAAAAAAAQQAAAAAAAABBAAAAAAAAAEEAAAAAAAAAQQAAAAAAAABBAAAAAAAAACEAAAAAAAAAQQAAAAAAAAAhAAAAAAAAAEEAAAAAAAAAQQAAAAAAAAPA/AAAAAAAACEAAAAAAAAAQQAAAAAAAAPA/AAAAAAAAEEAAAAAAAAAQQAAAAAAAABBAAAAAAAAAEEAAAAAAAAAIQAAAAAAAABBAAAAAAAAAEEAAAAAAAAAQQAAAAAAAAAhAAAAAAAAAAEAAAAAAAAAIQAAAAAAAAAhAAAAAAAAAEEAAAAAAAADwPwAAAAAAABBAAAAAAAAAEEAAAAAAAAAQQAAAAAAAABBAAAAAAAAAEEAAAAAAAAAQQAAAAAAAABBAAAAAAAAAEEAAAAAAAAAIQAAAAAAAABBAAAAAAAAAEEAAAAAAAAAQQAAAAAAAAAhAAAAAAAAAEEAAAAAAAAAQQAAAAAAAAAhAAAAAAAAAEEAAAAAAAAAQQAAAAAAAAAhAAAAAAAAAEEAAAAAAAAAIQAAAAAAAAPA/AAAAAAAA8D8AAAAAAAAQQAAAAAAAABBAAAAAAAAACEAAAAAAAAAQQAAAAAAAAABAAAAAAAAAEEAAAAAAAAAQQAAAAAAAABBAAAAAAAAACEAAAAAAAAAQQAAAAAAAABBAAAAAAAAACEAAAAAAAAAIQAAAAAAAABBAAAAAAAAAEEAAAAAAAAAQQAAAAAAAABBAAAAAAAAAEEAAAAAAAAAIQAAAAAAAAPA/AAAAAAAAEEAAAAAAAAAQQAAAAAAAABBAAAAAAAAA8D8AAAAAAAAQQAAAAAAAABBAAAAAAAAAEEAAAAAAAAAQQAAAAAAAAPA/AAAAAAAAEEAAAAAAAAAIQAAAAAAAABBAAAAAAAAA8D8AAAAAAAAQQAAAAAAAABBAAAAAAAAAAEAAAAAAAAAIQAAAAAAAABBAAAAAAAAACEAAAAAAAADwPwAAAAAAABBAAAAAAAAAEEAAAAAAAAAQQAAAAAAAAPA/AAAAAAAAEEAAAAAAAAAQQAAAAAAAABBAAAAAAAAAEEAAAAAAAADwPwAAAAAAAAhAAAAAAAAA8D8AAAAAAAAQQAAAAAAAAPA/AAAAAAAAEEAAAAAAAAAQQAAAAAAAAAhAAAAAAAAAEEAAAAAAAAAIQAAAAAAAABBAAAAAAAAAEEAAAAAAAADwPwAAAAAAAAhAAAAAAAAAEEAAAAAAAAAQQAAAAAAAAABAAAAAAAAAEEAAAAAAAAAIQAAAAAAAABBAAAAAAAAACEAAAAAAAAAIQAAAAAAAABBAAAAAAAAACEAAAAAAAAAIQAAAAAAAABBAAAAAAAAAEEAAAAAAAAAQQAAAAAAAAAhAAAAAAAAAEEAAAAAAAADwPwAAAAAAABBAAAAAAAAAEEAAAAAAAAAQQAAAAAAAABBAAAAAAAAAEEAAAAAAAAAQQAAAAAAAAAhAAAAAAAAAEEAAAAAAAAAIQAAAAAAAABBAAAAAAAAACEAAAAAAAAAIQAAAAAAAABBAAAAAAAAA8D8AAAAAAAAIQAAAAAAAAAhAAAAAAAAAEEAAAAAAAAAQQAAAAAAAAPA/AAAAAAAAEEAAAAAAAAAQQAAAAAAAABBAAAAAAAAAEEAAAAAAAAAIQAAAAAAAABBAAAAAAAAA8D8AAAAAAAAQQAAAAAAAABBAAAAAAAAAEEAAAAAAAAAQQAAAAAAAAAhAAAAAAAAAEEAAAAAAAAAIQAAAAAAAAAhAAAAAAAAAAEAAAAAAAAAAQAAAAAAAABBAAAAAAAAACEAAAAAAAAAQQAAAAAAAABBAAAAAAAAACEAAAAAAAAAIQAAAAAAAAAhAAAAAAAAAEEAAAAAAAAAQQAAAAAAAAPA/AAAAAAAAEEAAAAAAAAAQQAAAAAAAABBAAAAAAAAA8D8AAAAAAAAQQAAAAAAAABBAAAAAAAAAEEAAAAAAAAAQQAAAAAAAAABAAAAAAAAAEEAAAAAAAAAQQAAAAAAAABBAAAAAAAAA8D8AAAAAAADwPwAAAAAAAPA/AAAAAAAAEEAAAAAAAAAQQAAAAAAAABBAAAAAAAAAEEAAAAAAAAAQQAAAAAAAAAhAAAAAAAAAEEAAAAAAAAAIQAAAAAAAABBAAAAAAAAAEEAAAAAAAAAQQAAAAAAAABBAAAAAAAAAEEAAAAAAAAAQQAAAAAAAABBAAAAAAAAAEEAAAAAAAAAQQAAAAAAAAAhAAAAAAAAAEEAAAAAAAAAIQAAAAAAAABBAAAAAAAAAEEAAAAAAAAAQQAAAAAAAAABAAAAAAAAACEAAAAAAAAAAQAAAAAAAABBAAAAAAAAA8D8AAAAAAAAQQAAAAAAAABBAAAAAAAAA8D8AAAAAAAAQQAAAAAAAAAhAAAAAAAAACEAAAAAAAAAQQAAAAAAAABBAAAAAAAAAEEAAAAAAAAAIQAAAAAAAABBAAAAAAAAAEEAAAAAAAAAQQAAAAAAAAAhAAAAAAAAAEEAAAAAAAAAQQAAAAAAAABBAAAAAAAAAEEAAAAAAAADwPwAAAAAAABBAAAAAAAAACEAAAAAAAAAIQAAAAAAAAAhAAAAAAAAAEEAAAAAAAAAIQAAAAAAAAAhAAAAAAAAAEEAAAAAAAAAQQAAAAAAAABBAAAAAAAAAEEAAAAAAAAAQQAAAAAAAAAhAAAAAAAAAEEAAAAAAAAAQQAAAAAAAABBAAAAAAAAA8D8AAAAAAAAQQAAAAAAAABBAAAAAAAAACEAAAAAAAAAQQAAAAAAAABBAAAAAAAAAEEAAAAAAAAAQQAAAAAAAABBAAAAAAAAAAEAAAAAAAAAIQAAAAAAAABBAAAAAAAAAAEAAAAAAAAAQQAAAAAAAAAhAAAAAAAAACEAAAAAAAAAQQAAAAAAAAAhAAAAAAAAA8D8AAAAAAAAQQAAAAAAAAAhAAAAAAAAA8D8AAAAAAAAIQAAAAAAAAPA/AAAAAAAAEEAAAAAAAAAIQAAAAAAAAAhAAAAAAAAAEEAAAAAAAAAIQAAAAAAAABBAAAAAAAAACEAAAAAAAAAQQAAAAAAAABBAAAAAAAAAAEAAAAAAAAAQQAAAAAAAAAhAAAAAAAAA8D8AAAAAAAAQQAAAAAAAAABAAAAAAAAACEAAAAAAAADwPwAAAAAAAAhAAAAAAAAAEEAAAAAAAAAQQAAAAAAAAAhAAAAAAAAAEEAAAAAAAAAQQAAAAAAAAAhAAAAAAAAAEEAAAAAAAAAQQAAAAAAAABBAAAAAAAAA8D8AAAAAAAAIQAAAAAAAAPA/AAAAAAAAEEAAAAAAAAAAQAAAAAAAABBAAAAAAAAAEEAAAAAAAAAQQAAAAAAAAAhAAAAAAAAAEEAAAAAAAAAQQAAAAAAAABBAAAAAAAAAEEAAAAAAAAAIQAAAAAAAAABAAAAAAAAAEEAAAAAAAAAQQAAAAAAAABBAAAAAAAAAEEAAAAAAAAAQQAAAAAAAAAhAAAAAAAAAEEAAAAAAAADwPwAAAAAAABBAAAAAAAAAEEAAAAAAAAAQQAAAAAAAAAhAAAAAAAAAEEAAAAAAAAAQQAAAAAAAABBAAAAAAAAAEEAAAAAAAAAQQAAAAAAAAAhAAAAAAAAACEAAAAAAAAAQQAAAAAAAABBAAAAAAAAAEEAAAAAAAAAIQAAAAAAAAAhAAAAAAAAAEEAAAAAAAAAQQAAAAAAAAPA/AAAAAAAACEAAAAAAAAAQQAAAAAAAABBAAAAAAAAAAEAAAAAAAAAIQAAAAAAAAPA/AAAAAAAA8D8AAAAAAAAQQAAAAAAAABBAAAAAAAAACEAAAAAAAAAIQAAAAAAAAAhAAAAAAAAAEEAAAAAAAADwPwAAAAAAABBAAAAAAAAACEAAAAAAAAAIQAAAAAAAAAhAAAAAAAAAEEAAAAAAAAAAQAAAAAAAABBAAAAAAAAACEAAAAAAAAAQQAAAAAAAABBAAAAAAAAA8D8AAAAAAAAQQAAAAAAAABBAAAAAAAAACEAAAAAAAAAIQAAAAAAAAPA/AAAAAAAAEEAAAAAAAAAQQAAAAAAAABBAAAAAAAAAEEAAAAAAAAAQQAAAAAAAABBAAAAAAAAA8D8AAAAAAADwPwAAAAAAABBAAAAAAAAAEEAAAAAAAAAQQAAAAAAAABBAAAAAAAAACEAAAAAAAAAQQAAAAAAAABBAAAAAAAAAEEAAAAAAAAAIQAAAAAAAABBAAAAAAAAAEEAAAAAAAAAQQAAAAAAAABBAAAAAAAAAEEAAAAAAAAAIQAAAAAAAABBAAAAAAAAAEEAAAAAAAAAQQAAAAAAAABBAAAAAAAAAEEAAAAAAAAAQQAAAAAAAABBAAAAAAAAACEAAAAAAAAAQQAAAAAAAABBAAAAAAAAACEAAAAAAAAAIQAAAAAAAAAhAAAAAAAAACEAAAAAAAAAQQAAAAAAAABBAAAAAAAAAEEAAAAAAAADwPwAAAAAAAPA/AAAAAAAAEEAAAAAAAADwPwAAAAAAABBAAAAAAAAAEEAAAAAAAADwPwAAAAAAABBAAAAAAAAACEAAAAAAAAAQQAAAAAAAAAhAAAAAAAAACEAAAAAAAAAQQAAAAAAAABBAAAAAAAAAEEAAAAAAAAAAQAAAAAAAAAhAAAAAAAAACEAAAAAAAADwPwAAAAAAABBAAAAAAAAACEAAAAAAAAAIQAAAAAAAAPA/AAAAAAAA8D8AAAAAAAAQQAAAAAAAAPA/AAAAAAAAEEAAAAAAAAAQQAAAAAAAAAhAAAAAAAAACEAAAAAAAAAQQAAAAAAAABBAAAAAAAAAEEAAAAAAAAAQQAAAAAAAAPA/AAAAAAAAEEAAAAAAAAAAQAAAAAAAAAhAAAAAAAAAEEAAAAAAAAAQQAAAAAAAABBAAAAAAAAAEEAAAAAAAAAQQAAAAAAAABBAAAAAAAAACEAAAAAAAAAQQAAAAAAAAAhAAAAAAAAAEEAAAAAAAAAQQAAAAAAAABBAAAAAAAAACEAAAAAAAAAIQAAAAAAAABBAAAAAAAAAAEAAAAAAAAAQQAAAAAAAABBAAAAAAAAACEAAAAAAAAAIQAAAAAAAABBAAAAAAAAACEAAAAAAAAAQQAAAAAAAABBAAAAAAAAAEEAAAAAAAAAQQAAAAAAAABBAAAAAAAAAAEAAAAAAAAAQQAAAAAAAAAhAAAAAAAAAEEAAAAAAAAAQQAAAAAAAAAhAAAAAAAAACEAAAAAAAAAIQAAAAAAAABBAAAAAAAAAEEAAAAAAAAAQQAAAAAAAAPA/AAAAAAAAEEAAAAAAAAAQQAAAAAAAAPA/AAAAAAAAEEAAAAAAAAAQQAAAAAAAABBAAAAAAAAAEEAAAAAAAAAQQAAAAAAAAAhAAAAAAAAAEEAAAAAAAAAIQAAAAAAAABBAAAAAAAAAEEAAAAAAAAAQQAAAAAAAABBAAAAAAAAAEEAAAAAAAAAIQAAAAAAAAPA/AAAAAAAAEEAAAAAAAAAQQAAAAAAAAAhAAAAAAAAAEEAAAAAAAAAQQAAAAAAAABBAAAAAAAAAEEAAAAAAAAAQQAAAAAAAABBAAAAAAAAACEAAAAAAAAAQQAAAAAAAABBAAAAAAAAAEEAAAAAAAAAQQAAAAAAAABBAAAAAAAAACEAAAAAAAAAIQAAAAAAAAABAAAAAAAAAEEAAAAAAAAAIQAAAAAAAAAhAAAAAAAAAEEAAAAAAAADwPwAAAAAAAAhAAAAAAAAACEAAAAAAAAAIQAAAAAAAABBAAAAAAAAACEAAAAAAAADwPwAAAAAAAAhAAAAAAAAAEEAAAAAAAAAQQAAAAAAAABBAAAAAAAAA8D8AAAAAAAAQQAAAAAAAABBAAAAAAAAAEEAAAAAAAAAIQAAAAAAAABBAAAAAAAAACEAAAAAAAAAQQAAAAAAAABBAAAAAAAAACEAAAAAAAAAIQAAAAAAAABBAAAAAAAAAEEAAAAAAAAAQQAAAAAAAABBAAAAAAAAAEEAAAAAAAAAQQAAAAAAAAPA/AAAAAAAA8D8AAAAAAAAIQAAAAAAAAAhAAAAAAAAACEAAAAAAAAAQQAAAAAAAABBAAAAAAAAA8D8AAAAAAAAAQAAAAAAAABBAAAAAAAAAEEAAAAAAAAAQQAAAAAAAABBAAAAAAAAAEEAAAAAAAAAIQAAAAAAAAAhAAAAAAAAAEEAAAAAAAAAQQAAAAAAAAPA/AAAAAAAAEEAAAAAAAAAQQAAAAAAAABBAAAAAAAAA8D8AAAAAAAAQQAAAAAAAABBAAAAAAAAAEEAAAAAAAADwPwAAAAAAABBAAAAAAAAAEEAAAAAAAAAQQAAAAAAAAABAAAAAAAAAEEAAAAAAAAAQQAAAAAAAABBAAAAAAAAAAEAAAAAAAAAQQAAAAAAAAPA/AAAAAAAACEAAAAAAAAAQQAAAAAAAABBAAAAAAAAAEEAAAAAAAAAQQAAAAAAAABBAAAAAAAAAEEAAAAAAAAAQQAAAAAAAABBAAAAAAAAAEEAAAAAAAAAQQAAAAAAAABBAAAAAAAAACEAAAAAAAADwPwAAAAAAAAhAAAAAAAAAEEAAAAAAAAAQQAAAAAAAAAhAAAAAAAAA8D8AAAAAAAAQQAAAAAAAAAhAAAAAAAAAEEAAAAAAAAAQQAAAAAAAAPA/AAAAAAAACEAAAAAAAAAQQAAAAAAAAAhAAAAAAAAAEEAAAAAAAAAQQAAAAAAAAPA/AAAAAAAAEEAAAAAAAAAQQAAAAAAAAAhAAAAAAAAA8D8AAAAAAADwPwAAAAAAAAhAAAAAAAAAEEAAAAAAAAAQQAAAAAAAABBAAAAAAAAAEEAAAAAAAADwPwAAAAAAABBAAAAAAAAAEEAAAAAAAAAIQAAAAAAAAPA/AAAAAAAAEEAAAAAAAAAQQAAAAAAAABBAAAAAAAAAEEAAAAAAAAAQQAAAAAAAABBAAAAAAAAAEEAAAAAAAAAQQAAAAAAAABBAAAAAAAAAEEAAAAAAAADwPwAAAAAAAAhAAAAAAAAACEAAAAAAAAAQQAAAAAAAABBAAAAAAAAAAEAAAAAAAAAQQAAAAAAAABBAAAAAAAAAEEAAAAAAAAAIQAAAAAAAAAhAAAAAAAAAEEAAAAAAAAAQQAAAAAAAABBAAAAAAAAAEEAAAAAAAAAQQAAAAAAAABBAAAAAAAAAEEAAAAAAAADwPwAAAAAAABBAAAAAAAAAEEAAAAAAAAAQQAAAAAAAABBAAAAAAAAA8D8AAAAAAAAIQAAAAAAAABBAAAAAAAAACEAAAAAAAADwPwAAAAAAABBAAAAAAAAAEEAAAAAAAAAQQAAAAAAAAPA/AAAAAAAAEEAAAAAAAAAQQAAAAAAAABBAAAAAAAAAAEAAAAAAAAAQQAAAAAAAAAhAAAAAAAAACEAAAAAAAAAQQAAAAAAAABBAAAAAAAAACEAAAAAAAAAQQAAAAAAAABBAAAAAAAAAEEAAAAAAAAAQQAAAAAAAABBAAAAAAAAAEEAAAAAAAAAQQAAAAAAAABBAAAAAAAAAEEAAAAAAAAAAQAAAAAAAABBAAAAAAAAAEEAAAAAAAAAQQAAAAAAAAAhAAAAAAAAACEAAAAAAAAAQQAAAAAAAABBAAAAAAAAAEEAAAAAAAAAIQAAAAAAAAAhAAAAAAAAAEEAAAAAAAAAQQAAAAAAAAAhAAAAAAAAAEEAAAAAAAAAIQAAAAAAAABBAAAAAAAAACEAAAAAAAAAIQAAAAAAAABBAAAAAAAAAEEAAAAAAAAAIQAAAAAAAABBAAAAAAAAAEEAAAAAAAAAQQAAAAAAAABBAAAAAAAAACEAAAAAAAAAQQAAAAAAAABBAAAAAAAAAEEAAAAAAAAAQQAAAAAAAABBAAAAAAAAACEAAAAAAAAAIQAAAAAAAAAhAAAAAAAAACEAAAAAAAAAQQAAAAAAAABBAAAAAAAAAEEAAAAAAAAAQQAAAAAAAABBAAAAAAAAACEAAAAAAAAAQQAAAAAAAABBAAAAAAAAAEEAAAAAAAAAQQAAAAAAAABBAAAAAAAAAEEAAAAAAAAAQQAAAAAAAAAhAAAAAAAAAEEAAAAAAAAAQQAAAAAAAABBAAAAAAAAAEEAAAAAAAAAQQAAAAAAAABBAAAAAAAAAEEAAAAAAAAAIQAAAAAAAABBAAAAAAAAA8D8AAAAAAAAQQAAAAAAAABBAAAAAAAAAEEAAAAAAAADwPwAAAAAAABBAAAAAAAAAEEAAAAAAAAAQQAAAAAAAAAhAAAAAAAAAEEAAAAAAAAAQQAAAAAAAAPA/AAAAAAAAEEAAAAAAAAAQQAAAAAAAABBAAAAAAAAAEEAAAAAAAAAQQAAAAAAAAAhAAAAAAAAA8D8AAAAAAAAIQAAAAAAAAPA/AAAAAAAAEEAAAAAAAAAIQAAAAAAAABBAAAAAAAAAEEAAAAAAAAAQQAAAAAAAABBAAAAAAAAACEAAAAAAAAAQQAAAAAAAAABAAAAAAAAACEAAAAAAAAAIQAAAAAAAABBAAAAAAAAAEEAAAAAAAAAQQAAAAAAAAPA/AAAAAAAAEEAAAAAAAADwPwAAAAAAABBAAAAAAAAAEEAAAAAAAAAQQAAAAAAAABBAAAAAAAAACEAAAAAAAAAQQAAAAAAAABBAAAAAAAAA8D8AAAAAAAAIQAAAAAAAABBAAAAAAAAA8D8AAAAAAAAQQAAAAAAAAAhAAAAAAAAAAEAAAAAAAAAQQAAAAAAAABBAAAAAAAAA8D8AAAAAAAAQQAAAAAAAABBAAAAAAAAA8D8AAAAAAAAIQAAAAAAAABBAAAAAAAAAEEAAAAAAAAAIQAAAAAAAAAhAAAAAAAAAEEAAAAAAAADwPwAAAAAAABBAAAAAAAAACEAAAAAAAAAQQAAAAAAAABBAAAAAAAAAEEAAAAAAAAAQQAAAAAAAABBAAAAAAAAAEEAAAAAAAAAAQAAAAAAAAAhAAAAAAAAACEAAAAAAAAAQQAAAAAAAAAhAAAAAAAAAEEAAAAAAAAAIQAAAAAAAAAhAAAAAAAAAEEAAAAAAAAAQQAAAAAAAABBAAAAAAAAAAEAAAAAAAAAQQAAAAAAAAPA/AAAAAAAACEAAAAAAAAAIQAAAAAAAAAhAAAAAAAAACEAAAAAAAAAQQAAAAAAAABBAAAAAAAAACEAAAAAAAAAIQAAAAAAAAAhAAAAAAAAAAEAAAAAAAAAQQAAAAAAAAAhAAAAAAAAAEEAAAAAAAAAQQAAAAAAAAABAAAAAAAAAEEAAAAAAAAAQQAAAAAAAABBAAAAAAAAACEAAAAAAAAAIQAAAAAAAAAhAAAAAAAAACEAAAAAAAAAIQAAAAAAAAPA/AAAAAAAACEAAAAAAAAAQQAAAAAAAAAhAAAAAAAAAAEAAAAAAAAAIQAAAAAAAABBAAAAAAAAAEEAAAAAAAAAQQAAAAAAAAAhAAAAAAAAAEEAAAAAAAAAQQAAAAAAAABBAAAAAAAAAEEAAAAAAAAAQQAAAAAAAAPA/AAAAAAAAAEAAAAAAAAAIQAAAAAAAABBAAAAAAAAACEAAAAAAAAAIQAAAAAAAAAhAAAAAAAAAEEAAAAAAAAAQQAAAAAAAABBAAAAAAAAAEEAAAAAAAAAQQAAAAAAAAPA/AAAAAAAACEAAAAAAAAAQQAAAAAAAAAhAAAAAAAAACEAAAAAAAADwPwAAAAAAABBAAAAAAAAAEEAAAAAAAAAQQAAAAAAAABBAAAAAAAAAEEAAAAAAAAAQQAAAAAAAAABAAAAAAAAAEEAAAAAAAAAIQAAAAAAAABBAAAAAAAAAEEAAAAAAAAAIQAAAAAAAABBAAAAAAAAA8D8AAAAAAAAIQAAAAAAAAAhAAAAAAAAACEAAAAAAAAAQQAAAAAAAABBAAAAAAAAACEAAAAAAAAAQQAAAAAAAABBAAAAAAAAAAEAAAAAAAAAQQAAAAAAAABBAAAAAAAAAEEAAAAAAAAAQQAAAAAAAABBAAAAAAAAAEEAAAAAAAADwPwAAAAAAABBAAAAAAAAACEAAAAAAAAAQQAAAAAAAABBAAAAAAAAACEAAAAAAAAAQQAAAAAAAABBAAAAAAAAAAEAAAAAAAAAQQAAAAAAAAPA/AAAAAAAAEEAAAAAAAAAQQAAAAAAAAAhAAAAAAAAAEEAAAAAAAAAQQAAAAAAAABBAAAAAAAAA8D8AAAAAAAAQQAAAAAAAABBAAAAAAAAA8D8AAAAAAAAQQAAAAAAAABBAAAAAAAAAEEAAAAAAAAAQQAAAAAAAABBAAAAAAAAAEEAAAAAAAAAQQAAAAAAAABBAAAAAAAAAEEAAAAAAAAAQQAAAAAAAABBAAAAAAAAA8D8AAAAAAAAQQAAAAAAAAAhAAAAAAAAAEEAAAAAAAAAQQAAAAAAAAPA/AAAAAAAACEAAAAAAAAAIQAAAAAAAABBAAAAAAAAAEEAAAAAAAADwPwAAAAAAABBAAAAAAAAAAEAAAAAAAAAQQAAAAAAAABBAAAAAAAAACEAAAAAAAAAQQAAAAAAAABBAAAAAAAAA8D8AAAAAAADwPwAAAAAAAABAAAAAAAAAEEAAAAAAAAAAQAAAAAAAABBAAAAAAAAA8D8AAAAAAADwPwAAAAAAABBAAAAAAAAAEEAAAAAAAAAIQAAAAAAAABBAAAAAAAAAEEAAAAAAAAAQQAAAAAAAABBAAAAAAAAAEEAAAAAAAAAQQAAAAAAAAAhAAAAAAAAAEEAAAAAAAADwPwAAAAAAAPA/AAAAAAAAEEAAAAAAAAAIQAAAAAAAAAhAAAAAAAAAEEAAAAAAAAAQQAAAAAAAABBAAAAAAAAAEEAAAAAAAAAIQAAAAAAAAPA/AAAAAAAAEEAAAAAAAADwPwAAAAAAABBAAAAAAAAACEAAAAAAAAAQQAAAAAAAABBAAAAAAAAAEEAAAAAAAADwPwAAAAAAABBAAAAAAAAAEEAAAAAAAAAIQAAAAAAAAAhAAAAAAAAAEEAAAAAAAAAQQAAAAAAAAPA/AAAAAAAAEEAAAAAAAAAQQAAAAAAAAAhAAAAAAAAAEEAAAAAAAAAIQAAAAAAAAAhAAAAAAAAAEEAAAAAAAAAIQAAAAAAAABBAAAAAAAAAEEAAAAAAAAAQQAAAAAAAABBAAAAAAAAACEAAAAAAAADwPwAAAAAAABBAAAAAAAAACEAAAAAAAADwPwAAAAAAAPA/AAAAAAAAEEAAAAAAAAAIQAAAAAAAAAhAAAAAAAAACEAAAAAAAAAQQAAAAAAAABBAAAAAAAAAEEAAAAAAAAAQQAAAAAAAABBAAAAAAAAAEEAAAAAAAADwPwAAAAAAABBAAAAAAAAAEEAAAAAAAAAQQAAAAAAAABBAAAAAAAAAEEAAAAAAAAAIQAAAAAAAAAhAAAAAAAAAEEAAAAAAAAAQQAAAAAAAAAhAAAAAAAAA8D8AAAAAAAAQQAAAAAAAABBAAAAAAAAAEEAAAAAAAAAQQAAAAAAAABBAAAAAAAAAEEAAAAAAAAAQQAAAAAAAABBAAAAAAAAACEAAAAAAAAAQQAAAAAAAABBAAAAAAAAAEEAAAAAAAAAQQAAAAAAAAAhAAAAAAAAA8D8AAAAAAAAQQAAAAAAAAAhAAAAAAAAACEAAAAAAAAAQQAAAAAAAABBAAAAAAAAAEEAAAAAAAAAQQAAAAAAAABBAAAAAAAAAEEAAAAAAAAAQQAAAAAAAAAhAAAAAAAAA8D8AAAAAAAAQQAAAAAAAABBAAAAAAAAA8D8AAAAAAAAQQAAAAAAAABBAAAAAAAAACEAAAAAAAAAQQAAAAAAAABBAAAAAAAAACEAAAAAAAAAQQAAAAAAAABBAAAAAAAAAEEAAAAAAAAAQQAAAAAAAABBAAAAAAAAA8D8AAAAAAAAQQAAAAAAAABBAAAAAAAAACEAAAAAAAAAQQAAAAAAAAAhAAAAAAAAAEEAAAAAAAADwPwAAAAAAABBAAAAAAAAAEEAAAAAAAAAQQAAAAAAAABBAAAAAAAAAAEAAAAAAAAAQQAAAAAAAAPA/AAAAAAAAEEAAAAAAAADwPwAAAAAAABBAAAAAAAAAEEAAAAAAAAAQQAAAAAAAAABAAAAAAAAACEAAAAAAAAAQQAAAAAAAABBAAAAAAAAAEEAAAAAAAADwPwAAAAAAABBAAAAAAAAAEEAAAAAAAAAIQAAAAAAAAAhAAAAAAAAAEEAAAAAAAAAQQAAAAAAAABBAAAAAAAAAEEAAAAAAAAAQQAAAAAAAABBAAAAAAAAACEAAAAAAAAAQQAAAAAAAAPA/AAAAAAAAEEAAAAAAAAAAQAAAAAAAAAhAAAAAAAAAEEAAAAAAAAAQQAAAAAAAAPA/AAAAAAAAEEAAAAAAAADwPwAAAAAAAPA/AAAAAAAAEEAAAAAAAAAIQAAAAAAAABBAAAAAAAAACEAAAAAAAAAIQAAAAAAAABBAAAAAAAAAEEAAAAAAAAAQQAAAAAAAABBAAAAAAAAAEEAAAAAAAAAQQAAAAAAAAAhAAAAAAAAACEAAAAAAAADwPwAAAAAAABBAAAAAAAAAEEAAAAAAAAAQQAAAAAAAABBAAAAAAAAACEAAAAAAAAAQQAAAAAAAABBAAAAAAAAA8D8AAAAAAADwPwAAAAAAAAhAAAAAAAAAEEAAAAAAAAAIQAAAAAAAAAhAAAAAAAAACEAAAAAAAAAQQAAAAAAAAAhAAAAAAAAAEEAAAAAAAADwPwAAAAAAAAhAAAAAAAAAEEAAAAAAAAAQQAAAAAAAABBAAAAAAAAAEEAAAAAAAAAQQAAAAAAAABBAAAAAAAAAEEAAAAAAAAAQQAAAAAAAABBAAAAAAAAAEEAAAAAAAAAQQAAAAAAAAAhAAAAAAAAAEEAAAAAAAAAIQAAAAAAAAAhAAAAAAAAAEEAAAAAAAAAQQAAAAAAAABBAAAAAAAAAEEAAAAAAAAAIQAAAAAAAABBAAAAAAAAAAEAAAAAAAAAQQAAAAAAAABBAAAAAAAAAAEAAAAAAAAAQQAAAAAAAAPA/AAAAAAAA8D8AAAAAAAAIQAAAAAAAAAhAAAAAAAAAEEAAAAAAAAAQQAAAAAAAAAhAAAAAAAAACEAAAAAAAAAIQAAAAAAAAPA/AAAAAAAA8D8AAAAAAAAIQAAAAAAAABBAAAAAAAAA8D8AAAAAAAAQQAAAAAAAABBAAAAAAAAAEEAAAAAAAAAIQAAAAAAAABBAAAAAAAAACEAAAAAAAAAIQAAAAAAAAPA/AAAAAAAACEAAAAAAAADwPwAAAAAAABBAAAAAAAAACEAAAAAAAAAQQAAAAAAAABBAAAAAAAAAEEAAAAAAAAAIQAAAAAAAABBAAAAAAAAACEAAAAAAAAAQQAAAAAAAABBAAAAAAAAAAEAAAAAAAAAQQAAAAAAAABBAAAAAAAAACEAAAAAAAAAQQAAAAAAAABBAAAAAAAAAEEAAAAAAAAAIQAAAAAAAAAhAAAAAAAAAEEAAAAAAAADwPwAAAAAAABBAAAAAAAAAEEAAAAAAAAAQQAAAAAAAABBAAAAAAAAAEEAAAAAAAAAQQAAAAAAAABBAAAAAAAAAEEAAAAAAAAAQQAAAAAAAAAhAAAAAAAAAEEAAAAAAAAAIQAAAAAAAABBAAAAAAAAAEEAAAAAAAAAQQAAAAAAAAPA/AAAAAAAAEEAAAAAAAAAQQAAAAAAAAPA/AAAAAAAAEEAAAAAAAAAQQAAAAAAAAAhAAAAAAAAAEEAAAAAAAADwPwAAAAAAABBAAAAAAAAAEEAAAAAAAAAQQAAAAAAAABBAAAAAAAAAEEAAAAAAAAAQQAAAAAAAABBAAAAAAAAAEEAAAAAAAAAQQAAAAAAAABBAAAAAAAAAEEAAAAAAAAAQQAAAAAAAABBAAAAAAAAAEEAAAAAAAAAQQAAAAAAAAPA/AAAAAAAACEAAAAAAAAAQQAAAAAAAABBAAAAAAAAAEEAAAAAAAAAAQAAAAAAAABBAAAAAAAAAAEAAAAAAAAAQQAAAAAAAAPA/AAAAAAAACEAAAAAAAAAQQAAAAAAAABBAAAAAAAAAEEAAAAAAAAAQQAAAAAAAABBAAAAAAAAAEEAAAAAAAAAQQAAAAAAAABBAAAAAAAAAEEAAAAAAAAAQQAAAAAAAABBAAAAAAAAAEEAAAAAAAAAQQAAAAAAAAAhAAAAAAAAACEAAAAAAAAAQQAAAAAAAAAhAAAAAAAAAEEAAAAAAAAAQQAAAAAAAAAhAAAAAAAAA8D8AAAAAAAAQQAAAAAAAAPA/AAAAAAAACEAAAAAAAAAQQAAAAAAAAPA/AAAAAAAACEAAAAAAAAAQQAAAAAAAAAhAAAAAAAAAEEAAAAAAAAAIQAAAAAAAAPA/AAAAAAAA8D8AAAAAAAAIQAAAAAAAABBAAAAAAAAAAEAAAAAAAAAAQAAAAAAAAAhAAAAAAAAACEAAAAAAAADwPwAAAAAAABBAAAAAAAAACEAAAAAAAADwPwAAAAAAAABAAAAAAAAAEEAAAAAAAAAAQAAAAAAAABBAAAAAAAAAEEAAAAAAAADwPwAAAAAAABBAAAAAAAAAEEAAAAAAAADwPwAAAAAAABBAAAAAAAAACEAAAAAAAAAIQAAAAAAAABBAAAAAAAAAEEAAAAAAAAAQQAAAAAAAAPA/AAAAAAAAEEAAAAAAAAAQQAAAAAAAABBAAAAAAAAACEAAAAAAAADwPwAAAAAAAPA/AAAAAAAACEAAAAAAAAAIQAAAAAAAAAhAAAAAAAAAEEAAAAAAAAAQQAAAAAAAABBAAAAAAAAAEEAAAAAAAAAIQAAAAAAAAAhAAAAAAAAAEEAAAAAAAAAQQAAAAAAAABBAAAAAAAAACEAAAAAAAAAQQAAAAAAAABBAAAAAAAAACEAAAAAAAAAIQAAAAAAAAPA/AAAAAAAAEEAAAAAAAAAQQAAAAAAAABBAAAAAAAAA8D8AAAAAAADwPwAAAAAAAPA/AAAAAAAACEAAAAAAAAAQQAAAAAAAABBAAAAAAAAAEEAAAAAAAAAQQAAAAAAAABBAAAAAAAAAEEAAAAAAAAAQQAAAAAAAAAhAAAAAAAAA8D8AAAAAAADwPwAAAAAAAAhAAAAAAAAA8D8AAAAAAAAQQAAAAAAAABBAAAAAAAAAEEAAAAAAAAAAQAAAAAAAABBAAAAAAAAAEEAAAAAAAAAQQAAAAAAAAPA/AAAAAAAACEAAAAAAAAAQQAAAAAAAAAhAAAAAAAAAEEAAAAAAAAAIQAAAAAAAABBAAAAAAAAAEEAAAAAAAAAQQAAAAAAAABBAAAAAAAAAEEAAAAAAAAAQQAAAAAAAABBAAAAAAAAAAEAAAAAAAAAQQAAAAAAAABBAAAAAAAAAEEAAAAAAAAAIQAAAAAAAABBAAAAAAAAAEEAAAAAAAAAQQAAAAAAAABBAAAAAAAAAEEAAAAAAAAAQQAAAAAAAABBAAAAAAAAACEAAAAAAAAAIQAAAAAAAAABAAAAAAAAACEAAAAAAAAAQQAAAAAAAABBAAAAAAAAAEEAAAAAAAAAQQAAAAAAAABBAAAAAAAAACEAAAAAAAAAQQAAAAAAAAAhAAAAAAAAAEEAAAAAAAAAQQAAAAAAAABBAAAAAAAAACEAAAAAAAAAIQAAAAAAAABBAAAAAAAAAEEAAAAAAAAAQQAAAAAAAABBAAAAAAAAACEAAAAAAAAAQQAAAAAAAABBAAAAAAAAAEEAAAAAAAADwPwAAAAAAAABAAAAAAAAAEEAAAAAAAAAQQAAAAAAAABBAAAAAAAAAEEAAAAAAAADwPwAAAAAAAABAAAAAAAAAEEAAAAAAAAAQQAAAAAAAABBAAAAAAAAA8D8AAAAAAAAAQAAAAAAAABBAAAAAAAAAEEAAAAAAAAAQQAAAAAAAAABAAAAAAAAACEAAAAAAAAAIQAAAAAAAABBAAAAAAAAAEEAAAAAAAAAQQAAAAAAAABBAAAAAAAAAEEAAAAAAAAAQQAAAAAAAABBAAAAAAAAAEEAAAAAAAAAQQAAAAAAAAAhAAAAAAAAAEEAAAAAAAAAQQAAAAAAAABBAAAAAAAAAEEAAAAAAAADwPwAAAAAAABBAAAAAAAAAEEAAAAAAAAAQQAAAAAAAAAhAAAAAAAAACEAAAAAAAAAQQAAAAAAAAPA/AAAAAAAAEEAAAAAAAAAQQAAAAAAAAAhAAAAAAAAAAEAAAAAAAAAQQAAAAAAAABBAAAAAAAAAEEAAAAAAAADwPwAAAAAAABBAAAAAAAAA8D8AAAAAAAAQQAAAAAAAAAhAAAAAAAAAEEAAAAAAAADwPwAAAAAAAPA/AAAAAAAA8D8AAAAAAAAQQAAAAAAAAAhAAAAAAAAACEAAAAAAAADwPwAAAAAAABBAAAAAAAAAEEAAAAAAAAAIQAAAAAAAABBAAAAAAAAA8D8AAAAAAAAQQAAAAAAAAAhAAAAAAAAAEEAAAAAAAAAQQAAAAAAAABBAAAAAAAAAEEAAAAAAAAAQQAAAAAAAABBAAAAAAAAAEEAAAAAAAAAQQAAAAAAAABBAAAAAAAAAEEAAAAAAAADwPwAAAAAAABBAAAAAAAAAEEAAAAAAAAAQQAAAAAAAABBAAAAAAAAAEEAAAAAAAAAIQAAAAAAAABBAAAAAAAAAEEAAAAAAAAAQQAAAAAAAABBAAAAAAAAACEAAAAAAAAAQQAAAAAAAABBAAAAAAAAA8D8AAAAAAAAIQAAAAAAAAPA/AAAAAAAACEAAAAAAAAAAQAAAAAAAABBAAAAAAAAACEAAAAAAAAAIQAAAAAAAAPA/AAAAAAAAEEAAAAAAAADwPwAAAAAAABBAAAAAAAAAEEAAAAAAAAAQQAAAAAAAABBAAAAAAAAACEAAAAAAAAAIQAAAAAAAAAhAAAAAAAAAEEAAAAAAAAAQQAAAAAAAAAhAAAAAAAAAEEAAAAAAAAAIQAAAAAAAABBAAAAAAAAAEEAAAAAAAAAQQAAAAAAAAAhAAAAAAAAAEEAAAAAAAAAQQAAAAAAAABBAAAAAAAAAEEAAAAAAAAAQQAAAAAAAABBAAAAAAAAACEAAAAAAAAAIQAAAAAAAABBAAAAAAAAA8D8AAAAAAAAQQAAAAAAAAAhAAAAAAAAAEEAAAAAAAAAQQAAAAAAAAAhAAAAAAAAAAEAAAAAAAAAQQAAAAAAAABBAAAAAAAAAEEAAAAAAAADwPwAAAAAAABBAAAAAAAAACEAAAAAAAADwPwAAAAAAABBAAAAAAAAACEAAAAAAAAAQQAAAAAAAAPA/AAAAAAAAEEAAAAAAAAAQQAAAAAAAABBAAAAAAAAAEEAAAAAAAAAQQAAAAAAAABBAAAAAAAAAEEAAAAAAAAAAQAAAAAAAABBAAAAAAAAA8D8AAAAAAAAQQAAAAAAAABBAAAAAAAAAEEAAAAAAAAAQQAAAAAAAABBAAAAAAAAAEEAAAAAAAAAQQAAAAAAAABBAAAAAAAAA8D8AAAAAAADwPwAAAAAAABBAAAAAAAAACEAAAAAAAAAQQAAAAAAAABBAAAAAAAAAEEAAAAAAAAAQQAAAAAAAAABAAAAAAAAAEEAAAAAAAADwPwAAAAAAAPA/AAAAAAAACEAAAAAAAAAQQAAAAAAAABBAAAAAAAAAEEAAAAAAAAAIQAAAAAAAABBAAAAAAAAAEEAAAAAAAAAQQAAAAAAAABBAAAAAAAAAEEAAAAAAAAAQQAAAAAAAABBAAAAAAAAAEEAAAAAAAAAIQAAAAAAAABBAAAAAAAAAEEAAAAAAAAAQQAAAAAAAAAhAAAAAAAAAEEAAAAAAAADwPwAAAAAAABBAAAAAAAAAEEAAAAAAAADwPwAAAAAAAAhAAAAAAAAAEEAAAAAAAAAQQAAAAAAAABBAAAAAAAAA8D8AAAAAAAAQQAAAAAAAAAhAAAAAAAAACEAAAAAAAAAQQAAAAAAAAABAAAAAAAAACEAAAAAAAADwPwAAAAAAABBAAAAAAAAAEEAAAAAAAADwPwAAAAAAABBAAAAAAAAACEAAAAAAAAAAQAAAAAAAAAhAAAAAAAAAEEAAAAAAAAAQQAAAAAAAABBAAAAAAAAAEEAAAAAAAAAQQAAAAAAAABBAAAAAAAAACEAAAAAAAAAQQAAAAAAAAAhAAAAAAAAACEAAAAAAAAAQQAAAAAAAAAhAAAAAAAAAEEAAAAAAAAAIQAAAAAAAABBAAAAAAAAACEAAAAAAAAAQQAAAAAAAABBAAAAAAAAAEEAAAAAAAAAQQAAAAAAAABBAAAAAAAAAEEAAAAAAAADwPwAAAAAAAPA/AAAAAAAAEEAAAAAAAAAQQAAAAAAAABBAAAAAAAAACEAAAAAAAAAAQAAAAAAAAAhAAAAAAAAAEEAAAAAAAAAQQAAAAAAAABBAAAAAAAAACEAAAAAAAAAQQAAAAAAAABBAAAAAAAAACEAAAAAAAAAQQAAAAAAAABBAAAAAAAAAEEAAAAAAAAAQQAAAAAAAABBAAAAAAAAAEEAAAAAAAAAQQAAAAAAAAPA/AAAAAAAAEEAAAAAAAAAQQAAAAAAAABBAAAAAAAAAEEAAAAAAAAAQQAAAAAAAAAhAAAAAAAAAEEAAAAAAAAAQQAAAAAAAAAhAAAAAAAAAEEAAAAAAAAAIQAAAAAAAABBAAAAAAAAAEEAAAAAAAADwPwAAAAAAABBAAAAAAAAAEEAAAAAAAAAQQAAAAAAAAABAAAAAAAAAEEAAAAAAAAAIQAAAAAAAABBAAAAAAAAA8D8AAAAAAAAAQAAAAAAAABBAAAAAAAAAAEAAAAAAAAAQQAAAAAAAAAhAAAAAAAAAEEAAAAAAAAAQQAAAAAAAAPA/AAAAAAAA8D8AAAAAAAAQQAAAAAAAABBAAAAAAAAAEEAAAAAAAAAQQAAAAAAAAPA/AAAAAAAAEEAAAAAAAAAIQAAAAAAAABBAAAAAAAAA8D8AAAAAAAAQQAAAAAAAAAhAAAAAAAAAEEAAAAAAAAAQQAAAAAAAAPA/AAAAAAAAEEAAAAAAAAAQQAAAAAAAAPA/AAAAAAAAEEAAAAAAAAAQQAAAAAAAABBAAAAAAAAAEEAAAAAAAAAQQAAAAAAAAAhAAAAAAAAA8D8AAAAAAADwPwAAAAAAAPA/AAAAAAAAEEAAAAAAAADwPwAAAAAAAAhAAAAAAAAAEEAAAAAAAAAQQAAAAAAAAABAAAAAAAAAEEAAAAAAAAAQQAAAAAAAAAhAAAAAAAAAAEAAAAAAAAAQQAAAAAAAABBAAAAAAAAAEEAAAAAAAAAQQAAAAAAAABBAAAAAAAAAEEAAAAAAAAAQQAAAAAAAABBAAAAAAAAAEEAAAAAAAAAAQAAAAAAAABBAAAAAAAAAEEAAAAAAAAAIQAAAAAAAAAhAAAAAAAAAEEAAAAAAAAAIQAAAAAAAABBAAAAAAAAA8D8AAAAAAAAQQAAAAAAAAAhAAAAAAAAAEEAAAAAAAAAQQAAAAAAAAABAAAAAAAAAEEAAAAAAAAAQQAAAAAAAABBAAAAAAAAAEEAAAAAAAAAQQAAAAAAAABBAAAAAAAAAAEAAAAAAAAAQQAAAAAAAABBAAAAAAAAACEAAAAAAAAAQQAAAAAAAAAhAAAAAAAAA8D8AAAAAAADwPwAAAAAAABBAAAAAAAAA8D8AAAAAAADwPwAAAAAAAAhAAAAAAAAAEEAAAAAAAAAIQAAAAAAAABBAAAAAAAAAEEAAAAAAAAAIQAAAAAAAABBAAAAAAAAACEAAAAAAAAAQQAAAAAAAAAhAAAAAAAAAEEAAAAAAAADwPwAAAAAAAPA/AAAAAAAAEEAAAAAAAAAQQAAAAAAAAPA/AAAAAAAAEEAAAAAAAAAQQAAAAAAAAPA/AAAAAAAAEEAAAAAAAAAQQAAAAAAAAAhAAAAAAAAAEEAAAAAAAAAQQAAAAAAAAABAAAAAAAAAAEAAAAAAAAAIQAAAAAAAAPA/AAAAAAAAEEAAAAAAAADwPwAAAAAAAAhAAAAAAAAAEEAAAAAAAAAQQAAAAAAAABBAAAAAAAAA8D8AAAAAAAAQQAAAAAAAABBAAAAAAAAA8D8AAAAAAAAQQAAAAAAAABBAAAAAAAAAEEAAAAAAAAAQQAAAAAAAAAhAAAAAAAAAEEAAAAAAAADwPwAAAAAAABBAAAAAAAAA8D8AAAAAAAAQQAAAAAAAAAhAAAAAAAAAEEAAAAAAAAAQQAAAAAAAAAhAAAAAAAAAEEAAAAAAAAAQQAAAAAAAAABAAAAAAAAACEAAAAAAAAAQQAAAAAAAABBAAAAAAAAAEEAAAAAAAAAIQAAAAAAAABBAAAAAAAAACEAAAAAAAAAQQAAAAAAAABBAAAAAAAAAEEAAAAAAAAAQQAAAAAAAAPA/AAAAAAAAEEAAAAAAAADwPwAAAAAAABBAAAAAAAAACEAAAAAAAAAQQAAAAAAAABBAAAAAAAAAEEAAAAAAAAAQQAAAAAAAABBAAAAAAAAAEEAAAAAAAAAQQAAAAAAAABBAAAAAAAAAEEAAAAAAAAAQQAAAAAAAABBAAAAAAAAAEEAAAAAAAAAIQAAAAAAAABBAAAAAAAAA8D8AAAAAAAAQQAAAAAAAABBAAAAAAAAAEEAAAAAAAADwPwAAAAAAABBAAAAAAAAAEEAAAAAAAAAIQAAAAAAAABBAAAAAAAAAEEAAAAAAAAAQQAAAAAAAAABAAAAAAAAACEAAAAAAAAAQQAAAAAAAAPA/AAAAAAAA8D8AAAAAAAAIQAAAAAAAABBAAAAAAAAAAEAAAAAAAAAQQAAAAAAAAAhAAAAAAAAA8D8AAAAAAAAQQAAAAAAAABBAAAAAAAAAEEAAAAAAAAAQQAAAAAAAAAhAAAAAAAAAEEAAAAAAAAAQQAAAAAAAABBAAAAAAAAAEEAAAAAAAAAQQAAAAAAAABBAAAAAAAAAEEAAAAAAAAAQQAAAAAAAAAhAAAAAAAAA8D8AAAAAAAAAQAAAAAAAABBAAAAAAAAACEAAAAAAAAAIQAAAAAAAAABAAAAAAAAAEEAAAAAAAAAQQAAAAAAAAPA/AAAAAAAAEEAAAAAAAAAIQAAAAAAAABBAAAAAAAAAEEAAAAAAAAAQQAAAAAAAABBAAAAAAAAA8D8AAAAAAADwPwAAAAAAAPA/AAAAAAAAEEAAAAAAAAAQQAAAAAAAAAhAAAAAAAAAEEAAAAAAAAAQQAAAAAAAAAhAAAAAAAAAAEAAAAAAAAAQQAAAAAAAABBAAAAAAAAAEEAAAAAAAAAQQAAAAAAAABBAAAAAAAAAEEAAAAAAAAAQQAAAAAAAAAhAAAAAAAAAAEAAAAAAAAAIQAAAAAAAABBAAAAAAAAAEEAAAAAAAAAQQAAAAAAAABBAAAAAAAAACEAAAAAAAAAQQAAAAAAAABBAAAAAAAAAEEAAAAAAAAAIQAAAAAAAABBAAAAAAAAAEEAAAAAAAAAIQAAAAAAAABBAAAAAAAAAEEAAAAAAAAAQQAAAAAAAABBAAAAAAAAAEEAAAAAAAADwPwAAAAAAAABAAAAAAAAAEEAAAAAAAAAIQAAAAAAAABBAAAAAAAAACEAAAAAAAAAIQAAAAAAAABBAAAAAAAAAEEAAAAAAAAAQQAAAAAAAAPA/AAAAAAAAEEAAAAAAAADwPwAAAAAAABBAAAAAAAAAEEAAAAAAAAAIQAAAAAAAABBAAAAAAAAA8D8AAAAAAAAQQAAAAAAAABBAAAAAAAAACEAAAAAAAAAIQAAAAAAAABBAAAAAAAAACEAAAAAAAAAIQAAAAAAAAABAAAAAAAAAAEAAAAAAAAAQQAAAAAAAABBAAAAAAAAA8D8AAAAAAADwPwAAAAAAABBAAAAAAAAACEAAAAAAAAAQQAAAAAAAAABAAAAAAAAAEEAAAAAAAAAQQAAAAAAAAPA/AAAAAAAAEEAAAAAAAAAQQAAAAAAAAPA/AAAAAAAA8D8AAAAAAAAIQAAAAAAAAPA/AAAAAAAACEAAAAAAAAAQQAAAAAAAABBAAAAAAAAACEAAAAAAAAAIQAAAAAAAAAhAAAAAAAAAEEAAAAAAAAAQQAAAAAAAABBAAAAAAAAAEEAAAAAAAADwPwAAAAAAAAhAAAAAAAAAEEAAAAAAAAAQQAAAAAAAAPA/AAAAAAAAEEAAAAAAAAAAQAAAAAAAABBAAAAAAAAAEEAAAAAAAAAQQAAAAAAAAAhAAAAAAAAAEEAAAAAAAAAQQAAAAAAAAAhAAAAAAAAAEEAAAAAAAAAAQAAAAAAAABBAAAAAAAAAEEAAAAAAAAAQQAAAAAAAAAhAAAAAAAAAAEAAAAAAAAAQQAAAAAAAAAhAAAAAAAAACEAAAAAAAAAQQAAAAAAAABBAAAAAAAAAEEAAAAAAAAAIQAAAAAAAAAhAAAAAAAAAEEAAAAAAAADwPwAAAAAAABBAAAAAAAAA8D8AAAAAAAAIQAAAAAAAABBAAAAAAAAACEAAAAAAAAAQQAAAAAAAAPA/AAAAAAAAEEAAAAAAAAAQQAAAAAAAABBAAAAAAAAACEAAAAAAAAAQQAAAAAAAAAhAAAAAAAAA8D8AAAAAAAAQQAAAAAAAAAhAAAAAAAAA8D8AAAAAAAAQQAAAAAAAABBAAAAAAAAACEAAAAAAAAAQQAAAAAAAAAhAAAAAAAAAEEAAAAAAAAAQQAAAAAAAABBAAAAAAAAAEEAAAAAAAAAQQAAAAAAAABBAAAAAAAAAEEAAAAAAAAAQQAAAAAAAAPA/AAAAAAAA8D8AAAAAAAAQQAAAAAAAABBAAAAAAAAAEEAAAAAAAAAQQAAAAAAAABBAAAAAAAAAEEAAAAAAAAAQQAAAAAAAABBAAAAAAAAAEEAAAAAAAAAIQAAAAAAAAAhAAAAAAAAAEEAAAAAAAAAQQAAAAAAAABBAAAAAAAAAAEAAAAAAAADwPwAAAAAAAPA/AAAAAAAACEAAAAAAAAAIQAAAAAAAABBAAAAAAAAAAEAAAAAAAAAQQAAAAAAAABBAAAAAAAAAEEAAAAAAAAAQQAAAAAAAABBAAAAAAAAA8D8AAAAAAAAAQAAAAAAAABBAAAAAAAAAEEAAAAAAAAAQQAAAAAAAAAhAAAAAAAAAEEAAAAAAAAAQQAAAAAAAABBAAAAAAAAAEEAAAAAAAAAQQAAAAAAAABBAAAAAAAAACEAAAAAAAADwPwAAAAAAABBAAAAAAAAAEEAAAAAAAAAQQAAAAAAAABBAAAAAAAAAEEAAAAAAAAAIQAAAAAAAABBAAAAAAAAAEEAAAAAAAADwPwAAAAAAABBAAAAAAAAAEEAAAAAAAAAQQAAAAAAAAPA/AAAAAAAACEAAAAAAAAAIQAAAAAAAAPA/AAAAAAAA8D8AAAAAAADwPwAAAAAAABBAAAAAAAAAEEAAAAAAAAAQQAAAAAAAABBAAAAAAAAACEAAAAAAAAAQQAAAAAAAAPA/AAAAAAAACEAAAAAAAAAIQAAAAAAAABBAAAAAAAAACEAAAAAAAADwPwAAAAAAABBAAAAAAAAA8D8AAAAAAADwPwAAAAAAABBAAAAAAAAAEEAAAAAAAAAQQAAAAAAAABBAAAAAAAAACEAAAAAAAAAQQAAAAAAAABBAAAAAAAAA8D8AAAAAAAAIQAAAAAAAAPA/AAAAAAAAEEAAAAAAAAAAQAAAAAAAABBAAAAAAAAAEEAAAAAAAADwPwAAAAAAABBAAAAAAAAACEAAAAAAAAAQQAAAAAAAABBAAAAAAAAAAEAAAAAAAAAIQAAAAAAAAPA/AAAAAAAAEEAAAAAAAAAQQAAAAAAAAAhAAAAAAAAAEEAAAAAAAAAAQAAAAAAAAPA/AAAAAAAAEEAAAAAAAAAQQAAAAAAAABBAAAAAAAAAEEAAAAAAAAAIQAAAAAAAABBAAAAAAAAAEEAAAAAAAAAQQAAAAAAAAPA/AAAAAAAA8D8AAAAAAAAQQAAAAAAAAAhAAAAAAAAAAEAAAAAAAAAQQAAAAAAAAAhAAAAAAAAAEEAAAAAAAAAIQAAAAAAAAPA/AAAAAAAAEEAAAAAAAAAIQAAAAAAAABBAAAAAAAAAEEAAAAAAAAAQQAAAAAAAABBAAAAAAAAAEEAAAAAAAAAQQAAAAAAAABBAAAAAAAAAEEAAAAAAAAAQQAAAAAAAAAhAAAAAAAAAEEAAAAAAAAAQQAAAAAAAAAhAAAAAAAAAEEAAAAAAAAAQQAAAAAAAAAhAAAAAAAAAEEAAAAAAAAAQQAAAAAAAAPA/AAAAAAAAEEAAAAAAAAAQQAAAAAAAAABAAAAAAAAAEEAAAAAAAAAQQAAAAAAAABBAAAAAAAAA8D8AAAAAAAAQQAAAAAAAABBAAAAAAAAAAEAAAAAAAAAQQAAAAAAAABBAAAAAAAAAEEAAAAAAAADwPwAAAAAAABBAAAAAAAAAEEAAAAAAAAAIQAAAAAAAABBAAAAAAAAAEEAAAAAAAAAIQAAAAAAAABBAAAAAAAAACEAAAAAAAAAQQAAAAAAAAAhAAAAAAAAAEEAAAAAAAAAQQAAAAAAAABBAAAAAAAAAEEAAAAAAAADwPwAAAAAAAAhAAAAAAAAACEAAAAAAAAAQQAAAAAAAABBAAAAAAAAAEEAAAAAAAAAQQAAAAAAAABBAAAAAAAAACEAAAAAAAAAQQAAAAAAAABBAAAAAAAAACEAAAAAAAAAQQAAAAAAAABBAAAAAAAAACEAAAAAAAAAIQAAAAAAAAAhAAAAAAAAAAEAAAAAAAADwPwAAAAAAABBAAAAAAAAAEEAAAAAAAAAIQAAAAAAAABBAAAAAAAAAEEAAAAAAAAAQQAAAAAAAAAhAAAAAAAAACEAAAAAAAAAIQAAAAAAAABBAAAAAAAAAEEAAAAAAAAAQQAAAAAAAABBAAAAAAAAAEEAAAAAAAAAQQAAAAAAAABBAAAAAAAAAEEAAAAAAAAAQQAAAAAAAABBAAAAAAAAACEAAAAAAAAAQQAAAAAAAABBAAAAAAAAACEAAAAAAAAAQQAAAAAAAAAhAAAAAAAAAEEAAAAAAAAAQQAAAAAAAABBAAAAAAAAAEEAAAAAAAAAIQAAAAAAAAAhAAAAAAAAACEAAAAAAAAAQQAAAAAAAABBAAAAAAAAAEEAAAAAAAAAQQAAAAAAAABBAAAAAAAAAEEAAAAAAAAAQQAAAAAAAAAhAAAAAAAAAEEAAAAAAAAAQQAAAAAAAABBAAAAAAAAAEEAAAAAAAADwPwAAAAAAABBAAAAAAAAAEEAAAAAAAADwPwAAAAAAABBAAAAAAAAACEAAAAAAAAAQQAAAAAAAABBAAAAAAAAAEEAAAAAAAAAQQAAAAAAAABBAAAAAAAAACEAAAAAAAAAQQAAAAAAAAABAAAAAAAAAEEAAAAAAAAAIQAAAAAAAAAhAAAAAAAAAEEAAAAAAAADwPwAAAAAAABBAAAAAAAAAEEAAAAAAAAAQQAAAAAAAABBAAAAAAAAAEEAAAAAAAADwPwAAAAAAABBAAAAAAAAAEEAAAAAAAAAQQAAAAAAAAAhAAAAAAAAAEEAAAAAAAAAQQAAAAAAAAPA/AAAAAAAAEEAAAAAAAAAQQAAAAAAAAABAAAAAAAAA8D8AAAAAAAAQQAAAAAAAAAhAAAAAAAAAAEAAAAAAAAAIQAAAAAAAABBAAAAAAAAAEEAAAAAAAAAQQAAAAAAAABBAAAAAAAAA8D8AAAAAAADwPwAAAAAAABBAAAAAAAAAEEAAAAAAAAAIQAAAAAAAABBAAAAAAAAAEEAAAAAAAAAIQAAAAAAAAPA/AAAAAAAACEAAAAAAAADwPwAAAAAAABBAAAAAAAAAEEAAAAAAAAAQQAAAAAAAABBAAAAAAAAAEEAAAAAAAAAIQAAAAAAAABBAAAAAAAAA8D8AAAAAAAAIQAAAAAAAABBAAAAAAAAAEEAAAAAAAAAQQAAAAAAAAPA/AAAAAAAACEAAAAAAAAAQQAAAAAAAAAhAAAAAAAAAEEAAAAAAAAAQQAAAAAAAAPA/AAAAAAAAEEAAAAAAAADwPwAAAAAAABBAAAAAAAAACEAAAAAAAAAIQAAAAAAAABBAAAAAAAAACEAAAAAAAAAQQAAAAAAAABBAAAAAAAAAEEAAAAAAAAAIQAAAAAAAABBAAAAAAAAAEEAAAAAAAAAQQAAAAAAAAAhAAAAAAAAAEEAAAAAAAAAQQAAAAAAAABBAAAAAAAAAEEAAAAAAAAAAQAAAAAAAABBAAAAAAAAAEEAAAAAAAAAQQAAAAAAAABBAAAAAAAAAEEAAAAAAAADwPwAAAAAAABBAAAAAAAAAEEAAAAAAAAAQQAAAAAAAABBAAAAAAAAAEEAAAAAAAADwPwAAAAAAAAhAAAAAAAAAEEAAAAAAAAAQQAAAAAAAABBAAAAAAAAAEEAAAAAAAADwPwAAAAAAAAhAAAAAAAAA8D8AAAAAAAAIQAAAAAAAAPA/AAAAAAAAEEAAAAAAAAAQQAAAAAAAABBAAAAAAAAACEAAAAAAAAAIQAAAAAAAAABAAAAAAAAACEAAAAAAAAAQQAAAAAAAABBAAAAAAAAAEEAAAAAAAAAIQAAAAAAAABBAAAAAAAAACEAAAAAAAAAQQAAAAAAAAPA/AAAAAAAACEAAAAAAAAAQQAAAAAAAAPA/AAAAAAAAEEAAAAAAAAAIQAAAAAAAABBAAAAAAAAACEAAAAAAAAAIQAAAAAAAAPA/AAAAAAAAEEAAAAAAAAAQQAAAAAAAABBAAAAAAAAAAEAAAAAAAAAIQAAAAAAAAAhAAAAAAAAAEEAAAAAAAAAIQAAAAAAAAAhAAAAAAAAAEEAAAAAAAAAQQAAAAAAAABBAAAAAAAAACEAAAAAAAAAQQAAAAAAAAAhAAAAAAAAAEEAAAAAAAAAQQAAAAAAAAPA/AAAAAAAAEEAAAAAAAAAIQAAAAAAAABBAAAAAAAAAEEAAAAAAAAAQQAAAAAAAABBAAAAAAAAAEEAAAAAAAAAQQAAAAAAAAAhAAAAAAAAAEEAAAAAAAAAQQAAAAAAAABBAAAAAAAAA8D8AAAAAAAAIQAAAAAAAAAhAAAAAAAAACEAAAAAAAADwPwAAAAAAABBAAAAAAAAAEEAAAAAAAAAQQAAAAAAAABBAAAAAAAAAEEAAAAAAAAAQQAAAAAAAAPA/AAAAAAAAEEAAAAAAAAAIQAAAAAAAAPA/AAAAAAAAEEAAAAAAAAAQQAAAAAAAABBAAAAAAAAA8D8AAAAAAAAQQAAAAAAAABBAAAAAAAAAEEAAAAAAAAAIQAAAAAAAAAhAAAAAAAAAEEAAAAAAAADwPwAAAAAAAPA/AAAAAAAAAEAAAAAAAAAQQAAAAAAAABBAAAAAAAAACEAAAAAAAAAQQAAAAAAAABBAAAAAAAAACEAAAAAAAAAQQAAAAAAAABBAAAAAAAAAEEAAAAAAAAAIQAAAAAAAAABAAAAAAAAAEEAAAAAAAAAQQAAAAAAAAPA/AAAAAAAACEAAAAAAAAAIQAAAAAAAABBAAAAAAAAACEAAAAAAAAAQQAAAAAAAAPA/AAAAAAAACEAAAAAAAAAQQAAAAAAAABBAAAAAAAAACEAAAAAAAAAIQAAAAAAAABBAAAAAAAAA8D8AAAAAAAAQQAAAAAAAAAhAAAAAAAAAEEAAAAAAAAAQQAAAAAAAABBAAAAAAAAA8D8AAAAAAAAQQAAAAAAAABBAAAAAAAAAEEAAAAAAAAAQQAAAAAAAAAhAAAAAAAAAEEAAAAAAAAAAQAAAAAAAABBAAAAAAAAAEEAAAAAAAAAQQAAAAAAAABBAAAAAAAAAEEAAAAAAAAAQQAAAAAAAABBAAAAAAAAAEEAAAAAAAAAIQAAAAAAAAPA/AAAAAAAAEEAAAAAAAAAIQAAAAAAAAAhAAAAAAAAAEEAAAAAAAAAIQAAAAAAAABBAAAAAAAAAEEAAAAAAAAAQQAAAAAAAAPA/AAAAAAAAEEAAAAAAAAAQQAAAAAAAAAhAAAAAAAAACEAAAAAAAAAQQAAAAAAAABBAAAAAAAAA8D8AAAAAAAAQQAAAAAAAAAhAAAAAAAAAEEAAAAAAAAAQQAAAAAAAAAhAAAAAAAAAEEAAAAAAAAAQQAAAAAAAABBAAAAAAAAACEAAAAAAAAAQQAAAAAAAABBAAAAAAAAAEEAAAAAAAAAQQAAAAAAAABBAAAAAAAAA8D8AAAAAAAAIQAAAAAAAABBAAAAAAAAAEEAAAAAAAAAQQAAAAAAAABBAAAAAAAAAEEAAAAAAAAAQQAAAAAAAAAhAAAAAAAAAAEAAAAAAAAAIQAAAAAAAABBAAAAAAAAAEEAAAAAAAADwPwAAAAAAABBAAAAAAAAAEEAAAAAAAAAQQAAAAAAAABBAAAAAAAAAAEAAAAAAAAAIQAAAAAAAABBAAAAAAAAAEEAAAAAAAAAQQAAAAAAAABBAAAAAAAAAEEAAAAAAAAAIQAAAAAAAAABAAAAAAAAACEAAAAAAAAAIQAAAAAAAABBAAAAAAAAAEEAAAAAAAAAQQAAAAAAAAPA/AAAAAAAA8D8AAAAAAAAQQAAAAAAAAAhAAAAAAAAAEEAAAAAAAADwPwAAAAAAABBAAAAAAAAAEEAAAAAAAAAQQAAAAAAAAPA/AAAAAAAAEEAAAAAAAADwPwAAAAAAABBAAAAAAAAAEEAAAAAAAAAIQAAAAAAAAAhAAAAAAAAAAEAAAAAAAAAQQAAAAAAAABBAAAAAAAAAEEAAAAAAAAAIQAAAAAAAAAhAAAAAAAAACEAAAAAAAAAQQAAAAAAAAPA/AAAAAAAACEAAAAAAAAAQQA==",
          "dtype": "f8"
         },
         "xaxis": "x",
         "yaxis": "y"
        }
       ],
       "layout": {
        "bargap": 0.5,
        "barmode": "relative",
        "legend": {
         "tracegroupgap": 0
        },
        "template": {
         "data": {
          "bar": [
           {
            "error_x": {
             "color": "#2a3f5f"
            },
            "error_y": {
             "color": "#2a3f5f"
            },
            "marker": {
             "line": {
              "color": "#E5ECF6",
              "width": 0.5
             },
             "pattern": {
              "fillmode": "overlay",
              "size": 10,
              "solidity": 0.2
             }
            },
            "type": "bar"
           }
          ],
          "barpolar": [
           {
            "marker": {
             "line": {
              "color": "#E5ECF6",
              "width": 0.5
             },
             "pattern": {
              "fillmode": "overlay",
              "size": 10,
              "solidity": 0.2
             }
            },
            "type": "barpolar"
           }
          ],
          "carpet": [
           {
            "aaxis": {
             "endlinecolor": "#2a3f5f",
             "gridcolor": "white",
             "linecolor": "white",
             "minorgridcolor": "white",
             "startlinecolor": "#2a3f5f"
            },
            "baxis": {
             "endlinecolor": "#2a3f5f",
             "gridcolor": "white",
             "linecolor": "white",
             "minorgridcolor": "white",
             "startlinecolor": "#2a3f5f"
            },
            "type": "carpet"
           }
          ],
          "choropleth": [
           {
            "colorbar": {
             "outlinewidth": 0,
             "ticks": ""
            },
            "type": "choropleth"
           }
          ],
          "contour": [
           {
            "colorbar": {
             "outlinewidth": 0,
             "ticks": ""
            },
            "colorscale": [
             [
              0,
              "#0d0887"
             ],
             [
              0.1111111111111111,
              "#46039f"
             ],
             [
              0.2222222222222222,
              "#7201a8"
             ],
             [
              0.3333333333333333,
              "#9c179e"
             ],
             [
              0.4444444444444444,
              "#bd3786"
             ],
             [
              0.5555555555555556,
              "#d8576b"
             ],
             [
              0.6666666666666666,
              "#ed7953"
             ],
             [
              0.7777777777777778,
              "#fb9f3a"
             ],
             [
              0.8888888888888888,
              "#fdca26"
             ],
             [
              1,
              "#f0f921"
             ]
            ],
            "type": "contour"
           }
          ],
          "contourcarpet": [
           {
            "colorbar": {
             "outlinewidth": 0,
             "ticks": ""
            },
            "type": "contourcarpet"
           }
          ],
          "heatmap": [
           {
            "colorbar": {
             "outlinewidth": 0,
             "ticks": ""
            },
            "colorscale": [
             [
              0,
              "#0d0887"
             ],
             [
              0.1111111111111111,
              "#46039f"
             ],
             [
              0.2222222222222222,
              "#7201a8"
             ],
             [
              0.3333333333333333,
              "#9c179e"
             ],
             [
              0.4444444444444444,
              "#bd3786"
             ],
             [
              0.5555555555555556,
              "#d8576b"
             ],
             [
              0.6666666666666666,
              "#ed7953"
             ],
             [
              0.7777777777777778,
              "#fb9f3a"
             ],
             [
              0.8888888888888888,
              "#fdca26"
             ],
             [
              1,
              "#f0f921"
             ]
            ],
            "type": "heatmap"
           }
          ],
          "histogram": [
           {
            "marker": {
             "pattern": {
              "fillmode": "overlay",
              "size": 10,
              "solidity": 0.2
             }
            },
            "type": "histogram"
           }
          ],
          "histogram2d": [
           {
            "colorbar": {
             "outlinewidth": 0,
             "ticks": ""
            },
            "colorscale": [
             [
              0,
              "#0d0887"
             ],
             [
              0.1111111111111111,
              "#46039f"
             ],
             [
              0.2222222222222222,
              "#7201a8"
             ],
             [
              0.3333333333333333,
              "#9c179e"
             ],
             [
              0.4444444444444444,
              "#bd3786"
             ],
             [
              0.5555555555555556,
              "#d8576b"
             ],
             [
              0.6666666666666666,
              "#ed7953"
             ],
             [
              0.7777777777777778,
              "#fb9f3a"
             ],
             [
              0.8888888888888888,
              "#fdca26"
             ],
             [
              1,
              "#f0f921"
             ]
            ],
            "type": "histogram2d"
           }
          ],
          "histogram2dcontour": [
           {
            "colorbar": {
             "outlinewidth": 0,
             "ticks": ""
            },
            "colorscale": [
             [
              0,
              "#0d0887"
             ],
             [
              0.1111111111111111,
              "#46039f"
             ],
             [
              0.2222222222222222,
              "#7201a8"
             ],
             [
              0.3333333333333333,
              "#9c179e"
             ],
             [
              0.4444444444444444,
              "#bd3786"
             ],
             [
              0.5555555555555556,
              "#d8576b"
             ],
             [
              0.6666666666666666,
              "#ed7953"
             ],
             [
              0.7777777777777778,
              "#fb9f3a"
             ],
             [
              0.8888888888888888,
              "#fdca26"
             ],
             [
              1,
              "#f0f921"
             ]
            ],
            "type": "histogram2dcontour"
           }
          ],
          "mesh3d": [
           {
            "colorbar": {
             "outlinewidth": 0,
             "ticks": ""
            },
            "type": "mesh3d"
           }
          ],
          "parcoords": [
           {
            "line": {
             "colorbar": {
              "outlinewidth": 0,
              "ticks": ""
             }
            },
            "type": "parcoords"
           }
          ],
          "pie": [
           {
            "automargin": true,
            "type": "pie"
           }
          ],
          "scatter": [
           {
            "fillpattern": {
             "fillmode": "overlay",
             "size": 10,
             "solidity": 0.2
            },
            "type": "scatter"
           }
          ],
          "scatter3d": [
           {
            "line": {
             "colorbar": {
              "outlinewidth": 0,
              "ticks": ""
             }
            },
            "marker": {
             "colorbar": {
              "outlinewidth": 0,
              "ticks": ""
             }
            },
            "type": "scatter3d"
           }
          ],
          "scattercarpet": [
           {
            "marker": {
             "colorbar": {
              "outlinewidth": 0,
              "ticks": ""
             }
            },
            "type": "scattercarpet"
           }
          ],
          "scattergeo": [
           {
            "marker": {
             "colorbar": {
              "outlinewidth": 0,
              "ticks": ""
             }
            },
            "type": "scattergeo"
           }
          ],
          "scattergl": [
           {
            "marker": {
             "colorbar": {
              "outlinewidth": 0,
              "ticks": ""
             }
            },
            "type": "scattergl"
           }
          ],
          "scattermap": [
           {
            "marker": {
             "colorbar": {
              "outlinewidth": 0,
              "ticks": ""
             }
            },
            "type": "scattermap"
           }
          ],
          "scattermapbox": [
           {
            "marker": {
             "colorbar": {
              "outlinewidth": 0,
              "ticks": ""
             }
            },
            "type": "scattermapbox"
           }
          ],
          "scatterpolar": [
           {
            "marker": {
             "colorbar": {
              "outlinewidth": 0,
              "ticks": ""
             }
            },
            "type": "scatterpolar"
           }
          ],
          "scatterpolargl": [
           {
            "marker": {
             "colorbar": {
              "outlinewidth": 0,
              "ticks": ""
             }
            },
            "type": "scatterpolargl"
           }
          ],
          "scatterternary": [
           {
            "marker": {
             "colorbar": {
              "outlinewidth": 0,
              "ticks": ""
             }
            },
            "type": "scatterternary"
           }
          ],
          "surface": [
           {
            "colorbar": {
             "outlinewidth": 0,
             "ticks": ""
            },
            "colorscale": [
             [
              0,
              "#0d0887"
             ],
             [
              0.1111111111111111,
              "#46039f"
             ],
             [
              0.2222222222222222,
              "#7201a8"
             ],
             [
              0.3333333333333333,
              "#9c179e"
             ],
             [
              0.4444444444444444,
              "#bd3786"
             ],
             [
              0.5555555555555556,
              "#d8576b"
             ],
             [
              0.6666666666666666,
              "#ed7953"
             ],
             [
              0.7777777777777778,
              "#fb9f3a"
             ],
             [
              0.8888888888888888,
              "#fdca26"
             ],
             [
              1,
              "#f0f921"
             ]
            ],
            "type": "surface"
           }
          ],
          "table": [
           {
            "cells": {
             "fill": {
              "color": "#EBF0F8"
             },
             "line": {
              "color": "white"
             }
            },
            "header": {
             "fill": {
              "color": "#C8D4E3"
             },
             "line": {
              "color": "white"
             }
            },
            "type": "table"
           }
          ]
         },
         "layout": {
          "annotationdefaults": {
           "arrowcolor": "#2a3f5f",
           "arrowhead": 0,
           "arrowwidth": 1
          },
          "autotypenumbers": "strict",
          "coloraxis": {
           "colorbar": {
            "outlinewidth": 0,
            "ticks": ""
           }
          },
          "colorscale": {
           "diverging": [
            [
             0,
             "#8e0152"
            ],
            [
             0.1,
             "#c51b7d"
            ],
            [
             0.2,
             "#de77ae"
            ],
            [
             0.3,
             "#f1b6da"
            ],
            [
             0.4,
             "#fde0ef"
            ],
            [
             0.5,
             "#f7f7f7"
            ],
            [
             0.6,
             "#e6f5d0"
            ],
            [
             0.7,
             "#b8e186"
            ],
            [
             0.8,
             "#7fbc41"
            ],
            [
             0.9,
             "#4d9221"
            ],
            [
             1,
             "#276419"
            ]
           ],
           "sequential": [
            [
             0,
             "#0d0887"
            ],
            [
             0.1111111111111111,
             "#46039f"
            ],
            [
             0.2222222222222222,
             "#7201a8"
            ],
            [
             0.3333333333333333,
             "#9c179e"
            ],
            [
             0.4444444444444444,
             "#bd3786"
            ],
            [
             0.5555555555555556,
             "#d8576b"
            ],
            [
             0.6666666666666666,
             "#ed7953"
            ],
            [
             0.7777777777777778,
             "#fb9f3a"
            ],
            [
             0.8888888888888888,
             "#fdca26"
            ],
            [
             1,
             "#f0f921"
            ]
           ],
           "sequentialminus": [
            [
             0,
             "#0d0887"
            ],
            [
             0.1111111111111111,
             "#46039f"
            ],
            [
             0.2222222222222222,
             "#7201a8"
            ],
            [
             0.3333333333333333,
             "#9c179e"
            ],
            [
             0.4444444444444444,
             "#bd3786"
            ],
            [
             0.5555555555555556,
             "#d8576b"
            ],
            [
             0.6666666666666666,
             "#ed7953"
            ],
            [
             0.7777777777777778,
             "#fb9f3a"
            ],
            [
             0.8888888888888888,
             "#fdca26"
            ],
            [
             1,
             "#f0f921"
            ]
           ]
          },
          "colorway": [
           "#636efa",
           "#EF553B",
           "#00cc96",
           "#ab63fa",
           "#FFA15A",
           "#19d3f3",
           "#FF6692",
           "#B6E880",
           "#FF97FF",
           "#FECB52"
          ],
          "font": {
           "color": "#2a3f5f"
          },
          "geo": {
           "bgcolor": "white",
           "lakecolor": "white",
           "landcolor": "#E5ECF6",
           "showlakes": true,
           "showland": true,
           "subunitcolor": "white"
          },
          "hoverlabel": {
           "align": "left"
          },
          "hovermode": "closest",
          "mapbox": {
           "style": "light"
          },
          "paper_bgcolor": "white",
          "plot_bgcolor": "#E5ECF6",
          "polar": {
           "angularaxis": {
            "gridcolor": "white",
            "linecolor": "white",
            "ticks": ""
           },
           "bgcolor": "#E5ECF6",
           "radialaxis": {
            "gridcolor": "white",
            "linecolor": "white",
            "ticks": ""
           }
          },
          "scene": {
           "xaxis": {
            "backgroundcolor": "#E5ECF6",
            "gridcolor": "white",
            "gridwidth": 2,
            "linecolor": "white",
            "showbackground": true,
            "ticks": "",
            "zerolinecolor": "white"
           },
           "yaxis": {
            "backgroundcolor": "#E5ECF6",
            "gridcolor": "white",
            "gridwidth": 2,
            "linecolor": "white",
            "showbackground": true,
            "ticks": "",
            "zerolinecolor": "white"
           },
           "zaxis": {
            "backgroundcolor": "#E5ECF6",
            "gridcolor": "white",
            "gridwidth": 2,
            "linecolor": "white",
            "showbackground": true,
            "ticks": "",
            "zerolinecolor": "white"
           }
          },
          "shapedefaults": {
           "line": {
            "color": "#2a3f5f"
           }
          },
          "ternary": {
           "aaxis": {
            "gridcolor": "white",
            "linecolor": "white",
            "ticks": ""
           },
           "baxis": {
            "gridcolor": "white",
            "linecolor": "white",
            "ticks": ""
           },
           "bgcolor": "#E5ECF6",
           "caxis": {
            "gridcolor": "white",
            "linecolor": "white",
            "ticks": ""
           }
          },
          "title": {
           "x": 0.05
          },
          "xaxis": {
           "automargin": true,
           "gridcolor": "white",
           "linecolor": "white",
           "ticks": "",
           "title": {
            "standoff": 15
           },
           "zerolinecolor": "white",
           "zerolinewidth": 2
          },
          "yaxis": {
           "automargin": true,
           "gridcolor": "white",
           "linecolor": "white",
           "ticks": "",
           "title": {
            "standoff": 15
           },
           "zerolinecolor": "white",
           "zerolinewidth": 2
          }
         }
        },
        "title": {
         "text": "Distribution of Nova Groups"
        },
        "xaxis": {
         "anchor": "y",
         "domain": [
          0,
          1
         ],
         "title": {
          "text": "nova-group"
         }
        },
        "yaxis": {
         "anchor": "x",
         "domain": [
          0,
          1
         ],
         "title": {
          "text": "count"
         }
        }
       }
      }
     },
     "metadata": {},
     "output_type": "display_data"
    }
   ],
   "source": [
    "import plotly.express as px\n",
    "\n",
    "fig = px.histogram(df, x='nova-group', title='Distribution of Nova Groups')\n",
    "fig.update_layout(bargap=0.5)\n",
    "fig.show()"
   ]
  },
  {
   "cell_type": "markdown",
   "id": "213962c0",
   "metadata": {},
   "source": [
    "**Distribution of Nova Groups**\n",
    "- The analysis of Nova group distribution reveals that the majority of products in the dataset are either Ultra-Processed (Group 4) or Processed (Group 3). Minimally processed (Group 1) and processed culinary ingredients (Group 2) represent a smaller proportion of the products. This indicates a high prevalence of processed and ultra-processed foods in this dataset."
   ]
  },
  {
   "cell_type": "code",
   "execution_count": 25,
   "id": "4c153ab3",
   "metadata": {},
   "outputs": [
    {
     "data": {
      "image/png": "[encoded data removed]",
      "text/plain": [
       "<Figure size 800x600 with 1 Axes>"
      ]
     },
     "metadata": {},
     "output_type": "display_data"
    }
   ],
   "source": [
    "# Count the number of products in Nova Group 1 and Nova Group 4\n",
    "nova_group_counts = df['nova-group'].value_counts().reset_index()\n",
    "nova_group_counts.columns = ['nova-group', 'count']\n",
    "\n",
    "# Filter for Nova Group 1 and Nova Group 4\n",
    "comparison_df = nova_group_counts[nova_group_counts['nova-group'].isin([1.0, 4.0])]\n",
    "\n",
    "# Plot the comparison\n",
    "plt.figure(figsize=(8, 6))\n",
    "sns.barplot(x='nova-group', y='count', data=comparison_df)\n",
    "plt.title('Comparison of Minimally Processed (Group 1) and Ultra-Processed (Group 4) Products')\n",
    "plt.xlabel('Nova Group')\n",
    "plt.ylabel('Number of Products')\n",
    "plt.xticks([0, 1], ['Minimally Processed (1)', 'Ultra-Processed (4)']) # Label the bars\n",
    "plt.show()"
   ]
  },
  {
   "cell_type": "markdown",
   "id": "7c836643",
   "metadata": {},
   "source": [
    "**Comparison of Minimally Processed (Group 1) and Ultra-Processed (Group 4) Products**\n",
    "- The bar plot comparing the number of products in Nova Group 1 (Minimally Processed) and Nova Group 4 (Ultra-Processed) clearly shows a significant difference. There are substantially more products in Nova Group 4 (Ultra-Processed) compared to Nova Group 1 (Minimally Processed). This further supports the earlier observation that ultra-processed products are prevalent in this dataset."
   ]
  },
  {
   "cell_type": "code",
   "execution_count": 26,
   "id": "9d70a176",
   "metadata": {},
   "outputs": [
    {
     "data": {
      "image/png": "[encoded data removed]",
      "text/plain": [
       "<Figure size 800x600 with 1 Axes>"
      ]
     },
     "metadata": {},
     "output_type": "display_data"
    }
   ],
   "source": [
    "import matplotlib.pyplot as plt\n",
    "import seaborn as sns\n",
    "\n",
    "# Plot bar chart for calorie_category\n",
    "plt.figure(figsize=(8, 6))\n",
    "sns.countplot(x='calorie_category', data=df, order=df['calorie_category'].value_counts().index)\n",
    "plt.title('Distribution of Products by Calorie Category')\n",
    "plt.xlabel('Calorie Category')\n",
    "plt.ylabel('Number of Products')\n",
    "plt.show()"
   ]
  },
  {
   "cell_type": "markdown",
   "id": "a7a9b09e",
   "metadata": {},
   "source": [
    "**Distribution of Products by Calorie Category**\n",
    "- **Calorie Category:** The bar chart for calorie categories reveals that the majority of products in the dataset are classified as 'Low' or 'Moderate' in terms of calorie content, with a smaller proportion of products in the 'High' calorie category."
   ]
  },
  {
   "cell_type": "code",
   "execution_count": 27,
   "id": "9d17f85b",
   "metadata": {},
   "outputs": [
    {
     "data": {
      "image/png": "[encoded data removed]",
      "text/plain": [
       "<Figure size 800x600 with 1 Axes>"
      ]
     },
     "metadata": {},
     "output_type": "display_data"
    }
   ],
   "source": [
    "# Plot bar chart for sugar_category\n",
    "plt.figure(figsize=(8, 6))\n",
    "sns.countplot(x='sugar_category', data=df, order=df['sugar_category'].value_counts().index)\n",
    "plt.title('Distribution of Products by Sugar Category')\n",
    "plt.xlabel('Sugar Category')\n",
    "plt.ylabel('Number of Products')\n",
    "plt.show()"
   ]
  },
  {
   "cell_type": "markdown",
   "id": "6cffd594",
   "metadata": {},
   "source": [
    "**Distribution of Products by Sugar Category**\n",
    "- **Sugar Category:** The bar chart for sugar categories shows a strong concentration of products in the 'Low Sugar' category. The 'Moderate Sugar' and 'High Sugar' categories have significantly fewer products."
   ]
  },
  {
   "cell_type": "code",
   "execution_count": 28,
   "id": "c4f3d2df",
   "metadata": {},
   "outputs": [
    {
     "data": {
      "application/vnd.plotly.v1+json": {
       "config": {
        "plotlyServerURL": "https://plot.ly"
       },
       "data": [
        {
         "domain": {
          "x": [
           0,
           1
          ],
          "y": [
           0,
           1
          ]
         },
         "hovertemplate": "nova-group=%{label}<br>count=%{value}<extra></extra>",
         "labels": {
          "bdata": "AAAAAAAAEEAAAAAAAAAIQAAAAAAAAPA/AAAAAAAAAEA=",
          "dtype": "f8"
         },
         "legendgroup": "",
         "name": "",
         "showlegend": true,
         "textinfo": "percent+label",
         "textposition": "inside",
         "type": "pie",
         "values": {
          "bdata": "LhzMCh8F/QE=",
          "dtype": "i2"
         }
        }
       ],
       "layout": {
        "legend": {
         "tracegroupgap": 0
        },
        "piecolorway": [
         "rgb(103,0,31)",
         "rgb(178,24,43)",
         "rgb(214,96,77)",
         "rgb(244,165,130)",
         "rgb(253,219,199)",
         "rgb(247,247,247)",
         "rgb(209,229,240)",
         "rgb(146,197,222)",
         "rgb(67,147,195)",
         "rgb(33,102,172)",
         "rgb(5,48,97)"
        ],
        "template": {
         "data": {
          "bar": [
           {
            "error_x": {
             "color": "#2a3f5f"
            },
            "error_y": {
             "color": "#2a3f5f"
            },
            "marker": {
             "line": {
              "color": "#E5ECF6",
              "width": 0.5
             },
             "pattern": {
              "fillmode": "overlay",
              "size": 10,
              "solidity": 0.2
             }
            },
            "type": "bar"
           }
          ],
          "barpolar": [
           {
            "marker": {
             "line": {
              "color": "#E5ECF6",
              "width": 0.5
             },
             "pattern": {
              "fillmode": "overlay",
              "size": 10,
              "solidity": 0.2
             }
            },
            "type": "barpolar"
           }
          ],
          "carpet": [
           {
            "aaxis": {
             "endlinecolor": "#2a3f5f",
             "gridcolor": "white",
             "linecolor": "white",
             "minorgridcolor": "white",
             "startlinecolor": "#2a3f5f"
            },
            "baxis": {
             "endlinecolor": "#2a3f5f",
             "gridcolor": "white",
             "linecolor": "white",
             "minorgridcolor": "white",
             "startlinecolor": "#2a3f5f"
            },
            "type": "carpet"
           }
          ],
          "choropleth": [
           {
            "colorbar": {
             "outlinewidth": 0,
             "ticks": ""
            },
            "type": "choropleth"
           }
          ],
          "contour": [
           {
            "colorbar": {
             "outlinewidth": 0,
             "ticks": ""
            },
            "colorscale": [
             [
              0,
              "#0d0887"
             ],
             [
              0.1111111111111111,
              "#46039f"
             ],
             [
              0.2222222222222222,
              "#7201a8"
             ],
             [
              0.3333333333333333,
              "#9c179e"
             ],
             [
              0.4444444444444444,
              "#bd3786"
             ],
             [
              0.5555555555555556,
              "#d8576b"
             ],
             [
              0.6666666666666666,
              "#ed7953"
             ],
             [
              0.7777777777777778,
              "#fb9f3a"
             ],
             [
              0.8888888888888888,
              "#fdca26"
             ],
             [
              1,
              "#f0f921"
             ]
            ],
            "type": "contour"
           }
          ],
          "contourcarpet": [
           {
            "colorbar": {
             "outlinewidth": 0,
             "ticks": ""
            },
            "type": "contourcarpet"
           }
          ],
          "heatmap": [
           {
            "colorbar": {
             "outlinewidth": 0,
             "ticks": ""
            },
            "colorscale": [
             [
              0,
              "#0d0887"
             ],
             [
              0.1111111111111111,
              "#46039f"
             ],
             [
              0.2222222222222222,
              "#7201a8"
             ],
             [
              0.3333333333333333,
              "#9c179e"
             ],
             [
              0.4444444444444444,
              "#bd3786"
             ],
             [
              0.5555555555555556,
              "#d8576b"
             ],
             [
              0.6666666666666666,
              "#ed7953"
             ],
             [
              0.7777777777777778,
              "#fb9f3a"
             ],
             [
              0.8888888888888888,
              "#fdca26"
             ],
             [
              1,
              "#f0f921"
             ]
            ],
            "type": "heatmap"
           }
          ],
          "histogram": [
           {
            "marker": {
             "pattern": {
              "fillmode": "overlay",
              "size": 10,
              "solidity": 0.2
             }
            },
            "type": "histogram"
           }
          ],
          "histogram2d": [
           {
            "colorbar": {
             "outlinewidth": 0,
             "ticks": ""
            },
            "colorscale": [
             [
              0,
              "#0d0887"
             ],
             [
              0.1111111111111111,
              "#46039f"
             ],
             [
              0.2222222222222222,
              "#7201a8"
             ],
             [
              0.3333333333333333,
              "#9c179e"
             ],
             [
              0.4444444444444444,
              "#bd3786"
             ],
             [
              0.5555555555555556,
              "#d8576b"
             ],
             [
              0.6666666666666666,
              "#ed7953"
             ],
             [
              0.7777777777777778,
              "#fb9f3a"
             ],
             [
              0.8888888888888888,
              "#fdca26"
             ],
             [
              1,
              "#f0f921"
             ]
            ],
            "type": "histogram2d"
           }
          ],
          "histogram2dcontour": [
           {
            "colorbar": {
             "outlinewidth": 0,
             "ticks": ""
            },
            "colorscale": [
             [
              0,
              "#0d0887"
             ],
             [
              0.1111111111111111,
              "#46039f"
             ],
             [
              0.2222222222222222,
              "#7201a8"
             ],
             [
              0.3333333333333333,
              "#9c179e"
             ],
             [
              0.4444444444444444,
              "#bd3786"
             ],
             [
              0.5555555555555556,
              "#d8576b"
             ],
             [
              0.6666666666666666,
              "#ed7953"
             ],
             [
              0.7777777777777778,
              "#fb9f3a"
             ],
             [
              0.8888888888888888,
              "#fdca26"
             ],
             [
              1,
              "#f0f921"
             ]
            ],
            "type": "histogram2dcontour"
           }
          ],
          "mesh3d": [
           {
            "colorbar": {
             "outlinewidth": 0,
             "ticks": ""
            },
            "type": "mesh3d"
           }
          ],
          "parcoords": [
           {
            "line": {
             "colorbar": {
              "outlinewidth": 0,
              "ticks": ""
             }
            },
            "type": "parcoords"
           }
          ],
          "pie": [
           {
            "automargin": true,
            "type": "pie"
           }
          ],
          "scatter": [
           {
            "fillpattern": {
             "fillmode": "overlay",
             "size": 10,
             "solidity": 0.2
            },
            "type": "scatter"
           }
          ],
          "scatter3d": [
           {
            "line": {
             "colorbar": {
              "outlinewidth": 0,
              "ticks": ""
             }
            },
            "marker": {
             "colorbar": {
              "outlinewidth": 0,
              "ticks": ""
             }
            },
            "type": "scatter3d"
           }
          ],
          "scattercarpet": [
           {
            "marker": {
             "colorbar": {
              "outlinewidth": 0,
              "ticks": ""
             }
            },
            "type": "scattercarpet"
           }
          ],
          "scattergeo": [
           {
            "marker": {
             "colorbar": {
              "outlinewidth": 0,
              "ticks": ""
             }
            },
            "type": "scattergeo"
           }
          ],
          "scattergl": [
           {
            "marker": {
             "colorbar": {
              "outlinewidth": 0,
              "ticks": ""
             }
            },
            "type": "scattergl"
           }
          ],
          "scattermap": [
           {
            "marker": {
             "colorbar": {
              "outlinewidth": 0,
              "ticks": ""
             }
            },
            "type": "scattermap"
           }
          ],
          "scattermapbox": [
           {
            "marker": {
             "colorbar": {
              "outlinewidth": 0,
              "ticks": ""
             }
            },
            "type": "scattermapbox"
           }
          ],
          "scatterpolar": [
           {
            "marker": {
             "colorbar": {
              "outlinewidth": 0,
              "ticks": ""
             }
            },
            "type": "scatterpolar"
           }
          ],
          "scatterpolargl": [
           {
            "marker": {
             "colorbar": {
              "outlinewidth": 0,
              "ticks": ""
             }
            },
            "type": "scatterpolargl"
           }
          ],
          "scatterternary": [
           {
            "marker": {
             "colorbar": {
              "outlinewidth": 0,
              "ticks": ""
             }
            },
            "type": "scatterternary"
           }
          ],
          "surface": [
           {
            "colorbar": {
             "outlinewidth": 0,
             "ticks": ""
            },
            "colorscale": [
             [
              0,
              "#0d0887"
             ],
             [
              0.1111111111111111,
              "#46039f"
             ],
             [
              0.2222222222222222,
              "#7201a8"
             ],
             [
              0.3333333333333333,
              "#9c179e"
             ],
             [
              0.4444444444444444,
              "#bd3786"
             ],
             [
              0.5555555555555556,
              "#d8576b"
             ],
             [
              0.6666666666666666,
              "#ed7953"
             ],
             [
              0.7777777777777778,
              "#fb9f3a"
             ],
             [
              0.8888888888888888,
              "#fdca26"
             ],
             [
              1,
              "#f0f921"
             ]
            ],
            "type": "surface"
           }
          ],
          "table": [
           {
            "cells": {
             "fill": {
              "color": "#EBF0F8"
             },
             "line": {
              "color": "white"
             }
            },
            "header": {
             "fill": {
              "color": "#C8D4E3"
             },
             "line": {
              "color": "white"
             }
            },
            "type": "table"
           }
          ]
         },
         "layout": {
          "annotationdefaults": {
           "arrowcolor": "#2a3f5f",
           "arrowhead": 0,
           "arrowwidth": 1
          },
          "autotypenumbers": "strict",
          "coloraxis": {
           "colorbar": {
            "outlinewidth": 0,
            "ticks": ""
           }
          },
          "colorscale": {
           "diverging": [
            [
             0,
             "#8e0152"
            ],
            [
             0.1,
             "#c51b7d"
            ],
            [
             0.2,
             "#de77ae"
            ],
            [
             0.3,
             "#f1b6da"
            ],
            [
             0.4,
             "#fde0ef"
            ],
            [
             0.5,
             "#f7f7f7"
            ],
            [
             0.6,
             "#e6f5d0"
            ],
            [
             0.7,
             "#b8e186"
            ],
            [
             0.8,
             "#7fbc41"
            ],
            [
             0.9,
             "#4d9221"
            ],
            [
             1,
             "#276419"
            ]
           ],
           "sequential": [
            [
             0,
             "#0d0887"
            ],
            [
             0.1111111111111111,
             "#46039f"
            ],
            [
             0.2222222222222222,
             "#7201a8"
            ],
            [
             0.3333333333333333,
             "#9c179e"
            ],
            [
             0.4444444444444444,
             "#bd3786"
            ],
            [
             0.5555555555555556,
             "#d8576b"
            ],
            [
             0.6666666666666666,
             "#ed7953"
            ],
            [
             0.7777777777777778,
             "#fb9f3a"
            ],
            [
             0.8888888888888888,
             "#fdca26"
            ],
            [
             1,
             "#f0f921"
            ]
           ],
           "sequentialminus": [
            [
             0,
             "#0d0887"
            ],
            [
             0.1111111111111111,
             "#46039f"
            ],
            [
             0.2222222222222222,
             "#7201a8"
            ],
            [
             0.3333333333333333,
             "#9c179e"
            ],
            [
             0.4444444444444444,
             "#bd3786"
            ],
            [
             0.5555555555555556,
             "#d8576b"
            ],
            [
             0.6666666666666666,
             "#ed7953"
            ],
            [
             0.7777777777777778,
             "#fb9f3a"
            ],
            [
             0.8888888888888888,
             "#fdca26"
            ],
            [
             1,
             "#f0f921"
            ]
           ]
          },
          "colorway": [
           "#636efa",
           "#EF553B",
           "#00cc96",
           "#ab63fa",
           "#FFA15A",
           "#19d3f3",
           "#FF6692",
           "#B6E880",
           "#FF97FF",
           "#FECB52"
          ],
          "font": {
           "color": "#2a3f5f"
          },
          "geo": {
           "bgcolor": "white",
           "lakecolor": "white",
           "landcolor": "#E5ECF6",
           "showlakes": true,
           "showland": true,
           "subunitcolor": "white"
          },
          "hoverlabel": {
           "align": "left"
          },
          "hovermode": "closest",
          "mapbox": {
           "style": "light"
          },
          "paper_bgcolor": "white",
          "plot_bgcolor": "#E5ECF6",
          "polar": {
           "angularaxis": {
            "gridcolor": "white",
            "linecolor": "white",
            "ticks": ""
           },
           "bgcolor": "#E5ECF6",
           "radialaxis": {
            "gridcolor": "white",
            "linecolor": "white",
            "ticks": ""
           }
          },
          "scene": {
           "xaxis": {
            "backgroundcolor": "#E5ECF6",
            "gridcolor": "white",
            "gridwidth": 2,
            "linecolor": "white",
            "showbackground": true,
            "ticks": "",
            "zerolinecolor": "white"
           },
           "yaxis": {
            "backgroundcolor": "#E5ECF6",
            "gridcolor": "white",
            "gridwidth": 2,
            "linecolor": "white",
            "showbackground": true,
            "ticks": "",
            "zerolinecolor": "white"
           },
           "zaxis": {
            "backgroundcolor": "#E5ECF6",
            "gridcolor": "white",
            "gridwidth": 2,
            "linecolor": "white",
            "showbackground": true,
            "ticks": "",
            "zerolinecolor": "white"
           }
          },
          "shapedefaults": {
           "line": {
            "color": "#2a3f5f"
           }
          },
          "ternary": {
           "aaxis": {
            "gridcolor": "white",
            "linecolor": "white",
            "ticks": ""
           },
           "baxis": {
            "gridcolor": "white",
            "linecolor": "white",
            "ticks": ""
           },
           "bgcolor": "#E5ECF6",
           "caxis": {
            "gridcolor": "white",
            "linecolor": "white",
            "ticks": ""
           }
          },
          "title": {
           "x": 0.05
          },
          "xaxis": {
           "automargin": true,
           "gridcolor": "white",
           "linecolor": "white",
           "ticks": "",
           "title": {
            "standoff": 15
           },
           "zerolinecolor": "white",
           "zerolinewidth": 2
          },
          "yaxis": {
           "automargin": true,
           "gridcolor": "white",
           "linecolor": "white",
           "ticks": "",
           "title": {
            "standoff": 15
           },
           "zerolinecolor": "white",
           "zerolinewidth": 2
          }
         }
        },
        "title": {
         "text": "Proportion of Products by Nova Group"
        }
       }
      }
     },
     "metadata": {},
     "output_type": "display_data"
    }
   ],
   "source": [
    "import plotly.express as px\n",
    "\n",
    "fig = px.pie(nova_group_counts, values='count', names='nova-group', title='Proportion of Products by Nova Group', labels=['Group 4', 'Group 3', 'Group 1', 'Group 2'], color_discrete_sequence=px.colors.sequential.RdBu)\n",
    "fig.update_traces(textposition='inside', textinfo='percent+label')\n",
    "fig.show()"
   ]
  },
  {
   "cell_type": "markdown",
   "id": "0fa962b5",
   "metadata": {},
   "source": [
    "**Proportion of Products by Nova Group**\n",
    "\n",
    "The pie chart illustrates the proportion of products across the different Nova groups:\n",
    "\n",
    "- **Nova Group 4 (Ultra-Processed):** Represents the largest share at 61.1%.\n",
    "- **Nova Group 3 (Processed):** Accounts for 23.4% of the products.\n",
    "- **Nova Group 1 (Unprocessed or Minimally Processed):** Makes up 11.1%.\n",
    "- **Nova Group 2 (Processed Culinary Ingredients):** Is the smallest group at 4.31%.\n",
    "\n",
    "\n",
    "This indicates a significant prevalence of processed and ultra-processed products in the dataset."
   ]
  }
 ],
 "metadata": {
  "kernelspec": {
   "display_name": "Python 3",
   "language": "python",
   "name": "python3"
  },
  "language_info": {
   "codemirror_mode": {
    "name": "ipython",
    "version": 3
   },
   "file_extension": ".py",
   "mimetype": "text/x-python",
   "name": "python",
   "nbconvert_exporter": "python",
   "pygments_lexer": "ipython3",
   "version": "3.13.5"
  }
 },
 "nbformat": 4,
 "nbformat_minor": 5
}
